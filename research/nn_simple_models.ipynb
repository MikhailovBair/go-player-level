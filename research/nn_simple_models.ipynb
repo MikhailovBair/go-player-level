{
 "cells": [
  {
   "cell_type": "code",
   "execution_count": 46,
   "id": "bc6224a6",
   "metadata": {},
   "outputs": [],
   "source": [
    "import numpy as np\n",
    "import matplotlib.pyplot as plt\n",
    "import pandas as pd\n",
    "import seaborn as sns\n",
    "from tqdm import tqdm\n",
    "import torch\n",
    "import torch.nn as nn\n",
    "from sklearn.model_selection import train_test_split\n",
    "from sklearn.preprocessing import OneHotEncoder\n",
    "from sklearn.metrics import mean_absolute_error as mae\n",
    "from sklearn.metrics import accuracy_score\n",
    "from IPython import display"
   ]
  },
  {
   "cell_type": "code",
   "execution_count": 4,
   "id": "be7af404",
   "metadata": {},
   "outputs": [
    {
     "data": {
      "text/html": [
       "<div>\n",
       "<style scoped>\n",
       "    .dataframe tbody tr th:only-of-type {\n",
       "        vertical-align: middle;\n",
       "    }\n",
       "\n",
       "    .dataframe tbody tr th {\n",
       "        vertical-align: top;\n",
       "    }\n",
       "\n",
       "    .dataframe thead th {\n",
       "        text-align: right;\n",
       "    }\n",
       "</style>\n",
       "<table border=\"1\" class=\"dataframe\">\n",
       "  <thead>\n",
       "    <tr style=\"text-align: right;\">\n",
       "      <th></th>\n",
       "      <th>Unnamed: 0</th>\n",
       "      <th>W_rating</th>\n",
       "      <th>B_rating</th>\n",
       "      <th>mean_deltawinrate</th>\n",
       "      <th>mean_deltaScore50p</th>\n",
       "      <th>mean_deltascoreLead</th>\n",
       "      <th>dispersy_scoreLead</th>\n",
       "      <th>beautiful_percent</th>\n",
       "      <th>beautifulS_percent</th>\n",
       "      <th>mean_utility</th>\n",
       "      <th>...</th>\n",
       "      <th>mean_utility 20</th>\n",
       "      <th>mean_deltawinrate yose</th>\n",
       "      <th>beautiful_percent yose</th>\n",
       "      <th>beautifulS_percent yose</th>\n",
       "      <th>mean_deltascoreLead yose</th>\n",
       "      <th>mean_deltaSelfPlay yose</th>\n",
       "      <th>dispersy_scoreLead yose</th>\n",
       "      <th>mean_utility yose</th>\n",
       "      <th>mean_dist</th>\n",
       "      <th>dispersy_dist</th>\n",
       "    </tr>\n",
       "  </thead>\n",
       "  <tbody>\n",
       "    <tr>\n",
       "      <th>0</th>\n",
       "      <td>0</td>\n",
       "      <td>3k</td>\n",
       "      <td>3k</td>\n",
       "      <td>-0.040488</td>\n",
       "      <td>-2.377734</td>\n",
       "      <td>-3.464560</td>\n",
       "      <td>23.954890</td>\n",
       "      <td>0.406667</td>\n",
       "      <td>0.160000</td>\n",
       "      <td>-0.088362</td>\n",
       "      <td>...</td>\n",
       "      <td>-0.000262</td>\n",
       "      <td>0.000260</td>\n",
       "      <td>0.226667</td>\n",
       "      <td>0.073333</td>\n",
       "      <td>-2.573400</td>\n",
       "      <td>-2.146336</td>\n",
       "      <td>10.538134</td>\n",
       "      <td>-0.004645</td>\n",
       "      <td>5.213333</td>\n",
       "      <td>20.514489</td>\n",
       "    </tr>\n",
       "    <tr>\n",
       "      <th>1</th>\n",
       "      <td>1</td>\n",
       "      <td>3k</td>\n",
       "      <td>3k</td>\n",
       "      <td>-0.043191</td>\n",
       "      <td>-0.491949</td>\n",
       "      <td>-0.753123</td>\n",
       "      <td>1.472670</td>\n",
       "      <td>0.375000</td>\n",
       "      <td>0.187500</td>\n",
       "      <td>-0.087056</td>\n",
       "      <td>...</td>\n",
       "      <td>-0.087056</td>\n",
       "      <td>-0.043191</td>\n",
       "      <td>0.375000</td>\n",
       "      <td>0.187500</td>\n",
       "      <td>-0.753123</td>\n",
       "      <td>-1.022411</td>\n",
       "      <td>1.472670</td>\n",
       "      <td>-0.087056</td>\n",
       "      <td>4.625000</td>\n",
       "      <td>19.234375</td>\n",
       "    </tr>\n",
       "    <tr>\n",
       "      <th>2</th>\n",
       "      <td>2</td>\n",
       "      <td>3k</td>\n",
       "      <td>3k</td>\n",
       "      <td>-0.089254</td>\n",
       "      <td>-2.030399</td>\n",
       "      <td>-2.458237</td>\n",
       "      <td>7.392600</td>\n",
       "      <td>0.272727</td>\n",
       "      <td>0.090909</td>\n",
       "      <td>-0.188092</td>\n",
       "      <td>...</td>\n",
       "      <td>-0.188092</td>\n",
       "      <td>-0.089254</td>\n",
       "      <td>0.272727</td>\n",
       "      <td>0.090909</td>\n",
       "      <td>-2.458237</td>\n",
       "      <td>-2.900573</td>\n",
       "      <td>7.392600</td>\n",
       "      <td>-0.188092</td>\n",
       "      <td>7.272727</td>\n",
       "      <td>68.925620</td>\n",
       "    </tr>\n",
       "    <tr>\n",
       "      <th>3</th>\n",
       "      <td>3</td>\n",
       "      <td>3k</td>\n",
       "      <td>3k</td>\n",
       "      <td>-0.019591</td>\n",
       "      <td>-0.824960</td>\n",
       "      <td>-3.583750</td>\n",
       "      <td>203.173883</td>\n",
       "      <td>0.536765</td>\n",
       "      <td>0.433824</td>\n",
       "      <td>-0.047196</td>\n",
       "      <td>...</td>\n",
       "      <td>0.030994</td>\n",
       "      <td>-0.066028</td>\n",
       "      <td>0.169118</td>\n",
       "      <td>0.088235</td>\n",
       "      <td>-9.081688</td>\n",
       "      <td>-7.362831</td>\n",
       "      <td>575.227179</td>\n",
       "      <td>-0.149602</td>\n",
       "      <td>5.845588</td>\n",
       "      <td>45.512922</td>\n",
       "    </tr>\n",
       "    <tr>\n",
       "      <th>4</th>\n",
       "      <td>4</td>\n",
       "      <td>3k</td>\n",
       "      <td>3k</td>\n",
       "      <td>-0.065001</td>\n",
       "      <td>-1.265764</td>\n",
       "      <td>-2.280660</td>\n",
       "      <td>15.159420</td>\n",
       "      <td>0.162791</td>\n",
       "      <td>0.162791</td>\n",
       "      <td>-0.137663</td>\n",
       "      <td>...</td>\n",
       "      <td>-0.175444</td>\n",
       "      <td>-0.087452</td>\n",
       "      <td>0.046512</td>\n",
       "      <td>0.046512</td>\n",
       "      <td>-5.938662</td>\n",
       "      <td>-5.755159</td>\n",
       "      <td>47.043784</td>\n",
       "      <td>-0.200001</td>\n",
       "      <td>5.558140</td>\n",
       "      <td>29.176852</td>\n",
       "    </tr>\n",
       "  </tbody>\n",
       "</table>\n",
       "<p>5 rows × 42 columns</p>\n",
       "</div>"
      ],
      "text/plain": [
       "   Unnamed: 0 W_rating B_rating  mean_deltawinrate  mean_deltaScore50p  \\\n",
       "0           0       3k       3k          -0.040488           -2.377734   \n",
       "1           1       3k       3k          -0.043191           -0.491949   \n",
       "2           2       3k       3k          -0.089254           -2.030399   \n",
       "3           3       3k       3k          -0.019591           -0.824960   \n",
       "4           4       3k       3k          -0.065001           -1.265764   \n",
       "\n",
       "   mean_deltascoreLead  dispersy_scoreLead  beautiful_percent  \\\n",
       "0            -3.464560           23.954890           0.406667   \n",
       "1            -0.753123            1.472670           0.375000   \n",
       "2            -2.458237            7.392600           0.272727   \n",
       "3            -3.583750          203.173883           0.536765   \n",
       "4            -2.280660           15.159420           0.162791   \n",
       "\n",
       "   beautifulS_percent  mean_utility  ...  mean_utility 20  \\\n",
       "0            0.160000     -0.088362  ...        -0.000262   \n",
       "1            0.187500     -0.087056  ...        -0.087056   \n",
       "2            0.090909     -0.188092  ...        -0.188092   \n",
       "3            0.433824     -0.047196  ...         0.030994   \n",
       "4            0.162791     -0.137663  ...        -0.175444   \n",
       "\n",
       "   mean_deltawinrate yose  beautiful_percent yose  beautifulS_percent yose  \\\n",
       "0                0.000260                0.226667                 0.073333   \n",
       "1               -0.043191                0.375000                 0.187500   \n",
       "2               -0.089254                0.272727                 0.090909   \n",
       "3               -0.066028                0.169118                 0.088235   \n",
       "4               -0.087452                0.046512                 0.046512   \n",
       "\n",
       "   mean_deltascoreLead yose  mean_deltaSelfPlay yose  dispersy_scoreLead yose  \\\n",
       "0                 -2.573400                -2.146336                10.538134   \n",
       "1                 -0.753123                -1.022411                 1.472670   \n",
       "2                 -2.458237                -2.900573                 7.392600   \n",
       "3                 -9.081688                -7.362831               575.227179   \n",
       "4                 -5.938662                -5.755159                47.043784   \n",
       "\n",
       "   mean_utility yose  mean_dist  dispersy_dist  \n",
       "0          -0.004645   5.213333      20.514489  \n",
       "1          -0.087056   4.625000      19.234375  \n",
       "2          -0.188092   7.272727      68.925620  \n",
       "3          -0.149602   5.845588      45.512922  \n",
       "4          -0.200001   5.558140      29.176852  \n",
       "\n",
       "[5 rows x 42 columns]"
      ]
     },
     "execution_count": 4,
     "metadata": {},
     "output_type": "execute_result"
    }
   ],
   "source": [
    "data = pd.read_csv('../../data/data_p1_jap_features.csv')\n",
    "data.head()"
   ]
  },
  {
   "cell_type": "code",
   "execution_count": 11,
   "id": "07b9adc4",
   "metadata": {},
   "outputs": [
    {
     "data": {
      "text/plain": [
       "Index(['Unnamed: 0', 'W_rating', 'B_rating', 'mean_deltawinrate',\n",
       "       'mean_deltaScore50p', 'mean_deltascoreLead', 'dispersy_scoreLead',\n",
       "       'beautiful_percent', 'beautifulS_percent', 'mean_utility', 'Score25p',\n",
       "       'Score75p', 'Winrate25p', 'Winrate75p', 'mean_deltawinrate50p',\n",
       "       'median_scorelead', 'length', 'chiselka', 'mean_deltaSelfPlay',\n",
       "       'mean_deltawinrate 10', 'beautiful_percent 10', 'beautifulS_percent 10',\n",
       "       'mean_deltascoreLead 10', 'mean_deltaSelfPlay 10',\n",
       "       'dispersy_scoreLead 10', 'mean_utility 10', 'mean_deltawinrate 20',\n",
       "       'beautiful_percent 20', 'beautifulS_percent 20',\n",
       "       'mean_deltascoreLead 20', 'mean_deltaSelfPlay 20',\n",
       "       'dispersy_scoreLead 20', 'mean_utility 20', 'mean_deltawinrate yose',\n",
       "       'beautiful_percent yose', 'beautifulS_percent yose',\n",
       "       'mean_deltascoreLead yose', 'mean_deltaSelfPlay yose',\n",
       "       'dispersy_scoreLead yose', 'mean_utility yose', 'mean_dist',\n",
       "       'dispersy_dist'],\n",
       "      dtype='object')"
      ]
     },
     "execution_count": 11,
     "metadata": {},
     "output_type": "execute_result"
    }
   ],
   "source": [
    "data.columns"
   ]
  },
  {
   "cell_type": "code",
   "execution_count": 72,
   "id": "6bb12a3e",
   "metadata": {},
   "outputs": [],
   "source": [
    "columns = ['mean_deltawinrate',\n",
    "       'mean_deltaScore50p', 'mean_deltascoreLead', 'dispersy_scoreLead',\n",
    "       'beautiful_percent', 'beautifulS_percent', 'mean_utility', 'Score25p',\n",
    "       'Score75p', 'Winrate25p', 'Winrate75p', 'mean_deltawinrate50p',\n",
    "       'median_scorelead', 'length', 'mean_deltaSelfPlay',\n",
    "       'mean_deltawinrate 10', 'beautiful_percent 10', 'beautifulS_percent 10',\n",
    "       'mean_deltascoreLead 10', 'mean_deltaSelfPlay 10',\n",
    "       'dispersy_scoreLead 10', 'mean_utility 10', 'mean_deltawinrate 20',\n",
    "       'beautiful_percent 20', 'beautifulS_percent 20',\n",
    "       'mean_deltascoreLead 20', 'mean_deltaSelfPlay 20',\n",
    "       'dispersy_scoreLead 20', 'mean_utility 20', 'mean_deltawinrate yose',\n",
    "       'beautiful_percent yose', 'beautifulS_percent yose',\n",
    "       'mean_deltascoreLead yose', 'mean_deltaSelfPlay yose',\n",
    "       'dispersy_scoreLead yose', 'mean_utility yose', 'mean_dist',\n",
    "       'dispersy_dist']\n",
    "X = data[columns].to_numpy()\n",
    "y = data['chiselka'].to_numpy()"
   ]
  },
  {
   "cell_type": "code",
   "execution_count": 73,
   "id": "531ee36f",
   "metadata": {},
   "outputs": [],
   "source": [
    "enc = OneHotEncoder()\n",
    "y = enc.fit_transform(y[:, np.newaxis]).toarray()"
   ]
  },
  {
   "cell_type": "code",
   "execution_count": 74,
   "id": "e1290558",
   "metadata": {},
   "outputs": [],
   "source": [
    "X_train, X_test, y_train, y_test = train_test_split(X, y, test_size=0.2)"
   ]
  },
  {
   "cell_type": "code",
   "execution_count": 75,
   "id": "216161b3",
   "metadata": {},
   "outputs": [],
   "source": [
    "y_test = enc.inverse_transform(y_test) + 2"
   ]
  },
  {
   "cell_type": "code",
   "execution_count": 59,
   "id": "6893a4e5",
   "metadata": {},
   "outputs": [],
   "source": [
    "def train_generator(sample, labels, batch_size):\n",
    "    '''\n",
    "    Генератор батчей. \n",
    "    На каждом шаге возвращает `batch_size` объектов из `sample` и их \n",
    "    меток из `labels`.\n",
    "    '''\n",
    "    n_samples = sample.shape[0]\n",
    "    # Перемешиваем в случайном порядке в начале эпохи\n",
    "    indices = np.arange(n_samples)\n",
    "    np.random.shuffle(indices)\n",
    "    # Обратите внимание на yield вместо return\n",
    "    # (если раньше не сталкивались с генераторами)\n",
    "    for start in range(0, n_samples, batch_size):\n",
    "        end = min(start + batch_size, n_samples)\n",
    "        batch_idx = indices[start:end]\n",
    "        yield sample[batch_idx], labels[batch_idx]"
   ]
  },
  {
   "cell_type": "code",
   "execution_count": 60,
   "id": "7c6e46a8",
   "metadata": {},
   "outputs": [],
   "source": [
    "def train_model_torch(\n",
    "    model, \n",
    "    sample, y,\n",
    "    criterion,\n",
    "    optimizer,\n",
    "    n_epoch, \n",
    "    batch_size\n",
    "):\n",
    "    model.train()\n",
    "    \n",
    "    loss_history = []\n",
    "\n",
    "    for i in range(n_epoch):\n",
    "        for x_batch, y_batch in train_generator(sample, y, batch_size):\n",
    "            # Обнуляем градиенты с предыдущей итерации\n",
    "            # Forward pass\n",
    "            # Backward pass\n",
    "            # Обновление весов\n",
    "            optimizer.zero_grad()\n",
    "            \n",
    "            pred = model(torch.tensor(x_batch, dtype=torch.float32))\n",
    "            loss = criterion(pred, torch.tensor(y_batch).argmax(axis=1))\n",
    "            \n",
    "            loss.backward()\n",
    "            optimizer.step()\n",
    "            \n",
    "            loss_history.append(loss.data)\n",
    "\n",
    "        display.clear_output(wait=True)\n",
    "        \n",
    "        plt.figure(figsize=(8, 6))\n",
    "        plt.title(\"Функция потерь на train\")\n",
    "        plt.xlabel(\"итерация\")\n",
    "        plt.ylabel(\"лосс\")\n",
    "        plt.plot(loss_history, 'b')\n",
    "        plt.show()\n",
    "        print('Current loss: %f' % loss)\n",
    "    \n",
    "    return model, loss_history"
   ]
  },
  {
   "cell_type": "code",
   "execution_count": 114,
   "id": "3cef9a82",
   "metadata": {},
   "outputs": [
    {
     "data": {
      "image/png": "[encoded data removed]",
      "text/plain": [
       "<Figure size 576x432 with 1 Axes>"
      ]
     },
     "metadata": {
      "needs_background": "light"
     },
     "output_type": "display_data"
    },
    {
     "name": "stdout",
     "output_type": "stream",
     "text": [
      "Current loss: 2.218441\n"
     ]
    }
   ],
   "source": [
    "in_num = X.shape[1]\n",
    "out_num = 10\n",
    "batch_size = 128\n",
    "n_epoch = 100\n",
    "\n",
    "'''nn.Linear(in_num, 128),\n",
    "    nn.Dropout(p=0.4),\n",
    "    nn.ReLU(),\n",
    "    nn.BatchNorm1d(128),\n",
    "    nn.Linear(128, 64),\n",
    "    nn.Dropout(p=0.2),\n",
    "    nn.ReLU(),\n",
    "    nn.BatchNorm1d(64),\n",
    "    nn.Linear(64, 32),\n",
    "    nn.Dropout(p=0.2),\n",
    "    nn.ReLU(),\n",
    "    nn.BatchNorm1d(32),\n",
    "    nn.Linear(32, out_num),\n",
    "    nn.LogSoftmax()'''\n",
    "net_torch = nn.Sequential(\n",
    "    nn.Linear(in_num, 256),\n",
    "    nn.Dropout(p=0.4),\n",
    "    nn.ReLU(),\n",
    "    nn.BatchNorm1d(256),\n",
    "    nn.Linear(256, out_num),\n",
    "    nn.LogSoftmax()\n",
    ")\n",
    "\n",
    "criterion = nn.NLLLoss()\n",
    "optimizer = torch.optim.Adam(net_torch.parameters())\n",
    "\n",
    "net_torch, loss_history = train_model_torch(\n",
    "    net_torch, X_train, y_train, \n",
    "    criterion,\n",
    "    optimizer,\n",
    "    n_epoch,\n",
    "    batch_size\n",
    ")"
   ]
  },
  {
   "cell_type": "code",
   "execution_count": 115,
   "id": "ed557c81",
   "metadata": {},
   "outputs": [],
   "source": [
    "def test_generator(sample):\n",
    "    '''\n",
    "    Батч-генератор для тестовых данных (без меток).\n",
    "    '''\n",
    "    n_samples = sample.shape[0]\n",
    "    indices = np.arange(n_samples)\n",
    "    for start in range(0, n_samples, batch_size):\n",
    "        end = min(start + batch_size, n_samples)\n",
    "        batch_idx = indices[start:end]\n",
    "        yield sample[batch_idx]"
   ]
  },
  {
   "cell_type": "code",
   "execution_count": 109,
   "id": "5c6ef149",
   "metadata": {},
   "outputs": [],
   "source": [
    "def test_torch(model, test_sample):\n",
    "    '''\n",
    "    Тестирует модель из PyTorch на тестовой выборке.\n",
    "    '''\n",
    "    model.eval()\n",
    "    preds = []\n",
    "    with torch.no_grad():\n",
    "        for test_batch in test_generator(test_sample):\n",
    "            preds_batch = model(torch.FloatTensor(test_batch))\n",
    "            preds_batch = preds_batch.argmax(axis=1).reshape(-1,1)\n",
    "            preds.append(preds_batch.detach().numpy())\n",
    "    preds = np.vstack(preds)\n",
    "    return preds"
   ]
  },
  {
   "cell_type": "code",
   "execution_count": 116,
   "id": "0b93b1c6",
   "metadata": {},
   "outputs": [
    {
     "name": "stdout",
     "output_type": "stream",
     "text": [
      "Accuracy: 0.183\n",
      "MAE: 2.3975\n"
     ]
    }
   ],
   "source": [
    "y_pred = test_torch(net_torch, X_test)\n",
    "\n",
    "print(f'Accuracy: {accuracy_score(y_test, y_pred)}\\nMAE: {mae(y_test, y_pred)}')"
   ]
  },
  {
   "cell_type": "code",
   "execution_count": 118,
   "id": "7bd3793a",
   "metadata": {},
   "outputs": [
    {
     "data": {
      "image/png": "[encoded data removed]",
      "text/plain": [
       "<Figure size 576x432 with 1 Axes>"
      ]
     },
     "metadata": {
      "needs_background": "light"
     },
     "output_type": "display_data"
    },
    {
     "name": "stdout",
     "output_type": "stream",
     "text": [
      "Current loss: 1.960200\n",
      "Accuracy: 0.182\n",
      "MAE: 2.193\n"
     ]
    }
   ],
   "source": [
    "in_num = X.shape[1]\n",
    "out_num = 10\n",
    "batch_size = 128\n",
    "n_epoch = 100\n",
    "\n",
    "net_torch = nn.Sequential(\n",
    "    nn.Linear(in_num, 256),\n",
    "    nn.BatchNorm1d(256),\n",
    "    nn.ReLU(),\n",
    "    nn.Linear(256, out_num),\n",
    "    nn.LogSoftmax()\n",
    ")\n",
    "\n",
    "criterion = nn.NLLLoss()\n",
    "optimizer = torch.optim.Adam(net_torch.parameters())\n",
    "\n",
    "net_torch, loss_history = train_model_torch(\n",
    "    net_torch, X_train, y_train, \n",
    "    criterion,\n",
    "    optimizer,\n",
    "    n_epoch,\n",
    "    batch_size\n",
    ")\n",
    "y_pred = test_torch(net_torch, X_test)\n",
    "\n",
    "print(f'Accuracy: {accuracy_score(y_test, y_pred)}\\nMAE: {mae(y_test, y_pred)}')"
   ]
  },
  {
   "cell_type": "code",
   "execution_count": 134,
   "id": "11665366",
   "metadata": {},
   "outputs": [
    {
     "data": {
      "image/png": "[encoded data removed]",
      "text/plain": [
       "<Figure size 576x432 with 1 Axes>"
      ]
     },
     "metadata": {
      "needs_background": "light"
     },
     "output_type": "display_data"
    },
    {
     "name": "stdout",
     "output_type": "stream",
     "text": [
      "Current loss: 1.846404\n",
      "Accuracy: 0.1555\n",
      "MAE: 2.4465\n"
     ]
    }
   ],
   "source": [
    "in_num = X.shape[1]\n",
    "out_num = 10\n",
    "batch_size = 128\n",
    "n_epoch = 100\n",
    "\n",
    "net_torch = nn.Sequential(\n",
    "    nn.Linear(in_num, 256),\n",
    "    nn.BatchNorm1d(256),\n",
    "    nn.ReLU(),\n",
    "    nn.Linear(256, 128),\n",
    "    nn.BatchNorm1d(128),\n",
    "    nn.ReLU(),\n",
    "    nn.Linear(128, 64),\n",
    "    nn.BatchNorm1d(64),\n",
    "    nn.ReLU(),\n",
    "    nn.Linear(64, out_num),\n",
    "    #nn.ReLU(),\n",
    "    nn.LogSoftmax()\n",
    ")\n",
    "\n",
    "criterion = nn.NLLLoss()\n",
    "optimizer = torch.optim.Adam(net_torch.parameters())\n",
    "\n",
    "net_torch, loss_history = train_model_torch(\n",
    "    net_torch, X_train, y_train, \n",
    "    criterion,\n",
    "    optimizer,\n",
    "    n_epoch,\n",
    "    batch_size\n",
    ")\n",
    "y_pred = test_torch(net_torch, X_test)\n",
    "\n",
    "print(f'Accuracy: {accuracy_score(y_test, y_pred)}\\nMAE: {mae(y_test, y_pred)}')"
   ]
  },
  {
   "cell_type": "code",
   "execution_count": 137,
   "id": "f55851c8",
   "metadata": {},
   "outputs": [
    {
     "data": {
      "image/png": "[encoded data removed]",
      "text/plain": [
       "<Figure size 576x432 with 1 Axes>"
      ]
     },
     "metadata": {
      "needs_background": "light"
     },
     "output_type": "display_data"
    },
    {
     "name": "stdout",
     "output_type": "stream",
     "text": [
      "Current loss: 2.049173\n",
      "Accuracy: 0.178\n",
      "MAE: 2.176\n"
     ]
    }
   ],
   "source": [
    "in_num = X.shape[1]\n",
    "out_num = 10\n",
    "batch_size = 128\n",
    "n_epoch = 200\n",
    "\n",
    "net_torch = nn.Sequential(\n",
    "    nn.Linear(in_num, 256),\n",
    "    nn.BatchNorm1d(256),\n",
    "    nn.Dropout(p=0.2),\n",
    "    nn.ReLU(),\n",
    "    nn.Linear(256, 128),\n",
    "    nn.BatchNorm1d(128),\n",
    "    nn.Dropout(p=0.2),\n",
    "    nn.ReLU(),\n",
    "    nn.Linear(128, 64),\n",
    "    nn.BatchNorm1d(64),\n",
    "    nn.Dropout(p=0.2),\n",
    "    nn.ReLU(),\n",
    "    nn.Linear(64, out_num),\n",
    "    #nn.ReLU(),\n",
    "    nn.LogSoftmax()\n",
    ")\n",
    "\n",
    "criterion = nn.NLLLoss()\n",
    "optimizer = torch.optim.Adam(net_torch.parameters(), lr=1e-2)\n",
    "\n",
    "net_torch, loss_history = train_model_torch(\n",
    "    net_torch, X_train, y_train, \n",
    "    criterion,\n",
    "    optimizer,\n",
    "    n_epoch,\n",
    "    batch_size\n",
    ")\n",
    "y_pred = test_torch(net_torch, X_test)\n",
    "\n",
    "print(f'Accuracy: {accuracy_score(y_test, y_pred)}\\nMAE: {mae(y_test, y_pred)}')"
   ]
  },
  {
   "cell_type": "code",
   "execution_count": 138,
   "id": "773c2fbb",
   "metadata": {},
   "outputs": [
    {
     "data": {
      "image/png": "[encoded data removed]",
      "text/plain": [
       "<Figure size 576x432 with 1 Axes>"
      ]
     },
     "metadata": {
      "needs_background": "light"
     },
     "output_type": "display_data"
    },
    {
     "name": "stdout",
     "output_type": "stream",
     "text": [
      "Current loss: 1.997374\n",
      "Accuracy: 0.177\n",
      "MAE: 2.251\n"
     ]
    }
   ],
   "source": [
    "in_num = X.shape[1]\n",
    "out_num = 10\n",
    "batch_size = 128\n",
    "n_epoch = 400\n",
    "\n",
    "net_torch = nn.Sequential(\n",
    "    nn.Linear(in_num, 256),\n",
    "    nn.BatchNorm1d(256),\n",
    "    nn.Dropout(p=0.4),\n",
    "    nn.ReLU(),\n",
    "    nn.Linear(256, 128),\n",
    "    nn.BatchNorm1d(128),\n",
    "    nn.Dropout(p=0.2),\n",
    "    nn.ReLU(),\n",
    "    nn.Linear(128, 64),\n",
    "    nn.BatchNorm1d(64),\n",
    "    nn.Dropout(p=0.2),\n",
    "    nn.ReLU(),\n",
    "    nn.Linear(64, out_num),\n",
    "    #nn.ReLU(),\n",
    "    nn.LogSoftmax()\n",
    ")\n",
    "\n",
    "criterion = nn.NLLLoss()\n",
    "optimizer = torch.optim.Adam(net_torch.parameters())\n",
    "\n",
    "net_torch, loss_history = train_model_torch(\n",
    "    net_torch, X_train, y_train, \n",
    "    criterion,\n",
    "    optimizer,\n",
    "    n_epoch,\n",
    "    batch_size\n",
    ")\n",
    "y_pred = test_torch(net_torch, X_test)\n",
    "\n",
    "print(f'Accuracy: {accuracy_score(y_test, y_pred)}\\nMAE: {mae(y_test, y_pred)}')"
   ]
  }
 ],
 "metadata": {
  "kernelspec": {
   "display_name": "Python 3 (ipykernel)",
   "language": "python",
   "name": "python3"
  },
  "language_info": {
   "codemirror_mode": {
    "name": "ipython",
    "version": 3
   },
   "file_extension": ".py",
   "mimetype": "text/x-python",
   "name": "python",
   "nbconvert_exporter": "python",
   "pygments_lexer": "ipython3",
   "version": "3.8.10"
  }
 },
 "nbformat": 4,
 "nbformat_minor": 5
}
