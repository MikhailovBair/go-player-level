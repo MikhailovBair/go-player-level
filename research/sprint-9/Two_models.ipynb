{
  "cells": [
    {
      "cell_type": "code",
      "execution_count": null,
      "metadata": {
        "id": "I46krI64XyxR"
      },
      "outputs": [],
      "source": [
        "import numpy as np\n",
        "import pandas as pd\n",
        "from tqdm import tqdm\n",
        "\n",
        "def add_basic_stats(row, moves, pref=\"\"):\n",
        "\n",
        "    row[pref + 'winrate_mean'] = np.mean(moves.winrate_delta)\n",
        "    row[pref + 'score_mean'] = np.mean(moves.score_delta)\n",
        "    row[pref + 'score_var'] = np.var(moves.score_delta)\n",
        "    row[pref + 'selfplay_mean'] = np.mean(moves.selfplay_delta)\n",
        "    row[pref + 'utility_mean'] = np.mean(moves.utility_delta)\n",
        "    row[pref + 'winrate_beauty_percent'] = np.mean([x > 0 for x in moves.winrate_delta])\n",
        "    row[pref + 'score_beauty_percent'] = np.mean([x > 0 for x in moves.score_delta])\n",
        "\n",
        "\n",
        "def add_advanced_stats(row, moves, pref=\"\"):\n",
        "    moves.score_delta.sort()\n",
        "    moves.winrate_delta.sort()\n",
        "\n",
        "    row[pref + 'score25p'] = moves.score_delta[int(moves.cnt_moves * 0.25)]\n",
        "    row[pref + 'score75p'] = moves.score_delta[int(moves.cnt_moves * 0.75)]\n",
        "    row[pref + 'score_max'] = np.max(moves.score_delta)\n",
        "    row[pref + 'score_min'] = np.min(moves.score_delta)\n",
        "    row[pref + 'winrate25p'] = moves.winrate_delta[int(moves.cnt_moves * 0.25)]\n",
        "    row[pref + 'winrate75p'] = moves.winrate_delta[int(moves.cnt_moves * 0.75)]\n",
        "\n",
        "    row[pref + 'score_five_best_mean'] = np.mean(moves.score_delta[-5:])\n",
        "    row[pref + 'score_five_worst_mean'] = np.mean(moves.score_delta[:5])\n",
        "\n",
        "    row[pref + 'stddev_last'] = moves.stddev_delta[-1]\n",
        "    moves.stddev_delta.sort()\n",
        "    row[pref + 'stddev_mean'] = np.mean(moves.stddev_delta)\n",
        "    row[pref + 'stddev50p'] = moves.stddev_delta[int(moves.cnt_moves * 0.5)]\n",
        "\n",
        "    row[pref + 'score50p'] = moves.score_delta[int(moves.cnt_moves * 0.5)]\n",
        "\n",
        "    row[pref + 'winrate_midmean'] = np.mean(\n",
        "        moves.winrate_delta[int(moves.cnt_moves * 0.25):int(moves.cnt_moves * 0.75)])\n",
        "    row[pref + 'score_midmean'] = np.mean(moves.score_delta[int(moves.cnt_moves * 0.25):int(moves.cnt_moves * 0.75)])\n",
        "\n",
        "\n",
        "def get_index_dan(rank):\n",
        "  for i in range(len(rank)):\n",
        "    if rank[i] in ['k', 'd']:\n",
        "      return i\n",
        "  return -1\n",
        "\n",
        "\n",
        "def get_int_from_rank(rank):\n",
        "    ind = get_index_dan(rank)\n",
        "    if ind < 0 or rank[0] == 'P' or not rank[:ind].isdigit():\n",
        "        return None\n",
        "    if rank[ind] == 'k':\n",
        "        return -int(rank[:ind]) + 1\n",
        "    else:\n",
        "        return int(rank[:ind])\n",
        "\n",
        "\n",
        "def get_rank_from_int(x):\n",
        "    if x > 0:\n",
        "        return str(x) + \"d\"\n",
        "    else:\n",
        "        return str(-x + 1) + \"k\"\n",
        "\n",
        "\n",
        "def int_from_player(player):\n",
        "    return int(player == 'W')\n",
        "\n",
        "\n",
        "def player_from_int(x):\n",
        "    return 'W' if x == 1 else 'B'\n",
        "\n",
        "\n",
        "def add_meta(row):\n",
        "    if row['Result'] == '?':\n",
        "        row['game_result'] = 0\n",
        "    else:\n",
        "        row['game_result'] = int(row['Result'])\n",
        "    row['W_rank'] = get_int_from_rank(row['W_rating'])\n",
        "    row['B_rank'] = get_int_from_rank(row['B_rating'])\n",
        "    row['rank_mid'] = (row['W_rank'] + row['B_rank']) / 2\n",
        "    row['rank_diff'] = row['W_rank'] - row['B_rank']\n",
        "    row['game_length'] = len(row['W_move'].split()) + len(row['B_move'].split())\n",
        "\n",
        "\n",
        "def convert_to_lists(df):\n",
        "    for i, row in tqdm(df.iterrows()):\n",
        "        row['kek'] = i\n",
        "        row['W_scoreLead'] = [float(x) for x in row['W_scoreLead'].split()]\n",
        "        row['B_scoreLead'] = [float(x) for x in row['B_scoreLead'].split()]\n",
        "        row['W_scoreSelfplay'] = [float(x) for x in row['W_scoreSelfplay'].split()]\n",
        "        row['B_scoreSelfplay'] = [float(x) for x in row['B_scoreSelfplay'].split()]\n",
        "        row['W_scoreStdev'] = [float(x) for x in row['W_scoreStdev'].split()]\n",
        "        row['B_scoreStdev'] = [float(x) for x in row['B_scoreStdev'].split()]\n",
        "        row['W_utility'] = [float(x) for x in row['W_utility'].split()]\n",
        "        row['B_utility'] = [float(x) for x in row['B_utility'].split()]\n",
        "        row['W_winrate'] = [float(x) for x in row['W_winrate'].split()]\n",
        "        row['B_winrate'] = [float(x) for x in row['B_winrate'].split()]\n",
        "        df.loc[i] = row\n",
        "\n",
        "class MovesInfo:\n",
        "    def __init__(self, row, n_moves=None, player='W'):\n",
        "        enemy = 'B' if player == 'W' else 'W'\n",
        "        if player == 'B':\n",
        "            moves_len = min(len(row['B_winrate']), len(row['W_winrate']) + 1)\n",
        "        else:\n",
        "            moves_len = min(len(row['W_winrate']), len(row['B_winrate']))\n",
        "\n",
        "        if n_moves is None:\n",
        "            start_ind = 0\n",
        "        else:\n",
        "            start_ind = max(moves_len - n_moves - 1, 0)\n",
        "\n",
        "        end_ind = moves_len\n",
        "        w_0 = []\n",
        "        sc_0 = []\n",
        "        ut_0 = []\n",
        "        std_0 = []\n",
        "        sf_0 = []\n",
        "        if player == 'B':\n",
        "            if start_ind == 0:\n",
        "                w_0 = [0.475]\n",
        "                sc_0 = [0.]\n",
        "                ut_0 = [0.]\n",
        "                std_0 = [19. - 0.07666535852999867 * 2]\n",
        "                sf_0 = [0.]\n",
        "            else:\n",
        "                w_0 = [row[enemy + '_winrate'][start_ind - 1]]\n",
        "\n",
        "                sc_0 = [row[enemy + '_scoreLead'][start_ind - 1]]\n",
        "                ut_0 = [row[enemy + '_utility'][start_ind - 1]]\n",
        "                std_0 = [row[enemy + '_scoreStdev'][start_ind - 1]]\n",
        "                sf_0 = [row[enemy + '_scoreSelfplay'][start_ind - 1]]\n",
        "        self.winrate_delta = np.array(row[player + '_winrate'][start_ind:end_ind]) - np.array(\n",
        "            (w_0 + row[enemy + '_winrate'])[start_ind:end_ind])\n",
        "        self.score_delta = np.array(row[player + '_scoreLead'][start_ind:end_ind]) - np.array(\n",
        "            (sc_0 + row[enemy + '_scoreLead'])[start_ind:end_ind])\n",
        "        self.utility_delta = np.array(row[player + '_utility'][start_ind:end_ind]) - np.array(\n",
        "            (ut_0 + row[enemy + '_utility'])[start_ind:end_ind])\n",
        "        self.selfplay_delta = np.array(row[player + '_scoreSelfplay'][start_ind:end_ind]) - np.array(\n",
        "            (sf_0 + row[enemy + '_scoreSelfplay'])[start_ind:end_ind])\n",
        "        self.stddev_delta = np.array(row[player + '_scoreStdev'][start_ind:end_ind]) - np.array(\n",
        "            (std_0 + row[enemy + '_scoreStdev'])[start_ind:end_ind])\n",
        "\n",
        "        if player == 'B':\n",
        "            self.winrate_delta = -self.winrate_delta\n",
        "            self.score_delta = -self.score_delta\n",
        "            self.utility_delta = -self.utility_delta\n",
        "            self.selfplay_delta = -self.selfplay_delta\n",
        "\n",
        "        self.move = row[player + '_move'].split()\n",
        "        self.cnt_moves = end_ind - start_ind\n",
        "\n",
        "\n",
        "def delta_moves(a, b):\n",
        "    return abs(ord(a[0]) - ord(b[0])) + abs(ord(a[1]) - ord(b[1]))\n",
        "\n",
        "\n",
        "def get_distance_of_moves(moves):\n",
        "    ans = np.zeros(len(moves) - 1)\n",
        "    for i in range(1, len(moves)):\n",
        "        ans[i - 1] = delta_moves(moves[i], moves[i - 1])\n",
        "    return ans\n",
        "\n",
        "\n",
        "def get_distance_from_enemy(my_moves, enemy_moves):\n",
        "    ans = np.zeros(min(len(my_moves), len(enemy_moves)))\n",
        "    for i in range(min(len(my_moves), len(enemy_moves))):\n",
        "        ans[i] = delta_moves(my_moves[i], enemy_moves[i])\n",
        "    return ans\n",
        "\n",
        "\n",
        "def delete_non_scalar_parameters(df):\n",
        "    df.drop(['W_rating', 'B_rating', 'W_move', 'B_move', 'W_scoreLead', 'B_scoreLead', 'W_scoreSelfplay',\n",
        "             'B_scoreSelfplay', 'W_scoreStdev', 'B_scoreStdev', 'W_utility', 'B_utility',\n",
        "             'W_winrate', 'B_winrate', 'Result'], axis=1, inplace=True)\n",
        "\n",
        "\n",
        "def add_delta_lists_to_row(row, moves, player = 'W'):\n",
        "    row['winrate'] = moves.winrate_delta\n",
        "    row['score'] = moves.score_delta\n",
        "    row['winrate_sqr'] = np.array([x ** 2 for x  in moves.winrate_delta])\n",
        "    row['score_sqr'] = np.array([x ** 2 for x  in moves.score_delta])\n",
        "    row['utility'] = moves.utility_delta\n",
        "    row['selfplay'] = moves.selfplay_delta\n",
        "    row['stddev'] = moves.stddev_delta\n",
        "    row['dist_from_prev'] = get_distance_of_moves(moves.move)\n",
        "    row['dist_more_5'] = [int(x > 5) + 1 for x in row['dist_from_prev']]\n",
        "    enemy = 'B' if player == 'W' else 'W'\n",
        "    row['dist_enemy'] = get_distance_from_enemy(row[player + '_move'].split(), row[enemy + '_move'].split())\n",
        "\n",
        "\n",
        "def add_lists_to_df(df, player='W'):\n",
        "    df['winrate'] = None\n",
        "    df['score'] = None\n",
        "    df['utility'] = None\n",
        "    df['selfplay'] = None\n",
        "    df['stddev'] = None\n",
        "    df['dist_from_prev'] = None\n",
        "    df['rank'] = None\n",
        "    df['color'] = None\n",
        "    df['game_length'] = None\n",
        "    df['score_sqr'] = None\n",
        "    df['winrate_sqr'] = None\n",
        "    df['dist_more_5'] = None\n",
        "    df['dist_enemy'] = None\n",
        "    for i, row in tqdm(df.iterrows()):\n",
        "        add_delta_lists_to_row(row, MovesInfo(row, player=player))\n",
        "        df.loc[i] = row\n",
        "\n",
        "\n",
        "def add_meta_to_df(df):\n",
        "    df['W_rank'] = None\n",
        "    df['B_rank'] = None\n",
        "    df['game_length'] = None\n",
        "    df['rank_diff'] = None\n",
        "    df['rank_mid'] = None\n",
        "    for i, row in tqdm(df.iterrows()):\n",
        "        try:\n",
        "            add_meta(row)\n",
        "            df.loc[i] = row\n",
        "        except Exception as e:\n",
        "            print(e)\n",
        "            df = df.drop(index=[i])\n",
        "\n",
        "def get_df_with_lists(df):\n",
        "    add_meta_to_df(df)\n",
        "    df = df[df['game_length'] >= 20]\n",
        "    convert_to_lists(df)\n",
        "    add_lists_to_df(df)\n",
        "    return df\n"
      ]
    },
    {
      "cell_type": "code",
      "execution_count": null,
      "metadata": {
        "colab": {
          "base_uri": "https://localhost:8080/"
        },
        "id": "yoszmmGtX9Bo",
        "outputId": "476f5540-5271-4c96-862b-9f6083015ff5"
      },
      "outputs": [
        {
          "output_type": "stream",
          "name": "stdout",
          "text": [
            "Drive already mounted at /content/drive; to attempt to forcibly remount, call drive.mount(\"/content/drive\", force_remount=True).\n"
          ]
        }
      ],
      "source": [
        "from google.colab import drive\n",
        "drive.mount('/content/drive')\n",
        "katago = pd.read_csv('/content/drive/MyDrive/unbalanced_small_diff.csv')\n",
        "katago.drop(['game_id', 'error'], axis=1, inplace=True)\n",
        "katago.dropna(how = 'any', inplace= True)"
      ]
    },
    {
      "cell_type": "code",
      "source": [
        "katago.dropna(how = 'any', inplace= True)"
      ],
      "metadata": {
        "id": "cnDjFFglkjSI"
      },
      "execution_count": null,
      "outputs": []
    },
    {
      "cell_type": "code",
      "execution_count": null,
      "metadata": {
        "colab": {
          "base_uri": "https://localhost:8080/"
        },
        "id": "MjH7VjZkfGvV",
        "outputId": "5a07bd89-d1f2-430d-86a1-bded02c2189a"
      },
      "outputs": [
        {
          "output_type": "stream",
          "name": "stderr",
          "text": [
            "41212it [01:11, 579.75it/s]\n",
            "0it [00:00, ?it/s]/usr/local/lib/python3.7/dist-packages/pandas/core/indexing.py:1732: SettingWithCopyWarning: \n",
            "A value is trying to be set on a copy of a slice from a DataFrame\n",
            "\n",
            "See the caveats in the documentation: https://pandas.pydata.org/pandas-docs/stable/user_guide/indexing.html#returning-a-view-versus-a-copy\n",
            "  self._setitem_single_block(indexer, value, name)\n",
            "/usr/local/lib/python3.7/dist-packages/pandas/core/indexing.py:723: SettingWithCopyWarning: \n",
            "A value is trying to be set on a copy of a slice from a DataFrame\n",
            "\n",
            "See the caveats in the documentation: https://pandas.pydata.org/pandas-docs/stable/user_guide/indexing.html#returning-a-view-versus-a-copy\n",
            "  iloc._setitem_with_indexer(indexer, value, self.name)\n",
            "40818it [01:20, 507.73it/s]\n",
            "/usr/local/lib/python3.7/dist-packages/ipykernel_launcher.py:194: SettingWithCopyWarning: \n",
            "A value is trying to be set on a copy of a slice from a DataFrame.\n",
            "Try using .loc[row_indexer,col_indexer] = value instead\n",
            "\n",
            "See the caveats in the documentation: https://pandas.pydata.org/pandas-docs/stable/user_guide/indexing.html#returning-a-view-versus-a-copy\n",
            "/usr/local/lib/python3.7/dist-packages/ipykernel_launcher.py:195: SettingWithCopyWarning: \n",
            "A value is trying to be set on a copy of a slice from a DataFrame.\n",
            "Try using .loc[row_indexer,col_indexer] = value instead\n",
            "\n",
            "See the caveats in the documentation: https://pandas.pydata.org/pandas-docs/stable/user_guide/indexing.html#returning-a-view-versus-a-copy\n",
            "/usr/local/lib/python3.7/dist-packages/ipykernel_launcher.py:196: SettingWithCopyWarning: \n",
            "A value is trying to be set on a copy of a slice from a DataFrame.\n",
            "Try using .loc[row_indexer,col_indexer] = value instead\n",
            "\n",
            "See the caveats in the documentation: https://pandas.pydata.org/pandas-docs/stable/user_guide/indexing.html#returning-a-view-versus-a-copy\n",
            "/usr/local/lib/python3.7/dist-packages/ipykernel_launcher.py:197: SettingWithCopyWarning: \n",
            "A value is trying to be set on a copy of a slice from a DataFrame.\n",
            "Try using .loc[row_indexer,col_indexer] = value instead\n",
            "\n",
            "See the caveats in the documentation: https://pandas.pydata.org/pandas-docs/stable/user_guide/indexing.html#returning-a-view-versus-a-copy\n",
            "/usr/local/lib/python3.7/dist-packages/ipykernel_launcher.py:198: SettingWithCopyWarning: \n",
            "A value is trying to be set on a copy of a slice from a DataFrame.\n",
            "Try using .loc[row_indexer,col_indexer] = value instead\n",
            "\n",
            "See the caveats in the documentation: https://pandas.pydata.org/pandas-docs/stable/user_guide/indexing.html#returning-a-view-versus-a-copy\n",
            "/usr/local/lib/python3.7/dist-packages/ipykernel_launcher.py:199: SettingWithCopyWarning: \n",
            "A value is trying to be set on a copy of a slice from a DataFrame.\n",
            "Try using .loc[row_indexer,col_indexer] = value instead\n",
            "\n",
            "See the caveats in the documentation: https://pandas.pydata.org/pandas-docs/stable/user_guide/indexing.html#returning-a-view-versus-a-copy\n",
            "/usr/local/lib/python3.7/dist-packages/ipykernel_launcher.py:200: SettingWithCopyWarning: \n",
            "A value is trying to be set on a copy of a slice from a DataFrame.\n",
            "Try using .loc[row_indexer,col_indexer] = value instead\n",
            "\n",
            "See the caveats in the documentation: https://pandas.pydata.org/pandas-docs/stable/user_guide/indexing.html#returning-a-view-versus-a-copy\n",
            "/usr/local/lib/python3.7/dist-packages/ipykernel_launcher.py:201: SettingWithCopyWarning: \n",
            "A value is trying to be set on a copy of a slice from a DataFrame.\n",
            "Try using .loc[row_indexer,col_indexer] = value instead\n",
            "\n",
            "See the caveats in the documentation: https://pandas.pydata.org/pandas-docs/stable/user_guide/indexing.html#returning-a-view-versus-a-copy\n",
            "/usr/local/lib/python3.7/dist-packages/ipykernel_launcher.py:202: SettingWithCopyWarning: \n",
            "A value is trying to be set on a copy of a slice from a DataFrame.\n",
            "Try using .loc[row_indexer,col_indexer] = value instead\n",
            "\n",
            "See the caveats in the documentation: https://pandas.pydata.org/pandas-docs/stable/user_guide/indexing.html#returning-a-view-versus-a-copy\n",
            "/usr/local/lib/python3.7/dist-packages/ipykernel_launcher.py:203: SettingWithCopyWarning: \n",
            "A value is trying to be set on a copy of a slice from a DataFrame.\n",
            "Try using .loc[row_indexer,col_indexer] = value instead\n",
            "\n",
            "See the caveats in the documentation: https://pandas.pydata.org/pandas-docs/stable/user_guide/indexing.html#returning-a-view-versus-a-copy\n",
            "/usr/local/lib/python3.7/dist-packages/ipykernel_launcher.py:204: SettingWithCopyWarning: \n",
            "A value is trying to be set on a copy of a slice from a DataFrame.\n",
            "Try using .loc[row_indexer,col_indexer] = value instead\n",
            "\n",
            "See the caveats in the documentation: https://pandas.pydata.org/pandas-docs/stable/user_guide/indexing.html#returning-a-view-versus-a-copy\n",
            "/usr/local/lib/python3.7/dist-packages/ipykernel_launcher.py:205: SettingWithCopyWarning: \n",
            "A value is trying to be set on a copy of a slice from a DataFrame.\n",
            "Try using .loc[row_indexer,col_indexer] = value instead\n",
            "\n",
            "See the caveats in the documentation: https://pandas.pydata.org/pandas-docs/stable/user_guide/indexing.html#returning-a-view-versus-a-copy\n",
            "/usr/local/lib/python3.7/dist-packages/ipykernel_launcher.py:206: SettingWithCopyWarning: \n",
            "A value is trying to be set on a copy of a slice from a DataFrame.\n",
            "Try using .loc[row_indexer,col_indexer] = value instead\n",
            "\n",
            "See the caveats in the documentation: https://pandas.pydata.org/pandas-docs/stable/user_guide/indexing.html#returning-a-view-versus-a-copy\n",
            "40818it [00:48, 841.99it/s]\n"
          ]
        }
      ],
      "source": [
        "katago_data = get_df_with_lists(katago.copy())"
      ]
    },
    {
      "cell_type": "code",
      "execution_count": null,
      "metadata": {
        "id": "LNEE-Zt3lz0a"
      },
      "outputs": [],
      "source": [
        "from sklearn.model_selection import train_test_split\n",
        "X_train, X_test, y_train, y_test = train_test_split(katago_data, katago_data['rank_diff'], test_size=0.4)"
      ]
    },
    {
      "cell_type": "code",
      "source": [
        "import numpy as np\n",
        "import tensorflow as tf\n",
        "from tensorflow import keras\n",
        "from keras import layers\n",
        "\n",
        "def get_tensor(df, features, sequence_len):\n",
        "    def resize_to_length(m, length):\n",
        "        if len(m) > length:\n",
        "            return m[:length]\n",
        "        n_nules = length - len(m)\n",
        "        return list([0] * n_nules) + list(m)\n",
        "\n",
        "    arr = []\n",
        "    for feature in features:\n",
        "        arr.append([np.array(y) for y in df[feature].apply(lambda x: resize_to_length(x, sequence_len))])\n",
        "    arr = np.array(arr)\n",
        "    arr = arr.swapaxes(0, 1)\n",
        "    arr = arr.swapaxes(1, 2)\n",
        "    return tf.convert_to_tensor(arr, np.float32)\n",
        "\n",
        "\n",
        "class RnnKerasRunner:\n",
        "    __DEFAULT_FEATURES = ['score', 'winrate', 'utility', 'stddev', 'selfplay', 'dist_from_prev', 'winrate_sqr', 'score_sqr', 'dist_more_5']\n",
        "\n",
        "    def __create_rnn(self, hidden_units, input_shape):\n",
        "        model = keras.Sequential()\n",
        "        # model.add(layers.Embedding(input_dim=6, output_dim=6))\n",
        "        model.add(tf.keras.layers.Masking(mask_value=0.,\n",
        "                                          input_shape=input_shape))\n",
        "        model.add(layers.BatchNormalization())\n",
        "        model.add(layers.Dense(units=12, activation=\"linear\"))\n",
        "        model.add(layers.Dense(32, activation='relu'))\n",
        "        model.add(layers.Bidirectional(layers.LSTM(hidden_units)))  # , dropout = 0.15, reccurent_dropout = 0.15)))\n",
        "        model.add(layers.LeakyReLU())\n",
        "        model.add(layers.Dense(units=1, activation=\"linear\"))\n",
        "        model.compile(loss='mean_squared_error', optimizer='adam', metrics=\"mean_absolute_error\")\n",
        "        return model\n",
        "\n",
        "    def __init__(self, model = None, sequence_len=150, features=__DEFAULT_FEATURES):\n",
        "        self.features = features\n",
        "        self.sequence_len = sequence_len\n",
        "        if model is None:\n",
        "            self.model = self.__create_rnn(128, (sequence_len, len(features)))\n",
        "        else:\n",
        "            self.model = model\n",
        "\n",
        "    def fit(self, df, target, val_X, val_y, epochs=10, batch_size=256):\n",
        "        val_data = None\n",
        "        if val_X is not None:\n",
        "            val_X = get_tensor(val_X, self.features, self.sequence_len)\n",
        "            val_y = tf.convert_to_tensor(val_y, np.float32)\n",
        "            val_data = (val_X, val_y)\n",
        "        X = get_tensor(df, self.features, self.sequence_len)\n",
        "        self.model.fit(X, tf.convert_to_tensor(target, np.float32), validation_data = val_data, epochs=epochs,\n",
        "                       batch_size=batch_size)\n",
        "\n",
        "    def predict(self, df):\n",
        "        X = get_tensor(df, self.features, self.sequence_len)\n",
        "        return np.array([y[0] for y in self.model.predict(X)])"
      ],
      "metadata": {
        "id": "RFNDYlKiuHGx"
      },
      "execution_count": null,
      "outputs": []
    },
    {
      "cell_type": "code",
      "source": [
        "from keras.models import load_model\n",
        "features = ['score', 'winrate', 'utility', 'stddev', 'selfplay', 'dist_from_prev', \n",
        "            'W_winrate', 'B_winrate', 'W_scoreLead', 'B_scoreLead', 'W_scoreSelfplay',\n",
        "             'B_scoreSelfplay', 'W_scoreStdev', 'B_scoreStdev', 'dist_enemy']\n",
        "model = RnnKerasRunner(sequence_len=150, features = features)             "
      ],
      "metadata": {
        "id": "zr3kxr-uuH0S"
      },
      "execution_count": null,
      "outputs": []
    },
    {
      "cell_type": "code",
      "source": [
        "X_train.columns"
      ],
      "metadata": {
        "colab": {
          "base_uri": "https://localhost:8080/"
        },
        "id": "rxwL5TylzMVa",
        "outputId": "2428040f-09cb-4a45-cf5f-c13d4ccd1be6"
      },
      "execution_count": null,
      "outputs": [
        {
          "output_type": "execute_result",
          "data": {
            "text/plain": [
              "Index(['W_rating', 'B_rating', 'W_nickname', 'B_nickname', 'Result', 'W_move',\n",
              "       'B_move', 'W_scoreLead', 'B_scoreLead', 'W_scoreSelfplay',\n",
              "       'B_scoreSelfplay', 'W_scoreStdev', 'B_scoreStdev', 'W_utility',\n",
              "       'B_utility', 'W_visits', 'B_visits', 'W_winrate', 'B_winrate',\n",
              "       'winrate_mean', 'score_midmean', 'score_mean', 'score_var',\n",
              "       'winrate_beauty_percent', 'score_beauty_percent', 'utility_mean',\n",
              "       'score25p', 'score75p', 'winrate25p', 'winrate75p', 'winrate_midmean',\n",
              "       'score50p', 'game_length', 'rank', 'color', 'game_result',\n",
              "       'selfplay_mean', 'stddev_mean', 'stddev50p', 'stddev_last', 'score_max',\n",
              "       'score_min', 'score_five_best_mean', 'score_five_worst_mean', 'winrate',\n",
              "       'score', 'utility', 'selfplay', 'stddev', 'dist_from_prev', 'score_sqr',\n",
              "       'winrate_sqr', 'dist_more_5'],\n",
              "      dtype='object')"
            ]
          },
          "metadata": {},
          "execution_count": 10
        }
      ]
    },
    {
      "cell_type": "code",
      "source": [
        "model.fit(X_train, y_train, val_X = X_test, val_y = y_test, epochs=5, batch_size = 128)"
      ],
      "metadata": {
        "colab": {
          "base_uri": "https://localhost:8080/",
          "height": 380
        },
        "id": "xP7gVuZX3_e2",
        "outputId": "fb245efd-e580-4591-ce93-20d57d7793e7"
      },
      "execution_count": null,
      "outputs": [
        {
          "output_type": "stream",
          "name": "stdout",
          "text": [
            "Epoch 1/5\n",
            "192/192 [==============================] - 273s 1s/step - loss: 2.2317 - mean_absolute_error: 1.2268 - val_loss: 2.1796 - val_mean_absolute_error: 1.2101\n",
            "Epoch 2/5\n",
            "  1/192 [..............................] - ETA: 3:58 - loss: 1.9066 - mean_absolute_error: 1.1813"
          ]
        },
        {
          "output_type": "error",
          "ename": "KeyboardInterrupt",
          "evalue": "ignored",
          "traceback": [
            "\u001b[0;31m---------------------------------------------------------------------------\u001b[0m",
            "\u001b[0;31mKeyboardInterrupt\u001b[0m                         Traceback (most recent call last)",
            "\u001b[0;32m<ipython-input-25-fc1944c5dfa3>\u001b[0m in \u001b[0;36m<module>\u001b[0;34m()\u001b[0m\n\u001b[0;32m----> 1\u001b[0;31m \u001b[0mmodel\u001b[0m\u001b[0;34m.\u001b[0m\u001b[0mfit\u001b[0m\u001b[0;34m(\u001b[0m\u001b[0mX_train\u001b[0m\u001b[0;34m,\u001b[0m \u001b[0my_train\u001b[0m\u001b[0;34m,\u001b[0m \u001b[0mval_X\u001b[0m \u001b[0;34m=\u001b[0m \u001b[0mX_test\u001b[0m\u001b[0;34m,\u001b[0m \u001b[0mval_y\u001b[0m \u001b[0;34m=\u001b[0m \u001b[0my_test\u001b[0m\u001b[0;34m,\u001b[0m \u001b[0mepochs\u001b[0m\u001b[0;34m=\u001b[0m\u001b[0;36m5\u001b[0m\u001b[0;34m,\u001b[0m \u001b[0mbatch_size\u001b[0m \u001b[0;34m=\u001b[0m \u001b[0;36m128\u001b[0m\u001b[0;34m)\u001b[0m\u001b[0;34m\u001b[0m\u001b[0;34m\u001b[0m\u001b[0m\n\u001b[0m",
            "\u001b[0;32m<ipython-input-23-39155fa2c32f>\u001b[0m in \u001b[0;36mfit\u001b[0;34m(self, df, target, val_X, val_y, epochs, batch_size)\u001b[0m\n\u001b[1;32m     53\u001b[0m         \u001b[0mX\u001b[0m \u001b[0;34m=\u001b[0m \u001b[0mget_tensor\u001b[0m\u001b[0;34m(\u001b[0m\u001b[0mdf\u001b[0m\u001b[0;34m,\u001b[0m \u001b[0mself\u001b[0m\u001b[0;34m.\u001b[0m\u001b[0mfeatures\u001b[0m\u001b[0;34m,\u001b[0m \u001b[0mself\u001b[0m\u001b[0;34m.\u001b[0m\u001b[0msequence_len\u001b[0m\u001b[0;34m)\u001b[0m\u001b[0;34m\u001b[0m\u001b[0;34m\u001b[0m\u001b[0m\n\u001b[1;32m     54\u001b[0m         self.model.fit(X, tf.convert_to_tensor(target, np.float32), validation_data = val_data, epochs=epochs,\n\u001b[0;32m---> 55\u001b[0;31m                        batch_size=batch_size)\n\u001b[0m\u001b[1;32m     56\u001b[0m \u001b[0;34m\u001b[0m\u001b[0m\n\u001b[1;32m     57\u001b[0m     \u001b[0;32mdef\u001b[0m \u001b[0mpredict\u001b[0m\u001b[0;34m(\u001b[0m\u001b[0mself\u001b[0m\u001b[0;34m,\u001b[0m \u001b[0mdf\u001b[0m\u001b[0;34m)\u001b[0m\u001b[0;34m:\u001b[0m\u001b[0;34m\u001b[0m\u001b[0;34m\u001b[0m\u001b[0m\n",
            "\u001b[0;32m/usr/local/lib/python3.7/dist-packages/keras/utils/traceback_utils.py\u001b[0m in \u001b[0;36merror_handler\u001b[0;34m(*args, **kwargs)\u001b[0m\n\u001b[1;32m     62\u001b[0m     \u001b[0mfiltered_tb\u001b[0m \u001b[0;34m=\u001b[0m \u001b[0;32mNone\u001b[0m\u001b[0;34m\u001b[0m\u001b[0;34m\u001b[0m\u001b[0m\n\u001b[1;32m     63\u001b[0m     \u001b[0;32mtry\u001b[0m\u001b[0;34m:\u001b[0m\u001b[0;34m\u001b[0m\u001b[0;34m\u001b[0m\u001b[0m\n\u001b[0;32m---> 64\u001b[0;31m       \u001b[0;32mreturn\u001b[0m \u001b[0mfn\u001b[0m\u001b[0;34m(\u001b[0m\u001b[0;34m*\u001b[0m\u001b[0margs\u001b[0m\u001b[0;34m,\u001b[0m \u001b[0;34m**\u001b[0m\u001b[0mkwargs\u001b[0m\u001b[0;34m)\u001b[0m\u001b[0;34m\u001b[0m\u001b[0;34m\u001b[0m\u001b[0m\n\u001b[0m\u001b[1;32m     65\u001b[0m     \u001b[0;32mexcept\u001b[0m \u001b[0mException\u001b[0m \u001b[0;32mas\u001b[0m \u001b[0me\u001b[0m\u001b[0;34m:\u001b[0m  \u001b[0;31m# pylint: disable=broad-except\u001b[0m\u001b[0;34m\u001b[0m\u001b[0;34m\u001b[0m\u001b[0m\n\u001b[1;32m     66\u001b[0m       \u001b[0mfiltered_tb\u001b[0m \u001b[0;34m=\u001b[0m \u001b[0m_process_traceback_frames\u001b[0m\u001b[0;34m(\u001b[0m\u001b[0me\u001b[0m\u001b[0;34m.\u001b[0m\u001b[0m__traceback__\u001b[0m\u001b[0;34m)\u001b[0m\u001b[0;34m\u001b[0m\u001b[0;34m\u001b[0m\u001b[0m\n",
            "\u001b[0;32m/usr/local/lib/python3.7/dist-packages/keras/engine/training.py\u001b[0m in \u001b[0;36mfit\u001b[0;34m(self, x, y, batch_size, epochs, verbose, callbacks, validation_split, validation_data, shuffle, class_weight, sample_weight, initial_epoch, steps_per_epoch, validation_steps, validation_batch_size, validation_freq, max_queue_size, workers, use_multiprocessing)\u001b[0m\n\u001b[1;32m   1382\u001b[0m                 _r=1):\n\u001b[1;32m   1383\u001b[0m               \u001b[0mcallbacks\u001b[0m\u001b[0;34m.\u001b[0m\u001b[0mon_train_batch_begin\u001b[0m\u001b[0;34m(\u001b[0m\u001b[0mstep\u001b[0m\u001b[0;34m)\u001b[0m\u001b[0;34m\u001b[0m\u001b[0;34m\u001b[0m\u001b[0m\n\u001b[0;32m-> 1384\u001b[0;31m               \u001b[0mtmp_logs\u001b[0m \u001b[0;34m=\u001b[0m \u001b[0mself\u001b[0m\u001b[0;34m.\u001b[0m\u001b[0mtrain_function\u001b[0m\u001b[0;34m(\u001b[0m\u001b[0miterator\u001b[0m\u001b[0;34m)\u001b[0m\u001b[0;34m\u001b[0m\u001b[0;34m\u001b[0m\u001b[0m\n\u001b[0m\u001b[1;32m   1385\u001b[0m               \u001b[0;32mif\u001b[0m \u001b[0mdata_handler\u001b[0m\u001b[0;34m.\u001b[0m\u001b[0mshould_sync\u001b[0m\u001b[0;34m:\u001b[0m\u001b[0;34m\u001b[0m\u001b[0;34m\u001b[0m\u001b[0m\n\u001b[1;32m   1386\u001b[0m                 \u001b[0mcontext\u001b[0m\u001b[0;34m.\u001b[0m\u001b[0masync_wait\u001b[0m\u001b[0;34m(\u001b[0m\u001b[0;34m)\u001b[0m\u001b[0;34m\u001b[0m\u001b[0;34m\u001b[0m\u001b[0m\n",
            "\u001b[0;32m/usr/local/lib/python3.7/dist-packages/tensorflow/python/util/traceback_utils.py\u001b[0m in \u001b[0;36merror_handler\u001b[0;34m(*args, **kwargs)\u001b[0m\n\u001b[1;32m    148\u001b[0m     \u001b[0mfiltered_tb\u001b[0m \u001b[0;34m=\u001b[0m \u001b[0;32mNone\u001b[0m\u001b[0;34m\u001b[0m\u001b[0;34m\u001b[0m\u001b[0m\n\u001b[1;32m    149\u001b[0m     \u001b[0;32mtry\u001b[0m\u001b[0;34m:\u001b[0m\u001b[0;34m\u001b[0m\u001b[0;34m\u001b[0m\u001b[0m\n\u001b[0;32m--> 150\u001b[0;31m       \u001b[0;32mreturn\u001b[0m \u001b[0mfn\u001b[0m\u001b[0;34m(\u001b[0m\u001b[0;34m*\u001b[0m\u001b[0margs\u001b[0m\u001b[0;34m,\u001b[0m \u001b[0;34m**\u001b[0m\u001b[0mkwargs\u001b[0m\u001b[0;34m)\u001b[0m\u001b[0;34m\u001b[0m\u001b[0;34m\u001b[0m\u001b[0m\n\u001b[0m\u001b[1;32m    151\u001b[0m     \u001b[0;32mexcept\u001b[0m \u001b[0mException\u001b[0m \u001b[0;32mas\u001b[0m \u001b[0me\u001b[0m\u001b[0;34m:\u001b[0m\u001b[0;34m\u001b[0m\u001b[0;34m\u001b[0m\u001b[0m\n\u001b[1;32m    152\u001b[0m       \u001b[0mfiltered_tb\u001b[0m \u001b[0;34m=\u001b[0m \u001b[0m_process_traceback_frames\u001b[0m\u001b[0;34m(\u001b[0m\u001b[0me\u001b[0m\u001b[0;34m.\u001b[0m\u001b[0m__traceback__\u001b[0m\u001b[0;34m)\u001b[0m\u001b[0;34m\u001b[0m\u001b[0;34m\u001b[0m\u001b[0m\n",
            "\u001b[0;32m/usr/local/lib/python3.7/dist-packages/tensorflow/python/eager/def_function.py\u001b[0m in \u001b[0;36m__call__\u001b[0;34m(self, *args, **kwds)\u001b[0m\n\u001b[1;32m    913\u001b[0m \u001b[0;34m\u001b[0m\u001b[0m\n\u001b[1;32m    914\u001b[0m       \u001b[0;32mwith\u001b[0m \u001b[0mOptionalXlaContext\u001b[0m\u001b[0;34m(\u001b[0m\u001b[0mself\u001b[0m\u001b[0;34m.\u001b[0m\u001b[0m_jit_compile\u001b[0m\u001b[0;34m)\u001b[0m\u001b[0;34m:\u001b[0m\u001b[0;34m\u001b[0m\u001b[0;34m\u001b[0m\u001b[0m\n\u001b[0;32m--> 915\u001b[0;31m         \u001b[0mresult\u001b[0m \u001b[0;34m=\u001b[0m \u001b[0mself\u001b[0m\u001b[0;34m.\u001b[0m\u001b[0m_call\u001b[0m\u001b[0;34m(\u001b[0m\u001b[0;34m*\u001b[0m\u001b[0margs\u001b[0m\u001b[0;34m,\u001b[0m \u001b[0;34m**\u001b[0m\u001b[0mkwds\u001b[0m\u001b[0;34m)\u001b[0m\u001b[0;34m\u001b[0m\u001b[0;34m\u001b[0m\u001b[0m\n\u001b[0m\u001b[1;32m    916\u001b[0m \u001b[0;34m\u001b[0m\u001b[0m\n\u001b[1;32m    917\u001b[0m       \u001b[0mnew_tracing_count\u001b[0m \u001b[0;34m=\u001b[0m \u001b[0mself\u001b[0m\u001b[0;34m.\u001b[0m\u001b[0mexperimental_get_tracing_count\u001b[0m\u001b[0;34m(\u001b[0m\u001b[0;34m)\u001b[0m\u001b[0;34m\u001b[0m\u001b[0;34m\u001b[0m\u001b[0m\n",
            "\u001b[0;32m/usr/local/lib/python3.7/dist-packages/tensorflow/python/eager/def_function.py\u001b[0m in \u001b[0;36m_call\u001b[0;34m(self, *args, **kwds)\u001b[0m\n\u001b[1;32m    945\u001b[0m       \u001b[0;31m# In this case we have created variables on the first call, so we run the\u001b[0m\u001b[0;34m\u001b[0m\u001b[0;34m\u001b[0m\u001b[0;34m\u001b[0m\u001b[0m\n\u001b[1;32m    946\u001b[0m       \u001b[0;31m# defunned version which is guaranteed to never create variables.\u001b[0m\u001b[0;34m\u001b[0m\u001b[0;34m\u001b[0m\u001b[0;34m\u001b[0m\u001b[0m\n\u001b[0;32m--> 947\u001b[0;31m       \u001b[0;32mreturn\u001b[0m \u001b[0mself\u001b[0m\u001b[0;34m.\u001b[0m\u001b[0m_stateless_fn\u001b[0m\u001b[0;34m(\u001b[0m\u001b[0;34m*\u001b[0m\u001b[0margs\u001b[0m\u001b[0;34m,\u001b[0m \u001b[0;34m**\u001b[0m\u001b[0mkwds\u001b[0m\u001b[0;34m)\u001b[0m  \u001b[0;31m# pylint: disable=not-callable\u001b[0m\u001b[0;34m\u001b[0m\u001b[0;34m\u001b[0m\u001b[0m\n\u001b[0m\u001b[1;32m    948\u001b[0m     \u001b[0;32melif\u001b[0m \u001b[0mself\u001b[0m\u001b[0;34m.\u001b[0m\u001b[0m_stateful_fn\u001b[0m \u001b[0;32mis\u001b[0m \u001b[0;32mnot\u001b[0m \u001b[0;32mNone\u001b[0m\u001b[0;34m:\u001b[0m\u001b[0;34m\u001b[0m\u001b[0;34m\u001b[0m\u001b[0m\n\u001b[1;32m    949\u001b[0m       \u001b[0;31m# Release the lock early so that multiple threads can perform the call\u001b[0m\u001b[0;34m\u001b[0m\u001b[0;34m\u001b[0m\u001b[0;34m\u001b[0m\u001b[0m\n",
            "\u001b[0;32m/usr/local/lib/python3.7/dist-packages/tensorflow/python/eager/function.py\u001b[0m in \u001b[0;36m__call__\u001b[0;34m(self, *args, **kwargs)\u001b[0m\n\u001b[1;32m   2955\u001b[0m        filtered_flat_args) = self._maybe_define_function(args, kwargs)\n\u001b[1;32m   2956\u001b[0m     return graph_function._call_flat(\n\u001b[0;32m-> 2957\u001b[0;31m         filtered_flat_args, captured_inputs=graph_function.captured_inputs)  # pylint: disable=protected-access\n\u001b[0m\u001b[1;32m   2958\u001b[0m \u001b[0;34m\u001b[0m\u001b[0m\n\u001b[1;32m   2959\u001b[0m   \u001b[0;34m@\u001b[0m\u001b[0mproperty\u001b[0m\u001b[0;34m\u001b[0m\u001b[0;34m\u001b[0m\u001b[0m\n",
            "\u001b[0;32m/usr/local/lib/python3.7/dist-packages/tensorflow/python/eager/function.py\u001b[0m in \u001b[0;36m_call_flat\u001b[0;34m(self, args, captured_inputs, cancellation_manager)\u001b[0m\n\u001b[1;32m   1852\u001b[0m       \u001b[0;31m# No tape is watching; skip to running the function.\u001b[0m\u001b[0;34m\u001b[0m\u001b[0;34m\u001b[0m\u001b[0;34m\u001b[0m\u001b[0m\n\u001b[1;32m   1853\u001b[0m       return self._build_call_outputs(self._inference_function.call(\n\u001b[0;32m-> 1854\u001b[0;31m           ctx, args, cancellation_manager=cancellation_manager))\n\u001b[0m\u001b[1;32m   1855\u001b[0m     forward_backward = self._select_forward_and_backward_functions(\n\u001b[1;32m   1856\u001b[0m         \u001b[0margs\u001b[0m\u001b[0;34m,\u001b[0m\u001b[0;34m\u001b[0m\u001b[0;34m\u001b[0m\u001b[0m\n",
            "\u001b[0;32m/usr/local/lib/python3.7/dist-packages/tensorflow/python/eager/function.py\u001b[0m in \u001b[0;36mcall\u001b[0;34m(self, ctx, args, cancellation_manager)\u001b[0m\n\u001b[1;32m    502\u001b[0m               \u001b[0minputs\u001b[0m\u001b[0;34m=\u001b[0m\u001b[0margs\u001b[0m\u001b[0;34m,\u001b[0m\u001b[0;34m\u001b[0m\u001b[0;34m\u001b[0m\u001b[0m\n\u001b[1;32m    503\u001b[0m               \u001b[0mattrs\u001b[0m\u001b[0;34m=\u001b[0m\u001b[0mattrs\u001b[0m\u001b[0;34m,\u001b[0m\u001b[0;34m\u001b[0m\u001b[0;34m\u001b[0m\u001b[0m\n\u001b[0;32m--> 504\u001b[0;31m               ctx=ctx)\n\u001b[0m\u001b[1;32m    505\u001b[0m         \u001b[0;32melse\u001b[0m\u001b[0;34m:\u001b[0m\u001b[0;34m\u001b[0m\u001b[0;34m\u001b[0m\u001b[0m\n\u001b[1;32m    506\u001b[0m           outputs = execute.execute_with_cancellation(\n",
            "\u001b[0;32m/usr/local/lib/python3.7/dist-packages/tensorflow/python/eager/execute.py\u001b[0m in \u001b[0;36mquick_execute\u001b[0;34m(op_name, num_outputs, inputs, attrs, ctx, name)\u001b[0m\n\u001b[1;32m     53\u001b[0m     \u001b[0mctx\u001b[0m\u001b[0;34m.\u001b[0m\u001b[0mensure_initialized\u001b[0m\u001b[0;34m(\u001b[0m\u001b[0;34m)\u001b[0m\u001b[0;34m\u001b[0m\u001b[0;34m\u001b[0m\u001b[0m\n\u001b[1;32m     54\u001b[0m     tensors = pywrap_tfe.TFE_Py_Execute(ctx._handle, device_name, op_name,\n\u001b[0;32m---> 55\u001b[0;31m                                         inputs, attrs, num_outputs)\n\u001b[0m\u001b[1;32m     56\u001b[0m   \u001b[0;32mexcept\u001b[0m \u001b[0mcore\u001b[0m\u001b[0;34m.\u001b[0m\u001b[0m_NotOkStatusException\u001b[0m \u001b[0;32mas\u001b[0m \u001b[0me\u001b[0m\u001b[0;34m:\u001b[0m\u001b[0;34m\u001b[0m\u001b[0;34m\u001b[0m\u001b[0m\n\u001b[1;32m     57\u001b[0m     \u001b[0;32mif\u001b[0m \u001b[0mname\u001b[0m \u001b[0;32mis\u001b[0m \u001b[0;32mnot\u001b[0m \u001b[0;32mNone\u001b[0m\u001b[0;34m:\u001b[0m\u001b[0;34m\u001b[0m\u001b[0;34m\u001b[0m\u001b[0m\n",
            "\u001b[0;31mKeyboardInterrupt\u001b[0m: "
          ]
        }
      ]
    },
    {
      "cell_type": "code",
      "source": [
        "model.model.save('/content/drive/MyDrive/rnn_keras_15f.h5')"
      ],
      "metadata": {
        "id": "EvxRuB_rRyNF"
      },
      "execution_count": null,
      "outputs": []
    },
    {
      "cell_type": "code",
      "source": [
        "y_test = np.array(y_test)\n",
        "y_pred = model.predict(X_test)"
      ],
      "metadata": {
        "id": "3EEdpMA7B3wE"
      },
      "execution_count": null,
      "outputs": []
    },
    {
      "cell_type": "code",
      "source": [
        "rz = np.abs(np.array(np.round(y_pred)) -np.array(y_test))\n",
        "print(np.mean([x <= 0 for x in rz]))\n",
        "print(np.mean([x <= 1 for x in rz]))\n",
        "print(np.mean([x <= 2 for x in rz]))\n",
        "print(np.mean([x <= 3 for x in rz]))"
      ],
      "metadata": {
        "id": "ITRLJ60U7zHO",
        "colab": {
          "base_uri": "https://localhost:8080/"
        },
        "outputId": "578bc340-e338-4811-e50e-a5f491ce8bd3"
      },
      "execution_count": null,
      "outputs": [
        {
          "output_type": "stream",
          "name": "stdout",
          "text": [
            "0.23836354728074474\n",
            "0.6642577168054875\n",
            "0.9116854483096521\n",
            "0.9876898579127878\n"
          ]
        }
      ]
    },
    {
      "cell_type": "code",
      "source": [
        "print(np.mean(rz))"
      ],
      "metadata": {
        "id": "DRHyN4znzGWA",
        "colab": {
          "base_uri": "https://localhost:8080/"
        },
        "outputId": "43b6035f-b7ab-4cc2-894f-d07f760306ee"
      },
      "execution_count": null,
      "outputs": [
        {
          "output_type": "stream",
          "name": "stdout",
          "text": [
            "1.1980034296913278\n"
          ]
        }
      ]
    },
    {
      "cell_type": "code",
      "source": [
        "np.max(y_test)"
      ],
      "metadata": {
        "id": "LHkbcMydCHs2"
      },
      "execution_count": null,
      "outputs": []
    },
    {
      "cell_type": "code",
      "source": [
        "maes = []\n",
        "for rnk in range(-14, 10):\n",
        "  rz = []\n",
        "  for i in range(len(y_test)):\n",
        "    if y_test[i] == rnk:\n",
        "      rz.append(abs(y_pred[i] - y_test[i]))\n",
        "  print('Для ранга ', get_rank_from_int(rnk), ' MAE равно ', np.mean(rz))\n",
        "  maes.append(np.mean(rz))"
      ],
      "metadata": {
        "id": "KKp3T37b82S7"
      },
      "execution_count": null,
      "outputs": []
    },
    {
      "cell_type": "code",
      "source": [
        "from matplotlib import pyplot as plt\n",
        "bins = [i + -4.001 for i in range(9)]\n",
        "plt.figure(figsize=(10, 6))\n",
        "plt.title(\"Распределение значения оценки параметра\")\n",
        "plt.hist(\n",
        "    y_test,\n",
        "    bins = bins,\n",
        "    alpha = 0.6,\n",
        "    color = 'orange',\n",
        "    label = 'Реальное распределение'\n",
        ")\n",
        "plt.hist(\n",
        "    y_pred,\n",
        "    bins = bins,\n",
        "    alpha = 0.6,\n",
        "    color = 'green',\n",
        "    label = 'RNN'\n",
        ")\n",
        "plt.legend()\n",
        "plt.show()"
      ],
      "metadata": {
        "id": "pl3LtcBL8h7w",
        "colab": {
          "base_uri": "https://localhost:8080/",
          "height": 390
        },
        "outputId": "0d1a35be-dbf4-4e84-cd58-07679ffeff73"
      },
      "execution_count": null,
      "outputs": [
        {
          "output_type": "display_data",
          "data": {
            "text/plain": [
              "<Figure size 720x432 with 1 Axes>"
            ],
            "image/png": "[encoded data removed]"
          },
          "metadata": {
            "needs_background": "light"
          }
        }
      ]
    },
    {
      "cell_type": "code",
      "source": [
        "data = pd.read_csv('/content/data.csv')\n",
        "df_to_pred = pd.concat([get_df_with_lists(data.copy(), player='W'), get_df_with_lists(data.copy(), player='B')])"
      ],
      "metadata": {
        "id": "jt9SIGpXMieA"
      },
      "execution_count": null,
      "outputs": []
    },
    {
      "cell_type": "code",
      "source": [
        "from collections import defaultdict\n",
        "\n",
        "model = cb_model\n",
        "df_to_pred[\"prediction\"] = np.array(np.round(model.predict(df_to_pred[feature_to_use])), dtype=\"int32\")\n",
        "\n",
        "games_res = defaultdict(dict)\n",
        "\n",
        "for i, row in tqdm(df_to_pred.iterrows()):\n",
        "    player = player_from_int(row['color'])\n",
        "\n",
        "    games_res[row['game_id']][player + '_real_rating'] = \\\n",
        "        get_rank_from_int(row['rank']) if row['rank'] is not None else None\n",
        "    games_res[row['game_id']][player + '_predicted_rating'] = get_rank_from_int(row['prediction'])\n",
        "    games_res[row['game_id']]['id'] = row['game_id']\n",
        "    games_res[row['game_id']][player + '_nickname'] = row[player + '_nickname']\n",
        "\n",
        "result_df = pd.DataFrame(columns=['game_id', 'W_real_rating', 'B_real_rating', 'W_predicted_rating',\n",
        "                                  'B_predicted_rating', 'W_nickname', 'B_nickname'])\n",
        "for result in games_res.values():\n",
        "    result_df = result_df.append(result, ignore_index=True)\n",
        "result_df.to_csv('/content/result.csv')"
      ],
      "metadata": {
        "id": "8iJs9VXdW6Do"
      },
      "execution_count": null,
      "outputs": []
    },
    {
      "cell_type": "code",
      "source": [
        "result_df.head()"
      ],
      "metadata": {
        "id": "tfMHptUWcQyC"
      },
      "execution_count": null,
      "outputs": []
    },
    {
      "cell_type": "code",
      "source": [
        ""
      ],
      "metadata": {
        "id": "Nlvjg0PSZMFE"
      },
      "execution_count": null,
      "outputs": []
    }
  ],
  "metadata": {
    "accelerator": "GPU",
    "colab": {
      "collapsed_sections": [],
      "name": "All_characteristic_model",
      "provenance": []
    },
    "kernelspec": {
      "display_name": "Python 3",
      "name": "python3"
    },
    "language_info": {
      "name": "python"
    }
  },
  "nbformat": 4,
  "nbformat_minor": 0
}