{
  "cells": [
    {
      "cell_type": "code",
      "execution_count": 1,
      "metadata": {
        "id": "I46krI64XyxR"
      },
      "outputs": [],
      "source": [
        "import numpy as np\n",
        "import pandas as pd\n",
        "from tqdm import tqdm\n",
        "\n",
        "def add_basic_stats(row, moves, pref=\"\"):\n",
        "\n",
        "    row[pref + 'winrate_mean'] = np.mean(moves.winrate_delta)\n",
        "    row[pref + 'score_mean'] = np.mean(moves.score_delta)\n",
        "    row[pref + 'score_var'] = np.var(moves.score_delta)\n",
        "    row[pref + 'selfplay_mean'] = np.mean(moves.selfplay_delta)\n",
        "    row[pref + 'utility_mean'] = np.mean(moves.utility_delta)\n",
        "    row[pref + 'winrate_beauty_percent'] = np.mean([x > 0 for x in moves.winrate_delta])\n",
        "    row[pref + 'score_beauty_percent'] = np.mean([x > 0 for x in moves.score_delta])\n",
        "\n",
        "\n",
        "def add_advanced_stats(row, moves, pref=\"\"):\n",
        "    moves.score_delta.sort()\n",
        "    moves.winrate_delta.sort()\n",
        "\n",
        "    row[pref + 'score25p'] = moves.score_delta[int(moves.cnt_moves * 0.25)]\n",
        "    row[pref + 'score75p'] = moves.score_delta[int(moves.cnt_moves * 0.75)]\n",
        "    row[pref + 'score_max'] = np.max(moves.score_delta)\n",
        "    row[pref + 'score_min'] = np.min(moves.score_delta)\n",
        "    row[pref + 'winrate25p'] = moves.winrate_delta[int(moves.cnt_moves * 0.25)]\n",
        "    row[pref + 'winrate75p'] = moves.winrate_delta[int(moves.cnt_moves * 0.75)]\n",
        "\n",
        "    row[pref + 'score_five_best_mean'] = np.mean(moves.score_delta[-5:])\n",
        "    row[pref + 'score_five_worst_mean'] = np.mean(moves.score_delta[:5])\n",
        "\n",
        "    row[pref + 'stddev_last'] = moves.stddev_delta[-1]\n",
        "    moves.stddev_delta.sort()\n",
        "    row[pref + 'stddev_mean'] = np.mean(moves.stddev_delta)\n",
        "    row[pref + 'stddev50p'] = moves.stddev_delta[int(moves.cnt_moves * 0.5)]\n",
        "\n",
        "    row[pref + 'score50p'] = moves.score_delta[int(moves.cnt_moves * 0.5)]\n",
        "\n",
        "    row[pref + 'winrate_midmean'] = np.mean(\n",
        "        moves.winrate_delta[int(moves.cnt_moves * 0.25):int(moves.cnt_moves * 0.75)])\n",
        "    row[pref + 'score_midmean'] = np.mean(moves.score_delta[int(moves.cnt_moves * 0.25):int(moves.cnt_moves * 0.75)])\n",
        "\n",
        "\n",
        "def get_index_dan(rank):\n",
        "  for i in range(len(rank)):\n",
        "    if rank[i] in ['k', 'd']:\n",
        "      return i\n",
        "  return -1\n",
        "\n",
        "\n",
        "def get_int_from_rank(rank):\n",
        "    ind = get_index_dan(rank)\n",
        "    if ind < 0 or rank[0] == 'P' or not rank[:ind].isdigit():\n",
        "        return None\n",
        "    if rank[ind] == 'k':\n",
        "        return -int(rank[:ind]) + 1\n",
        "    else:\n",
        "        return int(rank[:ind])\n",
        "\n",
        "\n",
        "def get_rank_from_int(x):\n",
        "    if x > 0:\n",
        "        return str(x) + \"d\"\n",
        "    else:\n",
        "        return str(-x + 1) + \"k\"\n",
        "\n",
        "\n",
        "def int_from_player(player):\n",
        "    return int(player == 'W')\n",
        "\n",
        "\n",
        "def player_from_int(x):\n",
        "    return 'W' if x == 1 else 'B'\n",
        "\n",
        "\n",
        "def add_meta(row, player='W'):\n",
        "    if row['Result'] == '?':\n",
        "        row['game_result'] = 0\n",
        "    else:\n",
        "        row['game_result'] = int(row['Result'])\n",
        "        if player == 'B':\n",
        "            row['game_result'] = -row['game_result']\n",
        "    row['color'] = int_from_player(player)\n",
        "    row['rank'] = get_int_from_rank(row[player + '_rating'])\n",
        "    row['game_length'] = len(row['W_move']) + len(row['B_move'])\n",
        "\n",
        "\n",
        "def convert_to_lists(df):\n",
        "    for i, row in tqdm(df.iterrows()):\n",
        "        row['kek'] = i\n",
        "        row['W_scoreLead'] = [float(x) for x in row['W_scoreLead'].split()]\n",
        "        row['B_scoreLead'] = [float(x) for x in row['B_scoreLead'].split()]\n",
        "        row['W_scoreSelfplay'] = [float(x) for x in row['W_scoreSelfplay'].split()]\n",
        "        row['B_scoreSelfplay'] = [float(x) for x in row['B_scoreSelfplay'].split()]\n",
        "        row['W_scoreStdev'] = [float(x) for x in row['W_scoreStdev'].split()]\n",
        "        row['B_scoreStdev'] = [float(x) for x in row['B_scoreStdev'].split()]\n",
        "        row['W_utility'] = [float(x) for x in row['W_utility'].split()]\n",
        "        row['B_utility'] = [float(x) for x in row['B_utility'].split()]\n",
        "        row['W_winrate'] = [float(x) for x in row['W_winrate'].split()]\n",
        "        row['B_winrate'] = [float(x) for x in row['B_winrate'].split()]\n",
        "        df.loc[i] = row\n",
        "\n",
        "class MovesInfo:\n",
        "    def __init__(self, row, n_moves=None, player='W'):\n",
        "        enemy = 'B' if player == 'W' else 'W'\n",
        "        if player == 'B':\n",
        "            moves_len = min(len(row['B_winrate']), len(row['W_winrate']) + 1)\n",
        "        else:\n",
        "            moves_len = min(len(row['W_winrate']), len(row['B_winrate']))\n",
        "\n",
        "        if n_moves is None:\n",
        "            start_ind = 0\n",
        "        else:\n",
        "            start_ind = max(moves_len - n_moves - 1, 0)\n",
        "\n",
        "        end_ind = moves_len\n",
        "        w_0 = []\n",
        "        sc_0 = []\n",
        "        ut_0 = []\n",
        "        std_0 = []\n",
        "        sf_0 = []\n",
        "        if player == 'B':\n",
        "            if start_ind == 0:\n",
        "                w_0 = [0.475]\n",
        "                sc_0 = [0.]\n",
        "                ut_0 = [0.]\n",
        "                std_0 = [19. - 0.07666535852999867 * 2]\n",
        "                sf_0 = [0.]\n",
        "            else:\n",
        "                w_0 = [row[enemy + '_winrate'][start_ind - 1]]\n",
        "\n",
        "                sc_0 = [row[enemy + '_scoreLead'][start_ind - 1]]\n",
        "                ut_0 = [row[enemy + '_utility'][start_ind - 1]]\n",
        "                std_0 = [row[enemy + '_scoreStdev'][start_ind - 1]]\n",
        "                sf_0 = [row[enemy + '_scoreSelfplay'][start_ind - 1]]\n",
        "        self.winrate_delta = np.array(row[player + '_winrate'][start_ind:end_ind]) - np.array(\n",
        "            (w_0 + row[enemy + '_winrate'])[start_ind:end_ind])\n",
        "        self.score_delta = np.array(row[player + '_scoreLead'][start_ind:end_ind]) - np.array(\n",
        "            (sc_0 + row[enemy + '_scoreLead'])[start_ind:end_ind])\n",
        "        self.utility_delta = np.array(row[player + '_utility'][start_ind:end_ind]) - np.array(\n",
        "            (ut_0 + row[enemy + '_utility'])[start_ind:end_ind])\n",
        "        self.selfplay_delta = np.array(row[player + '_scoreSelfplay'][start_ind:end_ind]) - np.array(\n",
        "            (sf_0 + row[enemy + '_scoreSelfplay'])[start_ind:end_ind])\n",
        "        self.stddev_delta = np.array(row[player + '_scoreStdev'][start_ind:end_ind]) - np.array(\n",
        "            (std_0 + row[enemy + '_scoreStdev'])[start_ind:end_ind])\n",
        "\n",
        "        if player == 'B':\n",
        "            self.winrate_delta = -self.winrate_delta\n",
        "            self.score_delta = -self.score_delta\n",
        "            self.utility_delta = -self.utility_delta\n",
        "            self.selfplay_delta = -self.selfplay_delta\n",
        "\n",
        "        self.move = row[player + '_move'].split()\n",
        "        self.cnt_moves = end_ind - start_ind\n",
        "\n",
        "\n",
        "def add_all_game_stats(df, player = 'W'):\n",
        "    df['winrate_mean'] = None\n",
        "    df['score_midmean'] = None\n",
        "    df['score_mean'] = None\n",
        "    df['score_var'] = None\n",
        "    df['winrate_beauty_percent'] = None\n",
        "    df['score_beauty_percent'] = None\n",
        "    df['utility_mean'] = None\n",
        "    df['score25p'] = None\n",
        "    df['score75p'] = None\n",
        "    df['winrate25p'] = None\n",
        "    df['winrate75p'] = None\n",
        "    df['winrate_midmean'] = None\n",
        "    df['score50p'] = None\n",
        "    df['game_length'] = None\n",
        "    df['rank'] = None\n",
        "    df['color'] = None\n",
        "    df['game_result'] = None\n",
        "    df['selfplay_mean'] = None\n",
        "    df['stddev_mean'] = None\n",
        "    df['stddev50p'] = None\n",
        "    df['stddev_last'] = None\n",
        "    df['score_max'] = None\n",
        "    df['score_min'] = None\n",
        "    df['score_five_best_mean'] = None\n",
        "    df['score_five_worst_mean'] = None\n",
        "\n",
        "    for i, row in tqdm(df.iterrows()):\n",
        "        add_meta(row, player=player)\n",
        "        add_basic_stats(row, MovesInfo(row, player=player))\n",
        "        add_advanced_stats(row, MovesInfo(row, player=player))\n",
        "        df.loc[i] = row\n",
        "\n",
        "\n",
        "def get_start_of_yose(margin_moves, no_change_count=5):\n",
        "    '''\n",
        "    Находим сколько последних ходов мы будем считать что это йосе\n",
        "\n",
        "    Будем идти с конца по массиву количества ходов на краю, если в массиве no_change_count одинаковых чисел,\n",
        "    то мы останавливаемся и говорим, что тут началось йосе\n",
        "    '''\n",
        "    no_change = 1\n",
        "    ans = len(margin_moves)\n",
        "    for i in range(len(margin_moves) - 2, -1, -1):\n",
        "        if margin_moves[i] == margin_moves[i + 1]:\n",
        "            no_change += 1\n",
        "        else:\n",
        "            no_change = 1\n",
        "        if no_change >= no_change_count:\n",
        "            ans = len(margin_moves) - i - 1\n",
        "            break\n",
        "    return ans\n",
        "\n",
        "\n",
        "def reset_basic_stats(df, pref):\n",
        "    df[pref + 'winrate_mean'] = None\n",
        "    df[pref + 'winrate_beauty_percent'] = None\n",
        "    df[pref + 'score_beauty_percent'] = None\n",
        "    df[pref + 'score_mean'] = None\n",
        "    df[pref + 'selfplay_mean'] = None\n",
        "    df[pref + 'score_var'] = None\n",
        "    df[pref + 'utility_mean'] = None\n",
        "\n",
        "\n",
        "def is_marginal_move(move):\n",
        "    return (move[0] == 'a' or move[0] == 'b') or (move[0] == 'r' or move[0] == 's') or \\\n",
        "           (move[1] == 'a' or move[1] == 'b') or (move[1] == 'r' or move[1] == 's')\n",
        "\n",
        "\n",
        "def count_of_marginal_moves(moves):\n",
        "    ans = np.zeros(len(moves))\n",
        "    for i in range(len(moves)):\n",
        "        ans[i] = is_marginal_move(moves[i])\n",
        "    ans = np.cumsum(ans)\n",
        "    return ans\n",
        "\n",
        "\n",
        "def add_yose_stats(df, player = 'W'):\n",
        "    pref = 'yose_'\n",
        "    reset_basic_stats(df, pref)\n",
        "    df['yose_length'] = None\n",
        "    df['yose_start'] = None\n",
        "    df['yose_has'] = None\n",
        "    for i, row in tqdm(df.iterrows()):\n",
        "        marginal_moves = count_of_marginal_moves(row['W_move'].split())\n",
        "        n_moves = get_start_of_yose(marginal_moves, 10)\n",
        "        add_basic_stats(row, MovesInfo(row, n_moves, player=player), pref)\n",
        "        row['yose_length'] = n_moves\n",
        "        row['yose_start'] = len(row['W_move'].split()) - n_moves\n",
        "        row['yose_has'] = row['yose_start'] != 0\n",
        "        df.loc[i] = row\n",
        "\n",
        "\n",
        "def delta_moves(a, b):\n",
        "    return abs(ord(a[0]) - ord(b[0])) + abs(ord(a[1]) - ord(b[1]))\n",
        "\n",
        "\n",
        "def get_distance_of_moves(moves):\n",
        "    ans = np.zeros(len(moves) - 1)\n",
        "    for i in range(1, len(moves)):\n",
        "        ans[i - 1] = delta_moves(moves[i], moves[i - 1])\n",
        "    return ans\n",
        "\n",
        "\n",
        "def get_distance_from_enemy(my_moves, enemy_moves):\n",
        "    ans = np.zeros(min(len(my_moves), len(enemy_moves)))\n",
        "    for i in range(min(len(my_moves), len(enemy_moves))):\n",
        "        ans[i] = delta_moves(my_moves[i], enemy_moves[i])\n",
        "    return ans\n",
        "\n",
        "\n",
        "def add_last_moves_stats(df, n_moves, pref=None, player='W'):\n",
        "    if pref is None:\n",
        "        pref = str(n_moves) + \"_\"\n",
        "    reset_basic_stats(df, pref)\n",
        "    for i, row in tqdm(df.iterrows()):\n",
        "        add_basic_stats(row, MovesInfo(row, n_moves, player=player), pref)\n",
        "        df.loc[i] = row\n",
        "\n",
        "\n",
        "def add_dist_stats_to_row(row, player='W'):\n",
        "    enemy = 'W' if player == 'B' else 'W'\n",
        "    dist = get_distance_of_moves(row[player+'_move'].split())\n",
        "    dist_enemy = get_distance_from_enemy(row[player + '_move'].split(), row[enemy + '_move'].split())\n",
        "    dist.sort()\n",
        "\n",
        "    row['dist_mean'] = np.mean(dist)\n",
        "    row['dist_var'] = np.var(dist)\n",
        "    row['dist_median'] = dist[len(dist) // 2]\n",
        "    row['dist_percent_more_than_10'] = np.mean([x > 10 for x in dist])\n",
        "    row['dist_percent_more_than_5'] = np.mean([x > 5 for x in dist])\n",
        "    row['dist_percent_more_than_20'] = np.mean([x > 20 for x in dist])\n",
        "\n",
        "    row['dist_from_enemy_mean'] = np.mean(dist_enemy)\n",
        "    row['dist_from_enemy_var'] = np.var(dist_enemy)\n",
        "\n",
        "\n",
        "def add_dist_stats(df, player='W'):\n",
        "    df['dist_mean'] = None\n",
        "    df['dist_var'] = None\n",
        "    df['dist_median'] = None\n",
        "    df['dist_percent_more_than_5'] = None\n",
        "    df['dist_percent_more_than_10'] = None\n",
        "    df['dist_percent_more_than_20'] = None\n",
        "\n",
        "    df['dist_from_enemy_mean'] = None\n",
        "    df['dist_from_enemy_var'] = None\n",
        "\n",
        "    for i, row in tqdm(df.iterrows()):\n",
        "       if len(row['W_move']) > 20:\n",
        "        add_dist_stats_to_row(row, player=player)\n",
        "        df.loc[i] = row\n",
        "\n",
        "\n",
        "def delete_non_scalar_parameters(df):\n",
        "    df.drop(['W_rating', 'B_rating', 'W_move', 'B_move', 'W_scoreLead', 'B_scoreLead', 'W_scoreSelfplay',\n",
        "             'B_scoreSelfplay', 'W_scoreStdev', 'B_scoreStdev', 'W_utility', 'B_utility',\n",
        "             'W_winrate', 'B_winrate', 'Result'], axis=1, inplace=True)\n",
        "\n",
        "\n",
        "def add_delta_lists_to_row(row, moves, player = 'W'):\n",
        "    row['winrate'] = moves.winrate_delta\n",
        "    row['score'] = moves.score_delta\n",
        "    row['winrate_sqr'] = np.array([x ** 2 for x  in moves.winrate_delta])\n",
        "    row['score_sqr'] = np.array([x ** 2 for x  in moves.score_delta])\n",
        "    row['utility'] = moves.utility_delta\n",
        "    row['selfplay'] = moves.selfplay_delta\n",
        "    row['stddev'] = moves.stddev_delta\n",
        "    row['dist_from_prev'] = get_distance_of_moves(moves.move)\n",
        "    row['dist_more_5'] = [int(x > 5) + 1 for x in row['dist_from_prev']]\n",
        "    enemy = 'B' if player == 'W' else 'W'\n",
        "    row['dist_enemy'] = get_distance_from_enemy(row[player + '_move'].split(), row[enemy + '_move'].split())\n",
        "\n",
        "\n",
        "def add_lists_to_df(df, player='W'):\n",
        "    df['winrate'] = None\n",
        "    df['score'] = None\n",
        "    df['utility'] = None\n",
        "    df['selfplay'] = None\n",
        "    df['stddev'] = None\n",
        "    df['dist_from_prev'] = None\n",
        "    df['rank'] = None\n",
        "    df['color'] = None\n",
        "    df['game_length'] = None\n",
        "    df['score_sqr'] = None\n",
        "    df['winrate_sqr'] = None\n",
        "    df['dist_more_5'] = None\n",
        "    df['dist_enemy'] = None\n",
        "    for i, row in tqdm(df.iterrows()):\n",
        "        add_meta(row, player)\n",
        "        add_delta_lists_to_row(row, MovesInfo(row, player=player))\n",
        "        df.loc[i] = row\n",
        "\n",
        "\n",
        "def get_feature_df(df, player='W'):\n",
        "    convert_to_lists(df)\n",
        "    add_all_game_stats(df, player)\n",
        "    add_yose_stats(df, player)\n",
        "    add_last_moves_stats(df, 10, player)\n",
        "    add_last_moves_stats(df, 20, player)\n",
        "    add_dist_stats(df, player)\n",
        "    delete_non_scalar_parameters(df)\n",
        "    return df\n",
        "\n",
        "def add_meta_to_df(df, player='W'):\n",
        "    df['rank'] = None\n",
        "    df['color'] = None\n",
        "    df['game_length'] = None\n",
        "    for i, row in tqdm(df.iterrows()):\n",
        "        try:\n",
        "            add_meta(row, player)\n",
        "            df.loc[i] = row\n",
        "        except Exception as e:\n",
        "            print(e)\n",
        "            df = df.drop(index=[i])\n",
        "\n",
        "def get_df_with_lists(df, player='W'):\n",
        "    add_meta_to_df(df, player)\n",
        "    df = df[df['game_length'] >= 40]\n",
        "    convert_to_lists(df)\n",
        "    add_all_game_stats(df, player)\n",
        "    #add_last_moves_stats(df, 20, player = player)\n",
        "    #add_dist_stats(df, player)\n",
        "    add_lists_to_df(df, player)\n",
        "    #delete_non_scalar_parameters(df)\n",
        "    return df\n"
      ]
    },
    {
      "cell_type": "code",
      "execution_count": 2,
      "metadata": {
        "id": "yoszmmGtX9Bo",
        "colab": {
          "base_uri": "https://localhost:8080/"
        },
        "outputId": "eeb05a7b-1e4c-4c04-fbd5-db7ce94f926a"
      },
      "outputs": [
        {
          "output_type": "stream",
          "name": "stdout",
          "text": [
            "Mounted at /content/drive\n"
          ]
        }
      ],
      "source": [
        "from google.colab import drive\n",
        "drive.mount('/content/drive')\n",
        "katago = pd.read_csv('/content/drive/MyDrive/GO_dataset_after_script/15k-9d/data.csv')[-80000:]\n",
        "katago.dropna(how = 'any', inplace= True)"
      ]
    },
    {
      "cell_type": "code",
      "source": [
        "katago.dropna(how = 'any', inplace= True)"
      ],
      "metadata": {
        "id": "cnDjFFglkjSI"
      },
      "execution_count": 3,
      "outputs": []
    },
    {
      "cell_type": "code",
      "execution_count": 4,
      "metadata": {
        "id": "MjH7VjZkfGvV",
        "colab": {
          "base_uri": "https://localhost:8080/"
        },
        "outputId": "3ece2dc3-86bb-4cae-8093-a9fdb3a583a3"
      },
      "outputs": [
        {
          "output_type": "stream",
          "name": "stderr",
          "text": [
            "79658it [02:12, 599.82it/s]\n",
            "0it [00:00, ?it/s]/usr/local/lib/python3.7/dist-packages/pandas/core/indexing.py:1732: SettingWithCopyWarning: \n",
            "A value is trying to be set on a copy of a slice from a DataFrame\n",
            "\n",
            "See the caveats in the documentation: https://pandas.pydata.org/pandas-docs/stable/user_guide/indexing.html#returning-a-view-versus-a-copy\n",
            "  self._setitem_single_block(indexer, value, name)\n",
            "/usr/local/lib/python3.7/dist-packages/pandas/core/indexing.py:723: SettingWithCopyWarning: \n",
            "A value is trying to be set on a copy of a slice from a DataFrame\n",
            "\n",
            "See the caveats in the documentation: https://pandas.pydata.org/pandas-docs/stable/user_guide/indexing.html#returning-a-view-versus-a-copy\n",
            "  iloc._setitem_with_indexer(indexer, value, self.name)\n",
            "79615it [02:36, 509.30it/s]\n",
            "/usr/local/lib/python3.7/dist-packages/ipykernel_launcher.py:156: SettingWithCopyWarning: \n",
            "A value is trying to be set on a copy of a slice from a DataFrame.\n",
            "Try using .loc[row_indexer,col_indexer] = value instead\n",
            "\n",
            "See the caveats in the documentation: https://pandas.pydata.org/pandas-docs/stable/user_guide/indexing.html#returning-a-view-versus-a-copy\n",
            "/usr/local/lib/python3.7/dist-packages/ipykernel_launcher.py:157: SettingWithCopyWarning: \n",
            "A value is trying to be set on a copy of a slice from a DataFrame.\n",
            "Try using .loc[row_indexer,col_indexer] = value instead\n",
            "\n",
            "See the caveats in the documentation: https://pandas.pydata.org/pandas-docs/stable/user_guide/indexing.html#returning-a-view-versus-a-copy\n",
            "/usr/local/lib/python3.7/dist-packages/ipykernel_launcher.py:158: SettingWithCopyWarning: \n",
            "A value is trying to be set on a copy of a slice from a DataFrame.\n",
            "Try using .loc[row_indexer,col_indexer] = value instead\n",
            "\n",
            "See the caveats in the documentation: https://pandas.pydata.org/pandas-docs/stable/user_guide/indexing.html#returning-a-view-versus-a-copy\n",
            "/usr/local/lib/python3.7/dist-packages/ipykernel_launcher.py:159: SettingWithCopyWarning: \n",
            "A value is trying to be set on a copy of a slice from a DataFrame.\n",
            "Try using .loc[row_indexer,col_indexer] = value instead\n",
            "\n",
            "See the caveats in the documentation: https://pandas.pydata.org/pandas-docs/stable/user_guide/indexing.html#returning-a-view-versus-a-copy\n",
            "/usr/local/lib/python3.7/dist-packages/ipykernel_launcher.py:160: SettingWithCopyWarning: \n",
            "A value is trying to be set on a copy of a slice from a DataFrame.\n",
            "Try using .loc[row_indexer,col_indexer] = value instead\n",
            "\n",
            "See the caveats in the documentation: https://pandas.pydata.org/pandas-docs/stable/user_guide/indexing.html#returning-a-view-versus-a-copy\n",
            "/usr/local/lib/python3.7/dist-packages/ipykernel_launcher.py:161: SettingWithCopyWarning: \n",
            "A value is trying to be set on a copy of a slice from a DataFrame.\n",
            "Try using .loc[row_indexer,col_indexer] = value instead\n",
            "\n",
            "See the caveats in the documentation: https://pandas.pydata.org/pandas-docs/stable/user_guide/indexing.html#returning-a-view-versus-a-copy\n",
            "/usr/local/lib/python3.7/dist-packages/ipykernel_launcher.py:162: SettingWithCopyWarning: \n",
            "A value is trying to be set on a copy of a slice from a DataFrame.\n",
            "Try using .loc[row_indexer,col_indexer] = value instead\n",
            "\n",
            "See the caveats in the documentation: https://pandas.pydata.org/pandas-docs/stable/user_guide/indexing.html#returning-a-view-versus-a-copy\n",
            "/usr/local/lib/python3.7/dist-packages/ipykernel_launcher.py:163: SettingWithCopyWarning: \n",
            "A value is trying to be set on a copy of a slice from a DataFrame.\n",
            "Try using .loc[row_indexer,col_indexer] = value instead\n",
            "\n",
            "See the caveats in the documentation: https://pandas.pydata.org/pandas-docs/stable/user_guide/indexing.html#returning-a-view-versus-a-copy\n",
            "/usr/local/lib/python3.7/dist-packages/ipykernel_launcher.py:164: SettingWithCopyWarning: \n",
            "A value is trying to be set on a copy of a slice from a DataFrame.\n",
            "Try using .loc[row_indexer,col_indexer] = value instead\n",
            "\n",
            "See the caveats in the documentation: https://pandas.pydata.org/pandas-docs/stable/user_guide/indexing.html#returning-a-view-versus-a-copy\n",
            "/usr/local/lib/python3.7/dist-packages/ipykernel_launcher.py:165: SettingWithCopyWarning: \n",
            "A value is trying to be set on a copy of a slice from a DataFrame.\n",
            "Try using .loc[row_indexer,col_indexer] = value instead\n",
            "\n",
            "See the caveats in the documentation: https://pandas.pydata.org/pandas-docs/stable/user_guide/indexing.html#returning-a-view-versus-a-copy\n",
            "/usr/local/lib/python3.7/dist-packages/ipykernel_launcher.py:166: SettingWithCopyWarning: \n",
            "A value is trying to be set on a copy of a slice from a DataFrame.\n",
            "Try using .loc[row_indexer,col_indexer] = value instead\n",
            "\n",
            "See the caveats in the documentation: https://pandas.pydata.org/pandas-docs/stable/user_guide/indexing.html#returning-a-view-versus-a-copy\n",
            "/usr/local/lib/python3.7/dist-packages/ipykernel_launcher.py:167: SettingWithCopyWarning: \n",
            "A value is trying to be set on a copy of a slice from a DataFrame.\n",
            "Try using .loc[row_indexer,col_indexer] = value instead\n",
            "\n",
            "See the caveats in the documentation: https://pandas.pydata.org/pandas-docs/stable/user_guide/indexing.html#returning-a-view-versus-a-copy\n",
            "/usr/local/lib/python3.7/dist-packages/ipykernel_launcher.py:168: SettingWithCopyWarning: \n",
            "A value is trying to be set on a copy of a slice from a DataFrame.\n",
            "Try using .loc[row_indexer,col_indexer] = value instead\n",
            "\n",
            "See the caveats in the documentation: https://pandas.pydata.org/pandas-docs/stable/user_guide/indexing.html#returning-a-view-versus-a-copy\n",
            "/usr/local/lib/python3.7/dist-packages/ipykernel_launcher.py:169: SettingWithCopyWarning: \n",
            "A value is trying to be set on a copy of a slice from a DataFrame.\n",
            "Try using .loc[row_indexer,col_indexer] = value instead\n",
            "\n",
            "See the caveats in the documentation: https://pandas.pydata.org/pandas-docs/stable/user_guide/indexing.html#returning-a-view-versus-a-copy\n",
            "/usr/local/lib/python3.7/dist-packages/ipykernel_launcher.py:170: SettingWithCopyWarning: \n",
            "A value is trying to be set on a copy of a slice from a DataFrame.\n",
            "Try using .loc[row_indexer,col_indexer] = value instead\n",
            "\n",
            "See the caveats in the documentation: https://pandas.pydata.org/pandas-docs/stable/user_guide/indexing.html#returning-a-view-versus-a-copy\n",
            "/usr/local/lib/python3.7/dist-packages/ipykernel_launcher.py:171: SettingWithCopyWarning: \n",
            "A value is trying to be set on a copy of a slice from a DataFrame.\n",
            "Try using .loc[row_indexer,col_indexer] = value instead\n",
            "\n",
            "See the caveats in the documentation: https://pandas.pydata.org/pandas-docs/stable/user_guide/indexing.html#returning-a-view-versus-a-copy\n",
            "/usr/local/lib/python3.7/dist-packages/ipykernel_launcher.py:172: SettingWithCopyWarning: \n",
            "A value is trying to be set on a copy of a slice from a DataFrame.\n",
            "Try using .loc[row_indexer,col_indexer] = value instead\n",
            "\n",
            "See the caveats in the documentation: https://pandas.pydata.org/pandas-docs/stable/user_guide/indexing.html#returning-a-view-versus-a-copy\n",
            "/usr/local/lib/python3.7/dist-packages/ipykernel_launcher.py:173: SettingWithCopyWarning: \n",
            "A value is trying to be set on a copy of a slice from a DataFrame.\n",
            "Try using .loc[row_indexer,col_indexer] = value instead\n",
            "\n",
            "See the caveats in the documentation: https://pandas.pydata.org/pandas-docs/stable/user_guide/indexing.html#returning-a-view-versus-a-copy\n",
            "/usr/local/lib/python3.7/dist-packages/ipykernel_launcher.py:174: SettingWithCopyWarning: \n",
            "A value is trying to be set on a copy of a slice from a DataFrame.\n",
            "Try using .loc[row_indexer,col_indexer] = value instead\n",
            "\n",
            "See the caveats in the documentation: https://pandas.pydata.org/pandas-docs/stable/user_guide/indexing.html#returning-a-view-versus-a-copy\n",
            "/usr/local/lib/python3.7/dist-packages/ipykernel_launcher.py:175: SettingWithCopyWarning: \n",
            "A value is trying to be set on a copy of a slice from a DataFrame.\n",
            "Try using .loc[row_indexer,col_indexer] = value instead\n",
            "\n",
            "See the caveats in the documentation: https://pandas.pydata.org/pandas-docs/stable/user_guide/indexing.html#returning-a-view-versus-a-copy\n",
            "/usr/local/lib/python3.7/dist-packages/ipykernel_launcher.py:176: SettingWithCopyWarning: \n",
            "A value is trying to be set on a copy of a slice from a DataFrame.\n",
            "Try using .loc[row_indexer,col_indexer] = value instead\n",
            "\n",
            "See the caveats in the documentation: https://pandas.pydata.org/pandas-docs/stable/user_guide/indexing.html#returning-a-view-versus-a-copy\n",
            "/usr/local/lib/python3.7/dist-packages/ipykernel_launcher.py:177: SettingWithCopyWarning: \n",
            "A value is trying to be set on a copy of a slice from a DataFrame.\n",
            "Try using .loc[row_indexer,col_indexer] = value instead\n",
            "\n",
            "See the caveats in the documentation: https://pandas.pydata.org/pandas-docs/stable/user_guide/indexing.html#returning-a-view-versus-a-copy\n",
            "/usr/local/lib/python3.7/dist-packages/ipykernel_launcher.py:178: SettingWithCopyWarning: \n",
            "A value is trying to be set on a copy of a slice from a DataFrame.\n",
            "Try using .loc[row_indexer,col_indexer] = value instead\n",
            "\n",
            "See the caveats in the documentation: https://pandas.pydata.org/pandas-docs/stable/user_guide/indexing.html#returning-a-view-versus-a-copy\n",
            "/usr/local/lib/python3.7/dist-packages/ipykernel_launcher.py:179: SettingWithCopyWarning: \n",
            "A value is trying to be set on a copy of a slice from a DataFrame.\n",
            "Try using .loc[row_indexer,col_indexer] = value instead\n",
            "\n",
            "See the caveats in the documentation: https://pandas.pydata.org/pandas-docs/stable/user_guide/indexing.html#returning-a-view-versus-a-copy\n",
            "/usr/local/lib/python3.7/dist-packages/ipykernel_launcher.py:180: SettingWithCopyWarning: \n",
            "A value is trying to be set on a copy of a slice from a DataFrame.\n",
            "Try using .loc[row_indexer,col_indexer] = value instead\n",
            "\n",
            "See the caveats in the documentation: https://pandas.pydata.org/pandas-docs/stable/user_guide/indexing.html#returning-a-view-versus-a-copy\n",
            "79615it [02:14, 590.79it/s]\n",
            "/usr/local/lib/python3.7/dist-packages/ipykernel_launcher.py:329: SettingWithCopyWarning: \n",
            "A value is trying to be set on a copy of a slice from a DataFrame.\n",
            "Try using .loc[row_indexer,col_indexer] = value instead\n",
            "\n",
            "See the caveats in the documentation: https://pandas.pydata.org/pandas-docs/stable/user_guide/indexing.html#returning-a-view-versus-a-copy\n",
            "/usr/local/lib/python3.7/dist-packages/ipykernel_launcher.py:330: SettingWithCopyWarning: \n",
            "A value is trying to be set on a copy of a slice from a DataFrame.\n",
            "Try using .loc[row_indexer,col_indexer] = value instead\n",
            "\n",
            "See the caveats in the documentation: https://pandas.pydata.org/pandas-docs/stable/user_guide/indexing.html#returning-a-view-versus-a-copy\n",
            "/usr/local/lib/python3.7/dist-packages/ipykernel_launcher.py:331: SettingWithCopyWarning: \n",
            "A value is trying to be set on a copy of a slice from a DataFrame.\n",
            "Try using .loc[row_indexer,col_indexer] = value instead\n",
            "\n",
            "See the caveats in the documentation: https://pandas.pydata.org/pandas-docs/stable/user_guide/indexing.html#returning-a-view-versus-a-copy\n",
            "/usr/local/lib/python3.7/dist-packages/ipykernel_launcher.py:332: SettingWithCopyWarning: \n",
            "A value is trying to be set on a copy of a slice from a DataFrame.\n",
            "Try using .loc[row_indexer,col_indexer] = value instead\n",
            "\n",
            "See the caveats in the documentation: https://pandas.pydata.org/pandas-docs/stable/user_guide/indexing.html#returning-a-view-versus-a-copy\n",
            "/usr/local/lib/python3.7/dist-packages/ipykernel_launcher.py:333: SettingWithCopyWarning: \n",
            "A value is trying to be set on a copy of a slice from a DataFrame.\n",
            "Try using .loc[row_indexer,col_indexer] = value instead\n",
            "\n",
            "See the caveats in the documentation: https://pandas.pydata.org/pandas-docs/stable/user_guide/indexing.html#returning-a-view-versus-a-copy\n",
            "/usr/local/lib/python3.7/dist-packages/ipykernel_launcher.py:334: SettingWithCopyWarning: \n",
            "A value is trying to be set on a copy of a slice from a DataFrame.\n",
            "Try using .loc[row_indexer,col_indexer] = value instead\n",
            "\n",
            "See the caveats in the documentation: https://pandas.pydata.org/pandas-docs/stable/user_guide/indexing.html#returning-a-view-versus-a-copy\n",
            "/usr/local/lib/python3.7/dist-packages/ipykernel_launcher.py:335: SettingWithCopyWarning: \n",
            "A value is trying to be set on a copy of a slice from a DataFrame.\n",
            "Try using .loc[row_indexer,col_indexer] = value instead\n",
            "\n",
            "See the caveats in the documentation: https://pandas.pydata.org/pandas-docs/stable/user_guide/indexing.html#returning-a-view-versus-a-copy\n",
            "/usr/local/lib/python3.7/dist-packages/ipykernel_launcher.py:336: SettingWithCopyWarning: \n",
            "A value is trying to be set on a copy of a slice from a DataFrame.\n",
            "Try using .loc[row_indexer,col_indexer] = value instead\n",
            "\n",
            "See the caveats in the documentation: https://pandas.pydata.org/pandas-docs/stable/user_guide/indexing.html#returning-a-view-versus-a-copy\n",
            "/usr/local/lib/python3.7/dist-packages/ipykernel_launcher.py:337: SettingWithCopyWarning: \n",
            "A value is trying to be set on a copy of a slice from a DataFrame.\n",
            "Try using .loc[row_indexer,col_indexer] = value instead\n",
            "\n",
            "See the caveats in the documentation: https://pandas.pydata.org/pandas-docs/stable/user_guide/indexing.html#returning-a-view-versus-a-copy\n",
            "/usr/local/lib/python3.7/dist-packages/ipykernel_launcher.py:338: SettingWithCopyWarning: \n",
            "A value is trying to be set on a copy of a slice from a DataFrame.\n",
            "Try using .loc[row_indexer,col_indexer] = value instead\n",
            "\n",
            "See the caveats in the documentation: https://pandas.pydata.org/pandas-docs/stable/user_guide/indexing.html#returning-a-view-versus-a-copy\n",
            "/usr/local/lib/python3.7/dist-packages/ipykernel_launcher.py:339: SettingWithCopyWarning: \n",
            "A value is trying to be set on a copy of a slice from a DataFrame.\n",
            "Try using .loc[row_indexer,col_indexer] = value instead\n",
            "\n",
            "See the caveats in the documentation: https://pandas.pydata.org/pandas-docs/stable/user_guide/indexing.html#returning-a-view-versus-a-copy\n",
            "/usr/local/lib/python3.7/dist-packages/ipykernel_launcher.py:340: SettingWithCopyWarning: \n",
            "A value is trying to be set on a copy of a slice from a DataFrame.\n",
            "Try using .loc[row_indexer,col_indexer] = value instead\n",
            "\n",
            "See the caveats in the documentation: https://pandas.pydata.org/pandas-docs/stable/user_guide/indexing.html#returning-a-view-versus-a-copy\n",
            "/usr/local/lib/python3.7/dist-packages/ipykernel_launcher.py:341: SettingWithCopyWarning: \n",
            "A value is trying to be set on a copy of a slice from a DataFrame.\n",
            "Try using .loc[row_indexer,col_indexer] = value instead\n",
            "\n",
            "See the caveats in the documentation: https://pandas.pydata.org/pandas-docs/stable/user_guide/indexing.html#returning-a-view-versus-a-copy\n",
            "79615it [01:35, 834.15it/s]\n"
          ]
        }
      ],
      "source": [
        "import warnings \n",
        "with warnings.catch_warnings():\n",
        "    warnings.simplefilter(\"ignore\")\n",
        "    katago_white = get_df_with_lists(katago, player = 'W')"
      ]
    },
    {
      "cell_type": "code",
      "source": [
        "katago_all = katago_white\n",
        "katago_all.dropna(how='any', inplace=True)"
      ],
      "metadata": {
        "id": "wWkso-lVVYBt",
        "colab": {
          "base_uri": "https://localhost:8080/"
        },
        "outputId": "9b3f861b-9fb2-4ebc-9a2f-d4a8b8026016"
      },
      "execution_count": 5,
      "outputs": [
        {
          "output_type": "stream",
          "name": "stderr",
          "text": [
            "/usr/local/lib/python3.7/dist-packages/pandas/util/_decorators.py:311: SettingWithCopyWarning: \n",
            "A value is trying to be set on a copy of a slice from a DataFrame\n",
            "\n",
            "See the caveats in the documentation: https://pandas.pydata.org/pandas-docs/stable/user_guide/indexing.html#returning-a-view-versus-a-copy\n",
            "  return func(*args, **kwargs)\n"
          ]
        }
      ]
    },
    {
      "cell_type": "code",
      "source": [
        "features = ['score', 'winrate', 'utility', 'stddev', 'selfplay', 'dist_from_prev', \n",
        "            'W_winrate', 'B_winrate', 'W_scoreLead', 'B_scoreLead', 'W_scoreSelfplay',\n",
        "             'B_scoreSelfplay', 'W_scoreStdev', 'B_scoreStdev', 'dist_enemy']"
      ],
      "metadata": {
        "id": "yLGE-DNoVP4G"
      },
      "execution_count": 6,
      "outputs": []
    },
    {
      "cell_type": "code",
      "execution_count": 37,
      "metadata": {
        "id": "LNEE-Zt3lz0a"
      },
      "outputs": [],
      "source": [
        "from sklearn.model_selection import train_test_split\n",
        "X_train, X_test, y_train, y_test = train_test_split(katago_all[features], katago_all['rank'], test_size=0.1)\n",
        "X_train, X_val, y_train, y_val = train_test_split(X_train, y_train, test_size=0.25)"
      ]
    },
    {
      "cell_type": "markdown",
      "source": [
        "# LSTM"
      ],
      "metadata": {
        "id": "_JBRcSKUMhiq"
      }
    },
    {
      "cell_type": "code",
      "source": [
        "import numpy as np\n",
        "import tensorflow as tf\n",
        "from tensorflow import keras\n",
        "from keras import layers\n",
        "\n",
        "def get_tensor(df, features, sequence_len):\n",
        "    def resize_to_length(m, length):\n",
        "        if len(m) > length:\n",
        "            return m[:length]\n",
        "        n_nules = length - len(m)\n",
        "        return list([0] * n_nules) + list(m)\n",
        "\n",
        "    arr = []\n",
        "    for feature in features:\n",
        "        arr.append([np.array(y) for y in df[feature].apply(lambda x: resize_to_length(x, sequence_len))])\n",
        "    arr = np.array(arr)\n",
        "    arr = arr.swapaxes(0, 1)\n",
        "    arr = arr.swapaxes(1, 2)\n",
        "    return tf.convert_to_tensor(arr, np.float32)\n",
        "\n",
        "\n",
        "class RnnKerasRunner:\n",
        "    __DEFAULT_FEATURES = ['score', 'winrate', 'utility', 'stddev', 'selfplay', 'dist_from_prev', 'winrate_sqr', 'score_sqr', 'dist_more_5']\n",
        "\n",
        "    def __create_rnn(self, hidden_units, input_shape):\n",
        "        model = keras.Sequential()\n",
        "        model.add(tf.keras.layers.Masking(mask_value=0.,\n",
        "                                          input_shape=input_shape))\n",
        "        model.add(layers.BatchNormalization())\n",
        "        model.add(layers.Dense(units=12, activation=\"linear\"))\n",
        "        model.add(layers.Dense(32, activation='relu'))\n",
        "        model.add(layers.Bidirectional(layers.LSTM(hidden_units)))  \n",
        "        model.add(layers.LeakyReLU())\n",
        "        model.add(layers.Dense(units=1, activation=\"linear\"))\n",
        "        model.compile(loss='mean_squared_error', optimizer='adam', metrics=\"mean_absolute_error\")\n",
        "        return model\n",
        "\n",
        "    def __init__(self, model = None, sequence_len=150, features=__DEFAULT_FEATURES):\n",
        "        self.features = features\n",
        "        self.sequence_len = sequence_len\n",
        "        if model is None:\n",
        "            self.model = self.__create_rnn(128, (sequence_len, len(features)))\n",
        "        else:\n",
        "            self.model = model\n",
        "\n",
        "    def fit(self, df, target, val_X, val_y, epochs=10, batch_size=256):\n",
        "        val_data = None\n",
        "        if val_X is not None:\n",
        "            val_X = get_tensor(val_X, self.features, self.sequence_len)\n",
        "            val_y = tf.convert_to_tensor(val_y, np.float32)\n",
        "            val_data = (val_X, val_y)\n",
        "        X = get_tensor(df, self.features, self.sequence_len)\n",
        "        self.model.fit(X, tf.convert_to_tensor(target, np.float32), validation_data = val_data, epochs=epochs,\n",
        "                       batch_size=batch_size)\n",
        "\n",
        "\n",
        "    def predict(self, df):\n",
        "        X = get_tensor(df, self.features, self.sequence_len)\n",
        "        return np.array([y[0] for y in self.model.predict(X)])"
      ],
      "metadata": {
        "id": "RyACEmWoHMjS"
      },
      "execution_count": null,
      "outputs": []
    },
    {
      "cell_type": "code",
      "source": [
        "model = RnnKerasRunner(sequence_len=150, features = features)"
      ],
      "metadata": {
        "id": "hj3mVypL1whF"
      },
      "execution_count": 39,
      "outputs": []
    },
    {
      "cell_type": "code",
      "source": [
        "model.fit(X_train, y_train, X_val, y_val, epochs=12, batch_size=1024)"
      ],
      "metadata": {
        "colab": {
          "base_uri": "https://localhost:8080/"
        },
        "id": "YSbw_6kW7gRb",
        "outputId": "16755ce1-98b3-44da-b5d0-8694032a43d5"
      },
      "execution_count": 40,
      "outputs": [
        {
          "output_type": "stream",
          "name": "stdout",
          "text": [
            "Epoch 1/12\n",
            "53/53 [==============================] - 73s 1s/step - loss: 29.8820 - mean_absolute_error: 4.5595 - val_loss: 32.4399 - val_mean_absolute_error: 4.4958\n",
            "Epoch 2/12\n",
            "53/53 [==============================] - 59s 1s/step - loss: 16.8103 - mean_absolute_error: 3.2233 - val_loss: 35.2151 - val_mean_absolute_error: 4.6819\n",
            "Epoch 3/12\n",
            "53/53 [==============================] - 57s 1s/step - loss: 15.3414 - mean_absolute_error: 3.0458 - val_loss: 36.3510 - val_mean_absolute_error: 4.8027\n",
            "Epoch 4/12\n",
            "53/53 [==============================] - 57s 1s/step - loss: 14.8904 - mean_absolute_error: 2.9889 - val_loss: 31.2003 - val_mean_absolute_error: 4.4038\n",
            "Epoch 5/12\n",
            "53/53 [==============================] - 57s 1s/step - loss: 14.4451 - mean_absolute_error: 2.9297 - val_loss: 23.6433 - val_mean_absolute_error: 3.7688\n",
            "Epoch 6/12\n",
            "53/53 [==============================] - 57s 1s/step - loss: 14.4526 - mean_absolute_error: 2.9303 - val_loss: 21.9071 - val_mean_absolute_error: 3.6132\n",
            "Epoch 7/12\n",
            "53/53 [==============================] - 57s 1s/step - loss: 14.0726 - mean_absolute_error: 2.8830 - val_loss: 21.6550 - val_mean_absolute_error: 3.5745\n",
            "Epoch 8/12\n",
            "53/53 [==============================] - 57s 1s/step - loss: 14.1982 - mean_absolute_error: 2.9014 - val_loss: 16.4989 - val_mean_absolute_error: 3.0845\n",
            "Epoch 9/12\n",
            "53/53 [==============================] - 57s 1s/step - loss: 13.6535 - mean_absolute_error: 2.8368 - val_loss: 14.9860 - val_mean_absolute_error: 2.9372\n",
            "Epoch 10/12\n",
            "53/53 [==============================] - 57s 1s/step - loss: 13.7917 - mean_absolute_error: 2.8484 - val_loss: 13.8737 - val_mean_absolute_error: 2.8335\n",
            "Epoch 11/12\n",
            "53/53 [==============================] - 57s 1s/step - loss: 13.6349 - mean_absolute_error: 2.8305 - val_loss: 13.7186 - val_mean_absolute_error: 2.9006\n",
            "Epoch 12/12\n",
            "53/53 [==============================] - 57s 1s/step - loss: 13.4190 - mean_absolute_error: 2.8039 - val_loss: 13.7718 - val_mean_absolute_error: 2.8030\n"
          ]
        }
      ]
    },
    {
      "cell_type": "code",
      "source": [
        "from sklearn.metrics import mean_absolute_error\n",
        "y_pred = model.predict(X_test)\n",
        "print(mean_absolute_error(y_test, y_pred))"
      ],
      "metadata": {
        "colab": {
          "base_uri": "https://localhost:8080/"
        },
        "id": "wDJHF5Od2C_H",
        "outputId": "4bbf86bd-fab3-4255-8d0e-978af0e6d65e"
      },
      "execution_count": 41,
      "outputs": [
        {
          "output_type": "stream",
          "name": "stdout",
          "text": [
            "2.796250193738043\n"
          ]
        }
      ]
    },
    {
      "cell_type": "code",
      "source": [
        "model.model.save('/content/drive/MyDrive/rnn_april_23_lstm.h5')"
      ],
      "metadata": {
        "id": "z32w6Cey_4j8"
      },
      "execution_count": 43,
      "outputs": []
    },
    {
      "cell_type": "code",
      "source": [
        "from matplotlib import pyplot as plt\n",
        "plt_bins = [i + -16.001 for i in range(27)]\n",
        "plt.figure(figsize=(12, 8))\n",
        "plt.title(\"Распределение значения оценки параметра\")\n",
        "plt.hist(\n",
        "    y_test,\n",
        "    bins = plt_bins,\n",
        "    alpha = 0.6,\n",
        "    color = 'orange',\n",
        "    label = 'Реальное распределение'\n",
        ")\n",
        "plt.hist(\n",
        "    y_pred,\n",
        "    bins = plt_bins,\n",
        "    alpha = 0.6,\n",
        "    color = 'green',\n",
        "    label = 'LSTM_RNN'\n",
        ")\n",
        "plt.legend()\n",
        "plt.show()"
      ],
      "metadata": {
        "colab": {
          "base_uri": "https://localhost:8080/",
          "height": 499
        },
        "id": "YQ5va_bYMpp3",
        "outputId": "8efd73cb-7f62-4b37-914d-fcd0f6b5d63f"
      },
      "execution_count": 61,
      "outputs": [
        {
          "output_type": "display_data",
          "data": {
            "text/plain": [
              "<Figure size 864x576 with 1 Axes>"
            ],
            "image/png": "[encoded data removed]"
          },
          "metadata": {
            "needs_background": "light"
          }
        }
      ]
    },
    {
      "cell_type": "markdown",
      "source": [
        "# GRU"
      ],
      "metadata": {
        "id": "teW1q3IgbNJT"
      }
    },
    {
      "cell_type": "code",
      "source": [
        "class GRUKerasRunner(RnnKerasRunner):\n",
        "    def __create_rnn(self, hidden_units, input_shape):\n",
        "        model = keras.Sequential()\n",
        "        model.add(tf.keras.layers.Masking(mask_value=0.,\n",
        "                                          input_shape=input_shape))\n",
        "        model.add(layers.BatchNormalization())\n",
        "        model.add(layers.Dense(units=12, activation=\"linear\"))\n",
        "        model.add(layers.Dense(32, activation='relu'))\n",
        "        model.add(layers.Bidirectional(layers.GRU(hidden_units)))  \n",
        "        model.add(layers.LeakyReLU())\n",
        "        model.add(layers.Dense(units=1, activation=\"linear\"))\n",
        "        model.compile(loss='mean_squared_error', optimizer='adam', metrics=\"mean_absolute_error\")\n",
        "        return model"
      ],
      "metadata": {
        "id": "f-NYBiQXbTSN"
      },
      "execution_count": 121,
      "outputs": []
    },
    {
      "cell_type": "code",
      "source": [
        "model_gru = GRUKerasRunner(sequence_len=150, features = features)"
      ],
      "metadata": {
        "id": "uRaRo5-pbePH"
      },
      "execution_count": 122,
      "outputs": []
    },
    {
      "cell_type": "code",
      "source": [
        "model_gru.fit(X_train, y_train, X_val, y_val, epochs=8, batch_size=2048)"
      ],
      "metadata": {
        "colab": {
          "base_uri": "https://localhost:8080/"
        },
        "outputId": "2a94eda6-fd9b-401d-a472-232d45e7dc7b",
        "id": "ChjMsuFAbePJ"
      },
      "execution_count": 124,
      "outputs": [
        {
          "output_type": "stream",
          "name": "stdout",
          "text": [
            "Epoch 1/8\n",
            "27/27 [==============================] - 35s 1s/step - loss: 16.6618 - mean_absolute_error: 3.2291 - val_loss: 70.6241 - val_mean_absolute_error: 6.8812\n",
            "Epoch 2/8\n",
            "27/27 [==============================] - 35s 1s/step - loss: 15.0933 - mean_absolute_error: 3.0260 - val_loss: 71.3790 - val_mean_absolute_error: 7.0203\n",
            "Epoch 3/8\n",
            "27/27 [==============================] - 34s 1s/step - loss: 15.0318 - mean_absolute_error: 3.0051 - val_loss: 49.6050 - val_mean_absolute_error: 5.7524\n",
            "Epoch 4/8\n",
            "27/27 [==============================] - 34s 1s/step - loss: 15.3194 - mean_absolute_error: 3.0453 - val_loss: 51.8726 - val_mean_absolute_error: 5.9109\n",
            "Epoch 5/8\n",
            "27/27 [==============================] - 34s 1s/step - loss: 14.5465 - mean_absolute_error: 2.9519 - val_loss: 42.5725 - val_mean_absolute_error: 5.2861\n",
            "Epoch 6/8\n",
            "27/27 [==============================] - 34s 1s/step - loss: 14.4139 - mean_absolute_error: 2.9309 - val_loss: 33.3394 - val_mean_absolute_error: 4.5857\n",
            "Epoch 7/8\n",
            "27/27 [==============================] - 34s 1s/step - loss: 14.0704 - mean_absolute_error: 2.8856 - val_loss: 29.3451 - val_mean_absolute_error: 4.2683\n",
            "Epoch 8/8\n",
            "27/27 [==============================] - 34s 1s/step - loss: 14.3249 - mean_absolute_error: 2.9193 - val_loss: 30.8637 - val_mean_absolute_error: 4.3901\n"
          ]
        }
      ]
    },
    {
      "cell_type": "code",
      "source": [
        "y_pred_gru = model_gru.predict(X_test)\n",
        "print(mean_absolute_error(y_test, y_pred_gru))"
      ],
      "metadata": {
        "colab": {
          "base_uri": "https://localhost:8080/"
        },
        "outputId": "fa4a1274-bf66-4805-b610-cc66e52a2c12",
        "id": "g3LXqligbePK"
      },
      "execution_count": 128,
      "outputs": [
        {
          "output_type": "stream",
          "name": "stdout",
          "text": [
            "4.350355798921098\n"
          ]
        }
      ]
    },
    {
      "cell_type": "code",
      "source": [
        "from matplotlib import pyplot as plt\n",
        "plt_bins = [i + -16.001 for i in range(27)]\n",
        "plt.figure(figsize=(12, 8))\n",
        "plt.title(\"Распределение значения оценки параметра\")\n",
        "plt.hist(\n",
        "    y_test,\n",
        "    bins = plt_bins,\n",
        "    alpha = 0.6,\n",
        "    color = 'orange',\n",
        "    label = 'Реальное распределение'\n",
        ")\n",
        "plt.hist(\n",
        "    y_pred_gru,\n",
        "    bins = plt_bins,\n",
        "    alpha = 0.6,\n",
        "    color = 'green',\n",
        "    label = 'GRU_RNN'\n",
        ")\n",
        "plt.legend()\n",
        "plt.show()"
      ],
      "metadata": {
        "colab": {
          "base_uri": "https://localhost:8080/",
          "height": 499
        },
        "outputId": "88060baf-660b-43b4-d816-afad83412e5b",
        "id": "gnAZAyqIbePN"
      },
      "execution_count": 129,
      "outputs": [
        {
          "output_type": "display_data",
          "data": {
            "text/plain": [
              "<Figure size 864x576 with 1 Axes>"
            ],
            "image/png": "[encoded data removed]"
          },
          "metadata": {
            "needs_background": "light"
          }
        }
      ]
    },
    {
      "cell_type": "code",
      "source": [
        "model.model.save('/content/drive/MyDrive/rnn_april_23_gru.h5')"
      ],
      "metadata": {
        "id": "bOfPOW3sbePL"
      },
      "execution_count": 127,
      "outputs": []
    },
    {
      "cell_type": "markdown",
      "source": [
        "# Submodels experiments"
      ],
      "metadata": {
        "id": "90-01gM82wlh"
      }
    },
    {
      "cell_type": "code",
      "source": [
        "bins = np.array([-11.5, 10])\n",
        "submodels_amount = 2\n",
        "borders = ((-14, -11), (-10, 9))\n",
        "y_train_big = np.digitize(y_train, bins)\n",
        "y_test_big = np.digitize(y_test, bins)"
      ],
      "metadata": {
        "id": "FE80BGTehgUP"
      },
      "execution_count": 142,
      "outputs": []
    },
    {
      "cell_type": "code",
      "source": [
        "train_idx = []\n",
        "\n",
        "for left, right in borders:\n",
        "    train_idx.append(y_train.index[(y_train >= left) & (y_train <= right)])\n",
        "\n",
        "submodels_X_train = []\n",
        "submodels_y_train = []\n",
        "sum_len = 0\n",
        "for idx in train_idx:\n",
        "    sum_len += len(y_train.loc[idx])\n",
        "    submodels_X_train.append(X_train.loc[idx])\n",
        "    submodels_y_train.append(y_train.loc[idx])"
      ],
      "metadata": {
        "id": "EdbtDuNDX0MK"
      },
      "execution_count": 143,
      "outputs": []
    },
    {
      "cell_type": "code",
      "source": [
        "class SubRnnKerasRunner(RnnKerasRunner):\n",
        "    def fit(self, df, target, epochs=10, batch_size=256):\n",
        "        X = get_tensor(df, self.features, self.sequence_len)\n",
        "        self.model.fit(X, tf.convert_to_tensor(target, np.float32), epochs=epochs,\n",
        "                       batch_size=batch_size)"
      ],
      "metadata": {
        "id": "RFNDYlKiuHGx"
      },
      "execution_count": 144,
      "outputs": []
    },
    {
      "cell_type": "code",
      "source": [
        "model_big = SubRnnKerasRunner(sequence_len=150, features = features)\n",
        "submodels = []\n",
        "\n",
        "for i in range(submodels_amount):\n",
        "    if i == 0:  # only for getting first group\n",
        "        submodels.append(SubRnnKerasRunner(sequence_len=150, features = features)) "
      ],
      "metadata": {
        "id": "ZseV_OtKePfI"
      },
      "execution_count": 145,
      "outputs": []
    },
    {
      "cell_type": "code",
      "source": [
        "model_big.fit(X_train, y_train_big, epochs=10, batch_size = 2048)\n",
        "\n",
        "for i in range(submodels_amount):\n",
        "    if i == 0: \n",
        "        submodels[i].fit(submodels_X_train[i], submodels_y_train[i], \n",
        "                        epochs=6, batch_size=2048)\n"
      ],
      "metadata": {
        "id": "xP7gVuZX3_e2",
        "colab": {
          "base_uri": "https://localhost:8080/"
        },
        "outputId": "2498b665-8adf-4e49-9c79-d8a9fc8e49a6"
      },
      "execution_count": 146,
      "outputs": [
        {
          "output_type": "stream",
          "name": "stdout",
          "text": [
            "Epoch 1/10\n",
            "27/27 [==============================] - 44s 1s/step - loss: 0.1474 - mean_absolute_error: 0.2703\n",
            "Epoch 2/10\n",
            "27/27 [==============================] - 32s 1s/step - loss: 0.0900 - mean_absolute_error: 0.1952\n",
            "Epoch 3/10\n",
            "27/27 [==============================] - 32s 1s/step - loss: 0.0839 - mean_absolute_error: 0.1813\n",
            "Epoch 4/10\n",
            "27/27 [==============================] - 33s 1s/step - loss: 0.0799 - mean_absolute_error: 0.1688\n",
            "Epoch 5/10\n",
            "27/27 [==============================] - 32s 1s/step - loss: 0.0760 - mean_absolute_error: 0.1612\n",
            "Epoch 6/10\n",
            "27/27 [==============================] - 32s 1s/step - loss: 0.0752 - mean_absolute_error: 0.1605\n",
            "Epoch 7/10\n",
            "27/27 [==============================] - 32s 1s/step - loss: 0.0744 - mean_absolute_error: 0.1572\n",
            "Epoch 8/10\n",
            "27/27 [==============================] - 32s 1s/step - loss: 0.0735 - mean_absolute_error: 0.1552\n",
            "Epoch 9/10\n",
            "27/27 [==============================] - 32s 1s/step - loss: 0.0731 - mean_absolute_error: 0.1547\n",
            "Epoch 10/10\n",
            "27/27 [==============================] - 32s 1s/step - loss: 0.0726 - mean_absolute_error: 0.1517\n",
            "Epoch 1/6\n",
            "4/4 [==============================] - 16s 1s/step - loss: 144.5872 - mean_absolute_error: 11.9640\n",
            "Epoch 2/6\n",
            "4/4 [==============================] - 5s 1s/step - loss: 105.2675 - mean_absolute_error: 10.1744\n",
            "Epoch 3/6\n",
            "4/4 [==============================] - 5s 1s/step - loss: 59.4879 - mean_absolute_error: 7.5892\n",
            "Epoch 4/6\n",
            "4/4 [==============================] - 5s 1s/step - loss: 29.9995 - mean_absolute_error: 5.3280\n",
            "Epoch 5/6\n",
            "4/4 [==============================] - 5s 1s/step - loss: 13.9639 - mean_absolute_error: 3.5322\n",
            "Epoch 6/6\n",
            "4/4 [==============================] - 5s 1s/step - loss: 5.4496 - mean_absolute_error: 2.0101\n"
          ]
        }
      ]
    },
    {
      "cell_type": "code",
      "source": [
        "y_pred_big = np.round(model_big.predict(X_test))"
      ],
      "metadata": {
        "id": "acDhKhhk1auZ"
      },
      "execution_count": 147,
      "outputs": []
    },
    {
      "cell_type": "code",
      "source": [
        "from sklearn.metrics import accuracy_score\n",
        "print(mean_absolute_error(y_test_big, y_pred_big))\n",
        "print(accuracy_score(y_test_big, y_pred_big))"
      ],
      "metadata": {
        "colab": {
          "base_uri": "https://localhost:8080/"
        },
        "id": "RfIFYLeOhr0P",
        "outputId": "ba5fdd61-0863-44e3-e1f9-2301285bfa0f"
      },
      "execution_count": 148,
      "outputs": [
        {
          "output_type": "stream",
          "name": "stdout",
          "text": [
            "0.10675709620698318\n",
            "0.8932429037930169\n"
          ]
        }
      ]
    },
    {
      "cell_type": "code",
      "source": [
        "X_test = X_test.reset_index(drop=True)"
      ],
      "metadata": {
        "id": "SUf1L4mxETUT"
      },
      "execution_count": 149,
      "outputs": []
    },
    {
      "cell_type": "code",
      "source": [
        "test_idx = []\n",
        "submodels_X_test = []\n",
        "submodels_y_test = []\n",
        "for i in range(submodels_amount):\n",
        "    test_idx.append(np.where(y_pred_big == i)[0])\n",
        "    submodels_X_test.append(X_test.loc[test_idx[i]])\n",
        "    submodels_y_test.append(np.take(y_test, test_idx[i]))"
      ],
      "metadata": {
        "id": "m2A6CL6kDdG2"
      },
      "execution_count": 150,
      "outputs": []
    },
    {
      "cell_type": "code",
      "source": [
        "submodels_y_pred = []\n",
        "\n",
        "for i in range(submodels_amount):\n",
        "    if i == 0:\n",
        "        submodels_y_pred.append(submodels[i].predict(submodels_X_test[i]))\n",
        "    else:\n",
        "        submodels_y_pred.append(model.predict(submodels_X_test[i]))"
      ],
      "metadata": {
        "id": "4W00l1nSG73U"
      },
      "execution_count": 151,
      "outputs": []
    },
    {
      "cell_type": "code",
      "source": [
        "absolute_error = 0\n",
        "\n",
        "for i in range(submodels_amount):\n",
        "    sub_error = np.sum(np.abs(submodels_y_test[i] - submodels_y_pred[i]))\n",
        "    print(\"mae_on submodel {}:  {}\".format(i, sub_error / len(submodels_y_test[i])))\n",
        "    absolute_error += sub_error\n",
        "\n",
        "mae = absolute_error / len(y_test)\n",
        "print(\"mae: {}\".format(mae))"
      ],
      "metadata": {
        "id": "0_RkoEqDHtxd",
        "colab": {
          "base_uri": "https://localhost:8080/"
        },
        "outputId": "9dcecc0c-6c74-4a3f-fe00-426bb13a035a"
      },
      "execution_count": 152,
      "outputs": [
        {
          "output_type": "stream",
          "name": "stdout",
          "text": [
            "mae_on submodel 0:  2.6417156333353984\n",
            "mae_on submodel 1:  2.800804197391468\n",
            "mae: 2.7994654717205614\n"
          ]
        }
      ]
    },
    {
      "cell_type": "code",
      "source": [
        "from matplotlib import pyplot as plt\n",
        "plt_bins = [i + -16.001 for i in range(27)]\n",
        "plt.figure(figsize=(10, 6))\n",
        "plt.title(\"Распределение значения оценки параметра\")\n",
        "plt.hist(\n",
        "    y_test,\n",
        "    bins = plt_bins,\n",
        "    alpha = 0.6,\n",
        "    color = 'orange',\n",
        "    label = 'Реальное распределение'\n",
        ")\n",
        "plt.hist(\n",
        "    np.hstack(submodels_y_pred),\n",
        "    bins = plt_bins,\n",
        "    alpha = 0.6,\n",
        "    color = 'green',\n",
        "    label = 'submodel_RNN'\n",
        ")\n",
        "plt.legend()\n",
        "plt.show()"
      ],
      "metadata": {
        "id": "V71ESunaqyLS",
        "colab": {
          "base_uri": "https://localhost:8080/",
          "height": 390
        },
        "outputId": "a428f945-965e-4dcd-f2a9-4be9bcfb97a3"
      },
      "execution_count": 153,
      "outputs": [
        {
          "output_type": "display_data",
          "data": {
            "text/plain": [
              "<Figure size 720x432 with 1 Axes>"
            ],
            "image/png": "[encoded data removed]"
          },
          "metadata": {
            "needs_background": "light"
          }
        }
      ]
    },
    {
      "cell_type": "code",
      "source": [
        "model_big.model.save('/content/drive/MyDrive/rnn_april_23_lstm_big_2_impr.h5')\n",
        "submodels[0].model.save('/content/drive/MyDrive/rnn_april_23_lstm_sub_{}_impr.h5'.format(0))\n",
        "# for i in range(submodels_amount):\n",
        "#     submodels[i].model.save('/content/drive/MyDrive/rnn_april_23_lstm_sub_{}.h5'.format(i))"
      ],
      "metadata": {
        "id": "Z0v1BzhDP6YP"
      },
      "execution_count": 154,
      "outputs": []
    },
    {
      "cell_type": "code",
      "source": [
        ""
      ],
      "metadata": {
        "id": "QBTotNSVMDi7"
      },
      "execution_count": null,
      "outputs": []
    }
  ],
  "metadata": {
    "accelerator": "GPU",
    "colab": {
      "collapsed_sections": [],
      "name": "RNN_experiments.ipynb",
      "provenance": []
    },
    "kernelspec": {
      "display_name": "Python 3",
      "name": "python3"
    },
    "language_info": {
      "name": "python"
    }
  },
  "nbformat": 4,
  "nbformat_minor": 0
}