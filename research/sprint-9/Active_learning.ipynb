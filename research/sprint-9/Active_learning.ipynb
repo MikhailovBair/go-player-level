{
  "cells": [
    {
      "cell_type": "code",
      "execution_count": 10,
      "metadata": {
        "id": "I46krI64XyxR"
      },
      "outputs": [],
      "source": [
        "import numpy as np\n",
        "import pandas as pd\n",
        "from tqdm import tqdm\n",
        "\n",
        "def add_basic_stats(row, moves, pref=\"\"):\n",
        "\n",
        "    row[pref + 'winrate_mean'] = np.mean(moves.winrate_delta)\n",
        "    row[pref + 'score_mean'] = np.mean(moves.score_delta)\n",
        "    row[pref + 'score_var'] = np.var(moves.score_delta)\n",
        "    row[pref + 'selfplay_mean'] = np.mean(moves.selfplay_delta)\n",
        "    row[pref + 'utility_mean'] = np.mean(moves.utility_delta)\n",
        "    row[pref + 'winrate_beauty_percent'] = np.mean([x > 0 for x in moves.winrate_delta])\n",
        "    row[pref + 'score_beauty_percent'] = np.mean([x > 0 for x in moves.score_delta])\n",
        "\n",
        "\n",
        "def add_advanced_stats(row, moves, pref=\"\"):\n",
        "    moves.score_delta.sort()\n",
        "    moves.winrate_delta.sort()\n",
        "\n",
        "    row[pref + 'score25p'] = moves.score_delta[int(moves.cnt_moves * 0.25)]\n",
        "    row[pref + 'score75p'] = moves.score_delta[int(moves.cnt_moves * 0.75)]\n",
        "    row[pref + 'score_max'] = np.max(moves.score_delta)\n",
        "    row[pref + 'score_min'] = np.min(moves.score_delta)\n",
        "    row[pref + 'winrate25p'] = moves.winrate_delta[int(moves.cnt_moves * 0.25)]\n",
        "    row[pref + 'winrate75p'] = moves.winrate_delta[int(moves.cnt_moves * 0.75)]\n",
        "\n",
        "    row[pref + 'score_five_best_mean'] = np.mean(moves.score_delta[-5:])\n",
        "    row[pref + 'score_five_worst_mean'] = np.mean(moves.score_delta[:5])\n",
        "\n",
        "    row[pref + 'stddev_last'] = moves.stddev_delta[-1]\n",
        "    moves.stddev_delta.sort()\n",
        "    row[pref + 'stddev_mean'] = np.mean(moves.stddev_delta)\n",
        "    row[pref + 'stddev50p'] = moves.stddev_delta[int(moves.cnt_moves * 0.5)]\n",
        "\n",
        "    row[pref + 'score50p'] = moves.score_delta[int(moves.cnt_moves * 0.5)]\n",
        "\n",
        "    row[pref + 'winrate_midmean'] = np.mean(\n",
        "        moves.winrate_delta[int(moves.cnt_moves * 0.25):int(moves.cnt_moves * 0.75)])\n",
        "    row[pref + 'score_midmean'] = np.mean(moves.score_delta[int(moves.cnt_moves * 0.25):int(moves.cnt_moves * 0.75)])\n",
        "\n",
        "\n",
        "def get_index_dan(rank):\n",
        "  for i in range(len(rank)):\n",
        "    if rank[i] in ['k', 'd']:\n",
        "      return i\n",
        "  return -1\n",
        "\n",
        "\n",
        "def get_int_from_rank(rank):\n",
        "    ind = get_index_dan(rank)\n",
        "    if ind < 0 or rank[0] == 'P' or not rank[:ind].isdigit():\n",
        "        return 0\n",
        "    if rank[ind] == 'k':\n",
        "        return -int(rank[:ind]) + 1\n",
        "    else:\n",
        "        return int(rank[:ind])\n",
        "\n",
        "\n",
        "def get_rank_from_int(x):\n",
        "    if x > 0:\n",
        "        return str(x) + \"d\"\n",
        "    else:\n",
        "        return str(-x + 1) + \"k\"\n",
        "\n",
        "\n",
        "def int_from_player(player):\n",
        "    return int(player == 'W')\n",
        "\n",
        "\n",
        "def player_from_int(x):\n",
        "    return 'W' if x == 1 else 'B'\n",
        "\n",
        "\n",
        "def add_meta(row):\n",
        "    if row['Result'] == '?':\n",
        "        row['game_result'] = 0\n",
        "    else:\n",
        "        row['game_result'] = int(row['Result'])\n",
        "    row['W_rank'] = get_int_from_rank(row['W_rating'])\n",
        "    row['B_rank'] = get_int_from_rank(row['B_rating'])\n",
        "    row['rank_mid'] = (row['W_rank'] + row['B_rank']) / 2\n",
        "    row['rank_diff'] = row['W_rank'] - row['B_rank']\n",
        "    row['game_length'] = len(row['W_move'].split()) + len(row['B_move'].split())\n",
        "\n",
        "\n",
        "def convert_to_lists(df):\n",
        "    for i, row in tqdm(df.iterrows()):\n",
        "        row['W_scoreLead'] = [float(x) for x in row['W_scoreLead'].split()]\n",
        "        row['B_scoreLead'] = [float(x) for x in row['B_scoreLead'].split()]\n",
        "        row['W_scoreSelfplay'] = [float(x) for x in row['W_scoreSelfplay'].split()]\n",
        "        row['B_scoreSelfplay'] = [float(x) for x in row['B_scoreSelfplay'].split()]\n",
        "        row['W_scoreStdev'] = [float(x) for x in row['W_scoreStdev'].split()]\n",
        "        row['B_scoreStdev'] = [float(x) for x in row['B_scoreStdev'].split()]\n",
        "        row['W_utility'] = [float(x) for x in row['W_utility'].split()]\n",
        "        row['B_utility'] = [float(x) for x in row['B_utility'].split()]\n",
        "        row['W_winrate'] = [float(x) for x in row['W_winrate'].split()]\n",
        "        row['B_winrate'] = [float(x) for x in row['B_winrate'].split()]\n",
        "        df.loc[i] = row\n",
        "\n",
        "class MovesInfo:\n",
        "    def __init__(self, row, n_moves=None, player='W'):\n",
        "        enemy = 'B' if player == 'W' else 'W'\n",
        "        if player == 'B':\n",
        "            moves_len = min(len(row['B_winrate']), len(row['W_winrate']) + 1)\n",
        "        else:\n",
        "            moves_len = min(len(row['W_winrate']), len(row['B_winrate']))\n",
        "\n",
        "        if n_moves is None:\n",
        "            start_ind = 0\n",
        "        else:\n",
        "            start_ind = max(moves_len - n_moves - 1, 0)\n",
        "\n",
        "        end_ind = moves_len\n",
        "        w_0 = []\n",
        "        sc_0 = []\n",
        "        ut_0 = []\n",
        "        std_0 = []\n",
        "        sf_0 = []\n",
        "        if player == 'B':\n",
        "            if start_ind == 0:\n",
        "                w_0 = [0.475]\n",
        "                sc_0 = [0.]\n",
        "                ut_0 = [0.]\n",
        "                std_0 = [19. - 0.07666535852999867 * 2]\n",
        "                sf_0 = [0.]\n",
        "            else:\n",
        "                w_0 = [row[enemy + '_winrate'][start_ind - 1]]\n",
        "\n",
        "                sc_0 = [row[enemy + '_scoreLead'][start_ind - 1]]\n",
        "                ut_0 = [row[enemy + '_utility'][start_ind - 1]]\n",
        "                std_0 = [row[enemy + '_scoreStdev'][start_ind - 1]]\n",
        "                sf_0 = [row[enemy + '_scoreSelfplay'][start_ind - 1]]\n",
        "        self.winrate_delta = np.array(row[player + '_winrate'][start_ind:end_ind]) - np.array(\n",
        "            (w_0 + row[enemy + '_winrate'])[start_ind:end_ind])\n",
        "        self.score_delta = np.array(row[player + '_scoreLead'][start_ind:end_ind]) - np.array(\n",
        "            (sc_0 + row[enemy + '_scoreLead'])[start_ind:end_ind])\n",
        "        self.utility_delta = np.array(row[player + '_utility'][start_ind:end_ind]) - np.array(\n",
        "            (ut_0 + row[enemy + '_utility'])[start_ind:end_ind])\n",
        "        self.selfplay_delta = np.array(row[player + '_scoreSelfplay'][start_ind:end_ind]) - np.array(\n",
        "            (sf_0 + row[enemy + '_scoreSelfplay'])[start_ind:end_ind])\n",
        "        self.stddev_delta = np.array(row[player + '_scoreStdev'][start_ind:end_ind]) - np.array(\n",
        "            (std_0 + row[enemy + '_scoreStdev'])[start_ind:end_ind])\n",
        "\n",
        "        if player == 'B':\n",
        "            self.winrate_delta = -self.winrate_delta\n",
        "            self.score_delta = -self.score_delta\n",
        "            self.utility_delta = -self.utility_delta\n",
        "            self.selfplay_delta = -self.selfplay_delta\n",
        "\n",
        "        self.move = row[player + '_move'].split()\n",
        "        self.cnt_moves = end_ind - start_ind\n",
        "\n",
        "\n",
        "def delta_moves(a, b):\n",
        "    return abs(ord(a[0]) - ord(b[0])) + abs(ord(a[1]) - ord(b[1]))\n",
        "\n",
        "\n",
        "def get_distance_of_moves(moves):\n",
        "    ans = np.zeros(len(moves) - 1)\n",
        "    for i in range(1, len(moves)):\n",
        "        ans[i - 1] = delta_moves(moves[i], moves[i - 1])\n",
        "    return ans\n",
        "\n",
        "\n",
        "def get_distance_from_enemy(my_moves, enemy_moves):\n",
        "    ans = np.zeros(min(len(my_moves), len(enemy_moves)))\n",
        "    for i in range(min(len(my_moves), len(enemy_moves))):\n",
        "        ans[i] = delta_moves(my_moves[i], enemy_moves[i])\n",
        "    return ans\n",
        "\n",
        "\n",
        "def delete_non_scalar_parameters(df):\n",
        "    df.drop(['W_rating', 'B_rating', 'W_move', 'B_move', 'W_scoreLead', 'B_scoreLead', 'W_scoreSelfplay',\n",
        "             'B_scoreSelfplay', 'W_scoreStdev', 'B_scoreStdev', 'W_utility', 'B_utility',\n",
        "             'W_winrate', 'B_winrate', 'Result'], axis=1, inplace=True)\n",
        "\n",
        "\n",
        "def add_delta_lists_to_row(row, moves, player = 'W'):\n",
        "    row['winrate'] = moves.winrate_delta\n",
        "    row['score'] = moves.score_delta\n",
        "    row['winrate_sqr'] = np.array([x ** 2 for x  in moves.winrate_delta])\n",
        "    row['score_sqr'] = np.array([x ** 2 for x  in moves.score_delta])\n",
        "    row['utility'] = moves.utility_delta\n",
        "    row['selfplay'] = moves.selfplay_delta\n",
        "    row['stddev'] = moves.stddev_delta\n",
        "    row['dist_from_prev'] = get_distance_of_moves(moves.move)\n",
        "    row['dist_more_5'] = [int(x > 5) + 1 for x in row['dist_from_prev']]\n",
        "    enemy = 'B' if player == 'W' else 'W'\n",
        "    row['dist_enemy'] = get_distance_from_enemy(row[player + '_move'].split(), row[enemy + '_move'].split())\n",
        "\n",
        "\n",
        "def add_lists_to_df(df, player='W'):\n",
        "    df['winrate'] = None\n",
        "    df['score'] = None\n",
        "    df['utility'] = None\n",
        "    df['selfplay'] = None\n",
        "    df['stddev'] = None\n",
        "    df['dist_from_prev'] = None\n",
        "    df['score_sqr'] = None\n",
        "    df['winrate_sqr'] = None\n",
        "    df['dist_more_5'] = None\n",
        "    df['dist_enemy'] = None\n",
        "    for i, row in tqdm(df.iterrows()):\n",
        "        add_delta_lists_to_row(row, MovesInfo(row, player=player))\n",
        "        df.loc[i] = row\n",
        "\n",
        "\n",
        "def add_meta_to_df(df):\n",
        "    df['W_rank'] = None\n",
        "    df['B_rank'] = None\n",
        "    df['game_length'] = None\n",
        "    df['rank_diff'] = None\n",
        "    df['rank_mid'] = None\n",
        "    for i, row in tqdm(df.iterrows()):\n",
        "        try:\n",
        "            add_meta(row)\n",
        "            df.loc[i] = row\n",
        "        except Exception as e:\n",
        "            print(e)\n",
        "            df = df.drop(index=[i])\n",
        "\n",
        "def get_df_with_lists(df):\n",
        "    print(len(df))\n",
        "    add_meta_to_df(df)\n",
        "    print(len(df))\n",
        "    convert_to_lists(df)\n",
        "    print(len(df))\n",
        "    add_lists_to_df(df)\n",
        "    print(len(df))\n",
        "    return df\n"
      ]
    },
    {
      "cell_type": "code",
      "execution_count": 2,
      "metadata": {
        "colab": {
          "base_uri": "https://localhost:8080/"
        },
        "id": "yoszmmGtX9Bo",
        "outputId": "e139ddab-76da-476a-970f-aff8487a686a"
      },
      "outputs": [
        {
          "output_type": "stream",
          "name": "stdout",
          "text": [
            "Mounted at /content/drive\n"
          ]
        },
        {
          "output_type": "stream",
          "name": "stderr",
          "text": [
            "/usr/local/lib/python3.7/dist-packages/IPython/core/interactiveshell.py:2882: DtypeWarning: Columns (18,19,20,21) have mixed types.Specify dtype option on import or set low_memory=False.\n",
            "  exec(code_obj, self.user_global_ns, self.user_ns)\n"
          ]
        }
      ],
      "source": [
        "from google.colab import drive\n",
        "drive.mount('/content/drive')\n",
        "katago = pd.read_csv('/content/drive/MyDrive/mixed_data.csv')\n",
        "#katago.drop(['game_id', 'error, 'W_visits', 'B_visits'], axis=1, inplace=True)\n",
        "#katago.dropna(how = 'any', inplace= True)"
      ]
    },
    {
      "cell_type": "code",
      "source": [
        "katago.drop(['game_id', 'error', 'W_visits', 'B_visits'], axis=1, inplace=True)\n",
        "katago.dropna(how = 'any', inplace= True)\n",
        "len(katago)"
      ],
      "metadata": {
        "colab": {
          "base_uri": "https://localhost:8080/"
        },
        "id": "ZefeWkb5uVxr",
        "outputId": "3f70df82-1d2b-4f27-a2b9-6ebfed0269f3"
      },
      "execution_count": 3,
      "outputs": [
        {
          "output_type": "execute_result",
          "data": {
            "text/plain": [
              "74537"
            ]
          },
          "metadata": {},
          "execution_count": 3
        }
      ]
    },
    {
      "cell_type": "code",
      "source": [
        "katago = katago.loc[:, ~katago.columns.str.contains('^Unnamed')]"
      ],
      "metadata": {
        "id": "cnDjFFglkjSI"
      },
      "execution_count": 4,
      "outputs": []
    },
    {
      "cell_type": "code",
      "execution_count": 5,
      "metadata": {
        "colab": {
          "base_uri": "https://localhost:8080/"
        },
        "id": "MjH7VjZkfGvV",
        "outputId": "4dc3d5ed-c4d5-49ac-f481-9a873339dee8"
      },
      "outputs": [
        {
          "output_type": "stream",
          "name": "stdout",
          "text": [
            "74537\n"
          ]
        },
        {
          "output_type": "stream",
          "name": "stderr",
          "text": [
            "74537it [01:23, 890.88it/s]\n"
          ]
        },
        {
          "output_type": "stream",
          "name": "stdout",
          "text": [
            "74537\n"
          ]
        },
        {
          "output_type": "stream",
          "name": "stderr",
          "text": [
            "74537it [00:53, 1387.13it/s]\n"
          ]
        },
        {
          "output_type": "stream",
          "name": "stdout",
          "text": [
            "74537\n"
          ]
        },
        {
          "output_type": "stream",
          "name": "stderr",
          "text": [
            "74537it [01:08, 1087.45it/s]"
          ]
        },
        {
          "output_type": "stream",
          "name": "stdout",
          "text": [
            "74537\n"
          ]
        },
        {
          "output_type": "stream",
          "name": "stderr",
          "text": [
            "\n"
          ]
        }
      ],
      "source": [
        "katago_data = get_df_with_lists(katago.copy())"
      ]
    },
    {
      "cell_type": "code",
      "source": [
        "katago_data['game_length']"
      ],
      "metadata": {
        "id": "Nwa6407JR-K4"
      },
      "execution_count": null,
      "outputs": []
    },
    {
      "cell_type": "code",
      "execution_count": null,
      "metadata": {
        "id": "LNEE-Zt3lz0a"
      },
      "outputs": [],
      "source": [
        "from sklearn.model_selection import train_test_split\n",
        "X_train, X_test, y_train, y_test = train_test_split(katago_data, katago_data['W_rank'], test_size=0.1)"
      ]
    },
    {
      "cell_type": "code",
      "source": [
        "import numpy as np\n",
        "import tensorflow as tf\n",
        "from tensorflow import keras\n",
        "from keras import layers\n",
        "\n",
        "def get_tensor(df, features, sequence_len):\n",
        "    def resize_to_length(m, length):\n",
        "        if len(m) > length:\n",
        "            return m[:length]\n",
        "        n_nules = length - len(m)\n",
        "        return list([0] * n_nules) + list(m)\n",
        "\n",
        "    arr = []\n",
        "    for feature in features:\n",
        "        arr.append([np.array(y) for y in df[feature].apply(lambda x: resize_to_length(x, sequence_len))])\n",
        "    arr = np.array(arr)\n",
        "    arr = arr.swapaxes(0, 1)\n",
        "    arr = arr.swapaxes(1, 2)\n",
        "    return tf.convert_to_tensor(arr, np.float32)\n",
        "\n",
        "\n",
        "class RnnKerasRunner:\n",
        "    __DEFAULT_FEATURES = ['score', 'winrate', 'utility', 'stddev', 'selfplay', 'dist_from_prev', 'winrate_sqr', 'score_sqr', 'dist_more_5']\n",
        "\n",
        "    def __create_rnn(self, hidden_units, input_shape):\n",
        "        model = keras.Sequential()\n",
        "        # model.add(layers.Embedding(input_dim=6, output_dim=6))\n",
        "        model.add(tf.keras.layers.Masking(mask_value=0.,\n",
        "                                          input_shape=input_shape))\n",
        "        model.add(layers.BatchNormalization())\n",
        "        model.add(layers.Dense(units=12, activation=\"linear\"))\n",
        "        model.add(layers.Dense(32, activation='relu'))\n",
        "        model.add(layers.Bidirectional(layers.LSTM(hidden_units)))  # , dropout = 0.15, reccurent_dropout = 0.15)))\n",
        "        model.add(layers.LeakyReLU())\n",
        "        model.add(layers.Dense(units=1, activation=\"linear\"))\n",
        "        model.compile(loss='mean_squared_error', optimizer='adam', metrics=\"mean_absolute_error\")\n",
        "        return model\n",
        "\n",
        "    def __init__(self, model = None, sequence_len=150, features=__DEFAULT_FEATURES):\n",
        "        self.features = features\n",
        "        self.sequence_len = sequence_len\n",
        "        if model is None:\n",
        "            self.model = self.__create_rnn(128, (sequence_len, len(features)))\n",
        "        else:\n",
        "            self.model = model\n",
        "\n",
        "    def fit(self, df, target, val_X = None, val_y = None, epochs=10, batch_size=256):\n",
        "        val_data = None\n",
        "        if val_X is not None:\n",
        "            val_X = get_tensor(val_X, self.features, self.sequence_len)\n",
        "            val_y = tf.convert_to_tensor(val_y, np.float32)\n",
        "            val_data = (val_X, val_y)\n",
        "        X = get_tensor(df, self.features, self.sequence_len)\n",
        "        self.model.fit(X, tf.convert_to_tensor(target, np.float32), validation_data = val_data, epochs=epochs,\n",
        "                       batch_size=batch_size)\n",
        "\n",
        "    def predict(self, df):\n",
        "        X = get_tensor(df, self.features, self.sequence_len)\n",
        "        return np.array([y[0] for y in self.model.predict(X)])"
      ],
      "metadata": {
        "id": "RFNDYlKiuHGx"
      },
      "execution_count": null,
      "outputs": []
    },
    {
      "cell_type": "code",
      "source": [
        "class ActiveLearner:\n",
        "  def fit(self, model, X_train, y_train, X_test, y_test, epochs = 3, iterations = 5):\n",
        "    length = len(X_train)\n",
        "    coef = 0.2\n",
        "    sub_train_sz = int(length * coef)\n",
        "    sub_Xtrain = X_train[:sub_train_sz]\n",
        "    sub_ytrain = y_train[:sub_train_sz]\n",
        "    for iter in range(iterations):\n",
        "      print(\"Iteration\", iter)\n",
        "      model.fit(sub_Xtrain, sub_ytrain, epochs = epochs, batch_size = 128)\n",
        "      indexes = np.random.choice(np.arange(len(X_train)), sub_train_sz, replace=False)\n",
        "      sub_Xtrain = X_train.iloc[indexes]\n",
        "      sub_ytrain = y_train.iloc[indexes]\n",
        "      y_pred = model.predict(sub_Xtrain)\n",
        "      diff = abs(np.array(sub_ytrain) - np.array(y_pred))\n",
        "      med_diff = np.median(diff)\n",
        "      indexes = np.where(diff > med_diff)[0]\n",
        "      sub_Xtrain = sub_Xtrain.iloc[indexes]\n",
        "      sub_ytrain = sub_ytrain.iloc[indexes]\n",
        "      print(\"MAE on val data is\", np.mean(abs(np.array(y_test) - np.array(model.predict(X_test)))))\n",
        "learner = ActiveLearner()\n",
        "features = ['score', 'winrate', 'utility', 'stddev', 'selfplay', 'dist_from_prev', \n",
        "            'W_winrate', 'B_winrate', 'W_scoreLead', 'B_scoreLead', 'W_scoreSelfplay',\n",
        "             'B_scoreSelfplay', 'W_scoreStdev', 'B_scoreStdev', 'dist_enemy']\n",
        "model = RnnKerasRunner(sequence_len=150, features = features) \n",
        "learner.fit(model, X_train, y_train, X_test, y_test, epochs = 1, iterations = 20)"
      ],
      "metadata": {
        "colab": {
          "base_uri": "https://localhost:8080/",
          "height": 1000
        },
        "id": "SlgUhLagn5NM",
        "outputId": "db188db3-636f-428e-e8e5-a06064c21672"
      },
      "execution_count": 9,
      "outputs": [
        {
          "metadata": {
            "tags": null
          },
          "name": "stdout",
          "output_type": "stream",
          "text": [
            "Iteration 0\n",
            "105/105 [==============================] - 113s 984ms/step - loss: 36.6337 - mean_absolute_error: 5.0851\n",
            "MAE on val data is 4.5400379934218975\n",
            "Iteration 1\n",
            "53/53 [==============================] - 49s 928ms/step - loss: 36.3098 - mean_absolute_error: 4.9016\n",
            "MAE on val data is 3.7102443602361905\n",
            "Iteration 2\n",
            "53/53 [==============================] - 49s 928ms/step - loss: 38.5309 - mean_absolute_error: 5.4791\n",
            "MAE on val data is 3.808619508287875\n",
            "Iteration 3\n",
            "53/53 [==============================] - 49s 926ms/step - loss: 34.6065 - mean_absolute_error: 4.8972\n",
            "MAE on val data is 3.44397819290142\n",
            "Iteration 4\n",
            "53/53 [==============================] - 49s 926ms/step - loss: 35.4049 - mean_absolute_error: 5.2014\n",
            "MAE on val data is 3.8973734419995796\n",
            "Iteration 5\n",
            "53/53 [==============================] - 51s 957ms/step - loss: 32.1726 - mean_absolute_error: 4.6470\n",
            "MAE on val data is 3.4185617151029204\n",
            "Iteration 6\n",
            "53/53 [==============================] - 49s 930ms/step - loss: 34.2617 - mean_absolute_error: 4.9048\n",
            "MAE on val data is 4.077342472597157\n",
            "Iteration 7\n",
            "53/53 [==============================] - 49s 931ms/step - loss: 33.0683 - mean_absolute_error: 4.5984\n",
            "MAE on val data is 3.734915285225561\n",
            "Iteration 8\n",
            "53/53 [==============================] - 49s 928ms/step - loss: 29.7623 - mean_absolute_error: 4.2455\n",
            "MAE on val data is 4.374050311060027\n",
            "Iteration 9\n",
            "53/53 [==============================] - 49s 928ms/step - loss: 27.9210 - mean_absolute_error: 4.1659\n",
            "MAE on val data is 5.282432732255522\n",
            "Iteration 10\n",
            "53/53 [==============================] - 50s 940ms/step - loss: 33.4419 - mean_absolute_error: 4.3600\n",
            "MAE on val data is 6.304997454000312\n",
            "Iteration 11\n",
            "53/53 [==============================] - 50s 945ms/step - loss: 21.6360 - mean_absolute_error: 3.4934\n",
            "MAE on val data is 6.418671973691346\n",
            "Iteration 12\n",
            "53/53 [==============================] - 50s 943ms/step - loss: 37.3562 - mean_absolute_error: 4.9056\n",
            "MAE on val data is 7.513150732669913\n",
            "Iteration 13\n",
            "53/53 [==============================] - 50s 949ms/step - loss: 47.2076 - mean_absolute_error: 5.4842\n",
            "MAE on val data is 7.050099491065522\n",
            "Iteration 14\n",
            "53/53 [==============================] - 50s 935ms/step - loss: 38.0027 - mean_absolute_error: 4.9244\n",
            "MAE on val data is 7.450805504847071\n",
            "Iteration 15\n",
            "53/53 [==============================] - 49s 931ms/step - loss: 59.3675 - mean_absolute_error: 6.6722\n",
            "MAE on val data is 6.9045678963122565\n",
            "Iteration 16\n",
            "53/53 [==============================] - 50s 936ms/step - loss: 68.5411 - mean_absolute_error: 6.9466\n"
          ]
        },
        {
          "ename": "KeyboardInterrupt",
          "evalue": "ignored",
          "output_type": "error",
          "traceback": [
            "\u001b[0;31m---------------------------------------------------------------------------\u001b[0m",
            "\u001b[0;31mKeyboardInterrupt\u001b[0m                         Traceback (most recent call last)",
            "\u001b[0;32m<ipython-input-9-86a5094c8933>\u001b[0m in \u001b[0;36m<module>\u001b[0;34m()\u001b[0m\n\u001b[1;32m     24\u001b[0m              'B_scoreSelfplay', 'W_scoreStdev', 'B_scoreStdev', 'dist_enemy']\n\u001b[1;32m     25\u001b[0m \u001b[0mmodel\u001b[0m \u001b[0;34m=\u001b[0m \u001b[0mRnnKerasRunner\u001b[0m\u001b[0;34m(\u001b[0m\u001b[0msequence_len\u001b[0m\u001b[0;34m=\u001b[0m\u001b[0;36m150\u001b[0m\u001b[0;34m,\u001b[0m \u001b[0mfeatures\u001b[0m \u001b[0;34m=\u001b[0m \u001b[0mfeatures\u001b[0m\u001b[0;34m)\u001b[0m\u001b[0;34m\u001b[0m\u001b[0;34m\u001b[0m\u001b[0m\n\u001b[0;32m---> 26\u001b[0;31m \u001b[0mlearner\u001b[0m\u001b[0;34m.\u001b[0m\u001b[0mfit\u001b[0m\u001b[0;34m(\u001b[0m\u001b[0mmodel\u001b[0m\u001b[0;34m,\u001b[0m \u001b[0mX_train\u001b[0m\u001b[0;34m,\u001b[0m \u001b[0my_train\u001b[0m\u001b[0;34m,\u001b[0m \u001b[0mX_test\u001b[0m\u001b[0;34m,\u001b[0m \u001b[0my_test\u001b[0m\u001b[0;34m,\u001b[0m \u001b[0mepochs\u001b[0m \u001b[0;34m=\u001b[0m \u001b[0;36m1\u001b[0m\u001b[0;34m,\u001b[0m \u001b[0miterations\u001b[0m \u001b[0;34m=\u001b[0m \u001b[0;36m20\u001b[0m\u001b[0;34m)\u001b[0m\u001b[0;34m\u001b[0m\u001b[0;34m\u001b[0m\u001b[0m\n\u001b[0m",
            "\u001b[0;32m<ipython-input-9-86a5094c8933>\u001b[0m in \u001b[0;36mfit\u001b[0;34m(self, model, X_train, y_train, X_test, y_test, epochs, iterations)\u001b[0m\n\u001b[1;32m     12\u001b[0m       \u001b[0msub_Xtrain\u001b[0m \u001b[0;34m=\u001b[0m \u001b[0mX_train\u001b[0m\u001b[0;34m.\u001b[0m\u001b[0miloc\u001b[0m\u001b[0;34m[\u001b[0m\u001b[0mindexes\u001b[0m\u001b[0;34m]\u001b[0m\u001b[0;34m\u001b[0m\u001b[0;34m\u001b[0m\u001b[0m\n\u001b[1;32m     13\u001b[0m       \u001b[0msub_ytrain\u001b[0m \u001b[0;34m=\u001b[0m \u001b[0my_train\u001b[0m\u001b[0;34m.\u001b[0m\u001b[0miloc\u001b[0m\u001b[0;34m[\u001b[0m\u001b[0mindexes\u001b[0m\u001b[0;34m]\u001b[0m\u001b[0;34m\u001b[0m\u001b[0;34m\u001b[0m\u001b[0m\n\u001b[0;32m---> 14\u001b[0;31m       \u001b[0my_pred\u001b[0m \u001b[0;34m=\u001b[0m \u001b[0mmodel\u001b[0m\u001b[0;34m.\u001b[0m\u001b[0mpredict\u001b[0m\u001b[0;34m(\u001b[0m\u001b[0msub_Xtrain\u001b[0m\u001b[0;34m)\u001b[0m\u001b[0;34m\u001b[0m\u001b[0;34m\u001b[0m\u001b[0m\n\u001b[0m\u001b[1;32m     15\u001b[0m       \u001b[0mdiff\u001b[0m \u001b[0;34m=\u001b[0m \u001b[0mabs\u001b[0m\u001b[0;34m(\u001b[0m\u001b[0mnp\u001b[0m\u001b[0;34m.\u001b[0m\u001b[0marray\u001b[0m\u001b[0;34m(\u001b[0m\u001b[0msub_ytrain\u001b[0m\u001b[0;34m)\u001b[0m \u001b[0;34m-\u001b[0m \u001b[0mnp\u001b[0m\u001b[0;34m.\u001b[0m\u001b[0marray\u001b[0m\u001b[0;34m(\u001b[0m\u001b[0my_pred\u001b[0m\u001b[0;34m)\u001b[0m\u001b[0;34m)\u001b[0m\u001b[0;34m\u001b[0m\u001b[0;34m\u001b[0m\u001b[0m\n\u001b[1;32m     16\u001b[0m       \u001b[0mmed_diff\u001b[0m \u001b[0;34m=\u001b[0m \u001b[0mnp\u001b[0m\u001b[0;34m.\u001b[0m\u001b[0mmedian\u001b[0m\u001b[0;34m(\u001b[0m\u001b[0mdiff\u001b[0m\u001b[0;34m)\u001b[0m\u001b[0;34m\u001b[0m\u001b[0;34m\u001b[0m\u001b[0m\n",
            "\u001b[0;32m<ipython-input-8-fd6fb4c5c783>\u001b[0m in \u001b[0;36mpredict\u001b[0;34m(self, df)\u001b[0m\n\u001b[1;32m     57\u001b[0m     \u001b[0;32mdef\u001b[0m \u001b[0mpredict\u001b[0m\u001b[0;34m(\u001b[0m\u001b[0mself\u001b[0m\u001b[0;34m,\u001b[0m \u001b[0mdf\u001b[0m\u001b[0;34m)\u001b[0m\u001b[0;34m:\u001b[0m\u001b[0;34m\u001b[0m\u001b[0;34m\u001b[0m\u001b[0m\n\u001b[1;32m     58\u001b[0m         \u001b[0mX\u001b[0m \u001b[0;34m=\u001b[0m \u001b[0mget_tensor\u001b[0m\u001b[0;34m(\u001b[0m\u001b[0mdf\u001b[0m\u001b[0;34m,\u001b[0m \u001b[0mself\u001b[0m\u001b[0;34m.\u001b[0m\u001b[0mfeatures\u001b[0m\u001b[0;34m,\u001b[0m \u001b[0mself\u001b[0m\u001b[0;34m.\u001b[0m\u001b[0msequence_len\u001b[0m\u001b[0;34m)\u001b[0m\u001b[0;34m\u001b[0m\u001b[0;34m\u001b[0m\u001b[0m\n\u001b[0;32m---> 59\u001b[0;31m         \u001b[0;32mreturn\u001b[0m \u001b[0mnp\u001b[0m\u001b[0;34m.\u001b[0m\u001b[0marray\u001b[0m\u001b[0;34m(\u001b[0m\u001b[0;34m[\u001b[0m\u001b[0my\u001b[0m\u001b[0;34m[\u001b[0m\u001b[0;36m0\u001b[0m\u001b[0;34m]\u001b[0m \u001b[0;32mfor\u001b[0m \u001b[0my\u001b[0m \u001b[0;32min\u001b[0m \u001b[0mself\u001b[0m\u001b[0;34m.\u001b[0m\u001b[0mmodel\u001b[0m\u001b[0;34m.\u001b[0m\u001b[0mpredict\u001b[0m\u001b[0;34m(\u001b[0m\u001b[0mX\u001b[0m\u001b[0;34m)\u001b[0m\u001b[0;34m]\u001b[0m\u001b[0;34m)\u001b[0m\u001b[0;34m\u001b[0m\u001b[0;34m\u001b[0m\u001b[0m\n\u001b[0m",
            "\u001b[0;32m/usr/local/lib/python3.7/dist-packages/keras/utils/traceback_utils.py\u001b[0m in \u001b[0;36merror_handler\u001b[0;34m(*args, **kwargs)\u001b[0m\n\u001b[1;32m     62\u001b[0m     \u001b[0mfiltered_tb\u001b[0m \u001b[0;34m=\u001b[0m \u001b[0;32mNone\u001b[0m\u001b[0;34m\u001b[0m\u001b[0;34m\u001b[0m\u001b[0m\n\u001b[1;32m     63\u001b[0m     \u001b[0;32mtry\u001b[0m\u001b[0;34m:\u001b[0m\u001b[0;34m\u001b[0m\u001b[0;34m\u001b[0m\u001b[0m\n\u001b[0;32m---> 64\u001b[0;31m       \u001b[0;32mreturn\u001b[0m \u001b[0mfn\u001b[0m\u001b[0;34m(\u001b[0m\u001b[0;34m*\u001b[0m\u001b[0margs\u001b[0m\u001b[0;34m,\u001b[0m \u001b[0;34m**\u001b[0m\u001b[0mkwargs\u001b[0m\u001b[0;34m)\u001b[0m\u001b[0;34m\u001b[0m\u001b[0;34m\u001b[0m\u001b[0m\n\u001b[0m\u001b[1;32m     65\u001b[0m     \u001b[0;32mexcept\u001b[0m \u001b[0mException\u001b[0m \u001b[0;32mas\u001b[0m \u001b[0me\u001b[0m\u001b[0;34m:\u001b[0m  \u001b[0;31m# pylint: disable=broad-except\u001b[0m\u001b[0;34m\u001b[0m\u001b[0;34m\u001b[0m\u001b[0m\n\u001b[1;32m     66\u001b[0m       \u001b[0mfiltered_tb\u001b[0m \u001b[0;34m=\u001b[0m \u001b[0m_process_traceback_frames\u001b[0m\u001b[0;34m(\u001b[0m\u001b[0me\u001b[0m\u001b[0;34m.\u001b[0m\u001b[0m__traceback__\u001b[0m\u001b[0;34m)\u001b[0m\u001b[0;34m\u001b[0m\u001b[0;34m\u001b[0m\u001b[0m\n",
            "\u001b[0;32m/usr/local/lib/python3.7/dist-packages/keras/engine/training.py\u001b[0m in \u001b[0;36mpredict\u001b[0;34m(self, x, batch_size, verbose, steps, callbacks, max_queue_size, workers, use_multiprocessing)\u001b[0m\n\u001b[1;32m   1980\u001b[0m           \u001b[0;32mfor\u001b[0m \u001b[0mstep\u001b[0m \u001b[0;32min\u001b[0m \u001b[0mdata_handler\u001b[0m\u001b[0;34m.\u001b[0m\u001b[0msteps\u001b[0m\u001b[0;34m(\u001b[0m\u001b[0;34m)\u001b[0m\u001b[0;34m:\u001b[0m\u001b[0;34m\u001b[0m\u001b[0;34m\u001b[0m\u001b[0m\n\u001b[1;32m   1981\u001b[0m             \u001b[0mcallbacks\u001b[0m\u001b[0;34m.\u001b[0m\u001b[0mon_predict_batch_begin\u001b[0m\u001b[0;34m(\u001b[0m\u001b[0mstep\u001b[0m\u001b[0;34m)\u001b[0m\u001b[0;34m\u001b[0m\u001b[0;34m\u001b[0m\u001b[0m\n\u001b[0;32m-> 1982\u001b[0;31m             \u001b[0mtmp_batch_outputs\u001b[0m \u001b[0;34m=\u001b[0m \u001b[0mself\u001b[0m\u001b[0;34m.\u001b[0m\u001b[0mpredict_function\u001b[0m\u001b[0;34m(\u001b[0m\u001b[0miterator\u001b[0m\u001b[0;34m)\u001b[0m\u001b[0;34m\u001b[0m\u001b[0;34m\u001b[0m\u001b[0m\n\u001b[0m\u001b[1;32m   1983\u001b[0m             \u001b[0;32mif\u001b[0m \u001b[0mdata_handler\u001b[0m\u001b[0;34m.\u001b[0m\u001b[0mshould_sync\u001b[0m\u001b[0;34m:\u001b[0m\u001b[0;34m\u001b[0m\u001b[0;34m\u001b[0m\u001b[0m\n\u001b[1;32m   1984\u001b[0m               \u001b[0mcontext\u001b[0m\u001b[0;34m.\u001b[0m\u001b[0masync_wait\u001b[0m\u001b[0;34m(\u001b[0m\u001b[0;34m)\u001b[0m\u001b[0;34m\u001b[0m\u001b[0;34m\u001b[0m\u001b[0m\n",
            "\u001b[0;32m/usr/local/lib/python3.7/dist-packages/tensorflow/python/util/traceback_utils.py\u001b[0m in \u001b[0;36merror_handler\u001b[0;34m(*args, **kwargs)\u001b[0m\n\u001b[1;32m    148\u001b[0m     \u001b[0mfiltered_tb\u001b[0m \u001b[0;34m=\u001b[0m \u001b[0;32mNone\u001b[0m\u001b[0;34m\u001b[0m\u001b[0;34m\u001b[0m\u001b[0m\n\u001b[1;32m    149\u001b[0m     \u001b[0;32mtry\u001b[0m\u001b[0;34m:\u001b[0m\u001b[0;34m\u001b[0m\u001b[0;34m\u001b[0m\u001b[0m\n\u001b[0;32m--> 150\u001b[0;31m       \u001b[0;32mreturn\u001b[0m \u001b[0mfn\u001b[0m\u001b[0;34m(\u001b[0m\u001b[0;34m*\u001b[0m\u001b[0margs\u001b[0m\u001b[0;34m,\u001b[0m \u001b[0;34m**\u001b[0m\u001b[0mkwargs\u001b[0m\u001b[0;34m)\u001b[0m\u001b[0;34m\u001b[0m\u001b[0;34m\u001b[0m\u001b[0m\n\u001b[0m\u001b[1;32m    151\u001b[0m     \u001b[0;32mexcept\u001b[0m \u001b[0mException\u001b[0m \u001b[0;32mas\u001b[0m \u001b[0me\u001b[0m\u001b[0;34m:\u001b[0m\u001b[0;34m\u001b[0m\u001b[0;34m\u001b[0m\u001b[0m\n\u001b[1;32m    152\u001b[0m       \u001b[0mfiltered_tb\u001b[0m \u001b[0;34m=\u001b[0m \u001b[0m_process_traceback_frames\u001b[0m\u001b[0;34m(\u001b[0m\u001b[0me\u001b[0m\u001b[0;34m.\u001b[0m\u001b[0m__traceback__\u001b[0m\u001b[0;34m)\u001b[0m\u001b[0;34m\u001b[0m\u001b[0;34m\u001b[0m\u001b[0m\n",
            "\u001b[0;32m/usr/local/lib/python3.7/dist-packages/tensorflow/python/eager/def_function.py\u001b[0m in \u001b[0;36m__call__\u001b[0;34m(self, *args, **kwds)\u001b[0m\n\u001b[1;32m    913\u001b[0m \u001b[0;34m\u001b[0m\u001b[0m\n\u001b[1;32m    914\u001b[0m       \u001b[0;32mwith\u001b[0m \u001b[0mOptionalXlaContext\u001b[0m\u001b[0;34m(\u001b[0m\u001b[0mself\u001b[0m\u001b[0;34m.\u001b[0m\u001b[0m_jit_compile\u001b[0m\u001b[0;34m)\u001b[0m\u001b[0;34m:\u001b[0m\u001b[0;34m\u001b[0m\u001b[0;34m\u001b[0m\u001b[0m\n\u001b[0;32m--> 915\u001b[0;31m         \u001b[0mresult\u001b[0m \u001b[0;34m=\u001b[0m \u001b[0mself\u001b[0m\u001b[0;34m.\u001b[0m\u001b[0m_call\u001b[0m\u001b[0;34m(\u001b[0m\u001b[0;34m*\u001b[0m\u001b[0margs\u001b[0m\u001b[0;34m,\u001b[0m \u001b[0;34m**\u001b[0m\u001b[0mkwds\u001b[0m\u001b[0;34m)\u001b[0m\u001b[0;34m\u001b[0m\u001b[0;34m\u001b[0m\u001b[0m\n\u001b[0m\u001b[1;32m    916\u001b[0m \u001b[0;34m\u001b[0m\u001b[0m\n\u001b[1;32m    917\u001b[0m       \u001b[0mnew_tracing_count\u001b[0m \u001b[0;34m=\u001b[0m \u001b[0mself\u001b[0m\u001b[0;34m.\u001b[0m\u001b[0mexperimental_get_tracing_count\u001b[0m\u001b[0;34m(\u001b[0m\u001b[0;34m)\u001b[0m\u001b[0;34m\u001b[0m\u001b[0;34m\u001b[0m\u001b[0m\n",
            "\u001b[0;32m/usr/local/lib/python3.7/dist-packages/tensorflow/python/eager/def_function.py\u001b[0m in \u001b[0;36m_call\u001b[0;34m(self, *args, **kwds)\u001b[0m\n\u001b[1;32m    952\u001b[0m       \u001b[0;31m# In this case we have not created variables on the first call. So we can\u001b[0m\u001b[0;34m\u001b[0m\u001b[0;34m\u001b[0m\u001b[0;34m\u001b[0m\u001b[0m\n\u001b[1;32m    953\u001b[0m       \u001b[0;31m# run the first trace but we should fail if variables are created.\u001b[0m\u001b[0;34m\u001b[0m\u001b[0;34m\u001b[0m\u001b[0;34m\u001b[0m\u001b[0m\n\u001b[0;32m--> 954\u001b[0;31m       \u001b[0mresults\u001b[0m \u001b[0;34m=\u001b[0m \u001b[0mself\u001b[0m\u001b[0;34m.\u001b[0m\u001b[0m_stateful_fn\u001b[0m\u001b[0;34m(\u001b[0m\u001b[0;34m*\u001b[0m\u001b[0margs\u001b[0m\u001b[0;34m,\u001b[0m \u001b[0;34m**\u001b[0m\u001b[0mkwds\u001b[0m\u001b[0;34m)\u001b[0m\u001b[0;34m\u001b[0m\u001b[0;34m\u001b[0m\u001b[0m\n\u001b[0m\u001b[1;32m    955\u001b[0m       \u001b[0;32mif\u001b[0m \u001b[0mself\u001b[0m\u001b[0;34m.\u001b[0m\u001b[0m_created_variables\u001b[0m \u001b[0;32mand\u001b[0m \u001b[0;32mnot\u001b[0m \u001b[0mALLOW_DYNAMIC_VARIABLE_CREATION\u001b[0m\u001b[0;34m:\u001b[0m\u001b[0;34m\u001b[0m\u001b[0;34m\u001b[0m\u001b[0m\n\u001b[1;32m    956\u001b[0m         raise ValueError(\"Creating variables on a non-first call to a function\"\n",
            "\u001b[0;32m/usr/local/lib/python3.7/dist-packages/tensorflow/python/eager/function.py\u001b[0m in \u001b[0;36m__call__\u001b[0;34m(self, *args, **kwargs)\u001b[0m\n\u001b[1;32m   2955\u001b[0m        filtered_flat_args) = self._maybe_define_function(args, kwargs)\n\u001b[1;32m   2956\u001b[0m     return graph_function._call_flat(\n\u001b[0;32m-> 2957\u001b[0;31m         filtered_flat_args, captured_inputs=graph_function.captured_inputs)  # pylint: disable=protected-access\n\u001b[0m\u001b[1;32m   2958\u001b[0m \u001b[0;34m\u001b[0m\u001b[0m\n\u001b[1;32m   2959\u001b[0m   \u001b[0;34m@\u001b[0m\u001b[0mproperty\u001b[0m\u001b[0;34m\u001b[0m\u001b[0;34m\u001b[0m\u001b[0m\n",
            "\u001b[0;32m/usr/local/lib/python3.7/dist-packages/tensorflow/python/eager/function.py\u001b[0m in \u001b[0;36m_call_flat\u001b[0;34m(self, args, captured_inputs, cancellation_manager)\u001b[0m\n\u001b[1;32m   1852\u001b[0m       \u001b[0;31m# No tape is watching; skip to running the function.\u001b[0m\u001b[0;34m\u001b[0m\u001b[0;34m\u001b[0m\u001b[0;34m\u001b[0m\u001b[0m\n\u001b[1;32m   1853\u001b[0m       return self._build_call_outputs(self._inference_function.call(\n\u001b[0;32m-> 1854\u001b[0;31m           ctx, args, cancellation_manager=cancellation_manager))\n\u001b[0m\u001b[1;32m   1855\u001b[0m     forward_backward = self._select_forward_and_backward_functions(\n\u001b[1;32m   1856\u001b[0m         \u001b[0margs\u001b[0m\u001b[0;34m,\u001b[0m\u001b[0;34m\u001b[0m\u001b[0;34m\u001b[0m\u001b[0m\n",
            "\u001b[0;32m/usr/local/lib/python3.7/dist-packages/tensorflow/python/eager/function.py\u001b[0m in \u001b[0;36mcall\u001b[0;34m(self, ctx, args, cancellation_manager)\u001b[0m\n\u001b[1;32m    502\u001b[0m               \u001b[0minputs\u001b[0m\u001b[0;34m=\u001b[0m\u001b[0margs\u001b[0m\u001b[0;34m,\u001b[0m\u001b[0;34m\u001b[0m\u001b[0;34m\u001b[0m\u001b[0m\n\u001b[1;32m    503\u001b[0m               \u001b[0mattrs\u001b[0m\u001b[0;34m=\u001b[0m\u001b[0mattrs\u001b[0m\u001b[0;34m,\u001b[0m\u001b[0;34m\u001b[0m\u001b[0;34m\u001b[0m\u001b[0m\n\u001b[0;32m--> 504\u001b[0;31m               ctx=ctx)\n\u001b[0m\u001b[1;32m    505\u001b[0m         \u001b[0;32melse\u001b[0m\u001b[0;34m:\u001b[0m\u001b[0;34m\u001b[0m\u001b[0;34m\u001b[0m\u001b[0m\n\u001b[1;32m    506\u001b[0m           outputs = execute.execute_with_cancellation(\n",
            "\u001b[0;32m/usr/local/lib/python3.7/dist-packages/tensorflow/python/eager/execute.py\u001b[0m in \u001b[0;36mquick_execute\u001b[0;34m(op_name, num_outputs, inputs, attrs, ctx, name)\u001b[0m\n\u001b[1;32m     53\u001b[0m     \u001b[0mctx\u001b[0m\u001b[0;34m.\u001b[0m\u001b[0mensure_initialized\u001b[0m\u001b[0;34m(\u001b[0m\u001b[0;34m)\u001b[0m\u001b[0;34m\u001b[0m\u001b[0;34m\u001b[0m\u001b[0m\n\u001b[1;32m     54\u001b[0m     tensors = pywrap_tfe.TFE_Py_Execute(ctx._handle, device_name, op_name,\n\u001b[0;32m---> 55\u001b[0;31m                                         inputs, attrs, num_outputs)\n\u001b[0m\u001b[1;32m     56\u001b[0m   \u001b[0;32mexcept\u001b[0m \u001b[0mcore\u001b[0m\u001b[0;34m.\u001b[0m\u001b[0m_NotOkStatusException\u001b[0m \u001b[0;32mas\u001b[0m \u001b[0me\u001b[0m\u001b[0;34m:\u001b[0m\u001b[0;34m\u001b[0m\u001b[0;34m\u001b[0m\u001b[0m\n\u001b[1;32m     57\u001b[0m     \u001b[0;32mif\u001b[0m \u001b[0mname\u001b[0m \u001b[0;32mis\u001b[0m \u001b[0;32mnot\u001b[0m \u001b[0;32mNone\u001b[0m\u001b[0;34m:\u001b[0m\u001b[0;34m\u001b[0m\u001b[0;34m\u001b[0m\u001b[0m\n",
            "\u001b[0;31mKeyboardInterrupt\u001b[0m: "
          ]
        }
      ]
    },
    {
      "cell_type": "code",
      "source": [
        "class ActiveLearner:\n",
        "  def fit(self, model, X_train, y_train, X_test, y_test, epochs = 3, iterations = 5):\n",
        "    length = len(X_train)\n",
        "    coef = 0.2\n",
        "    sub_train_sz = int(length * coef)\n",
        "    sub_Xtrain = X_train[:sub_train_sz]\n",
        "    sub_ytrain = y_train[:sub_train_sz]\n",
        "    for iter in range(iterations):\n",
        "      print(\"Iteration\", iter)\n",
        "      model.fit(sub_Xtrain, sub_ytrain, epochs = epochs, batch_size = 128)\n",
        "      indexes = np.random.choice(np.arange(len(X_train)), sub_train_sz, replace=False)\n",
        "      sub_Xtrain = X_train.iloc[indexes]\n",
        "      sub_ytrain = y_train.iloc[indexes]\n",
        "      y_pred = model.predict(sub_Xtrain)\n",
        "      diff = abs(np.array(sub_ytrain) - np.array(y_pred))\n",
        "      med_diff = np.median(diff)\n",
        "      indexes = np.where(diff > med_diff)[0]\n",
        "      sub_Xtrain = sub_Xtrain.iloc[indexes]\n",
        "      sub_ytrain = sub_ytrain.iloc[indexes]\n",
        "      print(\"MAE on val data is\", np.mean(abs(np.array(y_test) - np.array(model.predict(X_test)))))\n",
        "learner = ActiveLearner()\n",
        "learner.fit(model, X_train, y_train, X_test, y_test, epochs = 1, iterations = 5)"
      ],
      "metadata": {
        "colab": {
          "base_uri": "https://localhost:8080/"
        },
        "id": "I86lnycip416",
        "outputId": "e75c20c1-695c-4b00-c49f-05858e063f4c"
      },
      "execution_count": 12,
      "outputs": [
        {
          "output_type": "stream",
          "name": "stdout",
          "text": [
            "Iteration 0\n",
            "105/105 [==============================] - 116s 1s/step - loss: 50.1527 - mean_absolute_error: 6.2089\n",
            "MAE on val data is 5.584300564750449\n",
            "Iteration 1\n",
            "53/53 [==============================] - 49s 934ms/step - loss: 56.1397 - mean_absolute_error: 7.0662\n",
            "MAE on val data is 4.284748942974324\n",
            "Iteration 2\n",
            "53/53 [==============================] - 50s 935ms/step - loss: 44.0882 - mean_absolute_error: 5.7746\n",
            "MAE on val data is 4.96665748721126\n",
            "Iteration 3\n",
            "53/53 [==============================] - 49s 929ms/step - loss: 44.6348 - mean_absolute_error: 5.7510\n",
            "MAE on val data is 4.22238745480408\n",
            "Iteration 4\n",
            "53/53 [==============================] - 49s 931ms/step - loss: 41.8364 - mean_absolute_error: 5.5140\n",
            "MAE on val data is 5.075160362062311\n"
          ]
        }
      ]
    },
    {
      "cell_type": "code",
      "source": [
        "from keras.models import load_model\n",
        "model = RnnKerasRunner(sequence_len=150, features = features)             "
      ],
      "metadata": {
        "id": "zr3kxr-uuH0S"
      },
      "execution_count": 35,
      "outputs": []
    },
    {
      "cell_type": "code",
      "source": [
        "X_train.columns"
      ],
      "metadata": {
        "colab": {
          "base_uri": "https://localhost:8080/"
        },
        "id": "rxwL5TylzMVa",
        "outputId": "2428040f-09cb-4a45-cf5f-c13d4ccd1be6"
      },
      "execution_count": null,
      "outputs": [
        {
          "output_type": "execute_result",
          "data": {
            "text/plain": [
              "Index(['W_rating', 'B_rating', 'W_nickname', 'B_nickname', 'Result', 'W_move',\n",
              "       'B_move', 'W_scoreLead', 'B_scoreLead', 'W_scoreSelfplay',\n",
              "       'B_scoreSelfplay', 'W_scoreStdev', 'B_scoreStdev', 'W_utility',\n",
              "       'B_utility', 'W_visits', 'B_visits', 'W_winrate', 'B_winrate',\n",
              "       'winrate_mean', 'score_midmean', 'score_mean', 'score_var',\n",
              "       'winrate_beauty_percent', 'score_beauty_percent', 'utility_mean',\n",
              "       'score25p', 'score75p', 'winrate25p', 'winrate75p', 'winrate_midmean',\n",
              "       'score50p', 'game_length', 'rank', 'color', 'game_result',\n",
              "       'selfplay_mean', 'stddev_mean', 'stddev50p', 'stddev_last', 'score_max',\n",
              "       'score_min', 'score_five_best_mean', 'score_five_worst_mean', 'winrate',\n",
              "       'score', 'utility', 'selfplay', 'stddev', 'dist_from_prev', 'score_sqr',\n",
              "       'winrate_sqr', 'dist_more_5'],\n",
              "      dtype='object')"
            ]
          },
          "metadata": {},
          "execution_count": 10
        }
      ]
    },
    {
      "cell_type": "code",
      "source": [
        "model.fit(X_train, y_train, val_X = X_test, val_y = y_test, epochs=5, batch_size = 128)"
      ],
      "metadata": {
        "colab": {
          "base_uri": "https://localhost:8080/"
        },
        "id": "xP7gVuZX3_e2",
        "outputId": "9a02a39b-9855-4165-c495-8a42bd16392d"
      },
      "execution_count": 36,
      "outputs": [
        {
          "output_type": "stream",
          "name": "stdout",
          "text": [
            "Epoch 1/5\n",
            "350/350 [==============================] - 398s 1s/step - loss: 31.2317 - mean_absolute_error: 4.5778 - val_loss: 23.8982 - val_mean_absolute_error: 3.7887\n",
            "Epoch 2/5\n",
            "350/350 [==============================] - 381s 1s/step - loss: 19.1595 - mean_absolute_error: 3.4036 - val_loss: 18.3810 - val_mean_absolute_error: 3.2900\n",
            "Epoch 3/5\n",
            "350/350 [==============================] - 382s 1s/step - loss: 18.4296 - mean_absolute_error: 3.3141 - val_loss: 18.4919 - val_mean_absolute_error: 3.3075\n",
            "Epoch 4/5\n",
            "350/350 [==============================] - 383s 1s/step - loss: 17.9554 - mean_absolute_error: 3.2593 - val_loss: 17.0302 - val_mean_absolute_error: 3.1629\n",
            "Epoch 5/5\n",
            "350/350 [==============================] - 384s 1s/step - loss: 17.5557 - mean_absolute_error: 3.2124 - val_loss: 17.2045 - val_mean_absolute_error: 3.1769\n"
          ]
        }
      ]
    },
    {
      "cell_type": "code",
      "source": [
        "model.model.save('/content/drive/MyDrive/wow_model.h5')"
      ],
      "metadata": {
        "id": "EvxRuB_rRyNF"
      },
      "execution_count": 11,
      "outputs": []
    },
    {
      "cell_type": "code",
      "source": [
        "y_test = np.array(y_test)\n",
        "y_pred = model.predict(X_train)"
      ],
      "metadata": {
        "id": "3EEdpMA7B3wE"
      },
      "execution_count": 10,
      "outputs": []
    },
    {
      "cell_type": "code",
      "source": [
        "rz = np.abs(np.array(np.round(y_pred)) -np.array(y_test))\n",
        "print(np.mean([x <= 0 for x in rz]))\n",
        "print(np.mean([x <= 1 for x in rz]))\n",
        "print(np.mean([x <= 2 for x in rz]))\n",
        "print(np.mean([x <= 3 for x in rz]))"
      ],
      "metadata": {
        "id": "ITRLJ60U7zHO",
        "colab": {
          "base_uri": "https://localhost:8080/"
        },
        "outputId": "80f2fe7f-4bea-4e47-b912-f51551cd488d"
      },
      "execution_count": 11,
      "outputs": [
        {
          "output_type": "stream",
          "name": "stdout",
          "text": [
            "0.08116447544942312\n",
            "0.23530990072444324\n",
            "0.36544137375905555\n",
            "0.47826670244164204\n"
          ]
        }
      ]
    },
    {
      "cell_type": "code",
      "source": [
        "print(np.mean(rz))"
      ],
      "metadata": {
        "id": "DRHyN4znzGWA",
        "colab": {
          "base_uri": "https://localhost:8080/"
        },
        "outputId": "65ba2ff2-2737-4aad-a8de-3b065315afec"
      },
      "execution_count": 12,
      "outputs": [
        {
          "output_type": "stream",
          "name": "stdout",
          "text": [
            "4.163402200160988\n"
          ]
        }
      ]
    },
    {
      "cell_type": "code",
      "source": [
        "np.max(y_test)"
      ],
      "metadata": {
        "id": "LHkbcMydCHs2"
      },
      "execution_count": null,
      "outputs": []
    },
    {
      "cell_type": "code",
      "source": [
        "maes = []\n",
        "for rnk in range(-14, 10):\n",
        "  rz = []\n",
        "  for i in range(len(y_test)):\n",
        "    if y_test[i] == rnk:\n",
        "      rz.append(abs(y_pred[i] - y_test[i]))\n",
        "  print('Для ранга ', get_rank_from_int(rnk), ' MAE равно ', np.mean(rz))\n",
        "  maes.append(np.mean(rz))"
      ],
      "metadata": {
        "id": "KKp3T37b82S7",
        "colab": {
          "base_uri": "https://localhost:8080/"
        },
        "outputId": "42cf04e6-dea4-47c4-c7d5-190d36c46392"
      },
      "execution_count": 13,
      "outputs": [
        {
          "output_type": "stream",
          "name": "stdout",
          "text": [
            "Для ранга  15k  MAE равно  7.790368898953806\n",
            "Для ранга  14k  MAE равно  7.581721659459753\n",
            "Для ранга  13k  MAE равно  6.843453982578857\n",
            "Для ранга  12k  MAE равно  6.439856137557511\n",
            "Для ранга  11k  MAE равно  5.311474417327155\n",
            "Для ранга  10k  MAE равно  5.084488486123207\n",
            "Для ранга  9k  MAE равно  4.276001276733639\n",
            "Для ранга  8k  MAE равно  3.7044312381639894\n",
            "Для ранга  7k  MAE равно  3.181959775178979\n",
            "Для ранга  6k  MAE равно  3.045587604747718\n",
            "Для ранга  5k  MAE равно  2.4799239135979607\n",
            "Для ранга  4k  MAE равно  2.650661762971851\n",
            "Для ранга  3k  MAE равно  2.5655712305214897\n",
            "Для ранга  2k  MAE равно  2.681838498104456\n",
            "Для ранга  1k  MAE равно  2.671307790554872\n",
            "Для ранга  1d  MAE равно  2.633489937741413\n",
            "Для ранга  2d  MAE равно  2.733866191930881\n",
            "Для ранга  3d  MAE равно  2.5738107908982784\n",
            "Для ранга  4d  MAE равно  2.3777199825230935\n",
            "Для ранга  5d  MAE равно  2.1529023835548395\n",
            "Для ранга  6d  MAE равно  2.110465714232675\n",
            "Для ранга  7d  MAE равно  2.0655302537578932\n",
            "Для ранга  8d  MAE равно  2.671785227030637\n",
            "Для ранга  9d  MAE равно  2.923032672605782\n"
          ]
        }
      ]
    },
    {
      "cell_type": "code",
      "source": [
        "from matplotlib import pyplot as plt\n",
        "bins = [i + -18.001 for i in range(29)]\n",
        "plt.figure(figsize=(10, 6))\n",
        "plt.title(\"Распределение значения оценки параметра\")\n",
        "plt.hist(\n",
        "    y_test,\n",
        "    bins = bins,\n",
        "    alpha = 0.6,\n",
        "    color = 'orange',\n",
        "    label = 'Реальное распределение'\n",
        ")\n",
        "plt.hist(\n",
        "    y_pred,\n",
        "    bins = bins,\n",
        "    alpha = 0.6,\n",
        "    color = 'green',\n",
        "    label = 'RNN'\n",
        ")\n",
        "plt.legend()\n",
        "plt.show()"
      ],
      "metadata": {
        "id": "pl3LtcBL8h7w",
        "colab": {
          "base_uri": "https://localhost:8080/",
          "height": 390
        },
        "outputId": "6e40c009-ae6e-4bb9-8a6c-a7c3501df5d5"
      },
      "execution_count": 14,
      "outputs": [
        {
          "output_type": "display_data",
          "data": {
            "text/plain": [
              "<Figure size 720x432 with 1 Axes>"
            ],
            "image/png": "[encoded data removed]"
          },
          "metadata": {
            "needs_background": "light"
          }
        }
      ]
    },
    {
      "cell_type": "code",
      "source": [
        "data = pd.read_csv('/content/data.csv')\n",
        "df_to_pred = pd.concat([get_df_with_lists(data.copy(), player='W'), get_df_with_lists(data.copy(), player='B')])"
      ],
      "metadata": {
        "id": "jt9SIGpXMieA"
      },
      "execution_count": null,
      "outputs": []
    },
    {
      "cell_type": "code",
      "source": [
        "from collections import defaultdict\n",
        "\n",
        "model = cb_model\n",
        "df_to_pred[\"prediction\"] = np.array(np.round(model.predict(df_to_pred[feature_to_use])), dtype=\"int32\")\n",
        "\n",
        "games_res = defaultdict(dict)\n",
        "\n",
        "for i, row in tqdm(df_to_pred.iterrows()):\n",
        "    player = player_from_int(row['color'])\n",
        "\n",
        "    games_res[row['game_id']][player + '_real_rating'] = \\\n",
        "        get_rank_from_int(row['rank']) if row['rank'] is not None else None\n",
        "    games_res[row['game_id']][player + '_predicted_rating'] = get_rank_from_int(row['prediction'])\n",
        "    games_res[row['game_id']]['id'] = row['game_id']\n",
        "    games_res[row['game_id']][player + '_nickname'] = row[player + '_nickname']\n",
        "\n",
        "result_df = pd.DataFrame(columns=['game_id', 'W_real_rating', 'B_real_rating', 'W_predicted_rating',\n",
        "                                  'B_predicted_rating', 'W_nickname', 'B_nickname'])\n",
        "for result in games_res.values():\n",
        "    result_df = result_df.append(result, ignore_index=True)\n",
        "result_df.to_csv('/content/result.csv')"
      ],
      "metadata": {
        "id": "8iJs9VXdW6Do"
      },
      "execution_count": null,
      "outputs": []
    },
    {
      "cell_type": "code",
      "source": [
        "result_df.head()"
      ],
      "metadata": {
        "id": "tfMHptUWcQyC"
      },
      "execution_count": null,
      "outputs": []
    },
    {
      "cell_type": "code",
      "source": [
        ""
      ],
      "metadata": {
        "id": "Nlvjg0PSZMFE"
      },
      "execution_count": null,
      "outputs": []
    }
  ],
  "metadata": {
    "accelerator": "GPU",
    "colab": {
      "collapsed_sections": [],
      "name": "Active learning",
      "provenance": []
    },
    "kernelspec": {
      "display_name": "Python 3",
      "name": "python3"
    },
    "language_info": {
      "name": "python"
    }
  },
  "nbformat": 4,
  "nbformat_minor": 0
}