{
  "nbformat": 4,
  "nbformat_minor": 0,
  "metadata": {
    "colab": {
      "name": "test_framework .ipynb",
      "provenance": [],
      "collapsed_sections": []
    },
    "kernelspec": {
      "name": "python3",
      "display_name": "Python 3"
    },
    "language_info": {
      "name": "python"
    }
  },
  "cells": [
    {
      "cell_type": "code",
      "source": [
        "from google.colab import drive\n",
        "drive.mount('/content/drive')\n",
        "katago = pd.read_csv('/content/drive/MyDrive/data_katago.csv')\n",
        "katago.dropna(how = 'any', inplace= True)"
      ],
      "metadata": {
        "id": "yoszmmGtX9Bo",
        "colab": {
          "base_uri": "https://localhost:8080/"
        },
        "outputId": "58b28475-12ff-4f71-c601-bcf110b2883a"
      },
      "execution_count": null,
      "outputs": [
        {
          "output_type": "stream",
          "name": "stdout",
          "text": [
            "Drive already mounted at /content/drive; to attempt to forcibly remount, call drive.mount(\"/content/drive\", force_remount=True).\n"
          ]
        }
      ]
    },
    {
      "cell_type": "code",
      "source": [
        "print(katago.columns)"
      ],
      "metadata": {
        "colab": {
          "base_uri": "https://localhost:8080/"
        },
        "id": "urCjdZJy7Y6Y",
        "outputId": "a1057866-ea70-433d-bf55-bca34517e0fd"
      },
      "execution_count": null,
      "outputs": [
        {
          "output_type": "stream",
          "name": "stdout",
          "text": [
            "Index(['W_rating', 'B_rating', 'W_nickname', 'B_nickname', 'Result', 'W_move',\n",
            "       'B_move', 'W_scoreLead', 'B_scoreLead', 'W_scoreSelfplay',\n",
            "       'B_scoreSelfplay', 'W_scoreStdev', 'B_scoreStdev', 'W_utility',\n",
            "       'B_utility', 'W_visits', 'B_visits', 'W_winrate', 'B_winrate'],\n",
            "      dtype='object')\n"
          ]
        }
      ]
    },
    {
      "cell_type": "code",
      "source": [
        "class MovesInfo:\n",
        "    def __init__(self, row, n_moves=None, player='W'):\n",
        "        enemy = 'B' if player == 'W' else 'W'\n",
        "        moves_len = min(len(row[player + '_winrate']), len(row[enemy + '_winrate']))\n",
        "        if n_moves is None:\n",
        "            start_ind = 0\n",
        "        else:\n",
        "            start_ind = max(moves_len - n_moves - 1, 0)\n",
        "\n",
        "        end_ind = moves_len\n",
        "        w_0 = []\n",
        "        s_0 = []\n",
        "        std_0 = []\n",
        "        sf_0 = []\n",
        "        ut_0 = []\n",
        "        if player == 'B':\n",
        "          w_0 = [0.5]\n",
        "          s_0 = [0.0]\n",
        "          std_0 = [20.0]\n",
        "          sf_0 = [0.0]\n",
        "          ut_0 = [0.0]\n",
        "        self.winrate_delta = np.array(row[player + '_winrate'][start_ind:end_ind]) - np.array(\n",
        "            (w_0 + row[enemy + '_winrate'])[start_ind:end_ind])\n",
        "        self.score_delta = np.array(row[player + '_scoreLead'][start_ind:end_ind]) - np.array(\n",
        "            (s_0 + row[enemy + '_scoreLead'])[start_ind:end_ind])\n",
        "        self.utility_delta = np.array(row[player + '_utility'][start_ind:end_ind]) - np.array(\n",
        "            (ut_0 + row[enemy + '_utility'])[start_ind:end_ind])\n",
        "        self.selfplay_delta = np.array(row[player + '_scoreSelfplay'][start_ind:end_ind]) - np.array(\n",
        "            (sf_0 + row[enemy + '_scoreSelfplay'])[start_ind:end_ind])\n",
        "        self.stddev_delta = np.array(row[player + '_scoreStdev'][start_ind:end_ind]) - np.array(\n",
        "            (std_0 + row[enemy + '_scoreStdev'])[start_ind:end_ind])\n",
        "        if player == 'B':\n",
        "          self.winrate_delta = -self.winrate_delta\n",
        "          self.score_delta = -self.score_delta\n",
        "          self.selfplay_delta = -self.selfplay_delta\n",
        "        self.move = row[player + '_move'].split()\n",
        "        self.cnt_moves = end_ind - start_ind\n",
        "\n",
        "def add_meta(row):\n",
        "    if row['Result'] == '?':\n",
        "        row['game_result'] = 0\n",
        "    else:\n",
        "        row['game_result'] = int(row['Result'])\n",
        "    row['rank'] = get_int_from_rank(row['W_rating'])\n",
        "    row['game_length'] = len(row['W_move']) + len(row['B_move'])\n",
        "\n",
        "def get_unique_falls(df):\n",
        "   convert_to_lists(df)\n",
        "   df['mean_score'] = None \n",
        "   df['mean_unique_score'] = None\n",
        "   df['rank'] = None\n",
        "   df['game_length'] = None\n",
        "   df['game_result'] = None\n",
        "   df['mean_fall_W'] = None\n",
        "   df['mean_fall_B'] = None\n",
        "   for i, row in tqdm(df.iterrows()):\n",
        "        row['rank'] = 1\n",
        "        add_meta(row)\n",
        "        W_moves = MovesInfo(row, player = 'W')\n",
        "        B_moves = MovesInfo(row, player = 'B')\n",
        "        row['mean_score'] = np.mean(W_moves.score_delta)\n",
        "        row['mean_fall_W'] = np.mean(W_moves.score_delta)\n",
        "        row['mean_fall_B'] = np.mean(B_moves.score_delta)\n",
        "        falls = [0]\n",
        "        for j in range(1, W_moves.cnt_moves - 1):\n",
        "          #print(B_moves.score_delta[j])\n",
        "          if W_moves.score_delta[j] < 0:\n",
        "            prev = W_moves.score_delta[j - 1]\n",
        "            cur = W_moves.score_delta[j]\n",
        "            if B_moves.score_delta[j] < 0 and abs(B_moves.score_delta[j]) < 0.5 * abs(cur) and abs(cur):\n",
        "              falls.append(W_moves.score_delta[j])\n",
        "              print(W_moves.score_delta[j - 1], W_moves.score_delta[j])\n",
        "              #print(row['W_scoreLead'][j - 1], row['B_scoreLead'][j], row['W_scoreLead'][j], row['B_scoreLead'][j] - row['W_scoreLead'][j - 1], W_moves.score_delta[j])\n",
        "        row['mean_unique_score'] = np.mean(falls)    \n",
        "   return df       \n",
        "\n",
        "ktg =  get_unique_falls(katago[:4].copy())\n",
        "from scipy.stats import pearsonr    \n",
        "print(pearsonr(ktg['rank'], ktg['mean_score']))\n",
        "print(pearsonr(ktg['rank'], ktg['mean_unique_score']))   "
      ],
      "metadata": {
        "colab": {
          "base_uri": "https://localhost:8080/"
        },
        "id": "wZTQa2T5m3RJ",
        "outputId": "b0646852-fe84-41e8-ef80-0bd1b4f8043f"
      },
      "execution_count": null,
      "outputs": [
        {
          "output_type": "stream",
          "name": "stderr",
          "text": [
            "4it [00:00, 985.85it/s]\n",
            "4it [00:00, 645.25it/s]"
          ]
        },
        {
          "output_type": "stream",
          "name": "stdout",
          "text": [
            "-0.6933093969999999 -2.451866238\n",
            "-2.451866238 -1.15105534\n",
            "-1.15105534 -2.9157044799999996\n",
            "-1.15895355 -1.5970804700000003\n",
            "-4.78564012 -3.4880155946\n",
            "-0.19937893699999998 -0.9526096730000001\n",
            "-0.537156527 -1.18761861\n",
            "-0.24748396999999933 -1.2011232400000003\n",
            "-0.015822879999999984 -1.5073513999999992\n",
            "-0.08786249999999995 -1.3608636799999996\n",
            "-0.4518699399999999 -1.2173371500000005\n",
            "-1.1581373 -3.490897200000001\n",
            "-0.0902472000000003 -1.5922661000000016\n",
            "-0.9179458999999994 -2.1780643500000014\n",
            "-0.2499922546 -0.41888444099999994\n",
            "-0.1338990181 -0.9372389913\n",
            "-0.8742676767 -1.259544931\n",
            "-0.596470572 -0.925956057\n",
            "-0.36464845999999973 -4.599550299999999\n",
            "-8.5390082 -0.9362564000000013\n",
            "-0.9362564000000013 -0.7319116000000001\n",
            "2.1899337999999986 -14.691932699999999\n",
            "-2.111405399999999 -0.9430103000000045\n",
            "0.15034670000000006 -2.491750800000002\n",
            "-5.178472599999999 -7.179523400000001\n",
            "-0.9856015000000014 -3.7174643999999972\n",
            "-0.6340313000000037 -2.2923469000000054\n",
            "1.3103466000000026 -2.0460497999999987\n",
            "-3.1649341999999976 -5.867521199999999\n",
            "-5.867521199999999 -7.728824599999996\n",
            "-3.3051166999999992 -0.6109389999999948\n",
            "-0.47900009999999327 -2.435922600000005\n",
            "-2.435922600000005 -8.648097999999997\n",
            "-0.5146732999999983 -3.0759582000000023\n",
            "-0.6265544999999975 -1.0873197000000019\n",
            "(0.07605459803541617, 0.9239454019645839)\n",
            "(0.24831768351919875, 0.7516823164808013)\n"
          ]
        },
        {
          "output_type": "stream",
          "name": "stderr",
          "text": [
            "\n"
          ]
        }
      ]
    },
    {
      "cell_type": "code",
      "source": [
        "print(np.mean(ktg['mean_fall_W']))\n",
        "print(np.mean(ktg['mean_fall_B']))"
      ],
      "metadata": {
        "colab": {
          "base_uri": "https://localhost:8080/"
        },
        "id": "c-3YEn1HrGrC",
        "outputId": "fc470520-e0e2-41db-89dc-e026458f2870"
      },
      "execution_count": null,
      "outputs": [
        {
          "output_type": "stream",
          "name": "stdout",
          "text": [
            "-1.9622440319583065\n",
            "-1.9347484381655145\n"
          ]
        }
      ]
    },
    {
      "cell_type": "code",
      "source": [
        "katago_new = get_df_with_lists(katago)"
      ],
      "metadata": {
        "colab": {
          "base_uri": "https://localhost:8080/"
        },
        "id": "MjH7VjZkfGvV",
        "outputId": "ce2850a2-d682-424c-9e84-6fde630c87d6"
      },
      "execution_count": null,
      "outputs": [
        {
          "output_type": "stream",
          "name": "stderr",
          "text": [
            "144204it [01:30, 1591.56it/s]\n",
            "144204it [02:51, 842.06it/s]\n",
            "144204it [01:02, 2319.71it/s]\n",
            "144204it [01:49, 1315.17it/s]\n",
            "144204it [01:56, 1234.53it/s]\n"
          ]
        }
      ]
    }
  ]
}