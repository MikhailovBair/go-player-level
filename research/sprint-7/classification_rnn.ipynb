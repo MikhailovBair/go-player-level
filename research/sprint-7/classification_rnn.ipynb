{
  "nbformat": 4,
  "nbformat_minor": 0,
  "metadata": {
    "colab": {
      "name": "test_framework .ipynb",
      "provenance": [],
      "collapsed_sections": []
    },
    "kernelspec": {
      "name": "python3",
      "display_name": "Python 3"
    },
    "language_info": {
      "name": "python"
    }
  },
  "cells": [
    {
      "cell_type": "code",
      "execution_count": 196,
      "metadata": {
        "id": "I46krI64XyxR"
      },
      "outputs": [],
      "source": [
        "import numpy as np\n",
        "import pandas as pd\n",
        "from tqdm import tqdm\n",
        "\n",
        "\n",
        "def add_basic_stats(row, moves, pref=\"\"):\n",
        "    row[pref + 'winrate_mean'] = np.mean(moves.winrate_delta)\n",
        "    row[pref + 'score_mean'] = np.mean(moves.score_delta)\n",
        "    row[pref + 'score_var'] = np.var(moves.score_delta)\n",
        "    row[pref + 'selfplay_mean'] = np.mean(moves.selfplay_delta)\n",
        "    row[pref + 'utility_mean'] = np.mean(moves.utility_delta)\n",
        "    row[pref + 'winrate_beauty_percent'] = np.mean([x > 0 for x in moves.winrate_delta])\n",
        "    row[pref + 'score_beauty_percent'] = np.mean([x > 0 for x in moves.score_delta])\n",
        "\n",
        "\n",
        "def add_advanced_stats(row, moves, pref=\"\"):\n",
        "    moves.score_delta.sort()\n",
        "    moves.winrate_delta.sort()\n",
        "\n",
        "    row[pref + 'score25p'] = moves.score_delta[int(moves.cnt_moves * 0.25)]\n",
        "    row[pref + 'score75p'] = moves.score_delta[int(moves.cnt_moves * 0.75)]\n",
        "    row[pref + 'score_max'] = np.max(moves.score_delta)\n",
        "    row[pref + 'score_min'] = np.min(moves.score_delta)\n",
        "    row[pref + 'winrate25p'] = moves.winrate_delta[int(moves.cnt_moves * 0.25)]\n",
        "    row[pref + 'winrate75p'] = moves.winrate_delta[int(moves.cnt_moves * 0.75)]\n",
        "\n",
        "    row[pref + 'score_five_best_mean'] = np.mean(moves.score_delta[-5:])\n",
        "    row[pref + 'score_five_worst_mean'] = np.mean(moves.score_delta[:5])\n",
        "\n",
        "    row[pref + 'stddev_last'] = moves.stddev_delta[-1]\n",
        "    moves.stddev_delta.sort()\n",
        "    row[pref + 'stddev_mean'] = np.mean(moves.stddev_delta)\n",
        "    row[pref + 'stddev50p'] = moves.stddev_delta[int(moves.cnt_moves * 0.5)]\n",
        "\n",
        "    row[pref + 'score50p'] = moves.score_delta[int(moves.cnt_moves * 0.5)]\n",
        "\n",
        "    row[pref + 'winrate_midmean'] = np.mean(\n",
        "        moves.winrate_delta[int(moves.cnt_moves * 0.25):int(moves.cnt_moves * 0.75)])\n",
        "    row[pref + 'score_midmean'] = np.mean(moves.score_delta[int(moves.cnt_moves * 0.25):int(moves.cnt_moves * 0.75)])\n",
        "\n",
        "\n",
        "def get_int_from_rank(rank):\n",
        "    if rank[1] == 'k':\n",
        "        return -int(rank[0]) + 1\n",
        "    else:\n",
        "        return int(rank[0])\n",
        "\n",
        "\n",
        "def get_rank_from_int(x):\n",
        "    if x > 0:\n",
        "        return str(x) + \"d\"\n",
        "    else:\n",
        "        return str(-x + 1) + \"k\"\n",
        "\n",
        "\n",
        "def add_meta(row):\n",
        "    if row['Result'] == '?':\n",
        "        row['game_result'] = 0\n",
        "    else:\n",
        "        row['game_result'] = int(row['Result'])\n",
        "    row['rank'] = get_int_from_rank(row['W_rating'])\n",
        "    row['game_length'] = len(row['W_move']) + len(row['B_move'])\n",
        "\n",
        "\n",
        "def convert_to_lists(df):\n",
        "    for i, row in tqdm(df.iterrows()):\n",
        "        row['W_scoreLead'] = [float(x) for x in row['W_scoreLead'].split()]\n",
        "        row['B_scoreLead'] = [float(x) for x in row['B_scoreLead'].split()]\n",
        "        row['W_scoreSelfplay'] = [float(x) for x in row['W_scoreSelfplay'].split()]\n",
        "        row['B_scoreSelfplay'] = [float(x) for x in row['B_scoreSelfplay'].split()]\n",
        "        row['W_scoreStdev'] = [float(x) for x in row['W_scoreStdev'].split()]\n",
        "        row['B_scoreStdev'] = [float(x) for x in row['B_scoreStdev'].split()]\n",
        "        row['W_utility'] = [float(x) for x in row['W_utility'].split()]\n",
        "        row['B_utility'] = [float(x) for x in row['B_utility'].split()]\n",
        "        row['W_winrate'] = [float(x) for x in row['W_winrate'].split()]\n",
        "        row['B_winrate'] = [float(x) for x in row['B_winrate'].split()]\n",
        "\n",
        "\n",
        "class MovesInfo:\n",
        "    def __init__(self, row, n_moves=None, player='W'):\n",
        "        enemy = 'B' if player == 'W' else 'W'\n",
        "        moves_len = min(len(row[player + '_winrate']), len(row[enemy + '_winrate']))\n",
        "        if n_moves is None:\n",
        "            start_ind = 0\n",
        "        else:\n",
        "            start_ind = max(moves_len - n_moves - 1, 0)\n",
        "\n",
        "        end_ind = moves_len\n",
        "        self.winrate_delta = np.array(row[player + '_winrate'][start_ind:end_ind]) - np.array(\n",
        "            row[enemy + '_winrate'][start_ind:end_ind])\n",
        "        self.score_delta = np.array(row[player + '_scoreLead'][start_ind:end_ind]) - np.array(\n",
        "            row[enemy + '_scoreLead'][start_ind:end_ind])\n",
        "        self.utility_delta = np.array(row[player + '_utility'][start_ind:end_ind]) - np.array(\n",
        "            row[enemy + '_utility'][start_ind:end_ind])\n",
        "        self.selfplay_delta = np.array(row[player + '_scoreSelfplay'][start_ind:end_ind]) - np.array(\n",
        "            row[enemy + '_scoreSelfplay'][start_ind:end_ind])\n",
        "        self.stddev_delta = np.array(row[player + '_scoreStdev'][start_ind:end_ind]) - np.array(\n",
        "            row[enemy + '_scoreStdev'][start_ind:end_ind])\n",
        "        self.move = row[player + '_move'].split()\n",
        "        self.cnt_moves = end_ind - start_ind\n",
        "\n",
        "\n",
        "def add_all_game_stats(df):\n",
        "    df['winrate_mean'] = None\n",
        "    df['score_midmean'] = None\n",
        "    df['score_mean'] = None\n",
        "    df['score_var'] = None\n",
        "    df['winrate_beauty_percent'] = None\n",
        "    df['score_beauty_percent'] = None\n",
        "    df['utility_mean'] = None\n",
        "    df['score25p'] = None\n",
        "    df['score75p'] = None\n",
        "    df['winrate25p'] = None\n",
        "    df['winrate75p'] = None\n",
        "    df['winrate_midmean'] = None\n",
        "    df['score50p'] = None\n",
        "    df['game_length'] = None\n",
        "    df['rank'] = None\n",
        "    df['game_result'] = None\n",
        "    df['selfplay_mean'] = None\n",
        "    df['stddev_mean'] = None\n",
        "    df['stddev50p'] = None\n",
        "    df['stddev_last'] = None\n",
        "    df['score_max'] = None\n",
        "    df['score_min'] = None\n",
        "    df['score_five_best_mean'] = None\n",
        "    df['score_five_worst_mean'] = None\n",
        "\n",
        "    for i, row in tqdm(df.iterrows()):\n",
        "        add_meta(row)\n",
        "        add_basic_stats(row, MovesInfo(row))\n",
        "        add_advanced_stats(row, MovesInfo(row))\n",
        "\n",
        "\n",
        "def get_start_of_yose(margin_moves, no_change_count=5):\n",
        "    '''\n",
        "    Находим сколько последних ходов мы будем считать что это йосе\n",
        "\n",
        "    Будем идти с конца по массиву количества ходов на краю, если в массиве no_change_count одинаковых чисел,\n",
        "    то мы останавливаемся и говорим, что тут началось йосе\n",
        "    '''\n",
        "    no_change = 1\n",
        "    ans = len(margin_moves)\n",
        "    for i in range(len(margin_moves) - 2, -1, -1):\n",
        "        if margin_moves[i] == margin_moves[i + 1]:\n",
        "            no_change += 1\n",
        "        else:\n",
        "            no_change = 1\n",
        "        if no_change >= no_change_count:\n",
        "            ans = len(margin_moves) - i - 1\n",
        "            break\n",
        "    return ans\n",
        "\n",
        "\n",
        "def reset_basic_stats(df, pref):\n",
        "    df[pref + 'winrate_mean'] = None\n",
        "    df[pref + 'winrate_beauty_percent'] = None\n",
        "    df[pref + 'score_beauty_percent'] = None\n",
        "    df[pref + 'score_mean'] = None\n",
        "    df[pref + 'selfplay_mean'] = None\n",
        "    df[pref + 'score_var'] = None\n",
        "    df[pref + 'utility_mean'] = None\n",
        "\n",
        "\n",
        "def is_marginal_move(move):\n",
        "    return (move[0] == 'a' or move[0] == 'b') or (move[0] == 'r' or move[0] == 's') or \\\n",
        "           (move[1] == 'a' or move[1] == 'b') or (move[1] == 'r' or move[1] == 's')\n",
        "\n",
        "\n",
        "def count_of_marginal_moves(moves):\n",
        "    ans = np.zeros(len(moves))\n",
        "    for i in range(len(moves)):\n",
        "        ans[i] = is_marginal_move(moves[i])\n",
        "    ans = np.cumsum(ans)\n",
        "    return ans\n",
        "\n",
        "\n",
        "def add_yose_stats(df):\n",
        "    pref = 'yose_'\n",
        "    reset_basic_stats(df, pref)\n",
        "    df['yose_length'] = None\n",
        "    df['yose_start'] = None\n",
        "    df['yose_has'] = None\n",
        "    for i, row in tqdm(df.iterrows()):\n",
        "        marginal_moves = count_of_marginal_moves(row['W_move'].split())\n",
        "        n_moves = get_start_of_yose(marginal_moves, 10)\n",
        "        add_basic_stats(row, MovesInfo(row, n_moves), pref)\n",
        "        row['yose_length'] = n_moves\n",
        "        row['yose_start'] = len(row['W_move'].split()) - n_moves\n",
        "        row['yose_has'] = row['yose_start'] != 0\n",
        "\n",
        "\n",
        "def delta_moves(a, b):\n",
        "    return abs(ord(a[0]) - ord(b[0])) + abs(ord(a[1]) - ord(b[1]))\n",
        "\n",
        "\n",
        "def get_distance_of_moves(moves):\n",
        "    ans = np.zeros(len(moves) - 1)\n",
        "    for i in range(1, len(moves)):\n",
        "        ans[i - 1] = delta_moves(moves[i], moves[i - 1])\n",
        "    return ans\n",
        "\n",
        "\n",
        "def get_distance_from_enemy(my_moves, enemy_moves):\n",
        "    ans = np.zeros(min(len(my_moves), len(enemy_moves)))\n",
        "    for i in range(min(len(my_moves), len(enemy_moves))):\n",
        "        ans[i] = delta_moves(my_moves[i], enemy_moves[i])\n",
        "    return ans\n",
        "\n",
        "\n",
        "def add_last_moves_stats(df, n_moves, pref=None):\n",
        "    if pref is None:\n",
        "        pref = str(n_moves) + \"_\"\n",
        "    reset_basic_stats(df, pref)\n",
        "    for i, row in tqdm(df.iterrows()):\n",
        "        add_basic_stats(row, MovesInfo(row, n_moves), pref)\n",
        "\n",
        "\n",
        "def add_dist_stats_to_row(row):\n",
        "    dist = get_distance_of_moves(row['W_move'].split())\n",
        "    dist_enemy = get_distance_from_enemy(row['W_move'].split(), row['B_move'].split())\n",
        "    dist.sort()\n",
        "\n",
        "    row['dist_mean'] = np.mean(dist)\n",
        "    row['dist_var'] = np.var(dist)\n",
        "    row['dist_median'] = dist[len(dist) // 2]\n",
        "    row['dist_procent_more_than_10'] = np.mean([x > 10 for x in dist])\n",
        "    row['dist_procent_more_than_5'] = np.mean([x > 5 for x in dist])\n",
        "    row['dist_procent_more_than_20'] = np.mean([x > 20 for x in dist])\n",
        "\n",
        "    row['dist_from_enemy_mean'] = np.mean(dist_enemy)\n",
        "    row['dist_from_enemy_var'] = np.var(dist_enemy)\n",
        "\n",
        "\n",
        "def add_dist_stats(df):\n",
        "    df['dist_mean'] = None\n",
        "    df['dist_var'] = None\n",
        "    df['dist_median'] = None\n",
        "    df['dist_procent_more_than_5'] = None\n",
        "    df['dist_procent_more_than_10'] = None\n",
        "    df['dist_procent_more_than_20'] = None\n",
        "\n",
        "    df['dist_from_enemy_mean'] = None\n",
        "    df['dist_from_enemy_var'] = None\n",
        "\n",
        "    for i, row in tqdm(df.iterrows()):\n",
        "        add_dist_stats_to_row(row)\n",
        "\n",
        "\n",
        "def delete_non_scalar_parameters(df):\n",
        "    df.drop(['W_rating', 'B_rating', 'W_move', 'B_move', 'W_scoreLead', 'B_scoreLead', 'W_scoreSelfplay',\n",
        "             'B_scoreSelfplay', 'W_scoreStdev', 'B_scoreStdev', 'W_utility', 'B_utility', 'W_visits', 'B_visits',\n",
        "             'W_winrate', 'B_winrate', 'Result'], axis=1, inplace=True)\n",
        "\n",
        "\n",
        "def add_delta_lists_to_row(row, moves):\n",
        "    row['winrate'] = moves.winrate_delta\n",
        "    row['score'] = moves.score_delta\n",
        "    row['winrate_sqr'] = np.array([x ** 2 for x  in moves.winrate_delta])\n",
        "    row['score_sqr'] = np.array([x ** 2 for x  in moves.score_delta])\n",
        "    row['utility'] = moves.utility_delta\n",
        "    row['selfplay'] = moves.selfplay_delta\n",
        "    row['stddev'] = moves.stddev_delta\n",
        "    row['dist_from_prev'] = get_distance_of_moves(moves.move)\n",
        "    row['dist_more_5'] = [int(x > 5) + 1 for x in row['dist_from_prev']]\n",
        "\n",
        "\n",
        "def add_lists_to_df(df):\n",
        "    df['winrate'] = None\n",
        "    df['score'] = None\n",
        "    df['utility'] = None\n",
        "    df['selfplay'] = None\n",
        "    df['stddev'] = None\n",
        "    df['dist_from_prev'] = None\n",
        "    df['rank'] = None\n",
        "    df['game_length'] = None\n",
        "    df['score_sqr'] = None\n",
        "    df['winrate_sqr'] = None\n",
        "    df['dist_more_5'] = None\n",
        "    for i, row in tqdm(df.iterrows()):\n",
        "        add_meta(row)\n",
        "        add_delta_lists_to_row(row, MovesInfo(row))\n",
        "\n",
        "\n",
        "def get_feature_df(df):\n",
        "    convert_to_lists(df)\n",
        "    add_all_game_stats(df)\n",
        "    add_yose_stats(df)\n",
        "    add_last_moves_stats(df, 10)\n",
        "    add_last_moves_stats(df, 20)\n",
        "    add_dist_stats(df)\n",
        "    delete_non_scalar_parameters(df)\n",
        "    return df\n",
        "\n",
        "\n",
        "def get_df_with_lists(df):\n",
        "    convert_to_lists(df)\n",
        "    add_all_game_stats(df)\n",
        "    add_last_moves_stats(df, 20)\n",
        "    add_dist_stats(df)\n",
        "    add_lists_to_df(df)\n",
        "    delete_non_scalar_parameters(df)\n",
        "    return df\n"
      ]
    },
    {
      "cell_type": "code",
      "source": [
        "from google.colab import drive\n",
        "drive.mount('/content/drive')\n",
        "katago = pd.read_csv('/content/drive/MyDrive/data_katago.csv')\n",
        "katago.dropna(how = 'any', inplace= True)"
      ],
      "metadata": {
        "id": "yoszmmGtX9Bo",
        "colab": {
          "base_uri": "https://localhost:8080/"
        },
        "outputId": "58b28475-12ff-4f71-c601-bcf110b2883a"
      },
      "execution_count": 197,
      "outputs": [
        {
          "output_type": "stream",
          "name": "stdout",
          "text": [
            "Drive already mounted at /content/drive; to attempt to forcibly remount, call drive.mount(\"/content/drive\", force_remount=True).\n"
          ]
        }
      ]
    },
    {
      "cell_type": "code",
      "source": [
        "katago_new = get_df_with_lists(katago)"
      ],
      "metadata": {
        "colab": {
          "base_uri": "https://localhost:8080/"
        },
        "id": "MjH7VjZkfGvV",
        "outputId": "ce2850a2-d682-424c-9e84-6fde630c87d6"
      },
      "execution_count": 199,
      "outputs": [
        {
          "output_type": "stream",
          "name": "stderr",
          "text": [
            "144204it [01:30, 1591.56it/s]\n",
            "144204it [02:51, 842.06it/s]\n",
            "144204it [01:02, 2319.71it/s]\n",
            "144204it [01:49, 1315.17it/s]\n",
            "144204it [01:56, 1234.53it/s]\n"
          ]
        }
      ]
    },
    {
      "cell_type": "code",
      "source": [
        "from sklearn.model_selection import train_test_split\n",
        "X_train, X_test, y_train, y_test = train_test_split(katago_new, katago_new['rank'] + 5, test_size=4)"
      ],
      "metadata": {
        "id": "LNEE-Zt3lz0a"
      },
      "execution_count": 232,
      "outputs": []
    },
    {
      "cell_type": "code",
      "source": [
        "import numpy as np\n",
        "import tensorflow as tf\n",
        "from tensorflow import keras\n",
        "from tensorflow.keras import layers\n",
        "from tensorflow.keras.utils import to_categorical\n",
        "\n",
        "class RnnKerasRunner:\n",
        "    __DEFAULT_FEATURES = ['score', 'winrate', 'utility', 'stddev', 'selfplay', 'dist_from_prev', 'winrate_sqr', 'score_sqr', 'dist_more_5']\n",
        "\n",
        "    def __create_rnn(self, hidden_units, input_shape):\n",
        "        model = keras.Sequential()\n",
        "        # model.add(layers.Embedding(input_dim=6, output_dim=6))\n",
        "        model.add(tf.keras.layers.Masking(mask_value=0.,\n",
        "                                          input_shape=input_shape))\n",
        "        #model.add(layers.BatchNormalization())\n",
        "        model.add(layers.Bidirectional(layers.LSTM(hidden_units)))  # , dropout = 0.15, reccurent_dropout = 0.15)))\n",
        "        model.add(layers.Dense(units=15, activation=\"linear\"))\n",
        "        model.add(layers.Activation('softmax'))\n",
        "        model.compile(loss='categorical_crossentropy', optimizer='adam', metrics = 'accuracy')\n",
        "        return model\n",
        "\n",
        "    def __init__(self, model = None, sequence_len=150, features=__DEFAULT_FEATURES):\n",
        "        self.features = features\n",
        "        self.sequence_len = sequence_len\n",
        "        if model is None:\n",
        "            self.model = self.__create_rnn(64, (sequence_len, len(features)))\n",
        "        else:\n",
        "            self.model = model\n",
        "\n",
        "    def __get_tensor(self, df):\n",
        "\n",
        "        def resize_to_length(m, length):\n",
        "            if len(m) > length:\n",
        "                return m[:length]\n",
        "            n_nules = length - len(m)\n",
        "            return list([0] * n_nules) + list(m)\n",
        "\n",
        "        arr = []\n",
        "        for feature in self.features:\n",
        "            arr.append([np.array(y) for y in df[feature].apply(lambda x : resize_to_length(x, self.sequence_len))])\n",
        "        arr = np.array(arr)\n",
        "        arr = arr.swapaxes(0, 1)\n",
        "        arr = arr.swapaxes(1, 2)\n",
        "        return tf.convert_to_tensor(arr, np.float32)\n",
        "\n",
        "    def fit(self, df, target, epochs=10, batch_size=256):\n",
        "        X = self.__get_tensor(df)\n",
        "        y = to_categorical(target, num_classes=15) \n",
        "        self.model.fit(X, y, epochs=epochs, batch_size = batch_size)\n",
        "\n",
        "    def predict(self, df):\n",
        "        X = self.__get_tensor(df)\n",
        "        return self.model.predict(X)"
      ],
      "metadata": {
        "id": "Fr7I03XKYXfo"
      },
      "execution_count": 239,
      "outputs": []
    },
    {
      "cell_type": "code",
      "source": [
        "from keras.models import load_model\n",
        "#model_ready = RnnKerasRunner(load_model('/content/drive/MyDrive/model6k-9d_normal-up.h5'))\n",
        "model_my = RnnKerasRunner(sequence_len = 250)\n",
        "\n",
        "from sklearn.model_selection import train_test_split"
      ],
      "metadata": {
        "id": "RfTWXjcKYZ2V"
      },
      "execution_count": 240,
      "outputs": []
    },
    {
      "cell_type": "code",
      "source": [
        "model_my.fit(X_train, tf.convert_to_tensor(y_train, np.int32), epochs = 3, batch_size = 32)"
      ],
      "metadata": {
        "id": "GLRLzpIPZX8c",
        "colab": {
          "base_uri": "https://localhost:8080/"
        },
        "outputId": "03c66632-44eb-4793-a7f8-15b3738b21db"
      },
      "execution_count": 241,
      "outputs": [
        {
          "output_type": "stream",
          "name": "stdout",
          "text": [
            "Epoch 1/3\n",
            "313/313 [==============================] - 115s 343ms/step - loss: 2.4853 - accuracy: 0.1297\n",
            "Epoch 2/3\n",
            "313/313 [==============================] - 117s 375ms/step - loss: 2.3863 - accuracy: 0.1518\n",
            "Epoch 3/3\n",
            "313/313 [==============================] - 118s 378ms/step - loss: 2.3434 - accuracy: 0.1561\n"
          ]
        }
      ]
    },
    {
      "cell_type": "code",
      "source": [
        "y = model_my.predict(X_train)\n"
      ],
      "metadata": {
        "id": "ao_82xCVo3iO"
      },
      "execution_count": 253,
      "outputs": []
    },
    {
      "cell_type": "code",
      "source": [
        "from sklearn.metrics import mean_absolute_error\n",
        "print(mean_absolute_error(y.argmax(axis = 1), y_train))"
      ],
      "metadata": {
        "colab": {
          "base_uri": "https://localhost:8080/"
        },
        "id": "izz0SZHIp2yM",
        "outputId": "9d74b688-1e6d-4f24-974c-05def1875039"
      },
      "execution_count": 255,
      "outputs": [
        {
          "output_type": "stream",
          "name": "stdout",
          "text": [
            "2.5031012404961985\n"
          ]
        }
      ]
    },
    {
      "cell_type": "code",
      "source": [
        "tf.convert_to_tensor(y_train, np.int32)"
      ],
      "metadata": {
        "colab": {
          "base_uri": "https://localhost:8080/"
        },
        "id": "c-rlgGXEmIBg",
        "outputId": "8c629512-c386-4341-eb83-2ac305d4ee79"
      },
      "execution_count": 229,
      "outputs": [
        {
          "output_type": "execute_result",
          "data": {
            "text/plain": [
              "<tf.Tensor: shape=(144200,), dtype=int32, numpy=array([ 3,  7,  2, ...,  3,  2, 13], dtype=int32)>"
            ]
          },
          "metadata": {},
          "execution_count": 229
        }
      ]
    },
    {
      "cell_type": "code",
      "source": [
        "from sklearn.metrics import mean_absolute_error\n",
        "X_test = katago_new\n",
        "y_test = katago['rank']\n",
        "ans_ready = model_ready.predict(X_test)\n",
        "#ans_my = model_my.predict(X_test)\n",
        "print(mean_absolute_error(np.round(ans_ready), y_test))\n",
        "#print(mean_absolute_error(np.round(ans_my), y_test))\n",
        "print(ans_ready)"
      ],
      "metadata": {
        "id": "Iy9YNaTuZdTI",
        "colab": {
          "base_uri": "https://localhost:8080/"
        },
        "outputId": "8971d8cd-c9f8-46ef-a08c-2c40db13f6dd"
      },
      "execution_count": 201,
      "outputs": [
        {
          "output_type": "stream",
          "name": "stdout",
          "text": [
            "1.9784125266982886\n",
            "[[-1.1598206 ]\n",
            " [ 3.9157317 ]\n",
            " [ 1.2092077 ]\n",
            " ...\n",
            " [-0.60294986]\n",
            " [ 4.442478  ]\n",
            " [-1.889571  ]]\n"
          ]
        }
      ]
    },
    {
      "cell_type": "code",
      "source": [
        "print(ans_ready)"
      ],
      "metadata": {
        "colab": {
          "base_uri": "https://localhost:8080/"
        },
        "id": "G51lhBHjQ1IW",
        "outputId": "5ae8d9e5-a83c-4550-86fb-0ae25571c435"
      },
      "execution_count": 205,
      "outputs": [
        {
          "output_type": "stream",
          "name": "stdout",
          "text": [
            "[[-1.]\n",
            " [ 4.]\n",
            " [ 1.]\n",
            " ...\n",
            " [-1.]\n",
            " [ 4.]\n",
            " [-2.]]\n"
          ]
        }
      ]
    },
    {
      "cell_type": "code",
      "source": [
        "y_test = np.array(y_test)"
      ],
      "metadata": {
        "id": "8ksZbmywQ22b"
      },
      "execution_count": 207,
      "outputs": []
    },
    {
      "cell_type": "code",
      "source": [
        "print(np.mean(ans_ready), np.mean(y_test))"
      ],
      "metadata": {
        "colab": {
          "base_uri": "https://localhost:8080/"
        },
        "id": "t37WEJxiJG9l",
        "outputId": "3889fcd6-c487-4661-aac5-1cdcf293c850"
      },
      "execution_count": 172,
      "outputs": [
        {
          "output_type": "stream",
          "name": "stdout",
          "text": [
            "1.8304137 1.78425\n"
          ]
        }
      ]
    },
    {
      "cell_type": "code",
      "source": [
        "ans_ready = np.round(ans_ready)"
      ],
      "metadata": {
        "id": "h2EaueNhKAa0"
      },
      "execution_count": 203,
      "outputs": []
    },
    {
      "cell_type": "code",
      "source": [
        "for error in range(-5, 6):\n",
        "  cnt  = 0\n",
        "  for i in range(len(y_test)):\n",
        "    if ans_ready[i] - y_test[i] == error:\n",
        "      cnt += 1\n",
        "  print('Процент, когда мы предсказываем ранг на ', error, ' больше, чем он есть на самом деле: ', cnt / len(y_test) * 100)"
      ],
      "metadata": {
        "colab": {
          "base_uri": "https://localhost:8080/"
        },
        "id": "Hmhsa5duJu3K",
        "outputId": "5465b502-efce-406f-d6a2-8ee964677459"
      },
      "execution_count": 208,
      "outputs": [
        {
          "output_type": "stream",
          "name": "stdout",
          "text": [
            "Процент, когда мы предсказываем ранг на  -5  больше, чем он есть на самом деле:  1.690660453246789\n",
            "Процент, когда мы предсказываем ранг на  -4  больше, чем он есть на самом деле:  3.6455299436908826\n",
            "Процент, когда мы предсказываем ранг на  -3  больше, чем он есть на самом деле:  7.166236720201937\n",
            "Процент, когда мы предсказываем ранг на  -2  больше, чем он есть на самом деле:  12.396327425036754\n",
            "Процент, когда мы предсказываем ранг на  -1  больше, чем он есть на самом деле:  16.549471581925605\n",
            "Процент, когда мы предсказываем ранг на  0  больше, чем он есть на самом деле:  15.917727663587694\n",
            "Процент, когда мы предсказываем ранг на  1  больше, чем он есть на самом деле:  13.536379018612521\n",
            "Процент, когда мы предсказываем ранг на  2  больше, чем он есть на самом деле:  11.063493384372139\n",
            "Процент, когда мы предсказываем ранг на  3  больше, чем он есть на самом деле:  7.886050317605614\n",
            "Процент, когда мы предсказываем ранг на  4  больше, чем он есть на самом деле:  4.449252447921001\n",
            "Процент, когда мы предсказываем ранг на  5  больше, чем он есть на самом деле:  2.257218939835233\n"
          ]
        }
      ]
    },
    {
      "cell_type": "code",
      "source": [
        "for error in range(0, 4):\n",
        "  cnt  = 0\n",
        "  for i in range(len(y_test)):\n",
        "    if abs(ans_ready[i] - y_test[i]) <= error:\n",
        "      cnt += 1\n",
        "  print('Процент, когда мы предсказываем ранг с точностью до ', error, ' рангов, равен: ', cnt / len(y_test) * 100)"
      ],
      "metadata": {
        "colab": {
          "base_uri": "https://localhost:8080/"
        },
        "id": "XeMeRhSZLP0U",
        "outputId": "ba591a60-cbf2-4c6a-c51e-74dfc48c6d07"
      },
      "execution_count": 209,
      "outputs": [
        {
          "output_type": "stream",
          "name": "stdout",
          "text": [
            "Процент, когда мы предсказываем ранг с точностью до  0  рангов, равен:  15.917727663587694\n",
            "Процент, когда мы предсказываем ранг с точностью до  1  рангов, равен:  46.00357826412582\n",
            "Процент, когда мы предсказываем ранг с точностью до  2  рангов, равен:  69.46339907353472\n",
            "Процент, когда мы предсказываем ранг с точностью до  3  рангов, равен:  84.51568611134228\n"
          ]
        }
      ]
    },
    {
      "cell_type": "code",
      "source": [
        "maes = []\n",
        "for rnk in range(-5, 10):\n",
        "  rz = []\n",
        "  for i in range(len(y_test)):\n",
        "    if y_test[i] == rnk:\n",
        "      rz.append(abs(ans_ready[i] - y_test[i]))\n",
        "  print('Для ранга ', get_rank_from_int(rnk), ' MAE равно ', np.mean(rz))\n",
        "  maes.append(np.mean(rz))"
      ],
      "metadata": {
        "colab": {
          "base_uri": "https://localhost:8080/"
        },
        "id": "uMMs6Ra1I2qz",
        "outputId": "5d45a946-af06-4bee-acb7-9d24d5424ad7"
      },
      "execution_count": 210,
      "outputs": [
        {
          "output_type": "stream",
          "name": "stdout",
          "text": [
            "Для ранга  6k  MAE равно  3.7811015\n",
            "Для ранга  5k  MAE равно  2.8834903\n",
            "Для ранга  4k  MAE равно  2.3768442\n",
            "Для ранга  3k  MAE равно  1.451\n",
            "Для ранга  2k  MAE равно  1.3232\n",
            "Для ранга  1k  MAE равно  1.4975\n",
            "Для ранга  1d  MAE равно  1.7455746\n",
            "Для ранга  2d  MAE равно  1.8690869\n",
            "Для ранга  3d  MAE равно  1.9266\n",
            "Для ранга  4d  MAE равно  1.8113\n",
            "Для ранга  5d  MAE равно  1.6396\n",
            "Для ранга  6d  MAE равно  1.5394\n",
            "Для ранга  7d  MAE равно  1.7049\n",
            "Для ранга  8d  MAE равно  1.9699839\n",
            "Для ранга  9d  MAE равно  2.436973\n"
          ]
        }
      ]
    },
    {
      "cell_type": "code",
      "source": [
        "print(np.mean(maes[3:-2]))"
      ],
      "metadata": {
        "colab": {
          "base_uri": "https://localhost:8080/"
        },
        "id": "28jDjJYqYyUt",
        "outputId": "83361d2c-24ad-494e-8b6a-f32135e30ff1"
      },
      "execution_count": 215,
      "outputs": [
        {
          "output_type": "stream",
          "name": "stdout",
          "text": [
            "1.6508162\n"
          ]
        }
      ]
    },
    {
      "cell_type": "code",
      "source": [
        "from matplotlib import pyplot as plt\n",
        "bins = [i + -1.001 for i in range(18)]\n",
        "plt.figure(figsize=(10, 6))\n",
        "plt.title(\"Распределение значения оценки параметра\")\n",
        "plt.hist(\n",
        "    y_train,\n",
        "    bins = bins,\n",
        "    alpha = 0.6,\n",
        "    color = 'orange',\n",
        "    label = 'Реальное распределение'\n",
        ")\n",
        "plt.hist(\n",
        "    y.argmax(axis = 1),\n",
        "    bins = bins,\n",
        "    alpha = 0.6,\n",
        "    color = 'green',\n",
        "    label = 'RNN'\n",
        ")\n",
        "plt.legend()\n",
        "plt.show()"
      ],
      "metadata": {
        "colab": {
          "base_uri": "https://localhost:8080/",
          "height": 390
        },
        "id": "PFB1_Y5lMN6A",
        "outputId": "7452b743-2058-43cc-f9eb-75a8e72cccc1"
      },
      "execution_count": 256,
      "outputs": [
        {
          "output_type": "display_data",
          "data": {
            "text/plain": [
              "<Figure size 720x432 with 1 Axes>"
            ],
            "image/png": "[encoded data removed]"
          },
          "metadata": {
            "needs_background": "light"
          }
        }
      ]
    },
    {
      "cell_type": "code",
      "source": [
        "plt.plot(x = [get_rank_from_int(x) for x in (range(-5, 10))], y = maes)\n",
        "\n",
        "plt.show()"
      ],
      "metadata": {
        "id": "SmKv0kkgOrus"
      },
      "execution_count": null,
      "outputs": []
    }
  ]
}