{
 "cells": [
  {
   "cell_type": "code",
   "execution_count": 36,
   "id": "southeast-logistics",
   "metadata": {
    "ExecuteTime": {
     "end_time": "2022-03-18T14:52:17.669905Z",
     "start_time": "2022-03-18T14:52:17.664596Z"
    }
   },
   "outputs": [],
   "source": [
    "import warnings\n",
    "\n",
    "import numpy as np\n",
    "import pandas as pd\n",
    "from collections import Counter\n",
    "import matplotlib.pyplot as plt\n",
    "import scipy.stats as sps\n",
    "\n",
    "import sklearn.metrics\n",
    "from sklearn.datasets import load_boston\n",
    "from sklearn.model_selection import KFold\n",
    "from sklearn.metrics import (\n",
    "    confusion_matrix, mean_squared_error, roc_auc_score\n",
    ")\n",
    "from sklearn.model_selection import train_test_split\n",
    "from sklearn.model_selection import GridSearchCV\n",
    "from sklearn.model_selection import cross_val_score\n",
    "from sklearn.model_selection import StratifiedKFold\n",
    "from sklearn.model_selection import RandomizedSearchCV\n",
    "from sklearn.metrics import mean_absolute_error\n",
    "\n",
    "import xgboost as xgb\n",
    "from xgboost import XGBRegressor, XGBClassifier, DMatrix\n",
    "\n",
    "from catboost import CatBoostRegressor, Pool, CatBoostClassifier\n",
    "from catboost.datasets import titanic\n",
    "\n",
    "warnings.filterwarnings(\"ignore\")"
   ]
  },
  {
   "cell_type": "code",
   "execution_count": 14,
   "id": "adjacent-david",
   "metadata": {
    "ExecuteTime": {
     "end_time": "2022-03-18T14:38:33.673334Z",
     "start_time": "2022-03-18T14:38:33.552932Z"
    }
   },
   "outputs": [
    {
     "data": {
      "text/html": [
       "<div>\n",
       "<style scoped>\n",
       "    .dataframe tbody tr th:only-of-type {\n",
       "        vertical-align: middle;\n",
       "    }\n",
       "\n",
       "    .dataframe tbody tr th {\n",
       "        vertical-align: top;\n",
       "    }\n",
       "\n",
       "    .dataframe thead th {\n",
       "        text-align: right;\n",
       "    }\n",
       "</style>\n",
       "<table border=\"1\" class=\"dataframe\">\n",
       "  <thead>\n",
       "    <tr style=\"text-align: right;\">\n",
       "      <th></th>\n",
       "      <th>Unnamed: 0</th>\n",
       "      <th>W_rating</th>\n",
       "      <th>B_rating</th>\n",
       "      <th>mean_deltawinrate</th>\n",
       "      <th>mean_deltaScore50p</th>\n",
       "      <th>mean_deltascoreLead</th>\n",
       "      <th>dispersy_scoreLead</th>\n",
       "      <th>beautiful_percent</th>\n",
       "      <th>beautifulS_percent</th>\n",
       "      <th>mean_utility</th>\n",
       "      <th>...</th>\n",
       "      <th>mean_utility 20</th>\n",
       "      <th>mean_deltawinrate yose</th>\n",
       "      <th>beautiful_percent yose</th>\n",
       "      <th>beautifulS_percent yose</th>\n",
       "      <th>mean_deltascoreLead yose</th>\n",
       "      <th>mean_deltaSelfPlay yose</th>\n",
       "      <th>dispersy_scoreLead yose</th>\n",
       "      <th>mean_utility yose</th>\n",
       "      <th>mean_dist</th>\n",
       "      <th>dispersy_dist</th>\n",
       "    </tr>\n",
       "  </thead>\n",
       "  <tbody>\n",
       "    <tr>\n",
       "      <th>0</th>\n",
       "      <td>0</td>\n",
       "      <td>3k</td>\n",
       "      <td>3k</td>\n",
       "      <td>-0.040488</td>\n",
       "      <td>-2.377734</td>\n",
       "      <td>-3.464560</td>\n",
       "      <td>23.954890</td>\n",
       "      <td>0.406667</td>\n",
       "      <td>0.160000</td>\n",
       "      <td>-0.088362</td>\n",
       "      <td>...</td>\n",
       "      <td>-0.000262</td>\n",
       "      <td>0.000260</td>\n",
       "      <td>0.226667</td>\n",
       "      <td>0.073333</td>\n",
       "      <td>-2.573400</td>\n",
       "      <td>-2.146336</td>\n",
       "      <td>10.538134</td>\n",
       "      <td>-0.004645</td>\n",
       "      <td>5.213333</td>\n",
       "      <td>20.514489</td>\n",
       "    </tr>\n",
       "    <tr>\n",
       "      <th>1</th>\n",
       "      <td>1</td>\n",
       "      <td>3k</td>\n",
       "      <td>3k</td>\n",
       "      <td>-0.043191</td>\n",
       "      <td>-0.491949</td>\n",
       "      <td>-0.753123</td>\n",
       "      <td>1.472670</td>\n",
       "      <td>0.375000</td>\n",
       "      <td>0.187500</td>\n",
       "      <td>-0.087056</td>\n",
       "      <td>...</td>\n",
       "      <td>-0.087056</td>\n",
       "      <td>-0.043191</td>\n",
       "      <td>0.375000</td>\n",
       "      <td>0.187500</td>\n",
       "      <td>-0.753123</td>\n",
       "      <td>-1.022411</td>\n",
       "      <td>1.472670</td>\n",
       "      <td>-0.087056</td>\n",
       "      <td>4.625000</td>\n",
       "      <td>19.234375</td>\n",
       "    </tr>\n",
       "    <tr>\n",
       "      <th>2</th>\n",
       "      <td>2</td>\n",
       "      <td>3k</td>\n",
       "      <td>3k</td>\n",
       "      <td>-0.089254</td>\n",
       "      <td>-2.030399</td>\n",
       "      <td>-2.458237</td>\n",
       "      <td>7.392600</td>\n",
       "      <td>0.272727</td>\n",
       "      <td>0.090909</td>\n",
       "      <td>-0.188092</td>\n",
       "      <td>...</td>\n",
       "      <td>-0.188092</td>\n",
       "      <td>-0.089254</td>\n",
       "      <td>0.272727</td>\n",
       "      <td>0.090909</td>\n",
       "      <td>-2.458237</td>\n",
       "      <td>-2.900573</td>\n",
       "      <td>7.392600</td>\n",
       "      <td>-0.188092</td>\n",
       "      <td>7.272727</td>\n",
       "      <td>68.925620</td>\n",
       "    </tr>\n",
       "    <tr>\n",
       "      <th>3</th>\n",
       "      <td>3</td>\n",
       "      <td>3k</td>\n",
       "      <td>3k</td>\n",
       "      <td>-0.019591</td>\n",
       "      <td>-0.824960</td>\n",
       "      <td>-3.583750</td>\n",
       "      <td>203.173883</td>\n",
       "      <td>0.536765</td>\n",
       "      <td>0.433824</td>\n",
       "      <td>-0.047196</td>\n",
       "      <td>...</td>\n",
       "      <td>0.030994</td>\n",
       "      <td>-0.066028</td>\n",
       "      <td>0.169118</td>\n",
       "      <td>0.088235</td>\n",
       "      <td>-9.081688</td>\n",
       "      <td>-7.362831</td>\n",
       "      <td>575.227179</td>\n",
       "      <td>-0.149602</td>\n",
       "      <td>5.845588</td>\n",
       "      <td>45.512922</td>\n",
       "    </tr>\n",
       "    <tr>\n",
       "      <th>4</th>\n",
       "      <td>4</td>\n",
       "      <td>3k</td>\n",
       "      <td>3k</td>\n",
       "      <td>-0.065001</td>\n",
       "      <td>-1.265764</td>\n",
       "      <td>-2.280660</td>\n",
       "      <td>15.159420</td>\n",
       "      <td>0.162791</td>\n",
       "      <td>0.162791</td>\n",
       "      <td>-0.137663</td>\n",
       "      <td>...</td>\n",
       "      <td>-0.175444</td>\n",
       "      <td>-0.087452</td>\n",
       "      <td>0.046512</td>\n",
       "      <td>0.046512</td>\n",
       "      <td>-5.938662</td>\n",
       "      <td>-5.755159</td>\n",
       "      <td>47.043784</td>\n",
       "      <td>-0.200001</td>\n",
       "      <td>5.558140</td>\n",
       "      <td>29.176852</td>\n",
       "    </tr>\n",
       "  </tbody>\n",
       "</table>\n",
       "<p>5 rows × 42 columns</p>\n",
       "</div>"
      ],
      "text/plain": [
       "   Unnamed: 0 W_rating B_rating  mean_deltawinrate  mean_deltaScore50p  \\\n",
       "0           0       3k       3k          -0.040488           -2.377734   \n",
       "1           1       3k       3k          -0.043191           -0.491949   \n",
       "2           2       3k       3k          -0.089254           -2.030399   \n",
       "3           3       3k       3k          -0.019591           -0.824960   \n",
       "4           4       3k       3k          -0.065001           -1.265764   \n",
       "\n",
       "   mean_deltascoreLead  dispersy_scoreLead  beautiful_percent  \\\n",
       "0            -3.464560           23.954890           0.406667   \n",
       "1            -0.753123            1.472670           0.375000   \n",
       "2            -2.458237            7.392600           0.272727   \n",
       "3            -3.583750          203.173883           0.536765   \n",
       "4            -2.280660           15.159420           0.162791   \n",
       "\n",
       "   beautifulS_percent  mean_utility  ...  mean_utility 20  \\\n",
       "0            0.160000     -0.088362  ...        -0.000262   \n",
       "1            0.187500     -0.087056  ...        -0.087056   \n",
       "2            0.090909     -0.188092  ...        -0.188092   \n",
       "3            0.433824     -0.047196  ...         0.030994   \n",
       "4            0.162791     -0.137663  ...        -0.175444   \n",
       "\n",
       "   mean_deltawinrate yose  beautiful_percent yose  beautifulS_percent yose  \\\n",
       "0                0.000260                0.226667                 0.073333   \n",
       "1               -0.043191                0.375000                 0.187500   \n",
       "2               -0.089254                0.272727                 0.090909   \n",
       "3               -0.066028                0.169118                 0.088235   \n",
       "4               -0.087452                0.046512                 0.046512   \n",
       "\n",
       "   mean_deltascoreLead yose  mean_deltaSelfPlay yose  dispersy_scoreLead yose  \\\n",
       "0                 -2.573400                -2.146336                10.538134   \n",
       "1                 -0.753123                -1.022411                 1.472670   \n",
       "2                 -2.458237                -2.900573                 7.392600   \n",
       "3                 -9.081688                -7.362831               575.227179   \n",
       "4                 -5.938662                -5.755159                47.043784   \n",
       "\n",
       "   mean_utility yose  mean_dist  dispersy_dist  \n",
       "0          -0.004645   5.213333      20.514489  \n",
       "1          -0.087056   4.625000      19.234375  \n",
       "2          -0.188092   7.272727      68.925620  \n",
       "3          -0.149602   5.845588      45.512922  \n",
       "4          -0.200001   5.558140      29.176852  \n",
       "\n",
       "[5 rows x 42 columns]"
      ]
     },
     "execution_count": 14,
     "metadata": {},
     "output_type": "execute_result"
    }
   ],
   "source": [
    "df = pd.read_csv('data_p1_jap_features.csv')\n",
    "df.head()"
   ]
  },
  {
   "cell_type": "code",
   "execution_count": 284,
   "id": "metallic-hometown",
   "metadata": {
    "ExecuteTime": {
     "end_time": "2022-03-18T17:07:30.277479Z",
     "start_time": "2022-03-18T17:07:30.242910Z"
    }
   },
   "outputs": [],
   "source": [
    "features =['mean_deltawinrate', \n",
    "           'mean_deltascoreLead', \n",
    "           'dispersy_scoreLead',\n",
    "           'beautiful_percent',\n",
    "           'mean_utility',\n",
    "           'beautifulS_percent', \n",
    "           'Score25p',\n",
    "           'Score75p',\n",
    "           'median_scorelead', \n",
    "           'mean_deltaScore50p', \n",
    "           'mean_deltaSelfPlay',\n",
    "           'Winrate25p', \n",
    "           'Winrate75p', \n",
    "           'mean_deltawinrate50p', \n",
    "           'mean_deltawinrate 10', \n",
    "           'beautiful_percent 10', \n",
    "           'beautifulS_percent 10',\n",
    "           'mean_deltascoreLead 10', \n",
    "           'mean_deltaSelfPlay 10',\n",
    "           'dispersy_scoreLead 10', \n",
    "           'mean_utility 10', \n",
    "           'mean_deltawinrate 20',\n",
    "           'beautiful_percent 20', \n",
    "           'beautifulS_percent 20',\n",
    "           'mean_deltascoreLead 20', \n",
    "           'mean_deltaSelfPlay 20',\n",
    "           'dispersy_scoreLead 20', \n",
    "           'mean_utility 20', \n",
    "           'mean_deltawinrate yose',\n",
    "           'beautiful_percent yose', \n",
    "           'beautifulS_percent yose',\n",
    "           'mean_deltascoreLead yose', \n",
    "           'mean_deltaSelfPlay yose',\n",
    "           'dispersy_scoreLead yose', \n",
    "           'mean_utility yose', \n",
    "           'mean_dist',\n",
    "           'dispersy_dist']\n",
    "\n",
    "X = df[features]\n",
    "Y = df['W_rating']\n",
    "y = []\n",
    "for r in Y:\n",
    "    if (r[1] == 'k'):\n",
    "        y.append(-(int(r[0]) - int('1')))\n",
    "    else:\n",
    "        y.append(int(r[0]))\n",
    "X_train, X_test, y_train, y_test = train_test_split(X, y, test_size=0.4, random_state=42)"
   ]
  },
  {
   "cell_type": "markdown",
   "id": "welcome-andrew",
   "metadata": {
    "ExecuteTime": {
     "end_time": "2022-03-18T16:25:52.053877Z",
     "start_time": "2022-03-18T16:25:52.047762Z"
    }
   },
   "source": [
    "# 1. XGBoost"
   ]
  },
  {
   "cell_type": "code",
   "execution_count": 285,
   "id": "superior-remains",
   "metadata": {
    "ExecuteTime": {
     "end_time": "2022-03-18T17:07:34.808020Z",
     "start_time": "2022-03-18T17:07:32.934941Z"
    }
   },
   "outputs": [
    {
     "name": "stdout",
     "output_type": "stream",
     "text": [
      "1.8532792614295541\n"
     ]
    }
   ],
   "source": [
    "xgb_model = XGBRegressor(\n",
    "    silent=True, max_depth=4, n_estimators=200, random_state=42, verbosity=0,\n",
    "    learning_rate=0.1, min_child_weight=1, booster='gbtree'\n",
    ")\n",
    "\n",
    "xgb_model.fit(X_train, y_train)\n",
    "y_pred = xgb_model.predict(X_test, y_test)\n",
    "print(mean_absolute_error(y_pred, y_test)) "
   ]
  },
  {
   "cell_type": "code",
   "execution_count": 230,
   "id": "opened-carrier",
   "metadata": {
    "ExecuteTime": {
     "end_time": "2022-03-18T16:56:24.607413Z",
     "start_time": "2022-03-18T16:56:24.406416Z"
    }
   },
   "outputs": [
    {
     "data": {
      "image/png": "[encoded data removed]",
      "text/plain": [
       "<Figure size 720x432 with 1 Axes>"
      ]
     },
     "metadata": {
      "needs_background": "light"
     },
     "output_type": "display_data"
    }
   ],
   "source": [
    "from matplotlib import pyplot as plt\n",
    "bins = [i + -4.001 for i in range(12)]\n",
    "plt.figure(figsize=(10, 6))\n",
    "plt.title(\"Распределение значения оценки параметра\")\n",
    "plt.hist(\n",
    "    y_test,\n",
    "    bins = bins,\n",
    "    alpha = 0.6,\n",
    "    color = 'orange',\n",
    "    label = 'Реальное распределение'\n",
    ")\n",
    "plt.hist(\n",
    "    y_pred,\n",
    "    bins = bins,\n",
    "    alpha = 0.6,\n",
    "    color = 'green',\n",
    "    label = 'XGBoost'\n",
    ")\n",
    "plt.legend()\n",
    "plt.show()"
   ]
  },
  {
   "cell_type": "code",
   "execution_count": 140,
   "id": "julian-moisture",
   "metadata": {
    "ExecuteTime": {
     "end_time": "2022-03-18T16:10:32.882502Z",
     "start_time": "2022-03-18T16:10:32.875221Z"
    }
   },
   "outputs": [
    {
     "data": {
      "text/plain": [
       "XGBRegressor(base_score=0.5, booster='dart', colsample_bylevel=1,\n",
       "             colsample_bynode=1, colsample_bytree=1, enable_categorical=False,\n",
       "             gamma=0, gpu_id=-1, importance_type=None,\n",
       "             interaction_constraints='', learning_rate=0.1, max_delta_step=0,\n",
       "             max_depth=4, min_child_weight=1, missing=nan,\n",
       "             monotone_constraints='()', n_estimators=175, n_jobs=8,\n",
       "             num_parallel_tree=1, predictor='auto', random_state=42,\n",
       "             reg_alpha=0, reg_lambda=1, scale_pos_weight=1, silent=True,\n",
       "             subsample=1, tree_method='exact', validate_parameters=1,\n",
       "             verbosity=0)"
      ]
     },
     "execution_count": 140,
     "metadata": {},
     "output_type": "execute_result"
    }
   ],
   "source": [
    "xgb_model"
   ]
  },
  {
   "cell_type": "code",
   "execution_count": null,
   "id": "elementary-honduras",
   "metadata": {
    "ExecuteTime": {
     "start_time": "2022-03-18T20:51:14.617Z"
    }
   },
   "outputs": [
    {
     "name": "stdout",
     "output_type": "stream",
     "text": [
      "Fitting 5 folds for each of 200 candidates, totalling 1000 fits\n"
     ]
    }
   ],
   "source": [
    "%%time\n",
    "\n",
    "parameters_grid = {\n",
    "    'n_estimators' : [100, 1000, 1500, 2000],\n",
    "    'max_depth' : range(1, 15, 2),\n",
    "    'subsample' : [0.8, 0.9, 1.0],\n",
    "    'colsample_bytree' : [0.7, 0.8, 0.9, 1.0],\n",
    "    'colsample_bylevel' : [0.7, 0.8, 0.9, 1.0] ,\n",
    "    'lambda' : sps.expon(loc=0, scale=1),\n",
    "    'alpha' : sps.expon(loc=0, scale=1),\n",
    "    'eta' : [0.001, 0.1, 1, 10]\n",
    "}\n",
    "\n",
    "# задаем стратегию кросс-валидации\n",
    "ss = StratifiedKFold(n_splits=5)\n",
    "\n",
    "# определяем поиск по сетке \n",
    "gs = RandomizedSearchCV(\n",
    "    # модель для обучения, в нашем случае XGBoostClassifier\n",
    "    estimator=xgb_model,\n",
    "    # количество итераций поиска \n",
    "    n_iter=200,\n",
    "    # сетка значений гиперпараметров\n",
    "    param_distributions=parameters_grid,\n",
    "    # метрика качества, берем accuracy\n",
    "    scoring='r2',\n",
    "    # GridSearch отлично параллелится, но и XGBoost параллелится\n",
    "    n_jobs=1,  \n",
    "    # стратегия кросс-валидации\n",
    "    cv=ss,  \n",
    "     # сообщения с логами обучения: больше значение - больше сообщений\n",
    "    verbose=1, \n",
    "    # значение, присваиваемое scorer в случае ошибки при обучении\n",
    "    error_score='raise',\n",
    "    # seed для генератора случайных чисел\n",
    "    random_state=42\n",
    ")\n",
    "\n",
    "# выполняем поиск по сетке\n",
    "gs.fit(X_train, y_train)"
   ]
  },
  {
   "cell_type": "code",
   "execution_count": 158,
   "id": "flexible-tribute",
   "metadata": {
    "ExecuteTime": {
     "end_time": "2022-03-18T16:16:02.903812Z",
     "start_time": "2022-03-18T16:16:02.889223Z"
    }
   },
   "outputs": [
    {
     "name": "stdout",
     "output_type": "stream",
     "text": [
      "\"mean_dist\",\n",
      "\"dispersy_dist\",\n",
      "\"mean_deltawinrate50p\",\n",
      "\"mean_utility\",\n",
      "\"mean_deltawinrate\",\n",
      "\"Winrate25p\",\n",
      "\"Score75p\",\n",
      "\"dispersy_scoreLead\",\n",
      "\"Winrate75p\",\n",
      "\"mean_deltascoreLead\",\n",
      "\"Score25p\",\n",
      "\"beautiful_percent\",\n",
      "\"beautiful_percent 20\",\n",
      "\"beautifulS_percent 20\",\n",
      "\"beautiful_percent 10\",\n",
      "\"mean_deltaScore50p\",\n",
      "\"median_scorelead\",\n",
      "\"mean_deltascoreLead yose\",\n",
      "\"beautiful_percent yose\",\n",
      "\"mean_deltaSelfPlay\",\n",
      "\"dispersy_scoreLead 10\",\n",
      "\"mean_deltascoreLead 20\",\n",
      "\"dispersy_scoreLead yose\",\n",
      "\"beautifulS_percent 10\",\n",
      "\"mean_deltaSelfPlay 20\",\n",
      "\"mean_deltascoreLead 10\",\n",
      "\"dispersy_scoreLead 20\",\n",
      "\"beautifulS_percent\",\n",
      "\"mean_utility 10\",\n",
      "\"mean_deltawinrate yose\",\n",
      "\"mean_deltawinrate 20\",\n",
      "\"mean_deltaSelfPlay 10\",\n",
      "\"beautifulS_percent yose\",\n",
      "\"mean_deltaSelfPlay yose\",\n",
      "\"mean_utility yose\",\n",
      "\"mean_deltawinrate 10\",\n",
      "\"mean_utility 20\",\n"
     ]
    }
   ],
   "source": [
    "native_xgb_model = xgb_model.get_booster()\n",
    "for name, value in Counter(native_xgb_model.get_fscore()).most_common():\n",
    "    print('\"' + name + '\",')"
   ]
  },
  {
   "cell_type": "code",
   "execution_count": 82,
   "id": "typical-utilization",
   "metadata": {
    "ExecuteTime": {
     "end_time": "2022-03-18T15:36:46.582124Z",
     "start_time": "2022-03-18T15:36:46.578473Z"
    }
   },
   "outputs": [],
   "source": [
    "xgb_params = {\n",
    "    \"booster\": \"gbtree\",\n",
    "    \"learning_rate\": 0.1,\n",
    "    \"max_depth\": 5,\n",
    "    \"min_child_weight\": 1,\n",
    "    \"gamma\": 0.1,\n",
    "    \"subsample\": 0.8,\n",
    "    \"colsample_bytree\": 0.8,\n",
    "    \"random_state\": 42,\n",
    "    \"eval_metric\": \"mae\"\n",
    "}"
   ]
  },
  {
   "cell_type": "code",
   "execution_count": 83,
   "id": "general-chancellor",
   "metadata": {
    "ExecuteTime": {
     "end_time": "2022-03-18T15:36:47.269450Z",
     "start_time": "2022-03-18T15:36:47.210413Z"
    }
   },
   "outputs": [],
   "source": [
    "xgtrain = xgb.DMatrix(X_train, y_train)\n",
    "xgtest = xgb.DMatrix(X_test, y_test)\n",
    "evallist = [(xgtest, 'eval'), (xgtrain, 'train')]"
   ]
  },
  {
   "cell_type": "code",
   "execution_count": 84,
   "id": "global-twenty",
   "metadata": {
    "ExecuteTime": {
     "end_time": "2022-03-18T15:37:03.204606Z",
     "start_time": "2022-03-18T15:36:47.882512Z"
    }
   },
   "outputs": [],
   "source": [
    "cvresult = xgb.cv(\n",
    "    xgb_params, xgtrain, num_boost_round=3000, \n",
    "    nfold=5, early_stopping_rounds=300\n",
    ")"
   ]
  },
  {
   "cell_type": "code",
   "execution_count": 86,
   "id": "irish-choice",
   "metadata": {
    "ExecuteTime": {
     "end_time": "2022-03-18T15:38:15.572150Z",
     "start_time": "2022-03-18T15:38:15.562998Z"
    }
   },
   "outputs": [
    {
     "data": {
      "text/html": [
       "<div>\n",
       "<style scoped>\n",
       "    .dataframe tbody tr th:only-of-type {\n",
       "        vertical-align: middle;\n",
       "    }\n",
       "\n",
       "    .dataframe tbody tr th {\n",
       "        vertical-align: top;\n",
       "    }\n",
       "\n",
       "    .dataframe thead th {\n",
       "        text-align: right;\n",
       "    }\n",
       "</style>\n",
       "<table border=\"1\" class=\"dataframe\">\n",
       "  <thead>\n",
       "    <tr style=\"text-align: right;\">\n",
       "      <th></th>\n",
       "      <th>train-mae-mean</th>\n",
       "      <th>train-mae-std</th>\n",
       "      <th>test-mae-mean</th>\n",
       "      <th>test-mae-std</th>\n",
       "    </tr>\n",
       "  </thead>\n",
       "  <tbody>\n",
       "    <tr>\n",
       "      <th>196</th>\n",
       "      <td>0.968812</td>\n",
       "      <td>0.016586</td>\n",
       "      <td>1.897338</td>\n",
       "      <td>0.026538</td>\n",
       "    </tr>\n",
       "    <tr>\n",
       "      <th>197</th>\n",
       "      <td>0.966233</td>\n",
       "      <td>0.016813</td>\n",
       "      <td>1.897141</td>\n",
       "      <td>0.026091</td>\n",
       "    </tr>\n",
       "    <tr>\n",
       "      <th>198</th>\n",
       "      <td>0.963526</td>\n",
       "      <td>0.016025</td>\n",
       "      <td>1.896760</td>\n",
       "      <td>0.026517</td>\n",
       "    </tr>\n",
       "  </tbody>\n",
       "</table>\n",
       "</div>"
      ],
      "text/plain": [
       "     train-mae-mean  train-mae-std  test-mae-mean  test-mae-std\n",
       "196        0.968812       0.016586       1.897338      0.026538\n",
       "197        0.966233       0.016813       1.897141      0.026091\n",
       "198        0.963526       0.016025       1.896760      0.026517"
      ]
     },
     "execution_count": 86,
     "metadata": {},
     "output_type": "execute_result"
    }
   ],
   "source": [
    "cvresult[-3:]"
   ]
  },
  {
   "cell_type": "code",
   "execution_count": 87,
   "id": "extra-david",
   "metadata": {
    "ExecuteTime": {
     "end_time": "2022-03-18T15:38:39.180135Z",
     "start_time": "2022-03-18T15:38:39.173856Z"
    }
   },
   "outputs": [],
   "source": [
    "param_grid = {\n",
    "    \"max_depth\": range(3, 10),\n",
    "    \"min_child_weight\": range(1, 10),\n",
    "}\n",
    "\n",
    "xgb_params = {\n",
    "    \"booster\": \"gbtree\",\n",
    "    \"n_estimators\": 198,\n",
    "    \"learning_rate\": 0.1,\n",
    "    \"gamma\": 0.1,\n",
    "    \"subsample\": 0.8,\n",
    "    \"colsample_bytree\": 0.8,\n",
    "    \"random_state\": 42,\n",
    "    \"eval_metric\": \"mae\"\n",
    "}"
   ]
  },
  {
   "cell_type": "code",
   "execution_count": 90,
   "id": "impressive-jurisdiction",
   "metadata": {
    "ExecuteTime": {
     "end_time": "2022-03-18T15:41:14.878252Z",
     "start_time": "2022-03-18T15:41:14.872828Z"
    }
   },
   "outputs": [],
   "source": [
    "gs = GridSearchCV(xgb.XGBRegressor(**xgb_params), param_grid, \n",
    "                  n_jobs=1, scoring='r2', verbose=1, cv=5)"
   ]
  },
  {
   "cell_type": "code",
   "execution_count": 91,
   "id": "designing-singapore",
   "metadata": {
    "ExecuteTime": {
     "end_time": "2022-03-18T15:50:32.632195Z",
     "start_time": "2022-03-18T15:41:15.893677Z"
    }
   },
   "outputs": [
    {
     "name": "stdout",
     "output_type": "stream",
     "text": [
      "Fitting 5 folds for each of 63 candidates, totalling 315 fits\n"
     ]
    },
    {
     "data": {
      "text/plain": [
       "GridSearchCV(cv=5,\n",
       "             estimator=XGBRegressor(base_score=None, booster='gbtree',\n",
       "                                    colsample_bylevel=None,\n",
       "                                    colsample_bynode=None, colsample_bytree=0.8,\n",
       "                                    enable_categorical=False, eval_metric='mae',\n",
       "                                    gamma=0.1, gpu_id=None,\n",
       "                                    importance_type=None,\n",
       "                                    interaction_constraints=None,\n",
       "                                    learning_rate=0.1, max_delta_step=None,\n",
       "                                    max_depth=None, min_child_weight=None,\n",
       "                                    missing=nan, monotone_constraints=None,\n",
       "                                    n_estimators=198, n_jobs=None,\n",
       "                                    num_parallel_tree=None, predictor=None,\n",
       "                                    random_state=42, reg_alpha=None,\n",
       "                                    reg_lambda=None, scale_pos_weight=None,\n",
       "                                    subsample=0.8, tree_method=None,\n",
       "                                    validate_parameters=None, verbosity=None),\n",
       "             n_jobs=1,\n",
       "             param_grid={'max_depth': range(3, 10),\n",
       "                         'min_child_weight': range(1, 10)},\n",
       "             scoring='r2', verbose=1)"
      ]
     },
     "execution_count": 91,
     "metadata": {},
     "output_type": "execute_result"
    }
   ],
   "source": [
    "gs.fit(X_train, y_train)"
   ]
  },
  {
   "cell_type": "code",
   "execution_count": 92,
   "id": "satellite-liberty",
   "metadata": {
    "ExecuteTime": {
     "end_time": "2022-03-18T15:51:16.412754Z",
     "start_time": "2022-03-18T15:51:16.408658Z"
    }
   },
   "outputs": [
    {
     "data": {
      "text/plain": [
       "{'max_depth': 3, 'min_child_weight': 2}"
      ]
     },
     "execution_count": 92,
     "metadata": {},
     "output_type": "execute_result"
    }
   ],
   "source": [
    "gs.best_params_"
   ]
  },
  {
   "cell_type": "code",
   "execution_count": 101,
   "id": "previous-slovenia",
   "metadata": {
    "ExecuteTime": {
     "end_time": "2022-03-18T15:54:27.775237Z",
     "start_time": "2022-03-18T15:54:27.769216Z"
    }
   },
   "outputs": [],
   "source": [
    "param_grid = {\n",
    "    \"gamma\": [i / 10 for i in range(5)]\n",
    "}\n",
    "\n",
    "xgb_params = {\n",
    "    \"booster\": \"gbtree\",\n",
    "    \"n_estimators\": 198,\n",
    "    \"learning_rate\": 0.1,\n",
    "    \"max_depth\": 3,\n",
    "    \"min_child_weight\": 2,\n",
    "    \"subsample\": 0.8,\n",
    "    \"colsample_bytree\": 0.8,\n",
    "    \"random_state\": 42,\n",
    "    \"eval_metric\": \"mae\"\n",
    "}"
   ]
  },
  {
   "cell_type": "code",
   "execution_count": 102,
   "id": "continental-buddy",
   "metadata": {
    "ExecuteTime": {
     "end_time": "2022-03-18T15:54:28.407727Z",
     "start_time": "2022-03-18T15:54:28.404498Z"
    }
   },
   "outputs": [],
   "source": [
    "gs = GridSearchCV(xgb.XGBRegressor(**xgb_params), param_grid, \n",
    "                  n_jobs=1, scoring='r2', verbose=1, cv=5)"
   ]
  },
  {
   "cell_type": "code",
   "execution_count": 103,
   "id": "strong-bridge",
   "metadata": {
    "ExecuteTime": {
     "end_time": "2022-03-18T15:54:48.897178Z",
     "start_time": "2022-03-18T15:54:28.862468Z"
    }
   },
   "outputs": [
    {
     "name": "stdout",
     "output_type": "stream",
     "text": [
      "Fitting 5 folds for each of 5 candidates, totalling 25 fits\n"
     ]
    },
    {
     "data": {
      "text/plain": [
       "GridSearchCV(cv=5,\n",
       "             estimator=XGBRegressor(base_score=None, booster='gbtree',\n",
       "                                    colsample_bylevel=None,\n",
       "                                    colsample_bynode=None, colsample_bytree=0.8,\n",
       "                                    enable_categorical=False, eval_metric='mae',\n",
       "                                    gamma=None, gpu_id=None,\n",
       "                                    importance_type=None,\n",
       "                                    interaction_constraints=None,\n",
       "                                    learning_rate=0.1, max_delta_step=None,\n",
       "                                    max_depth=3, min_child_weight=2,\n",
       "                                    missing=nan, monotone_constraints=None,\n",
       "                                    n_estimators=198, n_jobs=None,\n",
       "                                    num_parallel_tree=None, predictor=None,\n",
       "                                    random_state=42, reg_alpha=None,\n",
       "                                    reg_lambda=None, scale_pos_weight=None,\n",
       "                                    subsample=0.8, tree_method=None,\n",
       "                                    validate_parameters=None, verbosity=None),\n",
       "             n_jobs=1, param_grid={'gamma': [0.0, 0.1, 0.2, 0.3, 0.4]},\n",
       "             scoring='r2', verbose=1)"
      ]
     },
     "execution_count": 103,
     "metadata": {},
     "output_type": "execute_result"
    }
   ],
   "source": [
    "gs.fit(X_train, y_train)"
   ]
  },
  {
   "cell_type": "code",
   "execution_count": 104,
   "id": "buried-thunder",
   "metadata": {
    "ExecuteTime": {
     "end_time": "2022-03-18T15:55:08.401410Z",
     "start_time": "2022-03-18T15:55:08.391121Z"
    }
   },
   "outputs": [
    {
     "data": {
      "text/plain": [
       "{'gamma': 0.0}"
      ]
     },
     "execution_count": 104,
     "metadata": {},
     "output_type": "execute_result"
    }
   ],
   "source": [
    "gs.best_params_"
   ]
  },
  {
   "cell_type": "code",
   "execution_count": 105,
   "id": "speaking-country",
   "metadata": {
    "ExecuteTime": {
     "end_time": "2022-03-18T15:55:41.645542Z",
     "start_time": "2022-03-18T15:55:41.632467Z"
    }
   },
   "outputs": [],
   "source": [
    "param_grid = {\n",
    "    \"subsample\": [i / 10 for i in range(4, 11)],\n",
    "    \"colsample_bytree\": [i / 10 for i in range(4, 11)]\n",
    "}\n",
    "\n",
    "xgb_params = {\n",
    "    \"booster\": \"gbtree\",\n",
    "    \"n_estimators\": 198,\n",
    "    \"learning_rate\": 0.1,\n",
    "    \"max_depth\": 3,\n",
    "    \"gamma\": 0,\n",
    "    \"min_child_weight\": 2,\n",
    "    \"subsample\": 0.8,\n",
    "    \"colsample_bytree\": 0.8,\n",
    "    \"random_state\": 42,\n",
    "    \"eval_metric\": \"mae\"\n",
    "}"
   ]
  },
  {
   "cell_type": "code",
   "execution_count": 106,
   "id": "native-fusion",
   "metadata": {
    "ExecuteTime": {
     "end_time": "2022-03-18T15:59:10.067180Z",
     "start_time": "2022-03-18T15:56:01.799435Z"
    }
   },
   "outputs": [
    {
     "name": "stdout",
     "output_type": "stream",
     "text": [
      "Fitting 5 folds for each of 49 candidates, totalling 245 fits\n"
     ]
    },
    {
     "data": {
      "text/plain": [
       "GridSearchCV(cv=5,\n",
       "             estimator=XGBRegressor(base_score=None, booster='gbtree',\n",
       "                                    colsample_bylevel=None,\n",
       "                                    colsample_bynode=None, colsample_bytree=0.8,\n",
       "                                    enable_categorical=False, eval_metric='mae',\n",
       "                                    gamma=0, gpu_id=None, importance_type=None,\n",
       "                                    interaction_constraints=None,\n",
       "                                    learning_rate=0.1, max_delta_step=None,\n",
       "                                    max_depth=3, min_child_weight=2,\n",
       "                                    missing=nan, monotone_constra...\n",
       "                                    n_estimators=198, n_jobs=None,\n",
       "                                    num_parallel_tree=None, predictor=None,\n",
       "                                    random_state=42, reg_alpha=None,\n",
       "                                    reg_lambda=None, scale_pos_weight=None,\n",
       "                                    subsample=0.8, tree_method=None,\n",
       "                                    validate_parameters=None, verbosity=None),\n",
       "             n_jobs=1,\n",
       "             param_grid={'colsample_bytree': [0.4, 0.5, 0.6, 0.7, 0.8, 0.9,\n",
       "                                              1.0],\n",
       "                         'subsample': [0.4, 0.5, 0.6, 0.7, 0.8, 0.9, 1.0]},\n",
       "             scoring='accuracy', verbose=1)"
      ]
     },
     "execution_count": 106,
     "metadata": {},
     "output_type": "execute_result"
    }
   ],
   "source": [
    "gs = GridSearchCV(xgb.XGBRegressor(**xgb_params), param_grid, \n",
    "                  n_jobs=1, scoring='accuracy', verbose=1, cv=5)\n",
    "gs.fit(X_train, y_train)"
   ]
  },
  {
   "cell_type": "code",
   "execution_count": 107,
   "id": "pacific-possession",
   "metadata": {
    "ExecuteTime": {
     "end_time": "2022-03-18T16:00:06.348658Z",
     "start_time": "2022-03-18T16:00:06.344565Z"
    }
   },
   "outputs": [
    {
     "data": {
      "text/plain": [
       "{'colsample_bytree': 0.4, 'subsample': 0.4}"
      ]
     },
     "execution_count": 107,
     "metadata": {},
     "output_type": "execute_result"
    }
   ],
   "source": [
    "gs.best_params_"
   ]
  },
  {
   "cell_type": "code",
   "execution_count": 111,
   "id": "persistent-reach",
   "metadata": {
    "ExecuteTime": {
     "end_time": "2022-03-18T16:01:42.652507Z",
     "start_time": "2022-03-18T16:01:42.629783Z"
    }
   },
   "outputs": [],
   "source": [
    "param_grid = {\n",
    "    'alpha': [0, 0.001, 0.005, 0.01, 0.05],\n",
    "    'lambda': [0, 0.001, 0.005, 0.01, 0.05],\n",
    "}\n",
    "\n",
    "xgb_params = {\n",
    "    \"booster\": \"gbtree\",\n",
    "    \"n_estimators\": 198,\n",
    "    \"learning_rate\": 0.1,\n",
    "    \"max_depth\": 3,\n",
    "    \"gamma\": 0,\n",
    "    \"subsample\": 0.4,\n",
    "    'colsample_bytree': 0.4,\n",
    "    \"min_child_weight\": 2,\n",
    "    \"subsample\": 0.8,\n",
    "    \"colsample_bytree\": 0.8,\n",
    "    \"random_state\": 42,\n",
    "    \"eval_metric\": \"mae\"\n",
    "}\n",
    "\n",
    "gs = GridSearchCV(xgb.XGBRegressor(**xgb_params), param_grid, \n",
    "                  n_jobs=1, scoring='accuracy', verbose=1, cv=5)"
   ]
  },
  {
   "cell_type": "code",
   "execution_count": 112,
   "id": "nasty-seller",
   "metadata": {
    "ExecuteTime": {
     "end_time": "2022-03-18T16:03:37.377166Z",
     "start_time": "2022-03-18T16:01:43.211524Z"
    }
   },
   "outputs": [
    {
     "name": "stdout",
     "output_type": "stream",
     "text": [
      "Fitting 5 folds for each of 25 candidates, totalling 125 fits\n"
     ]
    },
    {
     "data": {
      "text/plain": [
       "{'alpha': 0, 'lambda': 0}"
      ]
     },
     "execution_count": 112,
     "metadata": {},
     "output_type": "execute_result"
    }
   ],
   "source": [
    "gs.fit(X_train, y_train)\n",
    "gs.best_params_"
   ]
  },
  {
   "cell_type": "code",
   "execution_count": 113,
   "id": "accepted-hypothesis",
   "metadata": {
    "ExecuteTime": {
     "end_time": "2022-03-18T16:04:21.573627Z",
     "start_time": "2022-03-18T16:04:21.569720Z"
    }
   },
   "outputs": [],
   "source": [
    "xgb_params = {\n",
    "    \"booster\": \"gbtree\",\n",
    "    \"n_estimators\": 198,\n",
    "    \"learning_rate\": 0.1,\n",
    "    \"max_depth\": 3,\n",
    "    \"gamma\": 0,\n",
    "    \"subsample\": 0.4,\n",
    "    'colsample_bytree': 0.4,\n",
    "    \"min_child_weight\": 2,\n",
    "    \"subsample\": 0.8,\n",
    "    \"colsample_bytree\": 0.8,\n",
    "    \"random_state\": 42,\n",
    "    \"eval_metric\": \"mae\",\n",
    "    \"alpha\": 0,\n",
    "    \"lambds\": 0\n",
    "}"
   ]
  },
  {
   "cell_type": "code",
   "execution_count": 114,
   "id": "rolled-potter",
   "metadata": {
    "ExecuteTime": {
     "end_time": "2022-03-18T16:05:05.065250Z",
     "start_time": "2022-03-18T16:05:03.990251Z"
    }
   },
   "outputs": [
    {
     "data": {
      "text/plain": [
       "1.8533845494700363"
      ]
     },
     "execution_count": 114,
     "metadata": {},
     "output_type": "execute_result"
    }
   ],
   "source": [
    "best_estimator = gs.best_estimator_\n",
    "best_estimator.fit(X_train, y_train)\n",
    "y_pred = best_estimator.predict(X_test)\n",
    "mean_absolute_error(y_test, y_pred)"
   ]
  },
  {
   "cell_type": "markdown",
   "id": "clean-arrow",
   "metadata": {},
   "source": [
    "# 2. CatBoost"
   ]
  },
  {
   "cell_type": "code",
   "execution_count": 311,
   "id": "minor-maryland",
   "metadata": {
    "ExecuteTime": {
     "end_time": "2022-03-18T19:04:11.059123Z",
     "start_time": "2022-03-18T19:04:07.097546Z"
    }
   },
   "outputs": [
    {
     "data": {
      "text/plain": [
       "<catboost.core.CatBoostRegressor at 0x7f5575ce44d0>"
      ]
     },
     "execution_count": 311,
     "metadata": {},
     "output_type": "execute_result"
    }
   ],
   "source": [
    "cb_model = CatBoostRegressor(silent=True, eval_metric=\"MAE\", random_state=42)\n",
    "# cross_val_score(cb_model, X, y, \n",
    "#                 scoring='neg_mean_absolute_error', cv=3)\n",
    "cb_model.fit(X_train, y_train)"
   ]
  },
  {
   "cell_type": "code",
   "execution_count": 312,
   "id": "bound-transaction",
   "metadata": {
    "ExecuteTime": {
     "end_time": "2022-03-18T19:04:11.869817Z",
     "start_time": "2022-03-18T19:04:11.848581Z"
    }
   },
   "outputs": [],
   "source": [
    "y_pred = cb_model.predict(X_test)"
   ]
  },
  {
   "cell_type": "code",
   "execution_count": 313,
   "id": "synthetic-vacation",
   "metadata": {
    "ExecuteTime": {
     "end_time": "2022-03-18T19:04:12.527420Z",
     "start_time": "2022-03-18T19:04:12.514653Z"
    }
   },
   "outputs": [
    {
     "data": {
      "text/plain": [
       "1.8290748339600584"
      ]
     },
     "execution_count": 313,
     "metadata": {},
     "output_type": "execute_result"
    }
   ],
   "source": [
    "mean_absolute_error(y_pred, y_test)"
   ]
  },
  {
   "cell_type": "code",
   "execution_count": 314,
   "id": "through-steal",
   "metadata": {
    "ExecuteTime": {
     "end_time": "2022-03-18T19:04:15.395473Z",
     "start_time": "2022-03-18T19:04:15.188807Z"
    }
   },
   "outputs": [
    {
     "data": {
      "image/png": "[encoded data removed]",
      "text/plain": [
       "<Figure size 720x432 with 1 Axes>"
      ]
     },
     "metadata": {
      "needs_background": "light"
     },
     "output_type": "display_data"
    }
   ],
   "source": [
    "from matplotlib import pyplot as plt\n",
    "bins = [i + -4.001 for i in range(12)]\n",
    "plt.figure(figsize=(10, 6))\n",
    "plt.title(\"Распределение значения оценки параметра\")\n",
    "plt.hist(\n",
    "    y_test,\n",
    "    bins = bins,\n",
    "    alpha = 0.6,\n",
    "    color = 'orange',\n",
    "    label = 'Реальное распределение'\n",
    ")\n",
    "plt.hist(\n",
    "    y_pred,\n",
    "    bins = bins,\n",
    "    alpha = 0.6,\n",
    "    color = 'green',\n",
    "    label = 'CatBoost'\n",
    ")\n",
    "plt.legend()\n",
    "plt.show()"
   ]
  },
  {
   "cell_type": "code",
   "execution_count": 297,
   "id": "physical-triangle",
   "metadata": {
    "ExecuteTime": {
     "end_time": "2022-03-18T17:09:50.486815Z",
     "start_time": "2022-03-18T17:09:45.153822Z"
    }
   },
   "outputs": [
    {
     "data": {
      "application/vnd.jupyter.widget-view+json": {
       "model_id": "55be757f6d314331a9d9d3db94a75e6d",
       "version_major": 2,
       "version_minor": 0
      },
      "text/plain": [
       "MetricVisualizer(layout=Layout(align_self='stretch', height='500px'))"
      ]
     },
     "metadata": {},
     "output_type": "display_data"
    },
    {
     "data": {
      "text/plain": [
       "<catboost.core.CatBoostRegressor at 0x7f5575c80850>"
      ]
     },
     "execution_count": 297,
     "metadata": {},
     "output_type": "execute_result"
    }
   ],
   "source": [
    "cb = CatBoostRegressor(\n",
    "    silent=True, eval_metric=\"MAE\", custom_metric=[\"MAPE\"], random_state=42\n",
    ")\n",
    "cb.fit(X_train, y_train, \n",
    "       eval_set=[(X_test, y_test)], plot=True)"
   ]
  },
  {
   "cell_type": "code",
   "execution_count": 315,
   "id": "alternative-dream",
   "metadata": {
    "ExecuteTime": {
     "end_time": "2022-03-18T19:04:21.441316Z",
     "start_time": "2022-03-18T19:04:21.426879Z"
    }
   },
   "outputs": [
    {
     "name": "stdout",
     "output_type": "stream",
     "text": [
      "'mean_dist\t8.58'\n",
      "'mean_deltaScore50p\t7.10'\n",
      "'mean_utility\t5.41'\n",
      "'dispersy_dist\t4.97'\n",
      "'mean_deltawinrate50p\t4.80'\n",
      "'Score25p\t4.72'\n",
      "'median_scorelead\t4.31'\n",
      "'beautiful_percent 20\t3.60'\n",
      "'beautiful_percent 10\t3.56'\n",
      "'beautifulS_percent 20\t3.26'\n",
      "'mean_deltawinrate\t3.11'\n",
      "'Winrate75p\t2.98'\n",
      "'beautiful_percent\t2.95'\n",
      "'dispersy_scoreLead 10\t2.47'\n",
      "'Score75p\t2.45'\n",
      "'Winrate25p\t2.43'\n",
      "'mean_deltascoreLead\t2.27'\n",
      "'beautiful_percent yose\t2.27'\n",
      "'dispersy_scoreLead\t2.19'\n",
      "'mean_deltascoreLead 20\t2.10'\n",
      "'dispersy_scoreLead 20\t2.06'\n",
      "'dispersy_scoreLead yose\t2.04'\n",
      "'beautifulS_percent 10\t1.92'\n",
      "'mean_deltawinrate 10\t1.65'\n",
      "'mean_deltaSelfPlay 20\t1.65'\n",
      "'mean_deltaSelfPlay yose\t1.63'\n",
      "'mean_deltascoreLead yose\t1.60'\n",
      "'mean_deltaSelfPlay\t1.57'\n",
      "'mean_deltaSelfPlay 10\t1.36'\n",
      "'beautifulS_percent\t1.28'\n",
      "'mean_utility 10\t1.22'\n",
      "'mean_deltascoreLead 10\t1.21'\n",
      "'beautifulS_percent yose\t1.20'\n",
      "'mean_deltawinrate 20\t1.17'\n",
      "'mean_utility 20\t1.01'\n",
      "'mean_utility yose\t0.99'\n",
      "'mean_deltawinrate yose\t0.93'\n"
     ]
    }
   ],
   "source": [
    "for value, name in sorted(\n",
    "    zip(cb.get_feature_importance(fstr_type=\"FeatureImportance\"), \n",
    "        features), \n",
    "    reverse=True\n",
    "):\n",
    "    print(\"'{}\\t{:.2f}'\".format(name, value))"
   ]
  },
  {
   "cell_type": "markdown",
   "id": "iraqi-castle",
   "metadata": {},
   "source": [
    "# RNN?"
   ]
  },
  {
   "cell_type": "code",
   "execution_count": 310,
   "id": "satisfactory-tattoo",
   "metadata": {
    "ExecuteTime": {
     "end_time": "2022-03-18T17:29:20.548766Z",
     "start_time": "2022-03-18T17:29:20.535246Z"
    }
   },
   "outputs": [
    {
     "ename": "NameError",
     "evalue": "name 'torch' is not defined",
     "output_type": "error",
     "traceback": [
      "\u001b[0;31m---------------------------------------------------------------------------\u001b[0m",
      "\u001b[0;31mNameError\u001b[0m                                 Traceback (most recent call last)",
      "\u001b[0;32m<ipython-input-310-eea581a72935>\u001b[0m in \u001b[0;36m<module>\u001b[0;34m\u001b[0m\n\u001b[0;32m----> 1\u001b[0;31m \u001b[0mdevice\u001b[0m \u001b[0;34m=\u001b[0m \u001b[0;34m'cuda:0'\u001b[0m \u001b[0;32mif\u001b[0m \u001b[0mtorch\u001b[0m\u001b[0;34m.\u001b[0m\u001b[0mcuda\u001b[0m\u001b[0;34m.\u001b[0m\u001b[0mis_available\u001b[0m\u001b[0;34m(\u001b[0m\u001b[0;34m)\u001b[0m \u001b[0;32melse\u001b[0m \u001b[0;34m'cpu'\u001b[0m\u001b[0;34m\u001b[0m\u001b[0;34m\u001b[0m\u001b[0m\n\u001b[0m\u001b[1;32m      2\u001b[0m \u001b[0;32mimport\u001b[0m \u001b[0mtorch\u001b[0m\u001b[0;34m,\u001b[0m \u001b[0mtorch\u001b[0m\u001b[0;34m.\u001b[0m\u001b[0mnn\u001b[0m \u001b[0;32mas\u001b[0m \u001b[0mnn\u001b[0m\u001b[0;34m\u001b[0m\u001b[0;34m\u001b[0m\u001b[0m\n\u001b[1;32m      3\u001b[0m \u001b[0;32mimport\u001b[0m \u001b[0mtorch\u001b[0m\u001b[0;34m.\u001b[0m\u001b[0mnn\u001b[0m\u001b[0;34m.\u001b[0m\u001b[0mfunctional\u001b[0m \u001b[0;32mas\u001b[0m \u001b[0mF\u001b[0m\u001b[0;34m\u001b[0m\u001b[0;34m\u001b[0m\u001b[0m\n\u001b[1;32m      4\u001b[0m \u001b[0;32mimport\u001b[0m \u001b[0mtime\u001b[0m\u001b[0;34m\u001b[0m\u001b[0;34m\u001b[0m\u001b[0m\n\u001b[1;32m      5\u001b[0m \u001b[0;34m\u001b[0m\u001b[0m\n",
      "\u001b[0;31mNameError\u001b[0m: name 'torch' is not defined"
     ]
    }
   ],
   "source": [
    "device = 'cuda:0' if torch.cuda.is_available() else 'cpu'\n",
    "import torch, torch.nn as nn\n",
    "import torch.nn.functional as F\n",
    "import time\n",
    "\n",
    "def plot_train_process(train_loss, test_loss, test_accuracy):\n",
    "    fig, axes = plt.subplots(1, 2, figsize=(15, 5))\n",
    "\n",
    "    axes[0].set_title('Loss')\n",
    "    axes[0].plot(train_loss, label='train')\n",
    "    axes[0].plot(test_loss, label='test')\n",
    "    axes[0].legend()\n",
    "\n",
    "    axes[1].set_title('Test accuracy')\n",
    "    axes[1].plot(test_accuracy)"
   ]
  }
 ],
 "metadata": {
  "kernelspec": {
   "display_name": "Python 3",
   "language": "python",
   "name": "python3"
  },
  "language_info": {
   "codemirror_mode": {
    "name": "ipython",
    "version": 3
   },
   "file_extension": ".py",
   "mimetype": "text/x-python",
   "name": "python",
   "nbconvert_exporter": "python",
   "pygments_lexer": "ipython3",
   "version": "3.7.10"
  }
 },
 "nbformat": 4,
 "nbformat_minor": 5
}
