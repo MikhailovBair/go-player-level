{
 "cells": [
  {
   "cell_type": "code",
   "execution_count": 1,
   "id": "empty-polyester",
   "metadata": {
    "ExecuteTime": {
     "end_time": "2022-03-24T23:58:25.898560Z",
     "start_time": "2022-03-24T23:58:24.832061Z"
    }
   },
   "outputs": [],
   "source": [
    "import warnings\n",
    "\n",
    "import numpy as np\n",
    "import pandas as pd\n",
    "from collections import Counter\n",
    "import matplotlib.pyplot as plt\n",
    "import scipy.stats as sps\n",
    "\n",
    "import sklearn.metrics\n",
    "from sklearn.datasets import load_boston\n",
    "from sklearn.model_selection import KFold\n",
    "from sklearn.metrics import (\n",
    "    confusion_matrix, mean_squared_error, roc_auc_score\n",
    ")\n",
    "from sklearn.model_selection import train_test_split\n",
    "from sklearn.model_selection import GridSearchCV\n",
    "from sklearn.model_selection import cross_val_score\n",
    "from sklearn.model_selection import StratifiedKFold\n",
    "from sklearn.model_selection import RandomizedSearchCV\n",
    "from sklearn.linear_model import LinearRegression\n",
    "from sklearn.metrics import mean_absolute_error\n",
    "\n",
    "import xgboost as xgb\n",
    "from xgboost import XGBRegressor, XGBClassifier, DMatrix\n",
    "\n",
    "from catboost import CatBoostRegressor, Pool, CatBoostClassifier\n",
    "from catboost.datasets import titanic\n",
    "\n",
    "warnings.filterwarnings(\"ignore\")"
   ]
  },
  {
   "cell_type": "code",
   "execution_count": 2,
   "id": "regional-blanket",
   "metadata": {
    "ExecuteTime": {
     "end_time": "2022-03-24T23:58:28.705292Z",
     "start_time": "2022-03-24T23:58:27.057405Z"
    }
   },
   "outputs": [
    {
     "data": {
      "text/html": [
       "<div>\n",
       "<style scoped>\n",
       "    .dataframe tbody tr th:only-of-type {\n",
       "        vertical-align: middle;\n",
       "    }\n",
       "\n",
       "    .dataframe tbody tr th {\n",
       "        vertical-align: top;\n",
       "    }\n",
       "\n",
       "    .dataframe thead th {\n",
       "        text-align: right;\n",
       "    }\n",
       "</style>\n",
       "<table border=\"1\" class=\"dataframe\">\n",
       "  <thead>\n",
       "    <tr style=\"text-align: right;\">\n",
       "      <th></th>\n",
       "      <th>Unnamed: 0</th>\n",
       "      <th>W_nickname</th>\n",
       "      <th>B_nickname</th>\n",
       "      <th>Result</th>\n",
       "      <th>mean_deltawinrate</th>\n",
       "      <th>mean_deltaScore50p</th>\n",
       "      <th>mean_deltascoreLead</th>\n",
       "      <th>dispersy_scoreLead</th>\n",
       "      <th>beautiful_percent</th>\n",
       "      <th>beautifulS_percent</th>\n",
       "      <th>...</th>\n",
       "      <th>dispersy_scoreLead 20</th>\n",
       "      <th>mean_utility 20</th>\n",
       "      <th>mean_dist</th>\n",
       "      <th>dispersy_dist</th>\n",
       "      <th>percent_p10</th>\n",
       "      <th>percent_p5</th>\n",
       "      <th>percent_p20</th>\n",
       "      <th>mean_dist_from_enemy</th>\n",
       "      <th>dispersy_dist_from_enemy</th>\n",
       "      <th>median_dist</th>\n",
       "    </tr>\n",
       "  </thead>\n",
       "  <tbody>\n",
       "    <tr>\n",
       "      <th>0</th>\n",
       "      <td>0</td>\n",
       "      <td>败亦喜418</td>\n",
       "      <td>海上游地</td>\n",
       "      <td>-1</td>\n",
       "      <td>-0.015628</td>\n",
       "      <td>-0.949885</td>\n",
       "      <td>-1.190903</td>\n",
       "      <td>2.123069</td>\n",
       "      <td>0.106383</td>\n",
       "      <td>0.063830</td>\n",
       "      <td>...</td>\n",
       "      <td>3.382784</td>\n",
       "      <td>-0.018578</td>\n",
       "      <td>5.891304</td>\n",
       "      <td>28.792533</td>\n",
       "      <td>11</td>\n",
       "      <td>22</td>\n",
       "      <td>1</td>\n",
       "      <td>4.553191</td>\n",
       "      <td>18.970575</td>\n",
       "      <td>4.0</td>\n",
       "    </tr>\n",
       "    <tr>\n",
       "      <th>1</th>\n",
       "      <td>1</td>\n",
       "      <td>王全洪18</td>\n",
       "      <td>zxh8209</td>\n",
       "      <td>1</td>\n",
       "      <td>-0.012258</td>\n",
       "      <td>-0.279557</td>\n",
       "      <td>-0.294572</td>\n",
       "      <td>0.089070</td>\n",
       "      <td>0.444444</td>\n",
       "      <td>0.111111</td>\n",
       "      <td>...</td>\n",
       "      <td>0.089070</td>\n",
       "      <td>-0.024801</td>\n",
       "      <td>6.000000</td>\n",
       "      <td>28.500000</td>\n",
       "      <td>3</td>\n",
       "      <td>3</td>\n",
       "      <td>0</td>\n",
       "      <td>4.888889</td>\n",
       "      <td>18.098765</td>\n",
       "      <td>3.0</td>\n",
       "    </tr>\n",
       "    <tr>\n",
       "      <th>2</th>\n",
       "      <td>2</td>\n",
       "      <td>å…‰å¤´å¼º820</td>\n",
       "      <td>æ–¹å»ºå?Žå“¥</td>\n",
       "      <td>-1</td>\n",
       "      <td>-0.008678</td>\n",
       "      <td>-1.260620</td>\n",
       "      <td>-2.048423</td>\n",
       "      <td>9.557839</td>\n",
       "      <td>0.626984</td>\n",
       "      <td>0.198413</td>\n",
       "      <td>...</td>\n",
       "      <td>2.329477</td>\n",
       "      <td>-0.002031</td>\n",
       "      <td>4.352000</td>\n",
       "      <td>14.660096</td>\n",
       "      <td>14</td>\n",
       "      <td>39</td>\n",
       "      <td>1</td>\n",
       "      <td>3.595238</td>\n",
       "      <td>14.844104</td>\n",
       "      <td>3.0</td>\n",
       "    </tr>\n",
       "    <tr>\n",
       "      <th>3</th>\n",
       "      <td>3</td>\n",
       "      <td>YY817155</td>\n",
       "      <td>ç?µå…‰å°?æ¢…</td>\n",
       "      <td>1</td>\n",
       "      <td>-0.029067</td>\n",
       "      <td>-0.132272</td>\n",
       "      <td>0.004268</td>\n",
       "      <td>7.231991</td>\n",
       "      <td>0.378378</td>\n",
       "      <td>0.351351</td>\n",
       "      <td>...</td>\n",
       "      <td>12.591115</td>\n",
       "      <td>-0.071420</td>\n",
       "      <td>4.388889</td>\n",
       "      <td>24.959877</td>\n",
       "      <td>4</td>\n",
       "      <td>10</td>\n",
       "      <td>1</td>\n",
       "      <td>4.756757</td>\n",
       "      <td>16.454346</td>\n",
       "      <td>2.0</td>\n",
       "    </tr>\n",
       "    <tr>\n",
       "      <th>4</th>\n",
       "      <td>4</td>\n",
       "      <td>傲骨铮铮</td>\n",
       "      <td>晓春541020</td>\n",
       "      <td>1</td>\n",
       "      <td>-0.007747</td>\n",
       "      <td>-0.861811</td>\n",
       "      <td>-1.300010</td>\n",
       "      <td>6.864337</td>\n",
       "      <td>0.495652</td>\n",
       "      <td>0.260870</td>\n",
       "      <td>...</td>\n",
       "      <td>17.775343</td>\n",
       "      <td>0.003455</td>\n",
       "      <td>5.026316</td>\n",
       "      <td>26.271237</td>\n",
       "      <td>18</td>\n",
       "      <td>42</td>\n",
       "      <td>4</td>\n",
       "      <td>4.878261</td>\n",
       "      <td>24.124310</td>\n",
       "      <td>3.0</td>\n",
       "    </tr>\n",
       "  </tbody>\n",
       "</table>\n",
       "<p>5 rows × 59 columns</p>\n",
       "</div>"
      ],
      "text/plain": [
       "   Unnamed: 0    W_nickname    B_nickname  Result  mean_deltawinrate  \\\n",
       "0           0        败亦喜418          海上游地      -1          -0.015628   \n",
       "1           1         王全洪18       zxh8209       1          -0.012258   \n",
       "2           2  å…‰å¤´å¼º820  æ–¹å»ºå?Žå“¥      -1          -0.008678   \n",
       "3           3      YY817155  ç?µå…‰å°?æ¢…       1          -0.029067   \n",
       "4           4          傲骨铮铮      晓春541020       1          -0.007747   \n",
       "\n",
       "   mean_deltaScore50p  mean_deltascoreLead  dispersy_scoreLead  \\\n",
       "0           -0.949885            -1.190903            2.123069   \n",
       "1           -0.279557            -0.294572            0.089070   \n",
       "2           -1.260620            -2.048423            9.557839   \n",
       "3           -0.132272             0.004268            7.231991   \n",
       "4           -0.861811            -1.300010            6.864337   \n",
       "\n",
       "   beautiful_percent  beautifulS_percent  ...  dispersy_scoreLead 20  \\\n",
       "0           0.106383            0.063830  ...               3.382784   \n",
       "1           0.444444            0.111111  ...               0.089070   \n",
       "2           0.626984            0.198413  ...               2.329477   \n",
       "3           0.378378            0.351351  ...              12.591115   \n",
       "4           0.495652            0.260870  ...              17.775343   \n",
       "\n",
       "   mean_utility 20  mean_dist  dispersy_dist  percent_p10  percent_p5  \\\n",
       "0        -0.018578   5.891304      28.792533           11          22   \n",
       "1        -0.024801   6.000000      28.500000            3           3   \n",
       "2        -0.002031   4.352000      14.660096           14          39   \n",
       "3        -0.071420   4.388889      24.959877            4          10   \n",
       "4         0.003455   5.026316      26.271237           18          42   \n",
       "\n",
       "   percent_p20  mean_dist_from_enemy  dispersy_dist_from_enemy  median_dist  \n",
       "0            1              4.553191                 18.970575          4.0  \n",
       "1            0              4.888889                 18.098765          3.0  \n",
       "2            1              3.595238                 14.844104          3.0  \n",
       "3            1              4.756757                 16.454346          2.0  \n",
       "4            4              4.878261                 24.124310          3.0  \n",
       "\n",
       "[5 rows x 59 columns]"
      ]
     },
     "execution_count": 2,
     "metadata": {},
     "output_type": "execute_result"
    }
   ],
   "source": [
    "df = pd.read_csv('data_features.csv')\n",
    "df.head()"
   ]
  },
  {
   "cell_type": "code",
   "execution_count": 195,
   "id": "photographic-edgar",
   "metadata": {
    "ExecuteTime": {
     "end_time": "2022-03-25T14:38:21.819769Z",
     "start_time": "2022-03-25T14:38:21.771245Z"
    }
   },
   "outputs": [],
   "source": [
    "features =['Result',\n",
    "           'Result',\n",
    "'mean_deltawinrate',\n",
    "'mean_deltaScore50p',\n",
    "'mean_deltascoreLead',\n",
    "'dispersy_scoreLead',\n",
    "'beautiful_percent',\n",
    "'beautifulS_percent',\n",
    "'mean_utility',\n",
    "'Score25p',\n",
    "'Score75p',\n",
    "'Winrate25p',\n",
    "'Winrate75p',\n",
    "'mean_deltawinrate50p',\n",
    "'median_scorelead',\n",
    "'length',\n",
    "'mean_deltaSelfPlay',\n",
    "'BestScoreMove',\n",
    "'WorstScoreMove',\n",
    "'Mean5WorstScoreMove',\n",
    "'Mean5BestScoreMove',\n",
    "'mean_deltawinrate yose',\n",
    "'beautiful_percent yose',\n",
    "'beautifulS_percent yose',\n",
    "'mean_deltascoreLead yose',\n",
    "'mean_deltaSelfPlay yose',\n",
    "'dispersy_scoreLead yose',\n",
    "'mean_utility yose',\n",
    "'len_yose',\n",
    "'start_yose',\n",
    "'has_yose',\n",
    "'mean_deltawinrate 10',\n",
    "'beautiful_percent 10',\n",
    "'beautifulS_percent 10',\n",
    "'mean_deltascoreLead 10',\n",
    "'mean_deltaSelfPlay 10',\n",
    "'dispersy_scoreLead 10',\n",
    "'mean_utility 10',\n",
    "'mean_deltawinrate 20',\n",
    "'beautiful_percent 20',\n",
    "'beautifulS_percent 20',\n",
    "'mean_deltascoreLead 20',\n",
    "'mean_deltaSelfPlay 20',\n",
    "'dispersy_scoreLead 20',\n",
    "'mean_utility 20',\n",
    "'mean_dist',\n",
    "'dispersy_dist',\n",
    "'percent_p10',\n",
    "'percent_p5',\n",
    "'percent_p20',\n",
    "'mean_dist_from_enemy',\n",
    "'dispersy_dist_from_enemy',\n",
    "'median_dist',\n",
    "]\n",
    "\n",
    "X = df[features]\n",
    "y = df['chiselka']\n",
    "# y = []\n",
    "# for r in Y:\n",
    "#     if (r[1] == 'k'):\n",
    "#         y.append(-(int(r[0]) - int('1')))\n",
    "#     else:\n",
    "#         y.append(int(r[0]))\n",
    "X_train, X_test, y_train, y_test = train_test_split(X, y, test_size=0.2, random_state=42)"
   ]
  },
  {
   "cell_type": "code",
   "execution_count": 134,
   "id": "looking-david",
   "metadata": {
    "ExecuteTime": {
     "end_time": "2022-03-25T01:09:38.192924Z",
     "start_time": "2022-03-25T01:09:38.072564Z"
    }
   },
   "outputs": [
    {
     "data": {
      "text/html": [
       "<div>\n",
       "<style scoped>\n",
       "    .dataframe tbody tr th:only-of-type {\n",
       "        vertical-align: middle;\n",
       "    }\n",
       "\n",
       "    .dataframe tbody tr th {\n",
       "        vertical-align: top;\n",
       "    }\n",
       "\n",
       "    .dataframe thead th {\n",
       "        text-align: right;\n",
       "    }\n",
       "</style>\n",
       "<table border=\"1\" class=\"dataframe\">\n",
       "  <thead>\n",
       "    <tr style=\"text-align: right;\">\n",
       "      <th></th>\n",
       "      <th>Result</th>\n",
       "      <th>Result</th>\n",
       "      <th>Result</th>\n",
       "      <th>Result</th>\n",
       "      <th>mean_deltawinrate</th>\n",
       "      <th>mean_deltaScore50p</th>\n",
       "      <th>mean_deltascoreLead</th>\n",
       "      <th>dispersy_scoreLead</th>\n",
       "      <th>beautiful_percent</th>\n",
       "      <th>beautifulS_percent</th>\n",
       "      <th>...</th>\n",
       "      <th>dispersy_scoreLead 20</th>\n",
       "      <th>mean_utility 20</th>\n",
       "      <th>mean_dist</th>\n",
       "      <th>dispersy_dist</th>\n",
       "      <th>percent_p10</th>\n",
       "      <th>percent_p5</th>\n",
       "      <th>percent_p20</th>\n",
       "      <th>mean_dist_from_enemy</th>\n",
       "      <th>dispersy_dist_from_enemy</th>\n",
       "      <th>median_dist</th>\n",
       "    </tr>\n",
       "  </thead>\n",
       "  <tbody>\n",
       "    <tr>\n",
       "      <th>75220</th>\n",
       "      <td>1</td>\n",
       "      <td>1</td>\n",
       "      <td>1</td>\n",
       "      <td>1</td>\n",
       "      <td>-0.094098</td>\n",
       "      <td>-1.828909</td>\n",
       "      <td>-2.799231</td>\n",
       "      <td>36.553890</td>\n",
       "      <td>0.211268</td>\n",
       "      <td>0.169014</td>\n",
       "      <td>...</td>\n",
       "      <td>104.715055</td>\n",
       "      <td>-0.247220</td>\n",
       "      <td>4.514286</td>\n",
       "      <td>17.992653</td>\n",
       "      <td>11</td>\n",
       "      <td>21</td>\n",
       "      <td>0</td>\n",
       "      <td>5.507042</td>\n",
       "      <td>41.489387</td>\n",
       "      <td>3.0</td>\n",
       "    </tr>\n",
       "    <tr>\n",
       "      <th>48955</th>\n",
       "      <td>1</td>\n",
       "      <td>1</td>\n",
       "      <td>1</td>\n",
       "      <td>1</td>\n",
       "      <td>-0.075566</td>\n",
       "      <td>-0.654314</td>\n",
       "      <td>-0.780909</td>\n",
       "      <td>1.054564</td>\n",
       "      <td>0.285714</td>\n",
       "      <td>0.187500</td>\n",
       "      <td>...</td>\n",
       "      <td>0.249307</td>\n",
       "      <td>-0.102076</td>\n",
       "      <td>6.837838</td>\n",
       "      <td>41.739469</td>\n",
       "      <td>28</td>\n",
       "      <td>52</td>\n",
       "      <td>7</td>\n",
       "      <td>4.428571</td>\n",
       "      <td>24.494898</td>\n",
       "      <td>4.0</td>\n",
       "    </tr>\n",
       "    <tr>\n",
       "      <th>44966</th>\n",
       "      <td>-1</td>\n",
       "      <td>-1</td>\n",
       "      <td>-1</td>\n",
       "      <td>-1</td>\n",
       "      <td>-0.052176</td>\n",
       "      <td>-1.354131</td>\n",
       "      <td>-1.781107</td>\n",
       "      <td>3.744156</td>\n",
       "      <td>0.210526</td>\n",
       "      <td>0.140351</td>\n",
       "      <td>...</td>\n",
       "      <td>5.725296</td>\n",
       "      <td>-0.053211</td>\n",
       "      <td>4.946429</td>\n",
       "      <td>25.586416</td>\n",
       "      <td>11</td>\n",
       "      <td>20</td>\n",
       "      <td>2</td>\n",
       "      <td>5.175439</td>\n",
       "      <td>30.109572</td>\n",
       "      <td>3.0</td>\n",
       "    </tr>\n",
       "    <tr>\n",
       "      <th>13568</th>\n",
       "      <td>1</td>\n",
       "      <td>1</td>\n",
       "      <td>1</td>\n",
       "      <td>1</td>\n",
       "      <td>-0.050495</td>\n",
       "      <td>-0.971415</td>\n",
       "      <td>-1.153601</td>\n",
       "      <td>2.484242</td>\n",
       "      <td>0.239669</td>\n",
       "      <td>0.198347</td>\n",
       "      <td>...</td>\n",
       "      <td>1.476892</td>\n",
       "      <td>-0.138036</td>\n",
       "      <td>5.583333</td>\n",
       "      <td>27.943056</td>\n",
       "      <td>21</td>\n",
       "      <td>48</td>\n",
       "      <td>4</td>\n",
       "      <td>4.479339</td>\n",
       "      <td>28.084284</td>\n",
       "      <td>4.0</td>\n",
       "    </tr>\n",
       "    <tr>\n",
       "      <th>92727</th>\n",
       "      <td>-1</td>\n",
       "      <td>-1</td>\n",
       "      <td>-1</td>\n",
       "      <td>-1</td>\n",
       "      <td>-0.056858</td>\n",
       "      <td>-0.643072</td>\n",
       "      <td>-1.747535</td>\n",
       "      <td>13.663645</td>\n",
       "      <td>0.244444</td>\n",
       "      <td>0.200000</td>\n",
       "      <td>...</td>\n",
       "      <td>23.766125</td>\n",
       "      <td>-0.205890</td>\n",
       "      <td>4.454545</td>\n",
       "      <td>8.611570</td>\n",
       "      <td>3</td>\n",
       "      <td>17</td>\n",
       "      <td>0</td>\n",
       "      <td>3.177778</td>\n",
       "      <td>9.079506</td>\n",
       "      <td>4.0</td>\n",
       "    </tr>\n",
       "    <tr>\n",
       "      <th>...</th>\n",
       "      <td>...</td>\n",
       "      <td>...</td>\n",
       "      <td>...</td>\n",
       "      <td>...</td>\n",
       "      <td>...</td>\n",
       "      <td>...</td>\n",
       "      <td>...</td>\n",
       "      <td>...</td>\n",
       "      <td>...</td>\n",
       "      <td>...</td>\n",
       "      <td>...</td>\n",
       "      <td>...</td>\n",
       "      <td>...</td>\n",
       "      <td>...</td>\n",
       "      <td>...</td>\n",
       "      <td>...</td>\n",
       "      <td>...</td>\n",
       "      <td>...</td>\n",
       "      <td>...</td>\n",
       "      <td>...</td>\n",
       "      <td>...</td>\n",
       "    </tr>\n",
       "    <tr>\n",
       "      <th>6265</th>\n",
       "      <td>-1</td>\n",
       "      <td>-1</td>\n",
       "      <td>-1</td>\n",
       "      <td>-1</td>\n",
       "      <td>-0.032074</td>\n",
       "      <td>-1.457544</td>\n",
       "      <td>-2.264547</td>\n",
       "      <td>9.855436</td>\n",
       "      <td>0.326087</td>\n",
       "      <td>0.141304</td>\n",
       "      <td>...</td>\n",
       "      <td>27.300213</td>\n",
       "      <td>-0.002285</td>\n",
       "      <td>4.197802</td>\n",
       "      <td>16.356479</td>\n",
       "      <td>10</td>\n",
       "      <td>25</td>\n",
       "      <td>0</td>\n",
       "      <td>3.836957</td>\n",
       "      <td>20.397330</td>\n",
       "      <td>3.0</td>\n",
       "    </tr>\n",
       "    <tr>\n",
       "      <th>54886</th>\n",
       "      <td>1</td>\n",
       "      <td>1</td>\n",
       "      <td>1</td>\n",
       "      <td>1</td>\n",
       "      <td>-0.036400</td>\n",
       "      <td>-0.550179</td>\n",
       "      <td>-0.716214</td>\n",
       "      <td>10.948317</td>\n",
       "      <td>0.341176</td>\n",
       "      <td>0.341176</td>\n",
       "      <td>...</td>\n",
       "      <td>22.394413</td>\n",
       "      <td>-0.075204</td>\n",
       "      <td>4.500000</td>\n",
       "      <td>15.535714</td>\n",
       "      <td>10</td>\n",
       "      <td>29</td>\n",
       "      <td>1</td>\n",
       "      <td>4.576471</td>\n",
       "      <td>26.573564</td>\n",
       "      <td>3.0</td>\n",
       "    </tr>\n",
       "    <tr>\n",
       "      <th>76820</th>\n",
       "      <td>1</td>\n",
       "      <td>1</td>\n",
       "      <td>1</td>\n",
       "      <td>1</td>\n",
       "      <td>-0.093863</td>\n",
       "      <td>-1.461750</td>\n",
       "      <td>-1.802444</td>\n",
       "      <td>9.391753</td>\n",
       "      <td>0.325203</td>\n",
       "      <td>0.178862</td>\n",
       "      <td>...</td>\n",
       "      <td>21.808833</td>\n",
       "      <td>-0.258267</td>\n",
       "      <td>4.598361</td>\n",
       "      <td>22.174751</td>\n",
       "      <td>19</td>\n",
       "      <td>37</td>\n",
       "      <td>2</td>\n",
       "      <td>3.601626</td>\n",
       "      <td>15.670566</td>\n",
       "      <td>3.0</td>\n",
       "    </tr>\n",
       "    <tr>\n",
       "      <th>860</th>\n",
       "      <td>-1</td>\n",
       "      <td>-1</td>\n",
       "      <td>-1</td>\n",
       "      <td>-1</td>\n",
       "      <td>-0.080303</td>\n",
       "      <td>-1.143770</td>\n",
       "      <td>-1.763479</td>\n",
       "      <td>6.187474</td>\n",
       "      <td>0.269565</td>\n",
       "      <td>0.191304</td>\n",
       "      <td>...</td>\n",
       "      <td>2.173437</td>\n",
       "      <td>-0.168972</td>\n",
       "      <td>5.175439</td>\n",
       "      <td>26.969221</td>\n",
       "      <td>18</td>\n",
       "      <td>44</td>\n",
       "      <td>3</td>\n",
       "      <td>4.052174</td>\n",
       "      <td>20.571191</td>\n",
       "      <td>3.0</td>\n",
       "    </tr>\n",
       "    <tr>\n",
       "      <th>15795</th>\n",
       "      <td>-1</td>\n",
       "      <td>-1</td>\n",
       "      <td>-1</td>\n",
       "      <td>-1</td>\n",
       "      <td>-0.020720</td>\n",
       "      <td>-0.955388</td>\n",
       "      <td>-1.925359</td>\n",
       "      <td>35.234393</td>\n",
       "      <td>0.414815</td>\n",
       "      <td>0.251852</td>\n",
       "      <td>...</td>\n",
       "      <td>7.033931</td>\n",
       "      <td>-0.000573</td>\n",
       "      <td>6.514925</td>\n",
       "      <td>38.443807</td>\n",
       "      <td>33</td>\n",
       "      <td>61</td>\n",
       "      <td>8</td>\n",
       "      <td>5.200000</td>\n",
       "      <td>31.597037</td>\n",
       "      <td>4.0</td>\n",
       "    </tr>\n",
       "  </tbody>\n",
       "</table>\n",
       "<p>80000 rows × 55 columns</p>\n",
       "</div>"
      ],
      "text/plain": [
       "       Result  Result  Result  Result  mean_deltawinrate  mean_deltaScore50p  \\\n",
       "75220       1       1       1       1          -0.094098           -1.828909   \n",
       "48955       1       1       1       1          -0.075566           -0.654314   \n",
       "44966      -1      -1      -1      -1          -0.052176           -1.354131   \n",
       "13568       1       1       1       1          -0.050495           -0.971415   \n",
       "92727      -1      -1      -1      -1          -0.056858           -0.643072   \n",
       "...       ...     ...     ...     ...                ...                 ...   \n",
       "6265       -1      -1      -1      -1          -0.032074           -1.457544   \n",
       "54886       1       1       1       1          -0.036400           -0.550179   \n",
       "76820       1       1       1       1          -0.093863           -1.461750   \n",
       "860        -1      -1      -1      -1          -0.080303           -1.143770   \n",
       "15795      -1      -1      -1      -1          -0.020720           -0.955388   \n",
       "\n",
       "       mean_deltascoreLead  dispersy_scoreLead  beautiful_percent  \\\n",
       "75220            -2.799231           36.553890           0.211268   \n",
       "48955            -0.780909            1.054564           0.285714   \n",
       "44966            -1.781107            3.744156           0.210526   \n",
       "13568            -1.153601            2.484242           0.239669   \n",
       "92727            -1.747535           13.663645           0.244444   \n",
       "...                    ...                 ...                ...   \n",
       "6265             -2.264547            9.855436           0.326087   \n",
       "54886            -0.716214           10.948317           0.341176   \n",
       "76820            -1.802444            9.391753           0.325203   \n",
       "860              -1.763479            6.187474           0.269565   \n",
       "15795            -1.925359           35.234393           0.414815   \n",
       "\n",
       "       beautifulS_percent  ...  dispersy_scoreLead 20  mean_utility 20  \\\n",
       "75220            0.169014  ...             104.715055        -0.247220   \n",
       "48955            0.187500  ...               0.249307        -0.102076   \n",
       "44966            0.140351  ...               5.725296        -0.053211   \n",
       "13568            0.198347  ...               1.476892        -0.138036   \n",
       "92727            0.200000  ...              23.766125        -0.205890   \n",
       "...                   ...  ...                    ...              ...   \n",
       "6265             0.141304  ...              27.300213        -0.002285   \n",
       "54886            0.341176  ...              22.394413        -0.075204   \n",
       "76820            0.178862  ...              21.808833        -0.258267   \n",
       "860              0.191304  ...               2.173437        -0.168972   \n",
       "15795            0.251852  ...               7.033931        -0.000573   \n",
       "\n",
       "       mean_dist  dispersy_dist  percent_p10  percent_p5  percent_p20  \\\n",
       "75220   4.514286      17.992653           11          21            0   \n",
       "48955   6.837838      41.739469           28          52            7   \n",
       "44966   4.946429      25.586416           11          20            2   \n",
       "13568   5.583333      27.943056           21          48            4   \n",
       "92727   4.454545       8.611570            3          17            0   \n",
       "...          ...            ...          ...         ...          ...   \n",
       "6265    4.197802      16.356479           10          25            0   \n",
       "54886   4.500000      15.535714           10          29            1   \n",
       "76820   4.598361      22.174751           19          37            2   \n",
       "860     5.175439      26.969221           18          44            3   \n",
       "15795   6.514925      38.443807           33          61            8   \n",
       "\n",
       "       mean_dist_from_enemy  dispersy_dist_from_enemy  median_dist  \n",
       "75220              5.507042                 41.489387          3.0  \n",
       "48955              4.428571                 24.494898          4.0  \n",
       "44966              5.175439                 30.109572          3.0  \n",
       "13568              4.479339                 28.084284          4.0  \n",
       "92727              3.177778                  9.079506          4.0  \n",
       "...                     ...                       ...          ...  \n",
       "6265               3.836957                 20.397330          3.0  \n",
       "54886              4.576471                 26.573564          3.0  \n",
       "76820              3.601626                 15.670566          3.0  \n",
       "860                4.052174                 20.571191          3.0  \n",
       "15795              5.200000                 31.597037          4.0  \n",
       "\n",
       "[80000 rows x 55 columns]"
      ]
     },
     "execution_count": 134,
     "metadata": {},
     "output_type": "execute_result"
    }
   ],
   "source": [
    "X_train[features]"
   ]
  },
  {
   "cell_type": "markdown",
   "id": "fatty-course",
   "metadata": {
    "ExecuteTime": {
     "end_time": "2022-03-18T16:25:52.053877Z",
     "start_time": "2022-03-18T16:25:52.047762Z"
    }
   },
   "source": [
    "# 1. XGBoost"
   ]
  },
  {
   "cell_type": "code",
   "execution_count": 11,
   "id": "flexible-development",
   "metadata": {
    "ExecuteTime": {
     "end_time": "2022-03-23T22:16:37.460167Z",
     "start_time": "2022-03-23T22:16:37.445373Z"
    }
   },
   "outputs": [
    {
     "data": {
      "text/plain": [
       "40507    5\n",
       "72707    5\n",
       "90912    2\n",
       "28532    7\n",
       "13006    3\n",
       "        ..\n",
       "6265     2\n",
       "54886    0\n",
       "76820   -2\n",
       "860     -2\n",
       "15795    6\n",
       "Name: chiselka, Length: 60000, dtype: int64"
      ]
     },
     "execution_count": 11,
     "metadata": {},
     "output_type": "execute_result"
    }
   ],
   "source": [
    "y_train"
   ]
  },
  {
   "cell_type": "code",
   "execution_count": 13,
   "id": "discrete-square",
   "metadata": {
    "ExecuteTime": {
     "end_time": "2022-03-23T22:17:15.683655Z",
     "start_time": "2022-03-23T22:17:15.678462Z"
    }
   },
   "outputs": [
    {
     "data": {
      "text/plain": [
       "75721    1\n",
       "80184    6\n",
       "19864    4\n",
       "76699    0\n",
       "92991    3\n",
       "        ..\n",
       "84191    7\n",
       "4373     4\n",
       "57452   -1\n",
       "31042   -2\n",
       "40093    3\n",
       "Name: chiselka, Length: 40000, dtype: int64"
      ]
     },
     "execution_count": 13,
     "metadata": {},
     "output_type": "execute_result"
    }
   ],
   "source": [
    "y_test"
   ]
  },
  {
   "cell_type": "code",
   "execution_count": 27,
   "id": "choice-procedure",
   "metadata": {
    "ExecuteTime": {
     "end_time": "2022-03-23T22:22:05.913639Z",
     "start_time": "2022-03-23T22:21:39.921480Z"
    }
   },
   "outputs": [
    {
     "ename": "ValueError",
     "evalue": "The truth value of a Series is ambiguous. Use a.empty, a.bool(), a.item(), a.any() or a.all().",
     "output_type": "error",
     "traceback": [
      "\u001b[0;31m---------------------------------------------------------------------------\u001b[0m",
      "\u001b[0;31mValueError\u001b[0m                                Traceback (most recent call last)",
      "\u001b[0;32m<ipython-input-27-9d9b4f3fe54f>\u001b[0m in \u001b[0;36m<module>\u001b[0;34m\u001b[0m\n\u001b[1;32m      5\u001b[0m \u001b[0;34m\u001b[0m\u001b[0m\n\u001b[1;32m      6\u001b[0m \u001b[0mxgb_model\u001b[0m\u001b[0;34m.\u001b[0m\u001b[0mfit\u001b[0m\u001b[0;34m(\u001b[0m\u001b[0mX_train\u001b[0m\u001b[0;34m,\u001b[0m \u001b[0my_train\u001b[0m\u001b[0;34m)\u001b[0m\u001b[0;34m\u001b[0m\u001b[0;34m\u001b[0m\u001b[0m\n\u001b[0;32m----> 7\u001b[0;31m \u001b[0my_pred\u001b[0m \u001b[0;34m=\u001b[0m \u001b[0mxgb_model\u001b[0m\u001b[0;34m.\u001b[0m\u001b[0mpredict\u001b[0m\u001b[0;34m(\u001b[0m\u001b[0mX_test\u001b[0m\u001b[0;34m,\u001b[0m \u001b[0my_test\u001b[0m\u001b[0;34m)\u001b[0m\u001b[0;34m\u001b[0m\u001b[0;34m\u001b[0m\u001b[0m\n\u001b[0m\u001b[1;32m      8\u001b[0m \u001b[0mprint\u001b[0m\u001b[0;34m(\u001b[0m\u001b[0mmean_absolute_error\u001b[0m\u001b[0;34m(\u001b[0m\u001b[0my_pred\u001b[0m\u001b[0;34m,\u001b[0m \u001b[0my_test\u001b[0m\u001b[0;34m)\u001b[0m\u001b[0;34m)\u001b[0m\u001b[0;34m\u001b[0m\u001b[0;34m\u001b[0m\u001b[0m\n",
      "\u001b[0;32m~/anaconda3/envs/mipt-stats/lib/python3.7/site-packages/xgboost/sklearn.py\u001b[0m in \u001b[0;36mpredict\u001b[0;34m(self, X, output_margin, ntree_limit, validate_features, base_margin, iteration_range)\u001b[0m\n\u001b[1;32m    882\u001b[0m                     \u001b[0mdata\u001b[0m\u001b[0;34m=\u001b[0m\u001b[0mX\u001b[0m\u001b[0;34m,\u001b[0m\u001b[0;34m\u001b[0m\u001b[0;34m\u001b[0m\u001b[0m\n\u001b[1;32m    883\u001b[0m                     \u001b[0miteration_range\u001b[0m\u001b[0;34m=\u001b[0m\u001b[0miteration_range\u001b[0m\u001b[0;34m,\u001b[0m\u001b[0;34m\u001b[0m\u001b[0;34m\u001b[0m\u001b[0m\n\u001b[0;32m--> 884\u001b[0;31m                     \u001b[0mpredict_type\u001b[0m\u001b[0;34m=\u001b[0m\u001b[0;34m\"margin\"\u001b[0m \u001b[0;32mif\u001b[0m \u001b[0moutput_margin\u001b[0m \u001b[0;32melse\u001b[0m \u001b[0;34m\"value\"\u001b[0m\u001b[0;34m,\u001b[0m\u001b[0;34m\u001b[0m\u001b[0;34m\u001b[0m\u001b[0m\n\u001b[0m\u001b[1;32m    885\u001b[0m                     \u001b[0mmissing\u001b[0m\u001b[0;34m=\u001b[0m\u001b[0mself\u001b[0m\u001b[0;34m.\u001b[0m\u001b[0mmissing\u001b[0m\u001b[0;34m,\u001b[0m\u001b[0;34m\u001b[0m\u001b[0;34m\u001b[0m\u001b[0m\n\u001b[1;32m    886\u001b[0m                     \u001b[0mbase_margin\u001b[0m\u001b[0;34m=\u001b[0m\u001b[0mbase_margin\u001b[0m\u001b[0;34m,\u001b[0m\u001b[0;34m\u001b[0m\u001b[0;34m\u001b[0m\u001b[0m\n",
      "\u001b[0;32m~/anaconda3/envs/mipt-stats/lib/python3.7/site-packages/pandas/core/generic.py\u001b[0m in \u001b[0;36m__nonzero__\u001b[0;34m(self)\u001b[0m\n\u001b[1;32m   1441\u001b[0m     \u001b[0;32mdef\u001b[0m \u001b[0m__nonzero__\u001b[0m\u001b[0;34m(\u001b[0m\u001b[0mself\u001b[0m\u001b[0;34m)\u001b[0m\u001b[0;34m:\u001b[0m\u001b[0;34m\u001b[0m\u001b[0;34m\u001b[0m\u001b[0m\n\u001b[1;32m   1442\u001b[0m         raise ValueError(\n\u001b[0;32m-> 1443\u001b[0;31m             \u001b[0;34mf\"The truth value of a {type(self).__name__} is ambiguous. \"\u001b[0m\u001b[0;34m\u001b[0m\u001b[0;34m\u001b[0m\u001b[0m\n\u001b[0m\u001b[1;32m   1444\u001b[0m             \u001b[0;34m\"Use a.empty, a.bool(), a.item(), a.any() or a.all().\"\u001b[0m\u001b[0;34m\u001b[0m\u001b[0;34m\u001b[0m\u001b[0m\n\u001b[1;32m   1445\u001b[0m         )\n",
      "\u001b[0;31mValueError\u001b[0m: The truth value of a Series is ambiguous. Use a.empty, a.bool(), a.item(), a.any() or a.all()."
     ]
    }
   ],
   "source": [
    "xgb_model = XGBRegressor(\n",
    "    silent=True, max_depth=4, n_estimators=200, random_state=42, verbosity=0,\n",
    "    learning_rate=0.1, min_child_weight=1, booster='gbtree'\n",
    ")\n",
    "\n",
    "xgb_model.fit(X_train, y_train)\n",
    "y_pred = xgb_model.predict(X_test, y_test)\n",
    "print(mean_absolute_error(y_pred, y_test)) "
   ]
  },
  {
   "cell_type": "code",
   "execution_count": 30,
   "id": "allied-cooking",
   "metadata": {
    "ExecuteTime": {
     "end_time": "2022-03-23T22:22:41.146729Z",
     "start_time": "2022-03-23T22:22:41.136631Z"
    }
   },
   "outputs": [
    {
     "name": "stdout",
     "output_type": "stream",
     "text": [
      "1.699504335747671\n"
     ]
    }
   ],
   "source": [
    "print(mean_absolute_error(y_pred, y_test)) "
   ]
  },
  {
   "cell_type": "code",
   "execution_count": 29,
   "id": "afraid-square",
   "metadata": {
    "ExecuteTime": {
     "end_time": "2022-03-23T22:22:30.324717Z",
     "start_time": "2022-03-23T22:22:30.131064Z"
    }
   },
   "outputs": [
    {
     "data": {
      "image/png": "[encoded data removed]",
      "text/plain": [
       "<Figure size 720x432 with 1 Axes>"
      ]
     },
     "metadata": {
      "needs_background": "light"
     },
     "output_type": "display_data"
    }
   ],
   "source": [
    "from matplotlib import pyplot as plt\n",
    "bins = [i + -4.001 for i in range(12)]\n",
    "plt.figure(figsize=(10, 6))\n",
    "plt.title(\"Распределение значения оценки параметра\")\n",
    "plt.hist(\n",
    "    y_test,\n",
    "    bins = bins,\n",
    "    alpha = 0.6,\n",
    "    color = 'orange',\n",
    "    label = 'Реальное распределение'\n",
    ")\n",
    "plt.hist(\n",
    "    y_pred,\n",
    "    bins = bins,\n",
    "    alpha = 0.6,\n",
    "    color = 'green',\n",
    "    label = 'XGBoost'\n",
    ")\n",
    "plt.legend()\n",
    "plt.show()"
   ]
  },
  {
   "cell_type": "code",
   "execution_count": 140,
   "id": "partial-modeling",
   "metadata": {
    "ExecuteTime": {
     "end_time": "2022-03-18T16:10:32.882502Z",
     "start_time": "2022-03-18T16:10:32.875221Z"
    }
   },
   "outputs": [
    {
     "data": {
      "text/plain": [
       "XGBRegressor(base_score=0.5, booster='dart', colsample_bylevel=1,\n",
       "             colsample_bynode=1, colsample_bytree=1, enable_categorical=False,\n",
       "             gamma=0, gpu_id=-1, importance_type=None,\n",
       "             interaction_constraints='', learning_rate=0.1, max_delta_step=0,\n",
       "             max_depth=4, min_child_weight=1, missing=nan,\n",
       "             monotone_constraints='()', n_estimators=175, n_jobs=8,\n",
       "             num_parallel_tree=1, predictor='auto', random_state=42,\n",
       "             reg_alpha=0, reg_lambda=1, scale_pos_weight=1, silent=True,\n",
       "             subsample=1, tree_method='exact', validate_parameters=1,\n",
       "             verbosity=0)"
      ]
     },
     "execution_count": 140,
     "metadata": {},
     "output_type": "execute_result"
    }
   ],
   "source": [
    "xgb_model"
   ]
  },
  {
   "cell_type": "code",
   "execution_count": 321,
   "id": "careful-consensus",
   "metadata": {
    "ExecuteTime": {
     "end_time": "2022-03-18T22:38:58.308029Z",
     "start_time": "2022-03-18T20:51:14.639151Z"
    }
   },
   "outputs": [
    {
     "name": "stdout",
     "output_type": "stream",
     "text": [
      "Fitting 5 folds for each of 200 candidates, totalling 1000 fits\n",
      "CPU times: user 13h 22min 48s, sys: 42.8 s, total: 13h 23min 31s\n",
      "Wall time: 1h 47min 43s\n"
     ]
    },
    {
     "data": {
      "text/plain": [
       "RandomizedSearchCV(cv=StratifiedKFold(n_splits=5, random_state=None, shuffle=False),\n",
       "                   error_score='raise',\n",
       "                   estimator=XGBRegressor(base_score=0.5, booster='gbtree',\n",
       "                                          colsample_bylevel=1,\n",
       "                                          colsample_bynode=1,\n",
       "                                          colsample_bytree=1,\n",
       "                                          enable_categorical=False, gamma=0,\n",
       "                                          gpu_id=-1, importance_type=None,\n",
       "                                          interaction_constraints='',\n",
       "                                          learning_rate=0.1, max_delta_step=0,\n",
       "                                          max_depth...\n",
       "                   param_distributions={'alpha': <scipy.stats._distn_infrastructure.rv_frozen object at 0x7f55756890d0>,\n",
       "                                        'colsample_bylevel': [0.7, 0.8, 0.9,\n",
       "                                                              1.0],\n",
       "                                        'colsample_bytree': [0.7, 0.8, 0.9,\n",
       "                                                             1.0],\n",
       "                                        'eta': [0.001, 0.1, 1, 10],\n",
       "                                        'lambda': <scipy.stats._distn_infrastructure.rv_frozen object at 0x7f5575e44650>,\n",
       "                                        'max_depth': range(1, 15, 2),\n",
       "                                        'n_estimators': [100, 1000, 1500, 2000],\n",
       "                                        'subsample': [0.8, 0.9, 1.0]},\n",
       "                   random_state=42, scoring='r2', verbose=1)"
      ]
     },
     "execution_count": 321,
     "metadata": {},
     "output_type": "execute_result"
    }
   ],
   "source": [
    "%%time\n",
    "\n",
    "parameters_grid = {\n",
    "    'n_estimators' : [100, 1000, 1500, 2000],\n",
    "    'max_depth' : range(1, 15, 2),\n",
    "    'subsample' : [0.8, 0.9, 1.0],\n",
    "    'colsample_bytree' : [0.7, 0.8, 0.9, 1.0],\n",
    "    'colsample_bylevel' : [0.7, 0.8, 0.9, 1.0] ,\n",
    "    'lambda' : sps.expon(loc=0, scale=1),\n",
    "    'alpha' : sps.expon(loc=0, scale=1),\n",
    "    'eta' : [0.001, 0.1, 1, 10]\n",
    "}\n",
    "\n",
    "# задаем стратегию кросс-валидации\n",
    "ss = StratifiedKFold(n_splits=5)\n",
    "\n",
    "# определяем поиск по сетке \n",
    "gs = RandomizedSearchCV(\n",
    "    # модель для обучения, в нашем случае XGBoostClassifier\n",
    "    estimator=xgb_model,\n",
    "    # количество итераций поиска \n",
    "    n_iter=200,\n",
    "    # сетка значений гиперпараметров\n",
    "    param_distributions=parameters_grid,\n",
    "    # метрика качества, берем accuracy\n",
    "    scoring='r2',\n",
    "    # GridSearch отлично параллелится, но и XGBoost параллелится\n",
    "    n_jobs=1,  \n",
    "    # стратегия кросс-валидации\n",
    "    cv=ss,  \n",
    "     # сообщения с логами обучения: больше значение - больше сообщений\n",
    "    verbose=1, \n",
    "    # значение, присваиваемое scorer в случае ошибки при обучении\n",
    "    error_score='raise',\n",
    "    # seed для генератора случайных чисел\n",
    "    random_state=42\n",
    ")\n",
    "\n",
    "# выполняем поиск по сетке\n",
    "gs.fit(X_train, y_train)"
   ]
  },
  {
   "cell_type": "code",
   "execution_count": 15,
   "id": "massive-ozone",
   "metadata": {
    "ExecuteTime": {
     "end_time": "2022-03-23T22:17:40.568331Z",
     "start_time": "2022-03-23T22:17:40.544574Z"
    }
   },
   "outputs": [
    {
     "ename": "NameError",
     "evalue": "name 'gs' is not defined",
     "output_type": "error",
     "traceback": [
      "\u001b[0;31m---------------------------------------------------------------------------\u001b[0m",
      "\u001b[0;31mNameError\u001b[0m                                 Traceback (most recent call last)",
      "\u001b[0;32m<ipython-input-15-df2c2bd0f67e>\u001b[0m in \u001b[0;36m<module>\u001b[0;34m\u001b[0m\n\u001b[0;32m----> 1\u001b[0;31m \u001b[0mgs\u001b[0m\u001b[0;34m.\u001b[0m\u001b[0mbest_params_\u001b[0m\u001b[0;34m\u001b[0m\u001b[0;34m\u001b[0m\u001b[0m\n\u001b[0m",
      "\u001b[0;31mNameError\u001b[0m: name 'gs' is not defined"
     ]
    }
   ],
   "source": [
    "gs.best_params_"
   ]
  },
  {
   "cell_type": "code",
   "execution_count": 323,
   "id": "unlimited-salvation",
   "metadata": {
    "ExecuteTime": {
     "end_time": "2022-03-19T05:09:32.765803Z",
     "start_time": "2022-03-19T05:09:31.840723Z"
    }
   },
   "outputs": [
    {
     "data": {
      "text/plain": [
       "1.849368533247849"
      ]
     },
     "execution_count": 323,
     "metadata": {},
     "output_type": "execute_result"
    }
   ],
   "source": [
    "best_estimator = gs.best_estimator_\n",
    "best_estimator.fit(X_train, y_train)\n",
    "y_pred = best_estimator.predict(X_test)\n",
    "mean_absolute_error(y_test, y_pred)"
   ]
  },
  {
   "cell_type": "code",
   "execution_count": null,
   "id": "based-auction",
   "metadata": {},
   "outputs": [],
   "source": []
  },
  {
   "cell_type": "code",
   "execution_count": 158,
   "id": "native-analyst",
   "metadata": {
    "ExecuteTime": {
     "end_time": "2022-03-18T16:16:02.903812Z",
     "start_time": "2022-03-18T16:16:02.889223Z"
    }
   },
   "outputs": [
    {
     "name": "stdout",
     "output_type": "stream",
     "text": [
      "\"mean_dist\",\n",
      "\"dispersy_dist\",\n",
      "\"mean_deltawinrate50p\",\n",
      "\"mean_utility\",\n",
      "\"mean_deltawinrate\",\n",
      "\"Winrate25p\",\n",
      "\"Score75p\",\n",
      "\"dispersy_scoreLead\",\n",
      "\"Winrate75p\",\n",
      "\"mean_deltascoreLead\",\n",
      "\"Score25p\",\n",
      "\"beautiful_percent\",\n",
      "\"beautiful_percent 20\",\n",
      "\"beautifulS_percent 20\",\n",
      "\"beautiful_percent 10\",\n",
      "\"mean_deltaScore50p\",\n",
      "\"median_scorelead\",\n",
      "\"mean_deltascoreLead yose\",\n",
      "\"beautiful_percent yose\",\n",
      "\"mean_deltaSelfPlay\",\n",
      "\"dispersy_scoreLead 10\",\n",
      "\"mean_deltascoreLead 20\",\n",
      "\"dispersy_scoreLead yose\",\n",
      "\"beautifulS_percent 10\",\n",
      "\"mean_deltaSelfPlay 20\",\n",
      "\"mean_deltascoreLead 10\",\n",
      "\"dispersy_scoreLead 20\",\n",
      "\"beautifulS_percent\",\n",
      "\"mean_utility 10\",\n",
      "\"mean_deltawinrate yose\",\n",
      "\"mean_deltawinrate 20\",\n",
      "\"mean_deltaSelfPlay 10\",\n",
      "\"beautifulS_percent yose\",\n",
      "\"mean_deltaSelfPlay yose\",\n",
      "\"mean_utility yose\",\n",
      "\"mean_deltawinrate 10\",\n",
      "\"mean_utility 20\",\n"
     ]
    }
   ],
   "source": [
    "native_xgb_model = xgb_model.get_booster()\n",
    "for name, value in Counter(native_xgb_model.get_fscore()).most_common():\n",
    "    print('\"' + name + '\",')"
   ]
  },
  {
   "cell_type": "code",
   "execution_count": 82,
   "id": "compliant-sister",
   "metadata": {
    "ExecuteTime": {
     "end_time": "2022-03-18T15:36:46.582124Z",
     "start_time": "2022-03-18T15:36:46.578473Z"
    }
   },
   "outputs": [],
   "source": [
    "xgb_params = {\n",
    "    \"booster\": \"gbtree\",\n",
    "    \"learning_rate\": 0.1,\n",
    "    \"max_depth\": 5,\n",
    "    \"min_child_weight\": 1,\n",
    "    \"gamma\": 0.1,\n",
    "    \"subsample\": 0.8,\n",
    "    \"colsample_bytree\": 0.8,\n",
    "    \"random_state\": 42,\n",
    "    \"eval_metric\": \"mae\"\n",
    "}"
   ]
  },
  {
   "cell_type": "code",
   "execution_count": 83,
   "id": "political-hamburg",
   "metadata": {
    "ExecuteTime": {
     "end_time": "2022-03-18T15:36:47.269450Z",
     "start_time": "2022-03-18T15:36:47.210413Z"
    }
   },
   "outputs": [],
   "source": [
    "xgtrain = xgb.DMatrix(X_train, y_train)\n",
    "xgtest = xgb.DMatrix(X_test, y_test)\n",
    "evallist = [(xgtest, 'eval'), (xgtrain, 'train')]"
   ]
  },
  {
   "cell_type": "code",
   "execution_count": 84,
   "id": "important-notice",
   "metadata": {
    "ExecuteTime": {
     "end_time": "2022-03-18T15:37:03.204606Z",
     "start_time": "2022-03-18T15:36:47.882512Z"
    }
   },
   "outputs": [],
   "source": [
    "cvresult = xgb.cv(\n",
    "    xgb_params, xgtrain, num_boost_round=3000, \n",
    "    nfold=5, early_stopping_rounds=300\n",
    ")"
   ]
  },
  {
   "cell_type": "code",
   "execution_count": 86,
   "id": "excellent-violence",
   "metadata": {
    "ExecuteTime": {
     "end_time": "2022-03-18T15:38:15.572150Z",
     "start_time": "2022-03-18T15:38:15.562998Z"
    }
   },
   "outputs": [
    {
     "data": {
      "text/html": [
       "<div>\n",
       "<style scoped>\n",
       "    .dataframe tbody tr th:only-of-type {\n",
       "        vertical-align: middle;\n",
       "    }\n",
       "\n",
       "    .dataframe tbody tr th {\n",
       "        vertical-align: top;\n",
       "    }\n",
       "\n",
       "    .dataframe thead th {\n",
       "        text-align: right;\n",
       "    }\n",
       "</style>\n",
       "<table border=\"1\" class=\"dataframe\">\n",
       "  <thead>\n",
       "    <tr style=\"text-align: right;\">\n",
       "      <th></th>\n",
       "      <th>train-mae-mean</th>\n",
       "      <th>train-mae-std</th>\n",
       "      <th>test-mae-mean</th>\n",
       "      <th>test-mae-std</th>\n",
       "    </tr>\n",
       "  </thead>\n",
       "  <tbody>\n",
       "    <tr>\n",
       "      <th>196</th>\n",
       "      <td>0.968812</td>\n",
       "      <td>0.016586</td>\n",
       "      <td>1.897338</td>\n",
       "      <td>0.026538</td>\n",
       "    </tr>\n",
       "    <tr>\n",
       "      <th>197</th>\n",
       "      <td>0.966233</td>\n",
       "      <td>0.016813</td>\n",
       "      <td>1.897141</td>\n",
       "      <td>0.026091</td>\n",
       "    </tr>\n",
       "    <tr>\n",
       "      <th>198</th>\n",
       "      <td>0.963526</td>\n",
       "      <td>0.016025</td>\n",
       "      <td>1.896760</td>\n",
       "      <td>0.026517</td>\n",
       "    </tr>\n",
       "  </tbody>\n",
       "</table>\n",
       "</div>"
      ],
      "text/plain": [
       "     train-mae-mean  train-mae-std  test-mae-mean  test-mae-std\n",
       "196        0.968812       0.016586       1.897338      0.026538\n",
       "197        0.966233       0.016813       1.897141      0.026091\n",
       "198        0.963526       0.016025       1.896760      0.026517"
      ]
     },
     "execution_count": 86,
     "metadata": {},
     "output_type": "execute_result"
    }
   ],
   "source": [
    "cvresult[-3:]"
   ]
  },
  {
   "cell_type": "code",
   "execution_count": 87,
   "id": "cleared-twist",
   "metadata": {
    "ExecuteTime": {
     "end_time": "2022-03-18T15:38:39.180135Z",
     "start_time": "2022-03-18T15:38:39.173856Z"
    }
   },
   "outputs": [],
   "source": [
    "param_grid = {\n",
    "    \"max_depth\": range(3, 10),\n",
    "    \"min_child_weight\": range(1, 10),\n",
    "}\n",
    "\n",
    "xgb_params = {\n",
    "    \"booster\": \"gbtree\",\n",
    "    \"n_estimators\": 198,\n",
    "    \"learning_rate\": 0.1,\n",
    "    \"gamma\": 0.1,\n",
    "    \"subsample\": 0.8,\n",
    "    \"colsample_bytree\": 0.8,\n",
    "    \"random_state\": 42,\n",
    "    \"eval_metric\": \"mae\"\n",
    "}"
   ]
  },
  {
   "cell_type": "code",
   "execution_count": 90,
   "id": "thrown-handling",
   "metadata": {
    "ExecuteTime": {
     "end_time": "2022-03-18T15:41:14.878252Z",
     "start_time": "2022-03-18T15:41:14.872828Z"
    }
   },
   "outputs": [],
   "source": [
    "gs = GridSearchCV(xgb.XGBRegressor(**xgb_params), param_grid, \n",
    "                  n_jobs=1, scoring='r2', verbose=1, cv=5)"
   ]
  },
  {
   "cell_type": "code",
   "execution_count": 91,
   "id": "valuable-niagara",
   "metadata": {
    "ExecuteTime": {
     "end_time": "2022-03-18T15:50:32.632195Z",
     "start_time": "2022-03-18T15:41:15.893677Z"
    }
   },
   "outputs": [
    {
     "name": "stdout",
     "output_type": "stream",
     "text": [
      "Fitting 5 folds for each of 63 candidates, totalling 315 fits\n"
     ]
    },
    {
     "data": {
      "text/plain": [
       "GridSearchCV(cv=5,\n",
       "             estimator=XGBRegressor(base_score=None, booster='gbtree',\n",
       "                                    colsample_bylevel=None,\n",
       "                                    colsample_bynode=None, colsample_bytree=0.8,\n",
       "                                    enable_categorical=False, eval_metric='mae',\n",
       "                                    gamma=0.1, gpu_id=None,\n",
       "                                    importance_type=None,\n",
       "                                    interaction_constraints=None,\n",
       "                                    learning_rate=0.1, max_delta_step=None,\n",
       "                                    max_depth=None, min_child_weight=None,\n",
       "                                    missing=nan, monotone_constraints=None,\n",
       "                                    n_estimators=198, n_jobs=None,\n",
       "                                    num_parallel_tree=None, predictor=None,\n",
       "                                    random_state=42, reg_alpha=None,\n",
       "                                    reg_lambda=None, scale_pos_weight=None,\n",
       "                                    subsample=0.8, tree_method=None,\n",
       "                                    validate_parameters=None, verbosity=None),\n",
       "             n_jobs=1,\n",
       "             param_grid={'max_depth': range(3, 10),\n",
       "                         'min_child_weight': range(1, 10)},\n",
       "             scoring='r2', verbose=1)"
      ]
     },
     "execution_count": 91,
     "metadata": {},
     "output_type": "execute_result"
    }
   ],
   "source": [
    "gs.fit(X_train, y_train)"
   ]
  },
  {
   "cell_type": "code",
   "execution_count": 92,
   "id": "tutorial-collector",
   "metadata": {
    "ExecuteTime": {
     "end_time": "2022-03-18T15:51:16.412754Z",
     "start_time": "2022-03-18T15:51:16.408658Z"
    }
   },
   "outputs": [
    {
     "data": {
      "text/plain": [
       "{'max_depth': 3, 'min_child_weight': 2}"
      ]
     },
     "execution_count": 92,
     "metadata": {},
     "output_type": "execute_result"
    }
   ],
   "source": [
    "gs.best_params_"
   ]
  },
  {
   "cell_type": "code",
   "execution_count": 101,
   "id": "latter-sympathy",
   "metadata": {
    "ExecuteTime": {
     "end_time": "2022-03-18T15:54:27.775237Z",
     "start_time": "2022-03-18T15:54:27.769216Z"
    }
   },
   "outputs": [],
   "source": [
    "param_grid = {\n",
    "    \"gamma\": [i / 10 for i in range(5)]\n",
    "}\n",
    "\n",
    "xgb_params = {\n",
    "    \"booster\": \"gbtree\",\n",
    "    \"n_estimators\": 198,\n",
    "    \"learning_rate\": 0.1,\n",
    "    \"max_depth\": 3,\n",
    "    \"min_child_weight\": 2,\n",
    "    \"subsample\": 0.8,\n",
    "    \"colsample_bytree\": 0.8,\n",
    "    \"random_state\": 42,\n",
    "    \"eval_metric\": \"mae\"\n",
    "}"
   ]
  },
  {
   "cell_type": "code",
   "execution_count": 102,
   "id": "varied-garden",
   "metadata": {
    "ExecuteTime": {
     "end_time": "2022-03-18T15:54:28.407727Z",
     "start_time": "2022-03-18T15:54:28.404498Z"
    }
   },
   "outputs": [],
   "source": [
    "gs = GridSearchCV(xgb.XGBRegressor(**xgb_params), param_grid, \n",
    "                  n_jobs=1, scoring='r2', verbose=1, cv=5)"
   ]
  },
  {
   "cell_type": "code",
   "execution_count": 103,
   "id": "reduced-warner",
   "metadata": {
    "ExecuteTime": {
     "end_time": "2022-03-18T15:54:48.897178Z",
     "start_time": "2022-03-18T15:54:28.862468Z"
    }
   },
   "outputs": [
    {
     "name": "stdout",
     "output_type": "stream",
     "text": [
      "Fitting 5 folds for each of 5 candidates, totalling 25 fits\n"
     ]
    },
    {
     "data": {
      "text/plain": [
       "GridSearchCV(cv=5,\n",
       "             estimator=XGBRegressor(base_score=None, booster='gbtree',\n",
       "                                    colsample_bylevel=None,\n",
       "                                    colsample_bynode=None, colsample_bytree=0.8,\n",
       "                                    enable_categorical=False, eval_metric='mae',\n",
       "                                    gamma=None, gpu_id=None,\n",
       "                                    importance_type=None,\n",
       "                                    interaction_constraints=None,\n",
       "                                    learning_rate=0.1, max_delta_step=None,\n",
       "                                    max_depth=3, min_child_weight=2,\n",
       "                                    missing=nan, monotone_constraints=None,\n",
       "                                    n_estimators=198, n_jobs=None,\n",
       "                                    num_parallel_tree=None, predictor=None,\n",
       "                                    random_state=42, reg_alpha=None,\n",
       "                                    reg_lambda=None, scale_pos_weight=None,\n",
       "                                    subsample=0.8, tree_method=None,\n",
       "                                    validate_parameters=None, verbosity=None),\n",
       "             n_jobs=1, param_grid={'gamma': [0.0, 0.1, 0.2, 0.3, 0.4]},\n",
       "             scoring='r2', verbose=1)"
      ]
     },
     "execution_count": 103,
     "metadata": {},
     "output_type": "execute_result"
    }
   ],
   "source": [
    "gs.fit(X_train, y_train)"
   ]
  },
  {
   "cell_type": "code",
   "execution_count": 104,
   "id": "promotional-immigration",
   "metadata": {
    "ExecuteTime": {
     "end_time": "2022-03-18T15:55:08.401410Z",
     "start_time": "2022-03-18T15:55:08.391121Z"
    }
   },
   "outputs": [
    {
     "data": {
      "text/plain": [
       "{'gamma': 0.0}"
      ]
     },
     "execution_count": 104,
     "metadata": {},
     "output_type": "execute_result"
    }
   ],
   "source": [
    "gs.best_params_"
   ]
  },
  {
   "cell_type": "code",
   "execution_count": 105,
   "id": "acquired-bibliography",
   "metadata": {
    "ExecuteTime": {
     "end_time": "2022-03-18T15:55:41.645542Z",
     "start_time": "2022-03-18T15:55:41.632467Z"
    }
   },
   "outputs": [],
   "source": [
    "param_grid = {\n",
    "    \"subsample\": [i / 10 for i in range(4, 11)],\n",
    "    \"colsample_bytree\": [i / 10 for i in range(4, 11)]\n",
    "}\n",
    "\n",
    "xgb_params = {\n",
    "    \"booster\": \"gbtree\",\n",
    "    \"n_estimators\": 198,\n",
    "    \"learning_rate\": 0.1,\n",
    "    \"max_depth\": 3,\n",
    "    \"gamma\": 0,\n",
    "    \"min_child_weight\": 2,\n",
    "    \"subsample\": 0.8,\n",
    "    \"colsample_bytree\": 0.8,\n",
    "    \"random_state\": 42,\n",
    "    \"eval_metric\": \"mae\"\n",
    "}"
   ]
  },
  {
   "cell_type": "code",
   "execution_count": 106,
   "id": "brilliant-asset",
   "metadata": {
    "ExecuteTime": {
     "end_time": "2022-03-18T15:59:10.067180Z",
     "start_time": "2022-03-18T15:56:01.799435Z"
    }
   },
   "outputs": [
    {
     "name": "stdout",
     "output_type": "stream",
     "text": [
      "Fitting 5 folds for each of 49 candidates, totalling 245 fits\n"
     ]
    },
    {
     "data": {
      "text/plain": [
       "GridSearchCV(cv=5,\n",
       "             estimator=XGBRegressor(base_score=None, booster='gbtree',\n",
       "                                    colsample_bylevel=None,\n",
       "                                    colsample_bynode=None, colsample_bytree=0.8,\n",
       "                                    enable_categorical=False, eval_metric='mae',\n",
       "                                    gamma=0, gpu_id=None, importance_type=None,\n",
       "                                    interaction_constraints=None,\n",
       "                                    learning_rate=0.1, max_delta_step=None,\n",
       "                                    max_depth=3, min_child_weight=2,\n",
       "                                    missing=nan, monotone_constra...\n",
       "                                    n_estimators=198, n_jobs=None,\n",
       "                                    num_parallel_tree=None, predictor=None,\n",
       "                                    random_state=42, reg_alpha=None,\n",
       "                                    reg_lambda=None, scale_pos_weight=None,\n",
       "                                    subsample=0.8, tree_method=None,\n",
       "                                    validate_parameters=None, verbosity=None),\n",
       "             n_jobs=1,\n",
       "             param_grid={'colsample_bytree': [0.4, 0.5, 0.6, 0.7, 0.8, 0.9,\n",
       "                                              1.0],\n",
       "                         'subsample': [0.4, 0.5, 0.6, 0.7, 0.8, 0.9, 1.0]},\n",
       "             scoring='accuracy', verbose=1)"
      ]
     },
     "execution_count": 106,
     "metadata": {},
     "output_type": "execute_result"
    }
   ],
   "source": [
    "gs = GridSearchCV(xgb.XGBRegressor(**xgb_params), param_grid, \n",
    "                  n_jobs=1, scoring='accuracy', verbose=1, cv=5)\n",
    "gs.fit(X_train, y_train)"
   ]
  },
  {
   "cell_type": "code",
   "execution_count": 107,
   "id": "associate-swiss",
   "metadata": {
    "ExecuteTime": {
     "end_time": "2022-03-18T16:00:06.348658Z",
     "start_time": "2022-03-18T16:00:06.344565Z"
    }
   },
   "outputs": [
    {
     "data": {
      "text/plain": [
       "{'colsample_bytree': 0.4, 'subsample': 0.4}"
      ]
     },
     "execution_count": 107,
     "metadata": {},
     "output_type": "execute_result"
    }
   ],
   "source": [
    "gs.best_params_"
   ]
  },
  {
   "cell_type": "code",
   "execution_count": 111,
   "id": "adjustable-spectrum",
   "metadata": {
    "ExecuteTime": {
     "end_time": "2022-03-18T16:01:42.652507Z",
     "start_time": "2022-03-18T16:01:42.629783Z"
    }
   },
   "outputs": [],
   "source": [
    "param_grid = {\n",
    "    'alpha': [0, 0.001, 0.005, 0.01, 0.05],\n",
    "    'lambda': [0, 0.001, 0.005, 0.01, 0.05],\n",
    "}\n",
    "\n",
    "xgb_params = {\n",
    "    \"booster\": \"gbtree\",\n",
    "    \"n_estimators\": 198,\n",
    "    \"learning_rate\": 0.1,\n",
    "    \"max_depth\": 3,\n",
    "    \"gamma\": 0,\n",
    "    \"subsample\": 0.4,\n",
    "    'colsample_bytree': 0.4,\n",
    "    \"min_child_weight\": 2,\n",
    "    \"subsample\": 0.8,\n",
    "    \"colsample_bytree\": 0.8,\n",
    "    \"random_state\": 42,\n",
    "    \"eval_metric\": \"mae\"\n",
    "}\n",
    "\n",
    "gs = GridSearchCV(xgb.XGBRegressor(**xgb_params), param_grid, \n",
    "                  n_jobs=1, scoring='accuracy', verbose=1, cv=5)"
   ]
  },
  {
   "cell_type": "code",
   "execution_count": 112,
   "id": "radio-context",
   "metadata": {
    "ExecuteTime": {
     "end_time": "2022-03-18T16:03:37.377166Z",
     "start_time": "2022-03-18T16:01:43.211524Z"
    }
   },
   "outputs": [
    {
     "name": "stdout",
     "output_type": "stream",
     "text": [
      "Fitting 5 folds for each of 25 candidates, totalling 125 fits\n"
     ]
    },
    {
     "data": {
      "text/plain": [
       "{'alpha': 0, 'lambda': 0}"
      ]
     },
     "execution_count": 112,
     "metadata": {},
     "output_type": "execute_result"
    }
   ],
   "source": [
    "gs.fit(X_train, y_train)\n",
    "gs.best_params_"
   ]
  },
  {
   "cell_type": "code",
   "execution_count": 113,
   "id": "alive-creature",
   "metadata": {
    "ExecuteTime": {
     "end_time": "2022-03-18T16:04:21.573627Z",
     "start_time": "2022-03-18T16:04:21.569720Z"
    }
   },
   "outputs": [],
   "source": [
    "xgb_params = {\n",
    "    \"booster\": \"gbtree\",\n",
    "    \"n_estimators\": 198,\n",
    "    \"learning_rate\": 0.1,\n",
    "    \"max_depth\": 3,\n",
    "    \"gamma\": 0,\n",
    "    \"subsample\": 0.4,\n",
    "    'colsample_bytree': 0.4,\n",
    "    \"min_child_weight\": 2,\n",
    "    \"subsample\": 0.8,\n",
    "    \"colsample_bytree\": 0.8,\n",
    "    \"random_state\": 42,\n",
    "    \"eval_metric\": \"mae\",\n",
    "    \"alpha\": 0,\n",
    "    \"lambds\": 0\n",
    "}"
   ]
  },
  {
   "cell_type": "code",
   "execution_count": 114,
   "id": "amber-design",
   "metadata": {
    "ExecuteTime": {
     "end_time": "2022-03-18T16:05:05.065250Z",
     "start_time": "2022-03-18T16:05:03.990251Z"
    }
   },
   "outputs": [
    {
     "data": {
      "text/plain": [
       "1.8533845494700363"
      ]
     },
     "execution_count": 114,
     "metadata": {},
     "output_type": "execute_result"
    }
   ],
   "source": [
    "best_estimator = gs.best_estimator_\n",
    "best_estimator.fit(X_train, y_train)\n",
    "y_pred = best_estimator.predict(X_test)\n",
    "mean_absolute_error(y_test, y_pred)"
   ]
  },
  {
   "cell_type": "markdown",
   "id": "piano-lyric",
   "metadata": {},
   "source": [
    "# 2. CatBoost"
   ]
  },
  {
   "cell_type": "code",
   "execution_count": null,
   "id": "grateful-berkeley",
   "metadata": {},
   "outputs": [],
   "source": []
  },
  {
   "cell_type": "code",
   "execution_count": 78,
   "id": "numerical-blocking",
   "metadata": {
    "ExecuteTime": {
     "end_time": "2022-03-23T22:59:41.754160Z",
     "start_time": "2022-03-23T22:59:41.094800Z"
    }
   },
   "outputs": [],
   "source": [
    "reg = LinearRegression().fit(X_train, y_train)\n",
    "lin_pred_train = reg.predict(X_train)\n",
    "lin_pred_test = reg.predict(X_test)"
   ]
  },
  {
   "cell_type": "code",
   "execution_count": 79,
   "id": "objective-aurora",
   "metadata": {
    "ExecuteTime": {
     "end_time": "2022-03-23T22:59:42.456647Z",
     "start_time": "2022-03-23T22:59:42.435098Z"
    }
   },
   "outputs": [],
   "source": [
    "X_train_lin = X_train.assign(lin=lin_pred_train)\n",
    "X_test_lin = X_test.assign(lin=lin_pred_test)"
   ]
  },
  {
   "cell_type": "code",
   "execution_count": 84,
   "id": "acoustic-introduction",
   "metadata": {
    "ExecuteTime": {
     "end_time": "2022-03-23T23:01:59.304630Z",
     "start_time": "2022-03-23T23:01:48.245033Z"
    }
   },
   "outputs": [
    {
     "data": {
      "text/plain": [
       "<catboost.core.CatBoostRegressor at 0x7f56d40e5ad0>"
      ]
     },
     "execution_count": 84,
     "metadata": {},
     "output_type": "execute_result"
    }
   ],
   "source": [
    "cb_model = CatBoostRegressor(silent=True, eval_metric=\"RMSE\", random_state=42)\n",
    "# cross_val_score(cb_model, X, y, \n",
    "#                 scoring='neg_mean_absolute_error', cv=3)\n",
    "cb_model.fit(X_train_lin, y_train)"
   ]
  },
  {
   "cell_type": "code",
   "execution_count": 85,
   "id": "racial-instrument",
   "metadata": {
    "ExecuteTime": {
     "end_time": "2022-03-23T23:02:01.561005Z",
     "start_time": "2022-03-23T23:02:01.513056Z"
    }
   },
   "outputs": [],
   "source": [
    "y_pred = cb_model.predict(X_test_lin)"
   ]
  },
  {
   "cell_type": "code",
   "execution_count": 87,
   "id": "specific-criminal",
   "metadata": {
    "ExecuteTime": {
     "end_time": "2022-03-23T23:02:06.822770Z",
     "start_time": "2022-03-23T23:02:06.816654Z"
    }
   },
   "outputs": [
    {
     "data": {
      "text/plain": [
       "1.641"
      ]
     },
     "execution_count": 87,
     "metadata": {},
     "output_type": "execute_result"
    }
   ],
   "source": [
    "mean_absolute_error(np.round(y_pred), y_test)"
   ]
  },
  {
   "cell_type": "code",
   "execution_count": 88,
   "id": "frank-patient",
   "metadata": {
    "ExecuteTime": {
     "end_time": "2022-03-23T23:02:08.650519Z",
     "start_time": "2022-03-23T23:02:08.457799Z"
    }
   },
   "outputs": [
    {
     "data": {
      "image/png": "[encoded data removed]",
      "text/plain": [
       "<Figure size 720x432 with 1 Axes>"
      ]
     },
     "metadata": {
      "needs_background": "light"
     },
     "output_type": "display_data"
    }
   ],
   "source": [
    "from matplotlib import pyplot as plt\n",
    "bins = [i + -4.001 for i in range(12)]\n",
    "plt.figure(figsize=(10, 6))\n",
    "plt.title(\"Распределение значения оценки параметра\")\n",
    "plt.hist(\n",
    "    y_test,\n",
    "    bins = bins,\n",
    "    alpha = 0.6,\n",
    "    color = 'orange',\n",
    "    label = 'Реальное распределение'\n",
    ")\n",
    "plt.hist(\n",
    "    np.round(y_pred),\n",
    "    bins = bins,\n",
    "    alpha = 0.6,\n",
    "    color = 'green',\n",
    "    label = 'CatBoost'\n",
    ")\n",
    "plt.legend()\n",
    "plt.show()"
   ]
  },
  {
   "cell_type": "code",
   "execution_count": 76,
   "id": "educational-ordinance",
   "metadata": {
    "ExecuteTime": {
     "end_time": "2022-03-23T22:57:58.553630Z",
     "start_time": "2022-03-23T22:57:45.166752Z"
    }
   },
   "outputs": [
    {
     "data": {
      "application/vnd.jupyter.widget-view+json": {
       "model_id": "6eb83a47214240e0abedcb9e94ca1bc2",
       "version_major": 2,
       "version_minor": 0
      },
      "text/plain": [
       "MetricVisualizer(layout=Layout(align_self='stretch', height='500px'))"
      ]
     },
     "metadata": {},
     "output_type": "display_data"
    },
    {
     "data": {
      "text/plain": [
       "<catboost.core.CatBoostRegressor at 0x7f56f17c6b90>"
      ]
     },
     "execution_count": 76,
     "metadata": {},
     "output_type": "execute_result"
    }
   ],
   "source": [
    "cb = CatBoostRegressor(\n",
    "    silent=True, eval_metric=\"MAE\", custom_metric=[\"MAPE\"], random_state=42\n",
    ")\n",
    "cb.fit(X_train_lin, y_train, \n",
    "       eval_set=[(X_test_lin, y_test)], plot=True)"
   ]
  },
  {
   "cell_type": "code",
   "execution_count": 74,
   "id": "transparent-ghost",
   "metadata": {
    "ExecuteTime": {
     "end_time": "2022-03-23T22:56:57.555419Z",
     "start_time": "2022-03-23T22:56:57.521579Z"
    }
   },
   "outputs": [
    {
     "data": {
      "text/html": [
       "<div>\n",
       "<style scoped>\n",
       "    .dataframe tbody tr th:only-of-type {\n",
       "        vertical-align: middle;\n",
       "    }\n",
       "\n",
       "    .dataframe tbody tr th {\n",
       "        vertical-align: top;\n",
       "    }\n",
       "\n",
       "    .dataframe thead th {\n",
       "        text-align: right;\n",
       "    }\n",
       "</style>\n",
       "<table border=\"1\" class=\"dataframe\">\n",
       "  <thead>\n",
       "    <tr style=\"text-align: right;\">\n",
       "      <th></th>\n",
       "      <th>Result</th>\n",
       "      <th>mean_deltawinrate</th>\n",
       "      <th>mean_deltaScore50p</th>\n",
       "      <th>mean_deltascoreLead</th>\n",
       "      <th>dispersy_scoreLead</th>\n",
       "      <th>beautiful_percent</th>\n",
       "      <th>beautifulS_percent</th>\n",
       "      <th>mean_utility</th>\n",
       "      <th>Score25p</th>\n",
       "      <th>Score75p</th>\n",
       "      <th>...</th>\n",
       "      <th>mean_utility 20</th>\n",
       "      <th>mean_dist</th>\n",
       "      <th>dispersy_dist</th>\n",
       "      <th>percent_p10</th>\n",
       "      <th>percent_p5</th>\n",
       "      <th>percent_p20</th>\n",
       "      <th>mean_dist_from_enemy</th>\n",
       "      <th>dispersy_dist_from_enemy</th>\n",
       "      <th>median_dist</th>\n",
       "      <th>lin</th>\n",
       "    </tr>\n",
       "  </thead>\n",
       "  <tbody>\n",
       "    <tr>\n",
       "      <th>75721</th>\n",
       "      <td>-1</td>\n",
       "      <td>-0.020510</td>\n",
       "      <td>-2.883982</td>\n",
       "      <td>-3.415426</td>\n",
       "      <td>14.179386</td>\n",
       "      <td>0.136364</td>\n",
       "      <td>0.136364</td>\n",
       "      <td>-0.045255</td>\n",
       "      <td>-5.624886</td>\n",
       "      <td>-0.274536</td>\n",
       "      <td>...</td>\n",
       "      <td>-0.002118</td>\n",
       "      <td>4.860465</td>\n",
       "      <td>22.120065</td>\n",
       "      <td>7</td>\n",
       "      <td>15</td>\n",
       "      <td>0</td>\n",
       "      <td>4.090909</td>\n",
       "      <td>25.491736</td>\n",
       "      <td>3.0</td>\n",
       "      <td>-0.012841</td>\n",
       "    </tr>\n",
       "    <tr>\n",
       "      <th>80184</th>\n",
       "      <td>-1</td>\n",
       "      <td>-0.077537</td>\n",
       "      <td>-0.534990</td>\n",
       "      <td>-0.706338</td>\n",
       "      <td>1.420811</td>\n",
       "      <td>0.165289</td>\n",
       "      <td>0.157025</td>\n",
       "      <td>-0.156849</td>\n",
       "      <td>-1.033109</td>\n",
       "      <td>-0.131115</td>\n",
       "      <td>...</td>\n",
       "      <td>-0.151904</td>\n",
       "      <td>6.158333</td>\n",
       "      <td>33.866597</td>\n",
       "      <td>29</td>\n",
       "      <td>55</td>\n",
       "      <td>7</td>\n",
       "      <td>5.157025</td>\n",
       "      <td>28.000137</td>\n",
       "      <td>4.0</td>\n",
       "      <td>4.211881</td>\n",
       "    </tr>\n",
       "    <tr>\n",
       "      <th>19864</th>\n",
       "      <td>1</td>\n",
       "      <td>-0.006337</td>\n",
       "      <td>-1.507354</td>\n",
       "      <td>-2.233538</td>\n",
       "      <td>10.698210</td>\n",
       "      <td>0.606061</td>\n",
       "      <td>0.166667</td>\n",
       "      <td>-0.013049</td>\n",
       "      <td>-3.591370</td>\n",
       "      <td>-0.163445</td>\n",
       "      <td>...</td>\n",
       "      <td>-0.000554</td>\n",
       "      <td>5.353846</td>\n",
       "      <td>24.536331</td>\n",
       "      <td>9</td>\n",
       "      <td>31</td>\n",
       "      <td>3</td>\n",
       "      <td>5.075758</td>\n",
       "      <td>27.433655</td>\n",
       "      <td>4.0</td>\n",
       "      <td>2.700636</td>\n",
       "    </tr>\n",
       "    <tr>\n",
       "      <th>76699</th>\n",
       "      <td>1</td>\n",
       "      <td>-0.021994</td>\n",
       "      <td>-2.494304</td>\n",
       "      <td>-4.875641</td>\n",
       "      <td>72.164835</td>\n",
       "      <td>0.500000</td>\n",
       "      <td>0.209677</td>\n",
       "      <td>-0.049418</td>\n",
       "      <td>-6.170803</td>\n",
       "      <td>-0.170395</td>\n",
       "      <td>...</td>\n",
       "      <td>-0.004943</td>\n",
       "      <td>5.024390</td>\n",
       "      <td>21.389649</td>\n",
       "      <td>19</td>\n",
       "      <td>50</td>\n",
       "      <td>3</td>\n",
       "      <td>3.500000</td>\n",
       "      <td>16.798387</td>\n",
       "      <td>3.0</td>\n",
       "      <td>0.084037</td>\n",
       "    </tr>\n",
       "    <tr>\n",
       "      <th>92991</th>\n",
       "      <td>-1</td>\n",
       "      <td>-0.028431</td>\n",
       "      <td>-1.027211</td>\n",
       "      <td>-2.541102</td>\n",
       "      <td>18.815005</td>\n",
       "      <td>0.320000</td>\n",
       "      <td>0.160000</td>\n",
       "      <td>-0.061360</td>\n",
       "      <td>-2.276699</td>\n",
       "      <td>-0.170395</td>\n",
       "      <td>...</td>\n",
       "      <td>-0.072289</td>\n",
       "      <td>6.375000</td>\n",
       "      <td>38.567708</td>\n",
       "      <td>6</td>\n",
       "      <td>11</td>\n",
       "      <td>1</td>\n",
       "      <td>5.040000</td>\n",
       "      <td>35.158400</td>\n",
       "      <td>4.0</td>\n",
       "      <td>2.032442</td>\n",
       "    </tr>\n",
       "    <tr>\n",
       "      <th>...</th>\n",
       "      <td>...</td>\n",
       "      <td>...</td>\n",
       "      <td>...</td>\n",
       "      <td>...</td>\n",
       "      <td>...</td>\n",
       "      <td>...</td>\n",
       "      <td>...</td>\n",
       "      <td>...</td>\n",
       "      <td>...</td>\n",
       "      <td>...</td>\n",
       "      <td>...</td>\n",
       "      <td>...</td>\n",
       "      <td>...</td>\n",
       "      <td>...</td>\n",
       "      <td>...</td>\n",
       "      <td>...</td>\n",
       "      <td>...</td>\n",
       "      <td>...</td>\n",
       "      <td>...</td>\n",
       "      <td>...</td>\n",
       "      <td>...</td>\n",
       "    </tr>\n",
       "    <tr>\n",
       "      <th>32595</th>\n",
       "      <td>-1</td>\n",
       "      <td>-0.026821</td>\n",
       "      <td>-0.935701</td>\n",
       "      <td>-1.546953</td>\n",
       "      <td>10.732907</td>\n",
       "      <td>0.393443</td>\n",
       "      <td>0.254098</td>\n",
       "      <td>-0.057764</td>\n",
       "      <td>-2.608442</td>\n",
       "      <td>0.008388</td>\n",
       "      <td>...</td>\n",
       "      <td>0.001420</td>\n",
       "      <td>6.289256</td>\n",
       "      <td>32.370876</td>\n",
       "      <td>30</td>\n",
       "      <td>56</td>\n",
       "      <td>5</td>\n",
       "      <td>4.606557</td>\n",
       "      <td>27.484547</td>\n",
       "      <td>4.0</td>\n",
       "      <td>3.187058</td>\n",
       "    </tr>\n",
       "    <tr>\n",
       "      <th>29313</th>\n",
       "      <td>1</td>\n",
       "      <td>-0.015657</td>\n",
       "      <td>-1.404937</td>\n",
       "      <td>-1.654755</td>\n",
       "      <td>3.242569</td>\n",
       "      <td>0.373913</td>\n",
       "      <td>0.130435</td>\n",
       "      <td>-0.034214</td>\n",
       "      <td>-2.637820</td>\n",
       "      <td>-0.470337</td>\n",
       "      <td>...</td>\n",
       "      <td>-0.003647</td>\n",
       "      <td>5.368421</td>\n",
       "      <td>29.636196</td>\n",
       "      <td>25</td>\n",
       "      <td>40</td>\n",
       "      <td>4</td>\n",
       "      <td>4.800000</td>\n",
       "      <td>25.325217</td>\n",
       "      <td>2.0</td>\n",
       "      <td>2.142342</td>\n",
       "    </tr>\n",
       "    <tr>\n",
       "      <th>37862</th>\n",
       "      <td>1</td>\n",
       "      <td>-0.064042</td>\n",
       "      <td>-1.045029</td>\n",
       "      <td>-1.381788</td>\n",
       "      <td>3.797350</td>\n",
       "      <td>0.120000</td>\n",
       "      <td>0.216000</td>\n",
       "      <td>-0.132508</td>\n",
       "      <td>-2.212102</td>\n",
       "      <td>-0.131530</td>\n",
       "      <td>...</td>\n",
       "      <td>-0.109720</td>\n",
       "      <td>6.403226</td>\n",
       "      <td>34.401925</td>\n",
       "      <td>30</td>\n",
       "      <td>59</td>\n",
       "      <td>6</td>\n",
       "      <td>4.536000</td>\n",
       "      <td>20.984704</td>\n",
       "      <td>4.0</td>\n",
       "      <td>2.896748</td>\n",
       "    </tr>\n",
       "    <tr>\n",
       "      <th>53421</th>\n",
       "      <td>1</td>\n",
       "      <td>-0.037649</td>\n",
       "      <td>-2.174214</td>\n",
       "      <td>-2.879864</td>\n",
       "      <td>14.294506</td>\n",
       "      <td>0.395062</td>\n",
       "      <td>0.123457</td>\n",
       "      <td>-0.079925</td>\n",
       "      <td>-4.230205</td>\n",
       "      <td>-0.605516</td>\n",
       "      <td>...</td>\n",
       "      <td>0.000631</td>\n",
       "      <td>3.775000</td>\n",
       "      <td>11.299375</td>\n",
       "      <td>7</td>\n",
       "      <td>22</td>\n",
       "      <td>0</td>\n",
       "      <td>3.753086</td>\n",
       "      <td>16.704466</td>\n",
       "      <td>2.0</td>\n",
       "      <td>-1.031012</td>\n",
       "    </tr>\n",
       "    <tr>\n",
       "      <th>42410</th>\n",
       "      <td>-1</td>\n",
       "      <td>-0.051190</td>\n",
       "      <td>-0.557030</td>\n",
       "      <td>-1.484543</td>\n",
       "      <td>7.624174</td>\n",
       "      <td>0.285714</td>\n",
       "      <td>0.142857</td>\n",
       "      <td>-0.106823</td>\n",
       "      <td>-1.276515</td>\n",
       "      <td>-0.153182</td>\n",
       "      <td>...</td>\n",
       "      <td>-0.106823</td>\n",
       "      <td>3.923077</td>\n",
       "      <td>12.686391</td>\n",
       "      <td>2</td>\n",
       "      <td>2</td>\n",
       "      <td>0</td>\n",
       "      <td>6.142857</td>\n",
       "      <td>58.551020</td>\n",
       "      <td>3.0</td>\n",
       "      <td>0.693922</td>\n",
       "    </tr>\n",
       "  </tbody>\n",
       "</table>\n",
       "<p>20000 rows × 53 columns</p>\n",
       "</div>"
      ],
      "text/plain": [
       "       Result  mean_deltawinrate  mean_deltaScore50p  mean_deltascoreLead  \\\n",
       "75721      -1          -0.020510           -2.883982            -3.415426   \n",
       "80184      -1          -0.077537           -0.534990            -0.706338   \n",
       "19864       1          -0.006337           -1.507354            -2.233538   \n",
       "76699       1          -0.021994           -2.494304            -4.875641   \n",
       "92991      -1          -0.028431           -1.027211            -2.541102   \n",
       "...       ...                ...                 ...                  ...   \n",
       "32595      -1          -0.026821           -0.935701            -1.546953   \n",
       "29313       1          -0.015657           -1.404937            -1.654755   \n",
       "37862       1          -0.064042           -1.045029            -1.381788   \n",
       "53421       1          -0.037649           -2.174214            -2.879864   \n",
       "42410      -1          -0.051190           -0.557030            -1.484543   \n",
       "\n",
       "       dispersy_scoreLead  beautiful_percent  beautifulS_percent  \\\n",
       "75721           14.179386           0.136364            0.136364   \n",
       "80184            1.420811           0.165289            0.157025   \n",
       "19864           10.698210           0.606061            0.166667   \n",
       "76699           72.164835           0.500000            0.209677   \n",
       "92991           18.815005           0.320000            0.160000   \n",
       "...                   ...                ...                 ...   \n",
       "32595           10.732907           0.393443            0.254098   \n",
       "29313            3.242569           0.373913            0.130435   \n",
       "37862            3.797350           0.120000            0.216000   \n",
       "53421           14.294506           0.395062            0.123457   \n",
       "42410            7.624174           0.285714            0.142857   \n",
       "\n",
       "       mean_utility  Score25p  Score75p  ...  mean_utility 20  mean_dist  \\\n",
       "75721     -0.045255 -5.624886 -0.274536  ...        -0.002118   4.860465   \n",
       "80184     -0.156849 -1.033109 -0.131115  ...        -0.151904   6.158333   \n",
       "19864     -0.013049 -3.591370 -0.163445  ...        -0.000554   5.353846   \n",
       "76699     -0.049418 -6.170803 -0.170395  ...        -0.004943   5.024390   \n",
       "92991     -0.061360 -2.276699 -0.170395  ...        -0.072289   6.375000   \n",
       "...             ...       ...       ...  ...              ...        ...   \n",
       "32595     -0.057764 -2.608442  0.008388  ...         0.001420   6.289256   \n",
       "29313     -0.034214 -2.637820 -0.470337  ...        -0.003647   5.368421   \n",
       "37862     -0.132508 -2.212102 -0.131530  ...        -0.109720   6.403226   \n",
       "53421     -0.079925 -4.230205 -0.605516  ...         0.000631   3.775000   \n",
       "42410     -0.106823 -1.276515 -0.153182  ...        -0.106823   3.923077   \n",
       "\n",
       "       dispersy_dist  percent_p10  percent_p5  percent_p20  \\\n",
       "75721      22.120065            7          15            0   \n",
       "80184      33.866597           29          55            7   \n",
       "19864      24.536331            9          31            3   \n",
       "76699      21.389649           19          50            3   \n",
       "92991      38.567708            6          11            1   \n",
       "...              ...          ...         ...          ...   \n",
       "32595      32.370876           30          56            5   \n",
       "29313      29.636196           25          40            4   \n",
       "37862      34.401925           30          59            6   \n",
       "53421      11.299375            7          22            0   \n",
       "42410      12.686391            2           2            0   \n",
       "\n",
       "       mean_dist_from_enemy  dispersy_dist_from_enemy  median_dist       lin  \n",
       "75721              4.090909                 25.491736          3.0 -0.012841  \n",
       "80184              5.157025                 28.000137          4.0  4.211881  \n",
       "19864              5.075758                 27.433655          4.0  2.700636  \n",
       "76699              3.500000                 16.798387          3.0  0.084037  \n",
       "92991              5.040000                 35.158400          4.0  2.032442  \n",
       "...                     ...                       ...          ...       ...  \n",
       "32595              4.606557                 27.484547          4.0  3.187058  \n",
       "29313              4.800000                 25.325217          2.0  2.142342  \n",
       "37862              4.536000                 20.984704          4.0  2.896748  \n",
       "53421              3.753086                 16.704466          2.0 -1.031012  \n",
       "42410              6.142857                 58.551020          3.0  0.693922  \n",
       "\n",
       "[20000 rows x 53 columns]"
      ]
     },
     "execution_count": 74,
     "metadata": {},
     "output_type": "execute_result"
    }
   ],
   "source": [
    "X_test_lin"
   ]
  },
  {
   "cell_type": "code",
   "execution_count": 82,
   "id": "compressed-algorithm",
   "metadata": {
    "ExecuteTime": {
     "end_time": "2022-03-23T23:00:05.406997Z",
     "start_time": "2022-03-23T23:00:05.388217Z"
    }
   },
   "outputs": [
    {
     "name": "stdout",
     "output_type": "stream",
     "text": [
      "'length\t7.19'\n",
      "'beautifulS_percent\t3.83'\n",
      "'percent_p5\t3.03'\n",
      "'Winrate25p\t2.62'\n",
      "'mean_dist_from_enemy\t2.62'\n",
      "'Winrate75p\t2.30'\n",
      "'beautiful_percent\t2.06'\n",
      "'mean_deltawinrate50p\t2.02'\n",
      "'Score25p\t2.00'\n",
      "'Mean5WorstScoreMove\t1.81'\n",
      "'dispersy_scoreLead 10\t1.74'\n",
      "'Score75p\t1.67'\n",
      "'percent_p10\t1.57'\n",
      "'median_scorelead\t1.55'\n",
      "'dispersy_dist_from_enemy\t1.52'\n",
      "'mean_deltaScore50p\t1.51'\n",
      "'dispersy_scoreLead 20\t1.51'\n",
      "'mean_dist\t1.48'\n",
      "'dispersy_dist\t1.46'\n",
      "'start_yose\t1.45'\n",
      "'mean_deltascoreLead\t1.43'\n",
      "'mean_utility 20\t1.42'\n",
      "'Result\t1.40'\n",
      "'len_yose\t1.28'\n",
      "'BestScoreMove\t1.25'\n",
      "'dispersy_scoreLead yose\t1.24'\n",
      "'mean_utility 10\t1.22'\n",
      "'mean_utility\t1.18'\n",
      "'beautiful_percent yose\t1.13'\n",
      "'mean_deltaSelfPlay yose\t1.12'\n",
      "'beautifulS_percent yose\t1.09'\n",
      "'mean_utility yose\t1.08'\n",
      "'mean_deltawinrate 20\t1.03'\n",
      "'beautiful_percent 20\t1.02'\n",
      "'dispersy_scoreLead\t1.02'\n",
      "'mean_deltaSelfPlay 20\t0.98'\n",
      "'mean_deltascoreLead 20\t0.96'\n",
      "'mean_deltaSelfPlay\t0.91'\n",
      "'mean_deltascoreLead 10\t0.89'\n",
      "'mean_deltaSelfPlay 10\t0.88'\n",
      "'mean_deltawinrate yose\t0.88'\n",
      "'mean_deltascoreLead yose\t0.88'\n",
      "'mean_deltawinrate 10\t0.88'\n",
      "'mean_deltawinrate\t0.79'\n",
      "'median_dist\t0.78'\n",
      "'WorstScoreMove\t0.76'\n",
      "'percent_p20\t0.74'\n",
      "'Mean5BestScoreMove\t0.72'\n",
      "'beautifulS_percent 10\t0.55'\n",
      "'beautifulS_percent 20\t0.46'\n",
      "'beautiful_percent 10\t0.44'\n",
      "'has_yose\t0.12'\n"
     ]
    }
   ],
   "source": [
    "for value, name in sorted(\n",
    "    zip(cb.get_feature_importance(fstr_type=\"FeatureImportance\"), \n",
    "        features), \n",
    "    reverse=True\n",
    "):\n",
    "#     print(\"'{}',\".format(name))\n",
    "     print(\"'{}\\t{:.2f}'\".format(name, value))"
   ]
  },
  {
   "cell_type": "markdown",
   "id": "natural-prevention",
   "metadata": {},
   "source": [
    "# RNN?"
   ]
  },
  {
   "cell_type": "code",
   "execution_count": 6,
   "id": "brown-configuration",
   "metadata": {
    "ExecuteTime": {
     "end_time": "2022-03-24T23:58:59.172707Z",
     "start_time": "2022-03-24T23:58:47.322805Z"
    }
   },
   "outputs": [
    {
     "data": {
      "text/html": [
       "<div>\n",
       "<style scoped>\n",
       "    .dataframe tbody tr th:only-of-type {\n",
       "        vertical-align: middle;\n",
       "    }\n",
       "\n",
       "    .dataframe tbody tr th {\n",
       "        vertical-align: top;\n",
       "    }\n",
       "\n",
       "    .dataframe thead th {\n",
       "        text-align: right;\n",
       "    }\n",
       "</style>\n",
       "<table border=\"1\" class=\"dataframe\">\n",
       "  <thead>\n",
       "    <tr style=\"text-align: right;\">\n",
       "      <th></th>\n",
       "      <th>W_rating</th>\n",
       "      <th>B_rating</th>\n",
       "      <th>W_nickname</th>\n",
       "      <th>B_nickname</th>\n",
       "      <th>Result</th>\n",
       "      <th>W_move</th>\n",
       "      <th>B_move</th>\n",
       "      <th>W_scoreLead</th>\n",
       "      <th>B_scoreLead</th>\n",
       "      <th>W_scoreSelfplay</th>\n",
       "      <th>B_scoreSelfplay</th>\n",
       "      <th>W_scoreStdev</th>\n",
       "      <th>B_scoreStdev</th>\n",
       "      <th>W_utility</th>\n",
       "      <th>B_utility</th>\n",
       "      <th>W_visits</th>\n",
       "      <th>B_visits</th>\n",
       "      <th>W_winrate</th>\n",
       "      <th>B_winrate</th>\n",
       "    </tr>\n",
       "  </thead>\n",
       "  <tbody>\n",
       "    <tr>\n",
       "      <th>0</th>\n",
       "      <td>5d</td>\n",
       "      <td>5d</td>\n",
       "      <td>败亦喜418</td>\n",
       "      <td>海上游地</td>\n",
       "      <td>-1</td>\n",
       "      <td>pp dp nq pc oc nc lc kd rd re qf qh jb kb pb r...</td>\n",
       "      <td>qe cd qn pj od nd md ke je qd qc qb jc ib ic r...</td>\n",
       "      <td>-0.6840837 -0.573287904 -1.16207385 -1.3441191...</td>\n",
       "      <td>-0.195299417 -0.373908967 -0.209464177 -0.3537...</td>\n",
       "      <td>-1.03464818 -0.616376698 -1.72797191 -2.153860...</td>\n",
       "      <td>-0.401197761 -0.525847375 -0.39991954 -0.70452...</td>\n",
       "      <td>19.3432443 19.0153239 19.5488034 18.8073091 18...</td>\n",
       "      <td>18.9167735 18.7804246 18.6299643 18.9499844 18...</td>\n",
       "      <td>-0.106269752 -0.0630911261 -0.163935947 -0.213...</td>\n",
       "      <td>-0.0399894918 -0.0570140441 -0.0433106935 -0.0...</td>\n",
       "      <td>1 1 1 2 1 1 1 1 1 1 1 2 1 2 1 1 1 1 1 2 1 1 2 ...</td>\n",
       "      <td>1 1 1 1 2 1 1 1 1 1 1 2 1 1 1 1 1 1 2 1 2 1 2 ...</td>\n",
       "      <td>0.448366866 0.469355524 0.420528233 0.39637158...</td>\n",
       "      <td>0.480593026 0.472265646 0.478934243 0.46121652...</td>\n",
       "    </tr>\n",
       "    <tr>\n",
       "      <th>1</th>\n",
       "      <td>2d</td>\n",
       "      <td>2d</td>\n",
       "      <td>王全洪18</td>\n",
       "      <td>zxh8209</td>\n",
       "      <td>1</td>\n",
       "      <td>dp dc fp eq ep er nq qq pr</td>\n",
       "      <td>pp pc fq gp fo fr hp lq pq</td>\n",
       "      <td>-0.293919653 -0.402171075 -0.499010742 -0.0830...</td>\n",
       "      <td>-0.195299417 -0.0381193496 -0.111136176 0.0382...</td>\n",
       "      <td>-0.505459726 -0.358326942 -0.563032448 0.01788...</td>\n",
       "      <td>-0.401197761 0.0693550929 -0.299834013 -0.1110...</td>\n",
       "      <td>19.1583855 19.0247085 19.452315 19.2031115 19....</td>\n",
       "      <td>18.9167735 18.7012602 19.1979015 18.852825 18....</td>\n",
       "      <td>-0.0368680026 -0.0490561791 -0.0672077993 -0.0...</td>\n",
       "      <td>-0.0399894918 -0.0245322315 -0.0429847252 -0.0...</td>\n",
       "      <td>1 1 1 2 1 2 1 1 1</td>\n",
       "      <td>1 1 1 1 1 1 2 1 2</td>\n",
       "      <td>0.482302636 0.475995645 0.467211381 0.49721161...</td>\n",
       "      <td>0.480593026 0.487631798 0.478944227 0.49210578...</td>\n",
       "    </tr>\n",
       "    <tr>\n",
       "      <th>2</th>\n",
       "      <td>1d</td>\n",
       "      <td>1d</td>\n",
       "      <td>å…‰å¤´å¼º820</td>\n",
       "      <td>æ–¹å»ºå?Žå“¥</td>\n",
       "      <td>-1</td>\n",
       "      <td>pd dd df ef cd fd jd pf of qd qg qh qi oh oi e...</td>\n",
       "      <td>dp qp cf dg ce ci kq qf pg qe qj rg rh ri pj o...</td>\n",
       "      <td>-0.349154681 -0.300373413 -0.438468412 -0.3287...</td>\n",
       "      <td>-0.195299417 -0.0428321809 -0.150569871 -0.192...</td>\n",
       "      <td>-0.541930556 -0.415429905 -0.646570891 -0.2107...</td>\n",
       "      <td>-0.401197761 -0.0164186358 -0.365420491 -0.422...</td>\n",
       "      <td>19.0330246 19.0801387 19.1304985 19.0381705 19...</td>\n",
       "      <td>18.9167735 18.7107321 18.9222116 18.9169069 18...</td>\n",
       "      <td>-0.0336682422 -0.0587925712 -0.068575066 -0.02...</td>\n",
       "      <td>-0.0399894918 -0.0341875402 -0.0565678751 -0.0...</td>\n",
       "      <td>1 3 2 1 1 1 1 2 2 1 1 1 1 3 2 1 1 2 1 3 1 2 1 ...</td>\n",
       "      <td>1 1 1 1 1 1 1 1 1 1 1 1 1 4 3 2 1 1 1 1 2 1 1 ...</td>\n",
       "      <td>0.483957827 0.471058257 0.46630232 0.487219945...</td>\n",
       "      <td>0.480593026 0.482930392 0.472251356 0.47556911...</td>\n",
       "    </tr>\n",
       "    <tr>\n",
       "      <th>3</th>\n",
       "      <td>1d</td>\n",
       "      <td>1d</td>\n",
       "      <td>YY817155</td>\n",
       "      <td>ç?µå…‰å°?æ¢…</td>\n",
       "      <td>1</td>\n",
       "      <td>qc cd qq qp ro qn rm sn jq mq pn mp lo ln or o...</td>\n",
       "      <td>pp dp cn pq qo rn po rp rq hq ho np mo mn mm p...</td>\n",
       "      <td>-0.293919653 -0.0799620077 -0.212477028 -0.258...</td>\n",
       "      <td>-0.195299417 0.142741099 0.357316911 0.1168868...</td>\n",
       "      <td>-0.505459726 0.0343640298 -0.232895702 -0.3492...</td>\n",
       "      <td>-0.401197761 0.219894782 0.414266169 0.1373942...</td>\n",
       "      <td>19.1583855 18.9705038 19.1549218 18.9557731 18...</td>\n",
       "      <td>18.9167735 18.7979705 19.256141 18.7618911 18....</td>\n",
       "      <td>-0.0368680026 -0.0144495177 -0.0291583046 -0.0...</td>\n",
       "      <td>-0.0399894918 0.0245436489 0.0268555758 0.0196...</td>\n",
       "      <td>1 1 1 1 2 1 2 1 1 1 2 3 2 2 2 1 4 1 3 1 1 2 1 ...</td>\n",
       "      <td>1 1 1 1 1 1 2 1 1 3 1 4 2 3 2 2 2 2 1 1 1 1 1 ...</td>\n",
       "      <td>0.482302636 0.492724955 0.485760286 0.47546643...</td>\n",
       "      <td>0.480593026 0.511948839 0.51282534 0.509630501...</td>\n",
       "    </tr>\n",
       "    <tr>\n",
       "      <th>4</th>\n",
       "      <td>6d</td>\n",
       "      <td>6d</td>\n",
       "      <td>傲骨铮铮</td>\n",
       "      <td>晓春541020</td>\n",
       "      <td>1</td>\n",
       "      <td>pp dp fq fc db gc gd cc he dd dc bc hf gb ig j...</td>\n",
       "      <td>pd cd cn dj ed fd id ge bd hd de fe ce hb je j...</td>\n",
       "      <td>-0.349154681 -0.391538262 -0.619843006 -0.8089...</td>\n",
       "      <td>-0.195299417 -0.155851403 -0.159069404 -0.0368...</td>\n",
       "      <td>-0.541930556 -0.398373276 -0.7169801 -1.239234...</td>\n",
       "      <td>-0.401197761 -0.199182089 -0.344504774 -0.1854...</td>\n",
       "      <td>19.0330246 19.2247233 19.6026455 19.3939314 19...</td>\n",
       "      <td>18.9167735 18.8440844 19.0666339 19.2335511 18...</td>\n",
       "      <td>-0.0336682422 -0.0557270722 -0.0724319746 -0.1...</td>\n",
       "      <td>-0.0399894918 -0.0428156916 -0.0495823811 -0.0...</td>\n",
       "      <td>1 1 1 1 1 1 3 1 2 1 2 1 1 3 1 2 1 1 1 3 2 2 1 ...</td>\n",
       "      <td>1 2 1 1 1 1 1 1 2 1 2 1 1 2 1 1 2 1 1 3 2 2 1 ...</td>\n",
       "      <td>0.483957827 0.472716197 0.46481885 0.443909332...</td>\n",
       "      <td>0.480593026 0.479524687 0.475711882 0.48258717...</td>\n",
       "    </tr>\n",
       "  </tbody>\n",
       "</table>\n",
       "</div>"
      ],
      "text/plain": [
       "  W_rating B_rating    W_nickname    B_nickname Result  \\\n",
       "0       5d       5d        败亦喜418          海上游地     -1   \n",
       "1       2d       2d         王全洪18       zxh8209      1   \n",
       "2       1d       1d  å…‰å¤´å¼º820  æ–¹å»ºå?Žå“¥     -1   \n",
       "3       1d       1d      YY817155  ç?µå…‰å°?æ¢…      1   \n",
       "4       6d       6d          傲骨铮铮      晓春541020      1   \n",
       "\n",
       "                                              W_move  \\\n",
       "0  pp dp nq pc oc nc lc kd rd re qf qh jb kb pb r...   \n",
       "1                         dp dc fp eq ep er nq qq pr   \n",
       "2  pd dd df ef cd fd jd pf of qd qg qh qi oh oi e...   \n",
       "3  qc cd qq qp ro qn rm sn jq mq pn mp lo ln or o...   \n",
       "4  pp dp fq fc db gc gd cc he dd dc bc hf gb ig j...   \n",
       "\n",
       "                                              B_move  \\\n",
       "0  qe cd qn pj od nd md ke je qd qc qb jc ib ic r...   \n",
       "1                         pp pc fq gp fo fr hp lq pq   \n",
       "2  dp qp cf dg ce ci kq qf pg qe qj rg rh ri pj o...   \n",
       "3  pp dp cn pq qo rn po rp rq hq ho np mo mn mm p...   \n",
       "4  pd cd cn dj ed fd id ge bd hd de fe ce hb je j...   \n",
       "\n",
       "                                         W_scoreLead  \\\n",
       "0  -0.6840837 -0.573287904 -1.16207385 -1.3441191...   \n",
       "1  -0.293919653 -0.402171075 -0.499010742 -0.0830...   \n",
       "2  -0.349154681 -0.300373413 -0.438468412 -0.3287...   \n",
       "3  -0.293919653 -0.0799620077 -0.212477028 -0.258...   \n",
       "4  -0.349154681 -0.391538262 -0.619843006 -0.8089...   \n",
       "\n",
       "                                         B_scoreLead  \\\n",
       "0  -0.195299417 -0.373908967 -0.209464177 -0.3537...   \n",
       "1  -0.195299417 -0.0381193496 -0.111136176 0.0382...   \n",
       "2  -0.195299417 -0.0428321809 -0.150569871 -0.192...   \n",
       "3  -0.195299417 0.142741099 0.357316911 0.1168868...   \n",
       "4  -0.195299417 -0.155851403 -0.159069404 -0.0368...   \n",
       "\n",
       "                                     W_scoreSelfplay  \\\n",
       "0  -1.03464818 -0.616376698 -1.72797191 -2.153860...   \n",
       "1  -0.505459726 -0.358326942 -0.563032448 0.01788...   \n",
       "2  -0.541930556 -0.415429905 -0.646570891 -0.2107...   \n",
       "3  -0.505459726 0.0343640298 -0.232895702 -0.3492...   \n",
       "4  -0.541930556 -0.398373276 -0.7169801 -1.239234...   \n",
       "\n",
       "                                     B_scoreSelfplay  \\\n",
       "0  -0.401197761 -0.525847375 -0.39991954 -0.70452...   \n",
       "1  -0.401197761 0.0693550929 -0.299834013 -0.1110...   \n",
       "2  -0.401197761 -0.0164186358 -0.365420491 -0.422...   \n",
       "3  -0.401197761 0.219894782 0.414266169 0.1373942...   \n",
       "4  -0.401197761 -0.199182089 -0.344504774 -0.1854...   \n",
       "\n",
       "                                        W_scoreStdev  \\\n",
       "0  19.3432443 19.0153239 19.5488034 18.8073091 18...   \n",
       "1  19.1583855 19.0247085 19.452315 19.2031115 19....   \n",
       "2  19.0330246 19.0801387 19.1304985 19.0381705 19...   \n",
       "3  19.1583855 18.9705038 19.1549218 18.9557731 18...   \n",
       "4  19.0330246 19.2247233 19.6026455 19.3939314 19...   \n",
       "\n",
       "                                        B_scoreStdev  \\\n",
       "0  18.9167735 18.7804246 18.6299643 18.9499844 18...   \n",
       "1  18.9167735 18.7012602 19.1979015 18.852825 18....   \n",
       "2  18.9167735 18.7107321 18.9222116 18.9169069 18...   \n",
       "3  18.9167735 18.7979705 19.256141 18.7618911 18....   \n",
       "4  18.9167735 18.8440844 19.0666339 19.2335511 18...   \n",
       "\n",
       "                                           W_utility  \\\n",
       "0  -0.106269752 -0.0630911261 -0.163935947 -0.213...   \n",
       "1  -0.0368680026 -0.0490561791 -0.0672077993 -0.0...   \n",
       "2  -0.0336682422 -0.0587925712 -0.068575066 -0.02...   \n",
       "3  -0.0368680026 -0.0144495177 -0.0291583046 -0.0...   \n",
       "4  -0.0336682422 -0.0557270722 -0.0724319746 -0.1...   \n",
       "\n",
       "                                           B_utility  \\\n",
       "0  -0.0399894918 -0.0570140441 -0.0433106935 -0.0...   \n",
       "1  -0.0399894918 -0.0245322315 -0.0429847252 -0.0...   \n",
       "2  -0.0399894918 -0.0341875402 -0.0565678751 -0.0...   \n",
       "3  -0.0399894918 0.0245436489 0.0268555758 0.0196...   \n",
       "4  -0.0399894918 -0.0428156916 -0.0495823811 -0.0...   \n",
       "\n",
       "                                            W_visits  \\\n",
       "0  1 1 1 2 1 1 1 1 1 1 1 2 1 2 1 1 1 1 1 2 1 1 2 ...   \n",
       "1                                  1 1 1 2 1 2 1 1 1   \n",
       "2  1 3 2 1 1 1 1 2 2 1 1 1 1 3 2 1 1 2 1 3 1 2 1 ...   \n",
       "3  1 1 1 1 2 1 2 1 1 1 2 3 2 2 2 1 4 1 3 1 1 2 1 ...   \n",
       "4  1 1 1 1 1 1 3 1 2 1 2 1 1 3 1 2 1 1 1 3 2 2 1 ...   \n",
       "\n",
       "                                            B_visits  \\\n",
       "0  1 1 1 1 2 1 1 1 1 1 1 2 1 1 1 1 1 1 2 1 2 1 2 ...   \n",
       "1                                  1 1 1 1 1 1 2 1 2   \n",
       "2  1 1 1 1 1 1 1 1 1 1 1 1 1 4 3 2 1 1 1 1 2 1 1 ...   \n",
       "3  1 1 1 1 1 1 2 1 1 3 1 4 2 3 2 2 2 2 1 1 1 1 1 ...   \n",
       "4  1 2 1 1 1 1 1 1 2 1 2 1 1 2 1 1 2 1 1 3 2 2 1 ...   \n",
       "\n",
       "                                           W_winrate  \\\n",
       "0  0.448366866 0.469355524 0.420528233 0.39637158...   \n",
       "1  0.482302636 0.475995645 0.467211381 0.49721161...   \n",
       "2  0.483957827 0.471058257 0.46630232 0.487219945...   \n",
       "3  0.482302636 0.492724955 0.485760286 0.47546643...   \n",
       "4  0.483957827 0.472716197 0.46481885 0.443909332...   \n",
       "\n",
       "                                           B_winrate  \n",
       "0  0.480593026 0.472265646 0.478934243 0.46121652...  \n",
       "1  0.480593026 0.487631798 0.478944227 0.49210578...  \n",
       "2  0.480593026 0.482930392 0.472251356 0.47556911...  \n",
       "3  0.480593026 0.511948839 0.51282534 0.509630501...  \n",
       "4  0.480593026 0.479524687 0.475711882 0.48258717...  "
      ]
     },
     "execution_count": 6,
     "metadata": {},
     "output_type": "execute_result"
    }
   ],
   "source": [
    "katago = pd.read_csv('data_katago.csv')\n",
    "katago.head()"
   ]
  },
  {
   "cell_type": "code",
   "execution_count": 199,
   "id": "developed-violence",
   "metadata": {
    "ExecuteTime": {
     "end_time": "2022-03-25T14:39:54.794605Z",
     "start_time": "2022-03-25T14:39:54.776387Z"
    }
   },
   "outputs": [],
   "source": [
    "import numpy as np\n",
    "import pandas as pd\n",
    "from tqdm import tqdm\n",
    "\n",
    "\n",
    "def add_basic_stats(row, moves, pref=\"\"):\n",
    "    row[pref + 'len'] = len(moves.score_delta)\n",
    "    row[pref + 'moves'] = np.pad(anp.array(moves.score_delta, dtype='f'))\n",
    "    row[pref + 'len'] = len(moves.score_delta)\n",
    "    \n",
    "\n",
    "\n",
    "def get_int_from_rank(rank):\n",
    "    if rank[1] == 'k':\n",
    "        return -int(rank[0]) + 1\n",
    "    else:\n",
    "        return int(rank[0])\n",
    "\n",
    "\n",
    "def get_rank_from_int(x):\n",
    "    if x > 0:\n",
    "        return str(x) + \"d\"\n",
    "    else:\n",
    "        return str(-x + 1) + \"k\"\n",
    "\n",
    "\n",
    "def add_meta(row):\n",
    "    row['rank'] = get_int_from_rank(row['W_rating'])\n",
    "\n",
    "\n",
    "def convert_to_lists(df):\n",
    "    for i, row in tqdm(df.iterrows()):\n",
    "        row['W_scoreLead'] = [float(x) for x in row['W_scoreLead'].split()]\n",
    "        row['B_scoreLead'] = [float(x) for x in row['B_scoreLead'].split()]\n",
    "        row['W_scoreSelfplay'] = [float(x) for x in row['W_scoreSelfplay'].split()]\n",
    "        row['B_scoreSelfplay'] = [float(x) for x in row['B_scoreSelfplay'].split()]\n",
    "        row['W_scoreStdev'] = [float(x) for x in row['W_scoreStdev'].split()]\n",
    "        row['B_scoreStdev'] = [float(x) for x in row['B_scoreStdev'].split()]\n",
    "        row['W_utility'] = [float(x) for x in row['W_utility'].split()]\n",
    "        row['B_utility'] = [float(x) for x in row['B_utility'].split()]\n",
    "        row['W_winrate'] = [float(x) for x in row['W_winrate'].split()]\n",
    "        row['B_winrate'] = [float(x) for x in row['B_winrate'].split()]\n",
    "\n",
    "\n",
    "class MovesInfo:\n",
    "    def __init__(self, row, n_moves=None):\n",
    "        moves_len = min(len(row['W_winrate']), len(row['B_winrate']))\n",
    "        if n_moves is None:\n",
    "            start_ind = 0\n",
    "        else:\n",
    "            start_ind = max(moves_len - n_moves - 1, 0)\n",
    "\n",
    "        end_ind = moves_len\n",
    "\n",
    "        self.winrate_delta = []\n",
    "        self.score_delta = []\n",
    "        self.utility_delta = []\n",
    "        self.selfplay_delta = []\n",
    "        self.stddev_delta = []\n",
    "        self.cnt_moves = end_ind - start_ind\n",
    "        self.move = row['W_move'].split()\n",
    "\n",
    "        for i in range(start_ind, end_ind):\n",
    "            self.winrate_delta.append(row['W_winrate'][i] - row['B_winrate'][i])\n",
    "            self.score_delta.append(row['W_scoreLead'][i] - row['B_scoreLead'][i])\n",
    "            self.utility_delta.append(row['W_utility'][i] - row['B_utility'][i])\n",
    "            self.selfplay_delta.append(row['W_scoreSelfplay'][i] - row['B_scoreSelfplay'][i])\n",
    "            self.stddev_delta.append(row['W_scoreStdev'][i] - row['B_scoreStdev'][i])\n",
    "\n",
    "\n",
    "def add_all_game_stats(df):\n",
    "    df['moves'] = None\n",
    "    df['rank'] = None\n",
    "    \n",
    "    for i, row in tqdm(df.iterrows()):\n",
    "        add_meta(row)\n",
    "        add_basic_stats(row, MovesInfo(row))\n",
    "\n",
    "\n",
    "\n",
    "def reset_basic_stats(df, pref):\n",
    "    df[pref + 'winrate_mean'] = None\n",
    "    df[pref + 'winrate_beauty_percent'] = None\n",
    "    df[pref + 'score_beauty_percent'] = None\n",
    "    df[pref + 'score_mean'] = None\n",
    "    df[pref + 'selfplay_mean'] = None\n",
    "    df[pref + 'score_var'] = None\n",
    "    df[pref + 'utility_mean'] = None\n",
    "\n",
    "\n",
    "\n",
    "def delete_non_scalar_parameters(df):\n",
    "    df.drop(['W_rating', 'B_rating', 'W_move', 'B_move', 'W_scoreLead', 'B_scoreLead', 'W_scoreSelfplay',\n",
    "             'B_scoreSelfplay', 'W_scoreStdev', 'B_scoreStdev', 'W_utility', 'B_utility', 'W_visits', 'B_visits',\n",
    "             'W_winrate', 'B_winrate', 'Result'], axis=1, inplace=True)\n",
    "\n",
    "\n",
    "def get_feature_df(df):\n",
    "    convert_to_lists(df)\n",
    "    add_all_game_stats(df)\n",
    "    delete_non_scalar_parameters(df)\n",
    "    return df"
   ]
  },
  {
   "cell_type": "code",
   "execution_count": 200,
   "id": "conservative-birthday",
   "metadata": {
    "ExecuteTime": {
     "end_time": "2022-03-25T14:45:04.204282Z",
     "start_time": "2022-03-25T14:39:58.182373Z"
    }
   },
   "outputs": [
    {
     "name": "stderr",
     "output_type": "stream",
     "text": [
      "100000it [00:42, 2347.94it/s]\n",
      "100000it [04:17, 387.71it/s]\n"
     ]
    }
   ],
   "source": [
    "katago_new = get_feature_df(katago.copy())"
   ]
  },
  {
   "cell_type": "code",
   "execution_count": 201,
   "id": "sonic-concord",
   "metadata": {
    "ExecuteTime": {
     "end_time": "2022-03-25T14:45:52.097131Z",
     "start_time": "2022-03-25T14:45:52.082407Z"
    }
   },
   "outputs": [
    {
     "data": {
      "text/html": [
       "<div>\n",
       "<style scoped>\n",
       "    .dataframe tbody tr th:only-of-type {\n",
       "        vertical-align: middle;\n",
       "    }\n",
       "\n",
       "    .dataframe tbody tr th {\n",
       "        vertical-align: top;\n",
       "    }\n",
       "\n",
       "    .dataframe thead th {\n",
       "        text-align: right;\n",
       "    }\n",
       "</style>\n",
       "<table border=\"1\" class=\"dataframe\">\n",
       "  <thead>\n",
       "    <tr style=\"text-align: right;\">\n",
       "      <th></th>\n",
       "      <th>W_nickname</th>\n",
       "      <th>B_nickname</th>\n",
       "      <th>moves</th>\n",
       "      <th>rank</th>\n",
       "    </tr>\n",
       "  </thead>\n",
       "  <tbody>\n",
       "    <tr>\n",
       "      <th>0</th>\n",
       "      <td>败亦喜418</td>\n",
       "      <td>海上游地</td>\n",
       "      <td>[-0.48878428, -0.19937894, -0.95260966, -0.990...</td>\n",
       "      <td>5</td>\n",
       "    </tr>\n",
       "    <tr>\n",
       "      <th>1</th>\n",
       "      <td>王全洪18</td>\n",
       "      <td>zxh8209</td>\n",
       "      <td>[-0.098620236, -0.36405173, -0.38787457, -0.12...</td>\n",
       "      <td>2</td>\n",
       "    </tr>\n",
       "    <tr>\n",
       "      <th>2</th>\n",
       "      <td>å…‰å¤´å¼º820</td>\n",
       "      <td>æ–¹å»ºå?Žå“¥</td>\n",
       "      <td>[-0.15385526, -0.25754124, -0.28789854, -0.136...</td>\n",
       "      <td>1</td>\n",
       "    </tr>\n",
       "    <tr>\n",
       "      <th>3</th>\n",
       "      <td>YY817155</td>\n",
       "      <td>ç?µå…‰å°?æ¢…</td>\n",
       "      <td>[-0.098620236, -0.2227031, -0.56979394, -0.375...</td>\n",
       "      <td>1</td>\n",
       "    </tr>\n",
       "    <tr>\n",
       "      <th>4</th>\n",
       "      <td>傲骨铮铮</td>\n",
       "      <td>晓春541020</td>\n",
       "      <td>[-0.15385526, -0.23568685, -0.4607736, -0.7720...</td>\n",
       "      <td>6</td>\n",
       "    </tr>\n",
       "  </tbody>\n",
       "</table>\n",
       "</div>"
      ],
      "text/plain": [
       "     W_nickname    B_nickname  \\\n",
       "0        败亦喜418          海上游地   \n",
       "1         王全洪18       zxh8209   \n",
       "2  å…‰å¤´å¼º820  æ–¹å»ºå?Žå“¥   \n",
       "3      YY817155  ç?µå…‰å°?æ¢…   \n",
       "4          傲骨铮铮      晓春541020   \n",
       "\n",
       "                                               moves rank  \n",
       "0  [-0.48878428, -0.19937894, -0.95260966, -0.990...    5  \n",
       "1  [-0.098620236, -0.36405173, -0.38787457, -0.12...    2  \n",
       "2  [-0.15385526, -0.25754124, -0.28789854, -0.136...    1  \n",
       "3  [-0.098620236, -0.2227031, -0.56979394, -0.375...    1  \n",
       "4  [-0.15385526, -0.23568685, -0.4607736, -0.7720...    6  "
      ]
     },
     "execution_count": 201,
     "metadata": {},
     "output_type": "execute_result"
    }
   ],
   "source": [
    "katago_new.head()"
   ]
  },
  {
   "cell_type": "code",
   "execution_count": 202,
   "id": "accredited-fitting",
   "metadata": {
    "ExecuteTime": {
     "end_time": "2022-03-25T14:45:57.283608Z",
     "start_time": "2022-03-25T14:45:57.273872Z"
    }
   },
   "outputs": [
    {
     "name": "stdout",
     "output_type": "stream",
     "text": [
      "[array([-0.48878428, -0.19937894, -0.95260966, -0.9904148 , -0.11522097,\n",
      "        -0.3894534 , -0.5371565 , -1.1876186 , -0.70078325, -0.25490195,\n",
      "        -3.1783352 , -0.24748397, -1.2011232 , -0.30513668,  1.2392206 ,\n",
      "        -0.01582288, -1.5073514 , -0.1527915 , -0.3476415 , -0.5124078 ,\n",
      "        -1.8500032 , -1.58391   , -1.7425151 , -1.2631779 , -2.5475683 ,\n",
      "        -0.0878625 , -1.3608637 ,  0.5592175 , -1.1054144 , -7.8420258 ,\n",
      "        -1.2750788 , -0.45186993, -1.2173371 , -2.7192006 , -0.4040551 ,\n",
      "        -1.8169041 , -1.3467112 , -1.1581373 , -3.4908972 , -0.0902472 ,\n",
      "        -1.5922661 , -0.9179459 , -2.1780643 ,  0.8588333 , -4.0321608 ,\n",
      "        -0.21979308, -3.0512695 ], dtype=float32)\n",
      " array([-0.09862024, -0.36405173, -0.38787457, -0.12132354,  0.12420514,\n",
      "        -0.11594844, -0.9912643 , -0.45129222, -0.24497934], dtype=float32)\n",
      " array([ -0.15385526,  -0.25754124,  -0.28789854,  -0.13612804,\n",
      "         -0.24999225,  -0.41888443,  -0.6204591 ,  -0.42411742,\n",
      "         -0.02872623,  -0.13389902,  -0.937239  ,   0.11519921,\n",
      "          0.17093942,   0.10706098,  -0.8742677 ,  -1.259545  ,\n",
      "         -0.5964706 ,  -0.9259561 ,  -0.56800246,   0.1381121 ,\n",
      "         -0.23110741,   0.51771325,   1.3097839 ,  -0.15407205,\n",
      "         -0.36464846,  -4.5995502 , -14.027772  ,   1.5343897 ,\n",
      "         -0.6605115 ,  -0.25292826,  -2.6144204 ,  -8.539008  ,\n",
      "         -0.9362564 ,  -0.7319116 ,  -2.0983171 ,  -3.113325  ,\n",
      "         -1.5164146 ,  -0.3227387 ,  -0.8060245 ,   0.2632485 ,\n",
      "         -7.5084333 ,  -1.0388345 ,   2.1899338 , -14.691933  ,\n",
      "         -6.210537  ,   0.8761749 ,  -2.1114054 ,  -0.9430103 ,\n",
      "          0.1503467 ,  -2.4917507 ,  -1.4602432 ,  -1.7162666 ,\n",
      "          0.2686272 ,  -2.4207745 ,   0.7097111 ,   0.9129963 ,\n",
      "         -5.1784725 ,  -7.1795235 ,  -2.232853  ,   0.0460434 ,\n",
      "         -1.661644  ,  -0.1354446 ,  -3.983904  ,  -3.7080536 ,\n",
      "         -0.9856015 ,  -3.7174644 ,   0.7275543 ,  -8.290672  ,\n",
      "         -1.5309925 ,  -2.0800667 ,   0.2563476 ,   0.2388458 ,\n",
      "          0.9336033 ,  -6.380598  ,  -5.8696613 ,  -2.6141815 ,\n",
      "         -2.85458   ,  -0.2397206 ,  -0.6340313 ,  -2.292347  ,\n",
      "         -7.2119026 ,   1.0073318 ,  -1.9667435 ,   1.3103466 ,\n",
      "         -2.0460498 ,  -5.4288654 ,  -3.1649342 ,  -5.8675213 ,\n",
      "         -7.7288246 ,  -3.3051167 ,  -0.610939  ,   2.3969383 ,\n",
      "         -1.0185148 ,  -0.2853966 ,  -0.4790001 ,  -2.4359226 ,\n",
      "         -8.648098  , -11.717342  , -13.80127   ,  -0.90625   ,\n",
      "         -1.4552402 ,  -0.9531384 ,  -0.5146733 ,  -3.0759583 ,\n",
      "         -1.519556  ,  -2.4123878 ,  -3.0301857 ,  -3.1441917 ,\n",
      "         -2.807354  ,  -3.1200542 ,  -4.7963586 ,   0.2018357 ,\n",
      "         -4.440178  ,  -0.1252689 ,  -0.2884903 ,  -1.8969612 ,\n",
      "          0.6272622 ,   0.2824746 ,  -3.3274155 ,  -1.5374813 ,\n",
      "         -3.3307323 ,  -0.6265545 ,  -1.0873197 ,  -1.7526264 ,\n",
      "         -1.4318829 ,  -1.0924149 ], dtype=float32)             ...\n",
      " array([-0.15385526, -0.41447937, -0.4392223 , -0.20151325, -0.3355417 ,\n",
      "        -0.9778208 , -0.50721836, -0.62247235, -1.0215273 , -3.5535283 ,\n",
      "        -1.1592206 , -1.3037064 , -0.48809344, -0.65546674, -1.1472492 ,\n",
      "        -3.3778331 , -2.2114153 ,  0.09558356,  0.3289544 , -1.4863307 ,\n",
      "        -2.2681746 , -2.61968   , -1.8365985 ,  0.96792775, -5.0614066 ,\n",
      "        -1.5728031 , -1.9050194 , -3.105959  , -1.6076229 , -2.0831556 ,\n",
      "        -0.08545136, -1.3480153 , -0.851671  , -3.1028647 , -1.693483  ,\n",
      "        -3.4955225 ,  0.45296973, -9.766282  , -4.415066  , -3.3605247 ,\n",
      "        -1.7949588 ,  0.3552915 , -4.0615373 , -1.791343  ,  0.7981646 ,\n",
      "        -3.4633024 , -0.21474457, -1.1325481 , -4.9727664 , -0.16469394,\n",
      "        -1.5667119 ,  0.36832762, -0.3066523 ,  0.7767291 , -9.184494  ,\n",
      "         0.3288288 , -3.5532365 ,  1.9655848 , -4.657482  ,  0.3268299 ,\n",
      "        -0.5673637 ,  0.9262814 , -0.934679  , -0.7711792 ,  2.0394363 ,\n",
      "        -0.461729  ,  0.0948559 , -0.9104638 ,  0.9771671 , -1.1775779 ,\n",
      "        -4.878952  , -5.6043987 ,  0.3172922 , -4.2972374 , -3.354519  ,\n",
      "        -4.3231354 , -1.4494457 , -2.421306  , -1.2707043 ,  0.4469786 ,\n",
      "        -0.5064567 , -2.4523487 , -0.1535406 ,  1.0651741 , -9.298157  ,\n",
      "         0.382782  , -1.9438839 ,  0.0723877 , -0.8274936 , -1.415699  ,\n",
      "         0.3586846 ,  0.3500801 ,  0.6814709 , -0.4837303 , -1.6470146 ,\n",
      "        -0.6031742 , -2.8766937 , -2.0889435 , -2.544789  , -2.3303344 ,\n",
      "         0.8620834 , -0.2104473 , -4.1748047 ], dtype=float32)\n",
      " array([ 2.6334021e-02, -3.2160133e-01, -6.7642933e-01, -2.8799707e-01,\n",
      "         3.1685090e-01,  1.9829412e-01, -7.4427170e-01,  9.3812883e-01,\n",
      "         2.5090134e-01, -4.5281869e-01, -1.3032186e-01, -1.6570808e+00,\n",
      "        -5.7217293e+00, -1.0104103e+00, -5.2744597e-01,  4.7424093e-01,\n",
      "        -5.6107949e-02, -6.4951152e-01, -4.2250450e-03, -6.3176560e-01,\n",
      "        -1.3809739e+00, -1.2048970e+00, -3.2184917e-01, -2.3820715e+00,\n",
      "        -1.7854393e+00, -5.4050678e-01, -3.5403888e+00, -1.9953794e+00,\n",
      "        -4.7920446e+00, -2.1856518e+00, -2.0728288e+00, -1.9786777e+00,\n",
      "        -4.9905987e+00, -2.1582632e+00, -1.8905010e+00, -7.9588121e-01,\n",
      "        -2.9907680e+00, -1.7240648e+00, -6.2307324e+00, -2.6205330e+00,\n",
      "        -2.5992117e+00, -9.8382511e+00, -2.0181561e+00, -1.1446798e+01,\n",
      "        -5.8300228e+00, -5.8735523e+00, -1.2628351e+01, -4.3916969e+00,\n",
      "         8.8077500e-02, -1.4907203e+00, -5.5941600e-02,  5.3923029e-01,\n",
      "         1.8460281e+00,  5.3379021e+00,  1.4544039e+01,  6.2458429e+00,\n",
      "         5.5535698e-01, -1.8630333e+00, -4.5551643e+00, -2.5487671e+00,\n",
      "        -8.6593838e+00,  7.5705338e-01, -1.9632397e+01, -1.0473171e+01,\n",
      "        -3.6825676e+00, -7.6783371e+00, -6.5535316e+00,  1.8225023e+00,\n",
      "         2.3959808e+00, -5.8961372e+00, -1.0714943e+01], dtype=float32)\n",
      " array([-1.5385526e-01, -4.0734476e-01, -3.3962515e-01, -3.0251440e-01,\n",
      "        -7.4782884e-01, -6.3728756e-01, -1.3103937e+00,  2.1424018e-01,\n",
      "         1.0743430e-01, -2.5045669e+00, -3.0912862e+00, -5.4596782e+00,\n",
      "        -3.0096183e+00, -1.3394784e+00, -3.3578622e+00, -2.9240528e-01,\n",
      "        -5.7226477e+00, -4.4485006e+00, -2.9238625e+00, -4.4041348e+00,\n",
      "        -5.1105309e+00, -6.6647472e+00, -1.8048143e+00, -5.0501432e+00,\n",
      "        -8.5544424e+00, -5.5202541e+00, -3.5958233e+00, -1.2907218e+00,\n",
      "        -1.7140846e+01,  6.0031000e-03,  1.9488202e+00,  2.8051407e+00,\n",
      "        -1.6973436e+01,  2.4854280e-01, -3.8113937e+00, -3.4205647e+00,\n",
      "        -5.1334019e+00, -2.1874447e+00,  4.6398541e-01, -7.8884310e-01,\n",
      "        -2.0426254e+00, -7.9658737e+00, -3.4220276e+00, -7.6061172e+00,\n",
      "         7.0618439e-01, -5.7341385e+00, -7.7407379e+00,  1.1257172e+00,\n",
      "        -8.4437294e+00, -1.9978237e+00, -6.2669525e+00, -8.9365425e+00,\n",
      "        -1.2913247e+00, -5.0454788e+00,  2.5576324e+00, -3.8639030e+00,\n",
      "        -6.7742925e+00, -6.4368820e+00, -8.2567148e+00, -8.0251007e+00,\n",
      "        -4.9592848e+00, -2.3032529e+00,  2.8024070e+00,  9.0356803e-01,\n",
      "        -1.8132631e+00, -1.7840490e+00, -1.6610700e-01, -5.0980000e+00,\n",
      "        -1.1503780e+00, -9.9600899e-01, -4.1403201e-01, -3.8181299e-01,\n",
      "        -3.6602399e+00, -1.2849330e+00, -9.6727800e-01,  8.2489401e-01,\n",
      "        -1.4364960e+00, -2.2568510e+00,  3.0166000e-02, -1.9304960e+00,\n",
      "         1.8921469e+00, -1.5488050e+00, -9.8152900e-01, -1.0077510e+00,\n",
      "        -7.6987997e-02,  1.9616240e+00], dtype=float32)                ]\n"
     ]
    }
   ],
   "source": [
    "print(katago_new['moves'].to_numpy())"
   ]
  },
  {
   "cell_type": "code",
   "execution_count": 204,
   "id": "brown-helen",
   "metadata": {
    "ExecuteTime": {
     "end_time": "2022-03-25T14:46:19.612753Z",
     "start_time": "2022-03-25T14:46:19.496024Z"
    }
   },
   "outputs": [],
   "source": [
    "X = X.assign(moves=katago_new['moves'])\n",
    "X = X.assign(moves_dop=np.array(katago_new['moves']))\n",
    "#X.to_csv('moves.csv')  \n",
    "y = df['chiselka']\n",
    "X_train, X_test, y_train, y_test = train_test_split(X, y, test_size=0.2, random_state=42)"
   ]
  },
  {
   "cell_type": "code",
   "execution_count": 216,
   "id": "threaded-album",
   "metadata": {
    "ExecuteTime": {
     "end_time": "2022-03-25T14:51:03.202723Z",
     "start_time": "2022-03-25T14:51:03.198237Z"
    }
   },
   "outputs": [
    {
     "data": {
      "text/plain": [
       "(100000,)"
      ]
     },
     "execution_count": 216,
     "metadata": {},
     "output_type": "execute_result"
    }
   ],
   "source": [
    "katago_new['moves'].to_numpy().shape"
   ]
  },
  {
   "cell_type": "code",
   "execution_count": 211,
   "id": "common-partnership",
   "metadata": {
    "ExecuteTime": {
     "end_time": "2022-03-25T14:48:05.881225Z",
     "start_time": "2022-03-25T14:48:05.868842Z"
    }
   },
   "outputs": [
    {
     "data": {
      "text/plain": [
       "(80000,)"
      ]
     },
     "execution_count": 211,
     "metadata": {},
     "output_type": "execute_result"
    }
   ],
   "source": [
    "train1 = X_train['moves'].to_numpy()\n",
    "train1.shape"
   ]
  },
  {
   "cell_type": "code",
   "execution_count": 285,
   "id": "periodic-retrieval",
   "metadata": {
    "ExecuteTime": {
     "end_time": "2022-03-25T17:30:20.130026Z",
     "start_time": "2022-03-25T17:30:20.117568Z"
    }
   },
   "outputs": [
    {
     "data": {
      "text/plain": [
       "array([3., 8., 6., ..., 0., 0., 0.], dtype=float32)"
      ]
     },
     "execution_count": 285,
     "metadata": {},
     "output_type": "execute_result"
    }
   ],
   "source": [
    "X_train_rnn = X_train['moves'].to_numpy()\n",
    "X_test_rnn = X_test['moves'].to_numpy()\n",
    "y_train_rnn = np.array(y_train, dtype='f') + 2\n",
    "y_test_rnn = np.array(y_test, dtype='f') + 2\n",
    "y_test_rnn"
   ]
  },
  {
   "cell_type": "code",
   "execution_count": 286,
   "id": "expressed-train",
   "metadata": {
    "ExecuteTime": {
     "end_time": "2022-03-25T17:30:23.822374Z",
     "start_time": "2022-03-25T17:30:23.818694Z"
    }
   },
   "outputs": [],
   "source": [
    "import numpy as np\n",
    "import matplotlib.pyplot as plt\n",
    "import pandas as pd\n",
    "import math\n",
    "import pylab\n",
    "import warnings as w\n",
    "import os\n",
    "import torch"
   ]
  },
  {
   "cell_type": "code",
   "execution_count": 287,
   "id": "shared-potato",
   "metadata": {
    "ExecuteTime": {
     "end_time": "2022-03-25T17:30:24.293889Z",
     "start_time": "2022-03-25T17:30:24.280132Z"
    }
   },
   "outputs": [],
   "source": [
    "device = 'cuda:0' if torch.cuda.is_available() else 'cpu'\n",
    "import torch, torch.nn as nn\n",
    "import torch.nn.functional as F\n",
    "import time\n",
    "\n",
    "def plot_train_process(train_loss, test_loss, test_accuracy):\n",
    "    fig, axes = plt.subplots(1, 2, figsize=(15, 5))\n",
    "\n",
    "    axes[0].set_title('Loss')\n",
    "    axes[0].plot(train_loss, label='train')\n",
    "    axes[0].plot(test_loss, label='test')\n",
    "    axes[0].legend()\n",
    "\n",
    "    axes[1].set_title('Test accuracy')\n",
    "    axes[1].plot(test_accuracy)"
   ]
  },
  {
   "cell_type": "code",
   "execution_count": 288,
   "id": "educated-customs",
   "metadata": {
    "ExecuteTime": {
     "end_time": "2022-03-25T17:30:24.730787Z",
     "start_time": "2022-03-25T17:30:24.726564Z"
    }
   },
   "outputs": [],
   "source": [
    "n_input = 1\n",
    "n_hidden = 10\n",
    "n_classes = 10\n",
    "training_data_count = len(y_train_rnn)  \n",
    "test_data_count = len(y_test_rnn)"
   ]
  },
  {
   "cell_type": "code",
   "execution_count": 307,
   "id": "breeding-wholesale",
   "metadata": {
    "ExecuteTime": {
     "end_time": "2022-03-25T17:50:18.902657Z",
     "start_time": "2022-03-25T17:50:18.893812Z"
    }
   },
   "outputs": [],
   "source": [
    "class CharRNNLoop(nn.Module):\n",
    "    def __init__(self, input_size=n_input, hidden_layers=n_hidden, \n",
    "                 num_layers=2, output_size= n_classes, emb_size=27):\n",
    "        super(self.__class__, self).__init__()\n",
    "        self.lin = nn.Linear(input_size, emb_size)\n",
    "\n",
    "        self.rnn = nn.LSTM(input_size=emb_size, hidden_size=hidden_layers,\n",
    "                           num_layers=num_layers, batch_first=True)\n",
    "        self.relu = nn.LeakyReLU()\n",
    "        self.classifier = nn.Linear(hidden_layers, output_size)\n",
    "        self.smax = nn.LogSoftmax()\n",
    "        \n",
    "    def forward(self, x):\n",
    "        #assert isinstance(x.data, torch.LongTensor)\n",
    "        out, _ = self.rnn(self.lin(x[:, None])[None, :, :])\n",
    "        answer = out[:, -1, :]\n",
    "        answer = self.relu(answer)\n",
    "        answer = self.classifier(answer)\n",
    "        answer = self.smax(answer)\n",
    "        return answer\n",
    "    \n"
   ]
  },
  {
   "cell_type": "code",
   "execution_count": null,
   "id": "threatened-python",
   "metadata": {},
   "outputs": [],
   "source": []
  },
  {
   "cell_type": "code",
   "execution_count": 314,
   "id": "elegant-auckland",
   "metadata": {
    "ExecuteTime": {
     "end_time": "2022-03-25T19:50:31.454658Z",
     "start_time": "2022-03-25T19:50:31.422947Z"
    }
   },
   "outputs": [],
   "source": [
    "#Using train_model from Lab2Part2\n",
    "\n",
    "model = CharRNNLoop().to(device)\n",
    "opt = torch.optim.Adam(model.parameters(), lr=5e-4)\n",
    "loss_func = F.nll_loss\n",
    "epochs = 1\n",
    "\n",
    "def train_model(model, loss_fn, opt, n_epochs: int):\n",
    "    max_accuracy = 0.0\n",
    "    train_loss = []\n",
    "    test_loss = []\n",
    "    test_accuracy = []\n",
    "    \n",
    "    batch_size = 1\n",
    "    \n",
    "    \n",
    "    for epoch in range(epochs):\n",
    "        permutation_train = torch.randperm(training_data_count)\n",
    "        permutation_test = torch.randperm(test_data_count)\n",
    "\n",
    "        ep_train_loss = []\n",
    "        ep_test_loss = []\n",
    "        ep_test_accuracy = []\n",
    "        start_time = time.time()\n",
    "        \n",
    "        model.train(True)\n",
    "        \n",
    "        for i in tqdm(range(0, training_data_count, batch_size)):\n",
    "            opt.zero_grad()\n",
    "            idx = permutation_train[i: min(i + batch_size, training_data_count)]\n",
    "            X_batch = torch.tensor(X_train_rnn[idx]).to(device)\n",
    "\n",
    "            y_batch = torch.LongTensor(np.array(y_train_rnn[idx])).reshape(-1).to(device)\n",
    "            predictions = model.forward(X_batch)   \n",
    "#             print(predictions.shape, y_batch.shape)     \n",
    "            loss = loss_fn(predictions, y_batch)\n",
    "            loss.backward()\n",
    "            opt.step()\n",
    "            ep_train_loss.append(loss.item())\n",
    "        \n",
    "        \n",
    "        model.train(False)\n",
    "        with torch.no_grad():\n",
    "            for i in range(0, test_data_count, batch_size):\n",
    "                idx = permutation_test[i: min(i + batch_size, test_data_count)]\n",
    "                X_batch = torch.tensor(X_test_rnn[idx]).to(device) \n",
    "                y_batch = torch.LongTensor(np.array(y_test_rnn[idx])).reshape(-1).to(device)\n",
    "                predictions = model.forward(X_batch)\n",
    "                loss = loss_fn(predictions, y_batch)\n",
    "\n",
    "                ep_test_loss.append(loss.item())\n",
    "                y_pred = predictions.max(1)[1].data\n",
    "                ep_test_accuracy.append(np.mean(\n",
    "                    (y_batch.cpu() == y_pred.cpu()).numpy()))\n",
    "                #break\n",
    "\n",
    "        # print the results for this epoch:\n",
    "        print(f'Epoch {epoch + 1} of {n_epochs} took {time.time() - start_time:.3f}s')\n",
    "\n",
    "        train_loss.append(np.mean(ep_train_loss))\n",
    "        test_loss.append(np.mean(ep_test_loss))\n",
    "        if (np.mean(ep_test_accuracy) > max_accuracy):\n",
    "            torch.save(model.state_dict(), 'modelLSTM')\n",
    "            max_accuracy = np.mean(ep_test_accuracy)\n",
    "\n",
    "        test_accuracy.append(np.mean(ep_test_accuracy))\n",
    "\n",
    "        print(f\"\\t  training loss: {train_loss[-1]:.6f}\")\n",
    "        print(f\"\\t  test loss: {test_loss[-1]:.6f}\")\n",
    "        print(f\"\\t  test accuracy: {test_accuracy[-1]:.3f}\")\n",
    "        print(f\"\\t  max accuracy: {max_accuracy:.3f}\")\n",
    "    return train_loss, test_loss, test_accuracy, max_accuracy"
   ]
  },
  {
   "cell_type": "code",
   "execution_count": 315,
   "id": "married-heart",
   "metadata": {
    "ExecuteTime": {
     "end_time": "2022-03-25T20:33:47.610693Z",
     "start_time": "2022-03-25T19:50:32.185238Z"
    }
   },
   "outputs": [
    {
     "name": "stderr",
     "output_type": "stream",
     "text": [
      "100%|██████████| 80000/80000 [41:28<00:00, 32.15it/s]\n"
     ]
    },
    {
     "name": "stdout",
     "output_type": "stream",
     "text": [
      "Epoch 1 of 1 took 2595.405s\n",
      "\t  training loss: 2.233035\n",
      "\t  test loss: 2.144537\n",
      "\t  test accuracy: 0.161\n",
      "\t  max accuracy: 0.161\n"
     ]
    }
   ],
   "source": [
    "train_loss, test_loss, test_accuracy, max_accuracy = train_model(model, loss_fn=loss_func, opt=opt, n_epochs=epochs)"
   ]
  },
  {
   "cell_type": "code",
   "execution_count": 316,
   "id": "hungarian-typing",
   "metadata": {
    "ExecuteTime": {
     "end_time": "2022-03-25T21:31:06.329731Z",
     "start_time": "2022-03-25T21:31:06.317224Z"
    }
   },
   "outputs": [
    {
     "ename": "TypeError",
     "evalue": "can't convert np.ndarray of type numpy.object_. The only supported types are: float64, float32, float16, complex64, complex128, int64, int32, int16, int8, uint8, and bool.",
     "output_type": "error",
     "traceback": [
      "\u001b[0;31m---------------------------------------------------------------------------\u001b[0m",
      "\u001b[0;31mTypeError\u001b[0m                                 Traceback (most recent call last)",
      "\u001b[0;32m<ipython-input-316-5a802b5034b5>\u001b[0m in \u001b[0;36m<module>\u001b[0;34m\u001b[0m\n\u001b[1;32m      1\u001b[0m \u001b[0mmodel\u001b[0m\u001b[0;34m.\u001b[0m\u001b[0mtrain\u001b[0m\u001b[0;34m(\u001b[0m\u001b[0;32mFalse\u001b[0m\u001b[0;34m)\u001b[0m\u001b[0;34m\u001b[0m\u001b[0;34m\u001b[0m\u001b[0m\n\u001b[1;32m      2\u001b[0m \u001b[0;32mwith\u001b[0m \u001b[0mtorch\u001b[0m\u001b[0;34m.\u001b[0m\u001b[0mno_grad\u001b[0m\u001b[0;34m(\u001b[0m\u001b[0;34m)\u001b[0m\u001b[0;34m:\u001b[0m\u001b[0;34m\u001b[0m\u001b[0;34m\u001b[0m\u001b[0m\n\u001b[0;32m----> 3\u001b[0;31m     \u001b[0mX_batch\u001b[0m \u001b[0;34m=\u001b[0m \u001b[0mtorch\u001b[0m\u001b[0;34m.\u001b[0m\u001b[0mFloatTensor\u001b[0m\u001b[0;34m(\u001b[0m\u001b[0mX_test_rnn\u001b[0m\u001b[0;34m)\u001b[0m\u001b[0;34m.\u001b[0m\u001b[0mto\u001b[0m\u001b[0;34m(\u001b[0m\u001b[0mdevice\u001b[0m\u001b[0;34m)\u001b[0m\u001b[0;34m\u001b[0m\u001b[0;34m\u001b[0m\u001b[0m\n\u001b[0m\u001b[1;32m      4\u001b[0m     \u001b[0my_batch\u001b[0m \u001b[0;34m=\u001b[0m \u001b[0mtorch\u001b[0m\u001b[0;34m.\u001b[0m\u001b[0mFloatTensor\u001b[0m\u001b[0;34m(\u001b[0m\u001b[0my_test_rnn\u001b[0m\u001b[0;34m)\u001b[0m\u001b[0;34m.\u001b[0m\u001b[0mreshape\u001b[0m\u001b[0;34m(\u001b[0m\u001b[0;34m-\u001b[0m\u001b[0;36m1\u001b[0m\u001b[0;34m)\u001b[0m\u001b[0;34m.\u001b[0m\u001b[0mto\u001b[0m\u001b[0;34m(\u001b[0m\u001b[0mdevice\u001b[0m\u001b[0;34m)\u001b[0m\u001b[0;34m\u001b[0m\u001b[0;34m\u001b[0m\u001b[0m\n\u001b[1;32m      5\u001b[0m     \u001b[0mpredictions\u001b[0m \u001b[0;34m=\u001b[0m \u001b[0mmodel\u001b[0m\u001b[0;34m.\u001b[0m\u001b[0mforward\u001b[0m\u001b[0;34m(\u001b[0m\u001b[0mX_batch\u001b[0m\u001b[0;34m)\u001b[0m\u001b[0;34m\u001b[0m\u001b[0;34m\u001b[0m\u001b[0m\n",
      "\u001b[0;31mTypeError\u001b[0m: can't convert np.ndarray of type numpy.object_. The only supported types are: float64, float32, float16, complex64, complex128, int64, int32, int16, int8, uint8, and bool."
     ]
    }
   ],
   "source": [
    "model.train(False)\n",
    "with torch.no_grad():\n",
    "    X_batch = torch.FloatTensor(X_test_rnn).to(device) \n",
    "    y_batch = torch.FloatTensor(y_test_rnn).reshape(-1).to(device)\n",
    "    predictions = model.forward(X_batch)\n",
    "    y_pred = predictions\n",
    "    print(y_pred)"
   ]
  },
  {
   "cell_type": "code",
   "execution_count": null,
   "id": "pointed-visibility",
   "metadata": {},
   "outputs": [],
   "source": []
  },
  {
   "cell_type": "code",
   "execution_count": null,
   "id": "computational-reconstruction",
   "metadata": {},
   "outputs": [],
   "source": []
  }
 ],
 "metadata": {
  "kernelspec": {
   "display_name": "Python 3",
   "language": "python",
   "name": "python3"
  },
  "language_info": {
   "codemirror_mode": {
    "name": "ipython",
    "version": 3
   },
   "file_extension": ".py",
   "mimetype": "text/x-python",
   "name": "python",
   "nbconvert_exporter": "python",
   "pygments_lexer": "ipython3",
   "version": "3.7.10"
  }
 },
 "nbformat": 4,
 "nbformat_minor": 5
}
