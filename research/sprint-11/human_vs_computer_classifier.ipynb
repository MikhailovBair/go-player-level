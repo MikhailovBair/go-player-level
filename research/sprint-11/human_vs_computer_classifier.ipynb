{
  "nbformat": 4,
  "nbformat_minor": 0,
  "metadata": {
    "colab": {
      "name": "human_vs_computer_classifier.ipynb",
      "provenance": []
    },
    "kernelspec": {
      "name": "python3",
      "display_name": "Python 3"
    },
    "language_info": {
      "name": "python"
    }
  },
  "cells": [
    {
      "cell_type": "code",
      "execution_count": null,
      "metadata": {
        "id": "B34YP4I6JjJ7"
      },
      "outputs": [],
      "source": [
        "import numpy as np\n",
        "import pandas as pd\n",
        "from tqdm import tqdm\n",
        "\n",
        "def add_basic_stats(row, moves, pref=\"\"):\n",
        "\n",
        "    row[pref + 'winrate_mean'] = np.mean(moves.winrate_delta)\n",
        "    row[pref + 'score_mean'] = np.mean(moves.score_delta)\n",
        "    row[pref + 'score_var'] = np.var(moves.score_delta)\n",
        "    row[pref + 'selfplay_mean'] = np.mean(moves.selfplay_delta)\n",
        "    row[pref + 'utility_mean'] = np.mean(moves.utility_delta)\n",
        "    row[pref + 'winrate_beauty_percent'] = np.mean([x > 0 for x in moves.winrate_delta])\n",
        "    row[pref + 'score_beauty_percent'] = np.mean([x > 0 for x in moves.score_delta])\n",
        "\n",
        "\n",
        "def add_advanced_stats(row, moves, pref=\"\"):\n",
        "    moves.score_delta.sort()\n",
        "    moves.winrate_delta.sort()\n",
        "\n",
        "    row[pref + 'score25p'] = moves.score_delta[int(moves.cnt_moves * 0.25)]\n",
        "    row[pref + 'score75p'] = moves.score_delta[int(moves.cnt_moves * 0.75)]\n",
        "    row[pref + 'score_max'] = np.max(moves.score_delta)\n",
        "    row[pref + 'score_min'] = np.min(moves.score_delta)\n",
        "    row[pref + 'winrate25p'] = moves.winrate_delta[int(moves.cnt_moves * 0.25)]\n",
        "    row[pref + 'winrate75p'] = moves.winrate_delta[int(moves.cnt_moves * 0.75)]\n",
        "\n",
        "    row[pref + 'score_five_best_mean'] = np.mean(moves.score_delta[-5:])\n",
        "    row[pref + 'score_five_worst_mean'] = np.mean(moves.score_delta[:5])\n",
        "\n",
        "    row[pref + 'stddev_last'] = moves.stddev_delta[-1]\n",
        "    moves.stddev_delta.sort()\n",
        "    row[pref + 'stddev_mean'] = np.mean(moves.stddev_delta)\n",
        "    row[pref + 'stddev50p'] = moves.stddev_delta[int(moves.cnt_moves * 0.5)]\n",
        "\n",
        "    row[pref + 'score50p'] = moves.score_delta[int(moves.cnt_moves * 0.5)]\n",
        "\n",
        "    row[pref + 'winrate_midmean'] = np.mean(\n",
        "        moves.winrate_delta[int(moves.cnt_moves * 0.25):int(moves.cnt_moves * 0.75)])\n",
        "    row[pref + 'score_midmean'] = np.mean(moves.score_delta[int(moves.cnt_moves * 0.25):int(moves.cnt_moves * 0.75)])\n",
        "\n",
        "\n",
        "def get_index_dan(rank):\n",
        "  for i in range(len(rank)):\n",
        "    if rank[i] in ['k', 'd']:\n",
        "      return i\n",
        "  return -1\n",
        "\n",
        "\n",
        "def get_int_from_rank(rank):\n",
        "    ind = get_index_dan(rank)\n",
        "    if ind < 0 or rank[0] == 'P' or not rank[:ind].isdigit():\n",
        "        return None\n",
        "    if rank[ind] == 'k':\n",
        "        return -int(rank[:ind]) + 1\n",
        "    else:\n",
        "        return int(rank[:ind])\n",
        "\n",
        "\n",
        "def get_rank_from_int(x):\n",
        "    if x > 0:\n",
        "        return str(x) + \"d\"\n",
        "    else:\n",
        "        return str(-x + 1) + \"k\"\n",
        "\n",
        "\n",
        "def int_from_player(player):\n",
        "    return int(player == 'W')\n",
        "\n",
        "\n",
        "def player_from_int(x):\n",
        "    return 'W' if x == 1 else 'B'\n",
        "\n",
        "\n",
        "def add_meta(row, player='W'):\n",
        "    if row['Result'] == '?':\n",
        "        row['game_result'] = 0\n",
        "    else:\n",
        "        row['game_result'] = int(row['Result'])\n",
        "        if player == 'B':\n",
        "            row['game_result'] = -row['game_result']\n",
        "    row['color'] = int_from_player(player)\n",
        "    row['rank'] = get_int_from_rank(row[player + '_rating'])\n",
        "    row['game_length'] = len(row['W_move'].split()) + len(row['B_move'].split())\n",
        "\n",
        "\n",
        "def convert_to_lists(df):\n",
        "    for i, row in tqdm(df.iterrows()):\n",
        "        try:\n",
        "            row['W_scoreLead'] = [float(x) for x in row['W_scoreLead'].split()]\n",
        "            row['B_scoreLead'] = [float(x) for x in row['B_scoreLead'].split()]\n",
        "            row['W_scoreSelfplay'] = [float(x) for x in row['W_scoreSelfplay'].split()]\n",
        "            row['B_scoreSelfplay'] = [float(x) for x in row['B_scoreSelfplay'].split()]\n",
        "            row['W_scoreStdev'] = [float(x) for x in row['W_scoreStdev'].split()]\n",
        "            row['B_scoreStdev'] = [float(x) for x in row['B_scoreStdev'].split()]\n",
        "            row['W_utility'] = [float(x) for x in row['W_utility'].split()]\n",
        "            row['B_utility'] = [float(x) for x in row['B_utility'].split()]\n",
        "            row['W_winrate'] = [float(x) for x in row['W_winrate'].split()]\n",
        "            row['B_winrate'] = [float(x) for x in row['B_winrate'].split()]\n",
        "            df.loc[i] = row\n",
        "        except Exception as e:\n",
        "            print(e)\n",
        "            df = df.drop(index=[i])          \n",
        "    return df\n",
        "    \n",
        "\n",
        "class MovesInfo:\n",
        "    def __init__(self, row, n_moves=None, player='W'):\n",
        "        enemy = 'B' if player == 'W' else 'W'\n",
        "        if player == 'B':\n",
        "            moves_len = min(len(row['B_winrate']), len(row['W_winrate']) + 1)\n",
        "        else:\n",
        "            moves_len = min(len(row['W_winrate']), len(row['B_winrate']))\n",
        "\n",
        "        if n_moves is None:\n",
        "            start_ind = 0\n",
        "        else:\n",
        "            start_ind = max(moves_len - n_moves - 1, 0)\n",
        "\n",
        "        end_ind = moves_len\n",
        "        w_0 = []\n",
        "        sc_0 = []\n",
        "        ut_0 = []\n",
        "        std_0 = []\n",
        "        sf_0 = []\n",
        "        if player == 'B':\n",
        "            if start_ind == 0:\n",
        "                w_0 = [0.475]\n",
        "                sc_0 = [0.]\n",
        "                ut_0 = [0.]\n",
        "                std_0 = [19. - 0.07666535852999867 * 2]\n",
        "                sf_0 = [0.]\n",
        "            else:\n",
        "                w_0 = [row[enemy + '_winrate'][start_ind - 1]]\n",
        "\n",
        "                sc_0 = [row[enemy + '_scoreLead'][start_ind - 1]]\n",
        "                ut_0 = [row[enemy + '_utility'][start_ind - 1]]\n",
        "                std_0 = [row[enemy + '_scoreStdev'][start_ind - 1]]\n",
        "                sf_0 = [row[enemy + '_scoreSelfplay'][start_ind - 1]]\n",
        "        self.winrate_delta = np.array(row[player + '_winrate'][start_ind:end_ind]) - np.array(\n",
        "            (w_0 + row[enemy + '_winrate'])[start_ind:end_ind])\n",
        "        self.score_delta = np.array(row[player + '_scoreLead'][start_ind:end_ind]) - np.array(\n",
        "            (sc_0 + row[enemy + '_scoreLead'])[start_ind:end_ind])\n",
        "        self.utility_delta = np.array(row[player + '_utility'][start_ind:end_ind]) - np.array(\n",
        "            (ut_0 + row[enemy + '_utility'])[start_ind:end_ind])\n",
        "        self.selfplay_delta = np.array(row[player + '_scoreSelfplay'][start_ind:end_ind]) - np.array(\n",
        "            (sf_0 + row[enemy + '_scoreSelfplay'])[start_ind:end_ind])\n",
        "        self.stddev_delta = np.array(row[player + '_scoreStdev'][start_ind:end_ind]) - np.array(\n",
        "            (std_0 + row[enemy + '_scoreStdev'])[start_ind:end_ind])\n",
        "\n",
        "        if player == 'B':\n",
        "            self.winrate_delta = -self.winrate_delta\n",
        "            self.score_delta = -self.score_delta\n",
        "            self.utility_delta = -self.utility_delta\n",
        "            self.selfplay_delta = -self.selfplay_delta\n",
        "\n",
        "        self.move = row[player + '_move'].split()\n",
        "        self.cnt_moves = end_ind - start_ind\n",
        "\n",
        "\n",
        "def add_all_game_stats(df, player = 'W'):\n",
        "    df['winrate_mean'] = None\n",
        "    df['score_midmean'] = None\n",
        "    df['score_mean'] = None\n",
        "    df['score_var'] = None\n",
        "    df['winrate_beauty_percent'] = None\n",
        "    df['score_beauty_percent'] = None\n",
        "    df['utility_mean'] = None\n",
        "    df['score25p'] = None\n",
        "    df['score75p'] = None\n",
        "    df['winrate25p'] = None\n",
        "    df['winrate75p'] = None\n",
        "    df['winrate_midmean'] = None\n",
        "    df['score50p'] = None\n",
        "    df['selfplay_mean'] = None\n",
        "    df['stddev_mean'] = None\n",
        "    df['stddev50p'] = None\n",
        "    df['stddev_last'] = None\n",
        "    df['score_max'] = None\n",
        "    df['score_min'] = None\n",
        "    df['score_five_best_mean'] = None\n",
        "    df['score_five_worst_mean'] = None\n",
        "    for i, row in tqdm(df.iterrows()):\n",
        "        add_basic_stats(row, MovesInfo(row, player=player))\n",
        "        add_advanced_stats(row, MovesInfo(row, player=player))\n",
        "        df.loc[i] = row\n",
        "    return df            \n",
        "\n",
        "\n",
        "def get_start_of_yose(margin_moves, no_change_count=5):\n",
        "    '''\n",
        "    Находим сколько последних ходов мы будем считать что это йосе\n",
        "\n",
        "    Будем идти с конца по массиву количества ходов на краю, если в массиве no_change_count одинаковых чисел,\n",
        "    то мы останавливаемся и говорим, что тут началось йосе\n",
        "    '''\n",
        "    no_change = 1\n",
        "    ans = len(margin_moves)\n",
        "    for i in range(len(margin_moves) - 2, -1, -1):\n",
        "        if margin_moves[i] == margin_moves[i + 1]:\n",
        "            no_change += 1\n",
        "        else:\n",
        "            no_change = 1\n",
        "        if no_change >= no_change_count:\n",
        "            ans = len(margin_moves) - i - 1\n",
        "            break\n",
        "    return ans\n",
        "\n",
        "\n",
        "def reset_basic_stats(df, pref):\n",
        "    df[pref + 'winrate_mean'] = None\n",
        "    df[pref + 'winrate_beauty_percent'] = None\n",
        "    df[pref + 'score_beauty_percent'] = None\n",
        "    df[pref + 'score_mean'] = None\n",
        "    df[pref + 'selfplay_mean'] = None\n",
        "    df[pref + 'score_var'] = None\n",
        "    df[pref + 'utility_mean'] = None\n",
        "\n",
        "\n",
        "def is_marginal_move(move):\n",
        "    return (move[0] == 'a' or move[0] == 'b') or (move[0] == 'r' or move[0] == 's') or \\\n",
        "           (move[1] == 'a' or move[1] == 'b') or (move[1] == 'r' or move[1] == 's')\n",
        "\n",
        "\n",
        "def count_of_marginal_moves(moves):\n",
        "    ans = np.zeros(len(moves))\n",
        "    for i in range(len(moves)):\n",
        "        ans[i] = is_marginal_move(moves[i])\n",
        "    ans = np.cumsum(ans)\n",
        "    return ans\n",
        "\n",
        "\n",
        "def add_yose_stats(df, player = 'W'):\n",
        "    pref = 'yose_'\n",
        "    reset_basic_stats(df, pref)\n",
        "    df['yose_length'] = None\n",
        "    df['yose_start'] = None\n",
        "    df['yose_has'] = None\n",
        "    for i, row in tqdm(df.iterrows()):\n",
        "        marginal_moves = count_of_marginal_moves(row['W_move'].split())\n",
        "        n_moves = get_start_of_yose(marginal_moves, 10)\n",
        "        add_basic_stats(row, MovesInfo(row, n_moves, player=player), pref)\n",
        "        row['yose_length'] = n_moves\n",
        "        row['yose_start'] = len(row['W_move'].split()) - n_moves\n",
        "        row['yose_has'] = row['yose_start'] != 0\n",
        "        df.loc[i] = row\n",
        "    return df    \n",
        "\n",
        "\n",
        "def delta_moves(a, b):\n",
        "    return abs(ord(a[0]) - ord(b[0])) + abs(ord(a[1]) - ord(b[1]))\n",
        "\n",
        "\n",
        "def get_distance_of_moves(moves):\n",
        "    ans = np.zeros(len(moves) - 1)\n",
        "    for i in range(1, len(moves)):\n",
        "        ans[i - 1] = delta_moves(moves[i], moves[i - 1])\n",
        "    return ans\n",
        "\n",
        "\n",
        "def get_distance_from_enemy(my_moves, enemy_moves):\n",
        "    ans = np.zeros(min(len(my_moves), len(enemy_moves)))\n",
        "    for i in range(min(len(my_moves), len(enemy_moves))):\n",
        "        ans[i] = delta_moves(my_moves[i], enemy_moves[i])\n",
        "    return ans\n",
        "\n",
        "\n",
        "def add_last_moves_stats(df, n_moves, pref=None, player='W'):\n",
        "    if pref is None:\n",
        "        pref = str(n_moves) + \"_\"\n",
        "    reset_basic_stats(df, pref)\n",
        "    for i, row in tqdm(df.iterrows()):\n",
        "        add_basic_stats(row, MovesInfo(row, n_moves, player=player), pref)\n",
        "        df.loc[i] = row\n",
        "        \n",
        "    return df    \n",
        "\n",
        "\n",
        "def add_dist_stats_to_row(row, player='W'):\n",
        "    dist = get_distance_of_moves(row[player+'_move'].split())\n",
        "    dist_enemy = get_distance_from_enemy(row['W_move'].split(), row['B_move'].split())\n",
        "    dist.sort()\n",
        "\n",
        "    row['dist_mean'] = np.mean(dist)\n",
        "    row['dist_var'] = np.var(dist)\n",
        "    row['dist_median'] = dist[len(dist) // 2]\n",
        "    row['dist_percent_more_than_10'] = np.mean([x > 10 for x in dist])\n",
        "    row['dist_percent_more_than_5'] = np.mean([x > 5 for x in dist])\n",
        "    row['dist_percent_more_than_20'] = np.mean([x > 20 for x in dist])\n",
        "\n",
        "    row['dist_from_enemy_mean'] = np.mean(dist_enemy)\n",
        "    row['dist_from_enemy_var'] = np.var(dist_enemy)\n",
        "\n",
        "\n",
        "def add_dist_stats(df, player='W'):\n",
        "    df['dist_mean'] = None\n",
        "    df['dist_var'] = None\n",
        "    df['dist_median'] = None\n",
        "    df['dist_percent_more_than_5'] = None\n",
        "    df['dist_percent_more_than_10'] = None\n",
        "    df['dist_percent_more_than_20'] = None\n",
        "\n",
        "    df['dist_from_enemy_mean'] = None\n",
        "    df['dist_from_enemy_var'] = None\n",
        "\n",
        "    for i, row in tqdm(df.iterrows()):\n",
        "       if len(row['W_move']) > 20:\n",
        "        add_dist_stats_to_row(row, player=player)\n",
        "        df.loc[i] = row\n",
        "    return df    \n",
        "\n",
        "\n",
        "def delete_non_scalar_parameters(df):\n",
        "    df.drop(['W_rating', 'B_rating', 'W_move', 'B_move', 'W_scoreLead', 'B_scoreLead', 'W_scoreSelfplay',\n",
        "             'B_scoreSelfplay', 'W_scoreStdev', 'B_scoreStdev', 'W_utility', 'B_utility',\n",
        "             'W_winrate', 'B_winrate', 'Result'], axis=1, inplace=True)\n",
        "    return df         \n",
        "\n",
        "\n",
        "def add_delta_lists_to_row(row, moves, player='W'):\n",
        "    row['winrate'] = moves.winrate_delta\n",
        "    row['score'] = moves.score_delta\n",
        "    row['winrate_sqr'] = np.array([x ** 2 for x  in moves.winrate_delta])\n",
        "    row['score_sqr'] = np.array([x ** 2 for x  in moves.score_delta])\n",
        "    row['utility'] = moves.utility_delta\n",
        "    row['selfplay'] = moves.selfplay_delta\n",
        "    row['stddev'] = moves.stddev_delta\n",
        "    row['dist_from_prev'] = get_distance_of_moves(moves.move)\n",
        "    row['dist_more_5'] = [int(x > 5) + 1 for x in row['dist_from_prev']]\n",
        "    enemy = 'B' if player == 'W' else 'W'\n",
        "    row['dist_enemy'] = get_distance_from_enemy(row[player + '_move'].split(), row[enemy + '_move'].split())\n",
        "\n",
        "\n",
        "def kWorst(moves, cnt=5):\n",
        "    moves.sort()\n",
        "    return moves[:cnt][-1]  \n",
        "\n",
        "\n",
        "def addWorstMoves(df, player='W'):\n",
        "  for cnt in [5, 10]:\n",
        "    for type_cls in ['score', 'winrate']:\n",
        "      df['Worst_' + type_cls + str(cnt)] = np.array(df.apply(lambda row: kWorst(row[type_cls], cnt), axis = 1))\n",
        "  return df    \n",
        "\n",
        "\n",
        "def add_lists_to_df(df, player='W'):\n",
        "    df['winrate'] = None\n",
        "    df['score'] = None\n",
        "    df['utility'] = None\n",
        "    df['selfplay'] = None\n",
        "    df['stddev'] = None\n",
        "    df['dist_from_prev'] = None\n",
        "    df['score_sqr'] = None\n",
        "    df['winrate_sqr'] = None\n",
        "    df['dist_more_5'] = None\n",
        "    df['dist_enemy'] = None\n",
        "    for i, row in tqdm(df.iterrows()):\n",
        "        add_delta_lists_to_row(row, MovesInfo(row, player=player), player)\n",
        "        df.loc[i] = row\n",
        "    return df    \n",
        "\n",
        "\n",
        "def add_meta_to_df(df, player='W'):\n",
        "    df['game_length'] = None\n",
        "    df['rank'] = None\n",
        "    df['color'] = None\n",
        "    df['game_result'] = None\n",
        "    for i, row in tqdm(df.iterrows()):\n",
        "        try:\n",
        "            add_meta(row, player)\n",
        "            df.loc[i] = row\n",
        "        except Exception as e:\n",
        "            print(e)\n",
        "            df = df.drop(index=[i])\n",
        "    return df        \n",
        "\n",
        "\n",
        "def get_feature_df(df, player='W'):\n",
        "    df = add_meta_to_df(df, player)\n",
        "    df = convert_to_lists(df)\n",
        "    df = add_all_game_stats(df, player)\n",
        "    df = add_yose_stats(df, player)\n",
        "    df = add_last_moves_stats(df, 10, player)\n",
        "    df = add_last_moves_stats(df, 20, player)\n",
        "    df = add_dist_stats(df, player)\n",
        "    df = delete_non_scalar_parameters(df)\n",
        "    return df\n",
        "\n",
        "\n",
        "def get_df_with_lists(df, player='W'):\n",
        "    df = add_meta_to_df(df, player)\n",
        "    df = convert_to_lists(df)\n",
        "    df = add_lists_to_df(df, player)\n",
        "    return df\n"
      ]
    },
    {
      "cell_type": "code",
      "source": [
        "from google.colab import drive\n",
        "drive.mount('/content/drive')\n",
        "katago = pd.read_csv('/content/drive/MyDrive/computer_data.csv')\n",
        "#katago.dropna(how = 'any', inplace= True)"
      ],
      "metadata": {
        "id": "m0Q6AXTvJzug",
        "colab": {
          "base_uri": "https://localhost:8080/"
        },
        "outputId": "704951a6-477e-4a67-db6c-6a119aa49fdc"
      },
      "execution_count": null,
      "outputs": [
        {
          "output_type": "stream",
          "name": "stdout",
          "text": [
            "Mounted at /content/drive\n"
          ]
        }
      ]
    },
    {
      "cell_type": "code",
      "source": [
        "katago_1 = katago.append(katago_hum, ignore_index=True)"
      ],
      "metadata": {
        "id": "ghgA27ADmQU_"
      },
      "execution_count": null,
      "outputs": []
    },
    {
      "cell_type": "code",
      "source": [
        "katago_white = get_df_with_lists(katago_1.copy(), player = 'W')\n",
        "katago_white['is_bot'] = katago_white.apply(lambda x: x.W_nickname in bots, axis = 1)\n",
        "katago_black = get_df_with_lists(katago_1.copy(), player = 'B')\n",
        "katago_black['is_bot'] = katago_black.apply(lambda x: x.B_nickname in bots, axis = 1)\n",
        "katago_all = katago_white.append(katago_black, ignore_index=True)"
      ],
      "metadata": {
        "id": "gu42aI-RJ1b9",
        "colab": {
          "base_uri": "https://localhost:8080/"
        },
        "outputId": "fd7748c5-bfc7-47e8-a2c9-ac60e26fb2be"
      },
      "execution_count": null,
      "outputs": [
        {
          "output_type": "stream",
          "name": "stderr",
          "text": [
            "233it [00:00, 1141.76it/s]"
          ]
        },
        {
          "output_type": "stream",
          "name": "stdout",
          "text": [
            "'float' object has no attribute 'split'\n",
            "'float' object has no attribute 'split'\n",
            "'float' object has no attribute 'split'\n",
            "'float' object has no attribute 'split'\n",
            "'float' object has no attribute 'split'\n",
            "'float' object has no attribute 'split'\n",
            "'float' object has no attribute 'split'\n",
            "'float' object has no attribute 'split'\n",
            "'float' object has no attribute 'split'\n",
            "'float' object has no attribute 'split'\n"
          ]
        },
        {
          "output_type": "stream",
          "name": "stderr",
          "text": [
            "\r348it [00:00, 1066.31it/s]"
          ]
        },
        {
          "output_type": "stream",
          "name": "stdout",
          "text": [
            "'float' object has no attribute 'split'\n",
            "'float' object has no attribute 'split'\n",
            "'float' object has no attribute 'split'\n",
            "'float' object has no attribute 'split'\n",
            "'float' object has no attribute 'split'\n",
            "'float' object has no attribute 'split'\n",
            "'float' object has no attribute 'split'\n",
            "'float' object has no attribute 'split'\n",
            "'float' object has no attribute 'split'\n",
            "'float' object has no attribute 'split'\n",
            "'float' object has no attribute 'split'\n"
          ]
        },
        {
          "output_type": "stream",
          "name": "stderr",
          "text": [
            "722it [00:00, 1172.74it/s]"
          ]
        },
        {
          "output_type": "stream",
          "name": "stdout",
          "text": [
            "'float' object has no attribute 'split'\n",
            "'float' object has no attribute 'split'\n",
            "'float' object has no attribute 'split'\n",
            "'float' object has no attribute 'split'\n",
            "'float' object has no attribute 'split'\n"
          ]
        },
        {
          "output_type": "stream",
          "name": "stderr",
          "text": [
            "967it [00:00, 1110.45it/s]"
          ]
        },
        {
          "output_type": "stream",
          "name": "stdout",
          "text": [
            "'float' object has no attribute 'split'\n",
            "'float' object has no attribute 'split'\n",
            "'float' object has no attribute 'split'\n",
            "'float' object has no attribute 'split'\n",
            "'float' object has no attribute 'split'\n",
            "'float' object has no attribute 'split'\n",
            "'float' object has no attribute 'split'\n"
          ]
        },
        {
          "output_type": "stream",
          "name": "stderr",
          "text": [
            "1227it [00:01, 1183.90it/s]"
          ]
        },
        {
          "output_type": "stream",
          "name": "stdout",
          "text": [
            "'float' object has no attribute 'split'\n",
            "'float' object has no attribute 'split'\n",
            "'float' object has no attribute 'split'\n",
            "'float' object has no attribute 'split'\n",
            "'float' object has no attribute 'split'\n"
          ]
        },
        {
          "output_type": "stream",
          "name": "stderr",
          "text": [
            "1502it [00:01, 1270.80it/s]"
          ]
        },
        {
          "output_type": "stream",
          "name": "stdout",
          "text": [
            "'float' object has no attribute 'split'\n",
            "'float' object has no attribute 'split'\n",
            "'float' object has no attribute 'split'\n",
            "'float' object has no attribute 'split'\n",
            "'float' object has no attribute 'split'\n",
            "'float' object has no attribute 'split'\n"
          ]
        },
        {
          "output_type": "stream",
          "name": "stderr",
          "text": [
            "1792it [00:01, 1360.90it/s]"
          ]
        },
        {
          "output_type": "stream",
          "name": "stdout",
          "text": [
            "'float' object has no attribute 'split'\n",
            "'float' object has no attribute 'split'\n",
            "'float' object has no attribute 'split'\n",
            "'float' object has no attribute 'split'\n",
            "'float' object has no attribute 'split'\n",
            "'float' object has no attribute 'split'\n",
            "'float' object has no attribute 'split'\n"
          ]
        },
        {
          "output_type": "stream",
          "name": "stderr",
          "text": [
            "2062it [00:01, 1285.67it/s]"
          ]
        },
        {
          "output_type": "stream",
          "name": "stdout",
          "text": [
            "'float' object has no attribute 'split'\n",
            "'float' object has no attribute 'split'\n",
            "'float' object has no attribute 'split'\n",
            "'float' object has no attribute 'split'\n",
            "'float' object has no attribute 'split'\n",
            "'float' object has no attribute 'split'\n",
            "'float' object has no attribute 'split'\n"
          ]
        },
        {
          "output_type": "stream",
          "name": "stderr",
          "text": [
            "2579it [00:02, 1623.75it/s]"
          ]
        },
        {
          "output_type": "stream",
          "name": "stdout",
          "text": [
            "'float' object has no attribute 'split'\n",
            "'float' object has no attribute 'split'\n",
            "'float' object has no attribute 'split'\n",
            "'float' object has no attribute 'split'\n",
            "'float' object has no attribute 'split'\n",
            "'float' object has no attribute 'split'\n",
            "'float' object has no attribute 'split'\n"
          ]
        },
        {
          "output_type": "stream",
          "name": "stderr",
          "text": [
            "4537it [00:02, 1750.12it/s]\n",
            "4472it [00:02, 1499.18it/s]\n",
            "4472it [00:04, 956.56it/s]\n",
            "352it [00:00, 1755.58it/s]"
          ]
        },
        {
          "output_type": "stream",
          "name": "stdout",
          "text": [
            "'float' object has no attribute 'split'\n",
            "'float' object has no attribute 'split'\n",
            "'float' object has no attribute 'split'\n",
            "'float' object has no attribute 'split'\n",
            "'float' object has no attribute 'split'\n",
            "'float' object has no attribute 'split'\n",
            "'float' object has no attribute 'split'\n",
            "'float' object has no attribute 'split'\n",
            "'float' object has no attribute 'split'\n",
            "'float' object has no attribute 'split'\n",
            "'float' object has no attribute 'split'\n",
            "'float' object has no attribute 'split'\n",
            "'float' object has no attribute 'split'\n",
            "'float' object has no attribute 'split'\n",
            "'float' object has no attribute 'split'\n",
            "'float' object has no attribute 'split'\n"
          ]
        },
        {
          "output_type": "stream",
          "name": "stderr",
          "text": [
            "795it [00:00, 2052.15it/s]"
          ]
        },
        {
          "output_type": "stream",
          "name": "stdout",
          "text": [
            "'float' object has no attribute 'split'\n",
            "'float' object has no attribute 'split'\n",
            "'float' object has no attribute 'split'\n",
            "'float' object has no attribute 'split'\n",
            "'float' object has no attribute 'split'\n",
            "'float' object has no attribute 'split'\n",
            "'float' object has no attribute 'split'\n",
            "'float' object has no attribute 'split'\n",
            "'float' object has no attribute 'split'\n",
            "'float' object has no attribute 'split'\n",
            "'float' object has no attribute 'split'\n",
            "'float' object has no attribute 'split'\n"
          ]
        },
        {
          "output_type": "stream",
          "name": "stderr",
          "text": [
            "1276it [00:00, 2271.08it/s]"
          ]
        },
        {
          "output_type": "stream",
          "name": "stdout",
          "text": [
            "'float' object has no attribute 'split'\n",
            "'float' object has no attribute 'split'\n",
            "'float' object has no attribute 'split'\n",
            "'float' object has no attribute 'split'\n",
            "'float' object has no attribute 'split'\n",
            "'float' object has no attribute 'split'\n",
            "'float' object has no attribute 'split'\n",
            "'float' object has no attribute 'split'\n",
            "'float' object has no attribute 'split'\n",
            "'float' object has no attribute 'split'\n"
          ]
        },
        {
          "output_type": "stream",
          "name": "stderr",
          "text": [
            "1785it [00:00, 2418.65it/s]"
          ]
        },
        {
          "output_type": "stream",
          "name": "stdout",
          "text": [
            "'float' object has no attribute 'split'\n",
            "'float' object has no attribute 'split'\n",
            "'float' object has no attribute 'split'\n",
            "'float' object has no attribute 'split'\n",
            "'float' object has no attribute 'split'\n",
            "'float' object has no attribute 'split'\n",
            "'float' object has no attribute 'split'\n",
            "'float' object has no attribute 'split'\n",
            "'float' object has no attribute 'split'\n",
            "'float' object has no attribute 'split'\n",
            "'float' object has no attribute 'split'\n",
            "'float' object has no attribute 'split'\n"
          ]
        },
        {
          "output_type": "stream",
          "name": "stderr",
          "text": [
            "2254it [00:01, 2213.04it/s]"
          ]
        },
        {
          "output_type": "stream",
          "name": "stdout",
          "text": [
            "'float' object has no attribute 'split'\n",
            "'float' object has no attribute 'split'\n",
            "'float' object has no attribute 'split'\n",
            "'float' object has no attribute 'split'\n",
            "'float' object has no attribute 'split'\n",
            "'float' object has no attribute 'split'\n",
            "'float' object has no attribute 'split'\n",
            "'float' object has no attribute 'split'\n",
            "'float' object has no attribute 'split'\n",
            "'float' object has no attribute 'split'\n"
          ]
        },
        {
          "output_type": "stream",
          "name": "stderr",
          "text": [
            "2832it [00:01, 2572.24it/s]"
          ]
        },
        {
          "output_type": "stream",
          "name": "stdout",
          "text": [
            "'float' object has no attribute 'split'\n",
            "'float' object has no attribute 'split'\n",
            "'float' object has no attribute 'split'\n",
            "'float' object has no attribute 'split'\n",
            "'float' object has no attribute 'split'\n"
          ]
        },
        {
          "output_type": "stream",
          "name": "stderr",
          "text": [
            "4537it [00:01, 2582.36it/s]\n",
            "4472it [00:03, 1476.35it/s]\n",
            "4472it [00:04, 1065.16it/s]\n"
          ]
        }
      ]
    },
    {
      "cell_type": "code",
      "source": [
        "bots = ['noob_bot_1', 'doge_bot_2', 'kata-bot', 'katago-micro', 'doge_bot_3', 'doge_bot_1', 'amybot-ddk', 'doge_bot_4', '15bTurboLeela', '12bTurboSai', 'kata_noob']"
      ],
      "metadata": {
        "id": "cAlwSREwUnSk"
      },
      "execution_count": null,
      "outputs": []
    },
    {
      "cell_type": "code",
      "source": [
        "features = ['score_var', 'score25p', 'score75p', 'score50p', 'score_five_worst_mean', 'dist_mean', 'dist_var', 'dist_median', 'dist_percent_more_than_5',\n",
        "       'dist_percent_more_than_10', 'dist_percent_more_than_20',\n",
        "       'dist_from_enemy_mean', 'dist_from_enemy_var']"
      ],
      "metadata": {
        "id": "c1W1l5r4bfP2"
      },
      "execution_count": null,
      "outputs": []
    },
    {
      "cell_type": "code",
      "source": [
        "#katago_all = katago_all[features + ['is_bot']].dropna()\n",
        "from sklearn.model_selection import train_test_split\n",
        "X_train, X_test, y_train, y_test = train_test_split(katago_all, katago_all['is_bot'], test_size=0.2)\n"
      ],
      "metadata": {
        "id": "0_VQNxFSVzWW"
      },
      "execution_count": null,
      "outputs": []
    },
    {
      "cell_type": "code",
      "source": [
        "katago_white.columns"
      ],
      "metadata": {
        "colab": {
          "base_uri": "https://localhost:8080/"
        },
        "id": "-0s0AiPEaCwc",
        "outputId": "9590d525-a9ef-443f-9532-ff11e1581a16"
      },
      "execution_count": null,
      "outputs": [
        {
          "output_type": "execute_result",
          "data": {
            "text/plain": [
              "Index(['W_nickname', 'B_nickname', 'game_id', 'error', 'game_length', 'rank',\n",
              "       'color', 'game_result', 'winrate_mean', 'score_midmean', 'score_mean',\n",
              "       'score_var', 'winrate_beauty_percent', 'score_beauty_percent',\n",
              "       'utility_mean', 'score25p', 'score75p', 'winrate25p', 'winrate75p',\n",
              "       'winrate_midmean', 'score50p', 'selfplay_mean', 'stddev_mean',\n",
              "       'stddev50p', 'stddev_last', 'score_max', 'score_min',\n",
              "       'score_five_best_mean', 'score_five_worst_mean', 'yose_winrate_mean',\n",
              "       'yose_winrate_beauty_percent', 'yose_score_beauty_percent',\n",
              "       'yose_score_mean', 'yose_selfplay_mean', 'yose_score_var',\n",
              "       'yose_utility_mean', 'yose_length', 'yose_start', 'yose_has',\n",
              "       'Wwinrate_mean', 'Wwinrate_beauty_percent', 'Wscore_beauty_percent',\n",
              "       'Wscore_mean', 'Wselfplay_mean', 'Wscore_var', 'Wutility_mean',\n",
              "       'dist_mean', 'dist_var', 'dist_median', 'dist_percent_more_than_5',\n",
              "       'dist_percent_more_than_10', 'dist_percent_more_than_20',\n",
              "       'dist_from_enemy_mean', 'dist_from_enemy_var', 'is_bot'],\n",
              "      dtype='object')"
            ]
          },
          "metadata": {},
          "execution_count": 56
        }
      ]
    },
    {
      "cell_type": "code",
      "source": [
        ""
      ],
      "metadata": {
        "colab": {
          "base_uri": "https://localhost:8080/"
        },
        "id": "gaFan8kEarcx",
        "outputId": "1e811145-efe5-4555-8f16-351417aba1a1"
      },
      "execution_count": null,
      "outputs": [
        {
          "output_type": "execute_result",
          "data": {
            "text/plain": [
              "2360"
            ]
          },
          "metadata": {},
          "execution_count": 66
        }
      ]
    },
    {
      "cell_type": "code",
      "source": [
        "from sklearn.model_selection import cross_val_score\n",
        "from sklearn.tree import DecisionTreeRegressor\n",
        "from sklearn.ensemble import RandomForestClassifier\n",
        "from sklearn.metrics import mean_absolute_error\n",
        "from sklearn.metrics import make_scorer\n",
        "clf = RandomForestClassifier(max_depth=5, random_state=0)\n",
        "clf.fit(X_train[features], y_train)"
      ],
      "metadata": {
        "colab": {
          "base_uri": "https://localhost:8080/"
        },
        "id": "0RHmU4C6ZzU-",
        "outputId": "d96e7d29-1db3-44bf-d332-0a17b2a9aeb2"
      },
      "execution_count": null,
      "outputs": [
        {
          "output_type": "execute_result",
          "data": {
            "text/plain": [
              "RandomForestClassifier(max_depth=5, random_state=0)"
            ]
          },
          "metadata": {},
          "execution_count": 85
        }
      ]
    },
    {
      "cell_type": "code",
      "source": [
        "from sklearn.metrics import accuracy_score\n",
        "tree_pred = clf.predict(X_test[features])\n",
        "print(accuracy_score(tree_pred, y_test)) "
      ],
      "metadata": {
        "colab": {
          "base_uri": "https://localhost:8080/"
        },
        "id": "vVwDyz32bEbV",
        "outputId": "0580d811-f9a9-4922-b8ff-3f70a310bcb8"
      },
      "execution_count": null,
      "outputs": [
        {
          "output_type": "stream",
          "name": "stdout",
          "text": [
            "0.5370762711864406\n"
          ]
        }
      ]
    },
    {
      "cell_type": "code",
      "source": [
        "import numpy as np\n",
        "import tensorflow as tf\n",
        "from tensorflow import keras\n",
        "from keras import layers\n",
        "import pandas as pd\n",
        "\n",
        "\n",
        "def get_tensor(df, features, sequence_len):\n",
        "    def resize_to_length(m, length):\n",
        "        if len(m) > length:\n",
        "            return m[:length]\n",
        "        n_nules = length - len(m)\n",
        "        return list([0] * n_nules) + list(m)\n",
        "\n",
        "    arr = []\n",
        "    for feature in features:\n",
        "        arr.append([np.array(y) for y in df[feature].apply(lambda x: resize_to_length(x, sequence_len))])\n",
        "    arr = np.array(arr)\n",
        "    arr = arr.swapaxes(0, 1)\n",
        "    arr = arr.swapaxes(1, 2)\n",
        "    return tf.convert_to_tensor(arr, np.float32)\n",
        "\n",
        "\n",
        "class BotClassificatorRunner:\n",
        "    __DEFAULT_FEATURES = ['score', 'winrate', 'utility', 'stddev', 'selfplay', 'dist_from_prev', 'winrate_sqr', 'score_sqr', 'dist_more_5', 'dist_enemy']\n",
        "\n",
        "    def __create_rnn(self, hidden_units, input_shape):\n",
        "        model = keras.Sequential()\n",
        "        model.add(tf.keras.layers.Masking(mask_value=0.,\n",
        "                                          input_shape=input_shape))\n",
        "        model.add(layers.BatchNormalization())\n",
        "        model.add(layers.Bidirectional(layers.LSTM(hidden_units)))  # , dropout = 0.15, reccurent_dropout = 0.15)))\n",
        "        model.add(layers.Dense(units=2, activation=\"linear\"))\n",
        "        model.add(layers.Activation('softmax'))\n",
        "        model.compile(loss='binary_crossentropy', optimizer='adam', metrics='accuracy')\n",
        "        return model\n",
        "\n",
        "    def __init__(self, model=None, sequence_len=150, features=__DEFAULT_FEATURES):\n",
        "        self.features = features\n",
        "        self.sequence_len = sequence_len\n",
        "        if model is None:\n",
        "            self.model = self.__create_rnn(16, (sequence_len, len(features)))\n",
        "        else:\n",
        "            self.model = model\n",
        "\n",
        "    def fit(self, df, target, val_X, val_y, epochs=10, batch_size=256):\n",
        "        val_data = None\n",
        "        if val_X is not None:\n",
        "            val_y = keras.utils.to_categorical(tf.convert_to_tensor(np.array(val_y, dtype=\"int32\"),\n",
        "                                                                    np.int32), num_classes=2)\n",
        "            val_X = get_tensor(val_X, self.features, self.sequence_len)\n",
        "            val_data = (val_X, val_y)\n",
        "        X = get_tensor(df, self.features, self.sequence_len)\n",
        "        y = keras.utils.to_categorical(tf.convert_to_tensor(np.array(target, dtype=\"int32\"), np.int32),\n",
        "                                       num_classes=2)\n",
        "        self.model.fit(X, y, validation_data=val_data, epochs=epochs, batch_size=batch_size, class_weight = {0:1, 1: 3})\n",
        "\n",
        "    def get_probs(self, df):\n",
        "        X = get_tensor(df, self.features, self.sequence_len)\n",
        "        return self.model.predict(X)\n",
        "\n",
        "    def predict(self, df):\n",
        "        y = self.get_probs(df)\n",
        "        return y.argmax(axis=1)\n"
      ],
      "metadata": {
        "id": "cGEGmnAAVIC_"
      },
      "execution_count": null,
      "outputs": []
    },
    {
      "cell_type": "code",
      "source": [
        "np.mean(y_train)"
      ],
      "metadata": {
        "colab": {
          "base_uri": "https://localhost:8080/"
        },
        "id": "LiEDhWi3m-ht",
        "outputId": "d8b32792-4d36-488f-a685-3bcbebb39768"
      },
      "execution_count": null,
      "outputs": [
        {
          "output_type": "execute_result",
          "data": {
            "text/plain": [
              "0.27449336128581414"
            ]
          },
          "metadata": {},
          "execution_count": 131
        }
      ]
    },
    {
      "cell_type": "code",
      "source": [
        "rnn_features = ['score', 'winrate', 'utility', 'stddev', 'selfplay', 'dist_from_prev', 'winrate_sqr', 'score_sqr', 'dist_more_5']\n",
        "model = BotClassificatorRunner(sequence_len=150)"
      ],
      "metadata": {
        "id": "81f8cEJhV99-"
      },
      "execution_count": null,
      "outputs": []
    },
    {
      "cell_type": "code",
      "source": [
        "model.fit(X_train, y_train, X_test, y_test, epochs=25, batch_size=32)"
      ],
      "metadata": {
        "colab": {
          "base_uri": "https://localhost:8080/"
        },
        "id": "ORB1nzj9WPSl",
        "outputId": "9c445633-329b-4df4-ed05-9a9442be0a82"
      },
      "execution_count": null,
      "outputs": [
        {
          "output_type": "stream",
          "name": "stdout",
          "text": [
            "Epoch 1/25\n",
            "224/224 [==============================] - 88s 185ms/step - loss: 1.0505 - accuracy: 0.5325 - val_loss: 0.6932 - val_accuracy: 0.5355\n",
            "Epoch 2/25\n",
            "224/224 [==============================] - 34s 153ms/step - loss: 1.0070 - accuracy: 0.6330 - val_loss: 0.6996 - val_accuracy: 0.5651\n",
            "Epoch 3/25\n",
            "224/224 [==============================] - 35s 156ms/step - loss: 0.9777 - accuracy: 0.6505 - val_loss: 0.6316 - val_accuracy: 0.6657\n",
            "Epoch 4/25\n",
            "224/224 [==============================] - 34s 152ms/step - loss: 0.9453 - accuracy: 0.6625 - val_loss: 0.6233 - val_accuracy: 0.6696\n",
            "Epoch 5/25\n",
            "224/224 [==============================] - 34s 152ms/step - loss: 0.9089 - accuracy: 0.6759 - val_loss: 0.5924 - val_accuracy: 0.6976\n",
            "Epoch 6/25\n",
            "224/224 [==============================] - 34s 154ms/step - loss: 0.8850 - accuracy: 0.6783 - val_loss: 0.5332 - val_accuracy: 0.7317\n",
            "Epoch 7/25\n",
            "224/224 [==============================] - 34s 154ms/step - loss: 0.8620 - accuracy: 0.6826 - val_loss: 0.6075 - val_accuracy: 0.6596\n",
            "Epoch 8/25\n",
            "224/224 [==============================] - 34s 151ms/step - loss: 0.8326 - accuracy: 0.6955 - val_loss: 0.5848 - val_accuracy: 0.6758\n",
            "Epoch 9/25\n",
            "224/224 [==============================] - 34s 150ms/step - loss: 0.8160 - accuracy: 0.6955 - val_loss: 0.5318 - val_accuracy: 0.7105\n",
            "Epoch 10/25\n",
            "224/224 [==============================] - 35s 155ms/step - loss: 0.8010 - accuracy: 0.6942 - val_loss: 0.5590 - val_accuracy: 0.6914\n",
            "Epoch 11/25\n",
            "224/224 [==============================] - 34s 152ms/step - loss: 0.7808 - accuracy: 0.7124 - val_loss: 0.4850 - val_accuracy: 0.7451\n",
            "Epoch 12/25\n",
            "224/224 [==============================] - 35s 158ms/step - loss: 0.7666 - accuracy: 0.7139 - val_loss: 0.4916 - val_accuracy: 0.7457\n",
            "Epoch 13/25\n",
            "224/224 [==============================] - 34s 151ms/step - loss: 0.7462 - accuracy: 0.7209 - val_loss: 0.5264 - val_accuracy: 0.7177\n",
            "Epoch 14/25\n",
            "224/224 [==============================] - 33s 149ms/step - loss: 0.7314 - accuracy: 0.7331 - val_loss: 0.5004 - val_accuracy: 0.7378\n",
            "Epoch 15/25\n",
            "224/224 [==============================] - 34s 150ms/step - loss: 0.7246 - accuracy: 0.7356 - val_loss: 0.4785 - val_accuracy: 0.7524\n",
            "Epoch 16/25\n",
            "224/224 [==============================] - 34s 152ms/step - loss: 0.7068 - accuracy: 0.7474 - val_loss: 0.5038 - val_accuracy: 0.7350\n",
            "Epoch 17/25\n",
            "224/224 [==============================] - 34s 151ms/step - loss: 0.7040 - accuracy: 0.7494 - val_loss: 0.4826 - val_accuracy: 0.7501\n",
            "Epoch 18/25\n",
            "224/224 [==============================] - 34s 152ms/step - loss: 0.6817 - accuracy: 0.7596 - val_loss: 0.5311 - val_accuracy: 0.7155\n",
            "Epoch 19/25\n",
            "224/224 [==============================] - 34s 150ms/step - loss: 0.6887 - accuracy: 0.7599 - val_loss: 0.4464 - val_accuracy: 0.7714\n",
            "Epoch 20/25\n",
            "224/224 [==============================] - 34s 151ms/step - loss: 0.6702 - accuracy: 0.7665 - val_loss: 0.4705 - val_accuracy: 0.7619\n",
            "Epoch 21/25\n",
            "224/224 [==============================] - 34s 153ms/step - loss: 0.6632 - accuracy: 0.7680 - val_loss: 0.4427 - val_accuracy: 0.7770\n",
            "Epoch 22/25\n",
            "224/224 [==============================] - 35s 156ms/step - loss: 0.6515 - accuracy: 0.7771 - val_loss: 0.4353 - val_accuracy: 0.7842\n",
            "Epoch 23/25\n",
            "224/224 [==============================] - 35s 155ms/step - loss: 0.6447 - accuracy: 0.7744 - val_loss: 0.4409 - val_accuracy: 0.7826\n",
            "Epoch 24/25\n",
            "224/224 [==============================] - 36s 159ms/step - loss: 0.6388 - accuracy: 0.7797 - val_loss: 0.4477 - val_accuracy: 0.7725\n",
            "Epoch 25/25\n",
            "224/224 [==============================] - 35s 155ms/step - loss: 0.6329 - accuracy: 0.7803 - val_loss: 0.4144 - val_accuracy: 0.7937\n"
          ]
        }
      ]
    },
    {
      "cell_type": "code",
      "source": [
        "katago_hum = pd.read_csv('/content/drive/MyDrive/data_big.csv')[:2000]"
      ],
      "metadata": {
        "id": "To2NCUOHk03D"
      },
      "execution_count": null,
      "outputs": []
    },
    {
      "cell_type": "code",
      "source": [
        "hkatago_white = get_df_with_lists(katago_hum.copy(), player = 'W')\n",
        "hkatago_white['is_bot'] = hkatago_white.apply(lambda x: x.W_nickname in bots, axis = 1)\n",
        "hkatago_black = get_df_with_lists(katago_hum.copy(), player = 'B')\n",
        "hkatago_black['is_bot'] = hkatago_black.apply(lambda x: x.B_nickname in bots, axis = 1)\n",
        "hkatago_all = hkatago_white.append(hkatago_black, ignore_index=True)"
      ],
      "metadata": {
        "colab": {
          "base_uri": "https://localhost:8080/"
        },
        "id": "iuXH_-bik6CY",
        "outputId": "467eada5-65c3-4340-d49a-1d6bf5e02142"
      },
      "execution_count": null,
      "outputs": [
        {
          "output_type": "stream",
          "name": "stderr",
          "text": [
            "2000it [00:00, 3753.48it/s]\n",
            "2000it [00:01, 1440.92it/s]\n",
            "2000it [00:01, 1020.07it/s]\n",
            "2000it [00:00, 3488.15it/s]\n",
            "2000it [00:02, 761.17it/s] \n",
            "2000it [00:01, 1020.86it/s]\n"
          ]
        }
      ]
    },
    {
      "cell_type": "code",
      "source": [
        "ans = model.predict(katago_all)"
      ],
      "metadata": {
        "id": "XQiQVJUflEvr"
      },
      "execution_count": null,
      "outputs": []
    },
    {
      "cell_type": "code",
      "source": [
        "np.mean(ans)"
      ],
      "metadata": {
        "colab": {
          "base_uri": "https://localhost:8080/"
        },
        "id": "RpNcEJ2UlRh_",
        "outputId": "5a585b77-c946-4f05-ff5c-1513fe078d5f"
      },
      "execution_count": null,
      "outputs": [
        {
          "output_type": "execute_result",
          "data": {
            "text/plain": [
              "0.34000447227191416"
            ]
          },
          "metadata": {},
          "execution_count": 157
        }
      ]
    }
  ]
}