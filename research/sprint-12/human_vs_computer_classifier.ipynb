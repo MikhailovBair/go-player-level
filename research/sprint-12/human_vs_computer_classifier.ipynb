{
  "nbformat": 4,
  "nbformat_minor": 0,
  "metadata": {
    "colab": {
      "name": "human_vs_computer_classifier.ipynb",
      "provenance": []
    },
    "kernelspec": {
      "name": "python3",
      "display_name": "Python 3"
    },
    "language_info": {
      "name": "python"
    }
  },
  "cells": [
    {
      "cell_type": "code",
      "execution_count": 22,
      "metadata": {
        "id": "B34YP4I6JjJ7"
      },
      "outputs": [],
      "source": [
        "import numpy as np\n",
        "import pandas as pd\n",
        "from tqdm import tqdm\n",
        "\n",
        "def add_basic_stats(row, moves, pref=\"\"):\n",
        "\n",
        "    row[pref + 'winrate_mean'] = np.mean(moves.winrate_delta)\n",
        "    row[pref + 'score_mean'] = np.mean(moves.score_delta)\n",
        "    row[pref + 'score_var'] = np.var(moves.score_delta)\n",
        "    row[pref + 'selfplay_mean'] = np.mean(moves.selfplay_delta)\n",
        "    row[pref + 'utility_mean'] = np.mean(moves.utility_delta)\n",
        "    row[pref + 'winrate_beauty_percent'] = np.mean([x > 0 for x in moves.winrate_delta])\n",
        "    row[pref + 'score_beauty_percent'] = np.mean([x > 0 for x in moves.score_delta])\n",
        "\n",
        "\n",
        "def add_advanced_stats(row, moves, pref=\"\"):\n",
        "    moves.score_delta.sort()\n",
        "    moves.winrate_delta.sort()\n",
        "\n",
        "    row[pref + 'score25p'] = moves.score_delta[int(moves.cnt_moves * 0.25)]\n",
        "    row[pref + 'score75p'] = moves.score_delta[int(moves.cnt_moves * 0.75)]\n",
        "    row[pref + 'score_max'] = np.max(moves.score_delta)\n",
        "    row[pref + 'score_min'] = np.min(moves.score_delta)\n",
        "    row[pref + 'winrate25p'] = moves.winrate_delta[int(moves.cnt_moves * 0.25)]\n",
        "    row[pref + 'winrate75p'] = moves.winrate_delta[int(moves.cnt_moves * 0.75)]\n",
        "\n",
        "    row[pref + 'score_five_best_mean'] = np.mean(moves.score_delta[-5:])\n",
        "    row[pref + 'score_five_worst_mean'] = np.mean(moves.score_delta[:5])\n",
        "\n",
        "    row[pref + 'stddev_last'] = moves.stddev_delta[-1]\n",
        "    moves.stddev_delta.sort()\n",
        "    row[pref + 'stddev_mean'] = np.mean(moves.stddev_delta)\n",
        "    row[pref + 'stddev50p'] = moves.stddev_delta[int(moves.cnt_moves * 0.5)]\n",
        "\n",
        "    row[pref + 'score50p'] = moves.score_delta[int(moves.cnt_moves * 0.5)]\n",
        "\n",
        "    row[pref + 'winrate_midmean'] = np.mean(\n",
        "        moves.winrate_delta[int(moves.cnt_moves * 0.25):int(moves.cnt_moves * 0.75)])\n",
        "    row[pref + 'score_midmean'] = np.mean(moves.score_delta[int(moves.cnt_moves * 0.25):int(moves.cnt_moves * 0.75)])\n",
        "\n",
        "\n",
        "def get_index_dan(rank):\n",
        "  for i in range(len(rank)):\n",
        "    if rank[i] in ['k', 'd']:\n",
        "      return i\n",
        "  return -1\n",
        "\n",
        "\n",
        "def get_int_from_rank(rank):\n",
        "    ind = get_index_dan(rank)\n",
        "    if ind < 0 or rank[0] == 'P' or not rank[:ind].isdigit():\n",
        "        return None\n",
        "    if rank[ind] == 'k':\n",
        "        return -int(rank[:ind]) + 1\n",
        "    else:\n",
        "        return int(rank[:ind])\n",
        "\n",
        "\n",
        "def get_rank_from_int(x):\n",
        "    if x > 0:\n",
        "        return str(x) + \"d\"\n",
        "    else:\n",
        "        return str(-x + 1) + \"k\"\n",
        "\n",
        "\n",
        "def int_from_player(player):\n",
        "    return int(player == 'W')\n",
        "\n",
        "\n",
        "def player_from_int(x):\n",
        "    return 'W' if x == 1 else 'B'\n",
        "\n",
        "\n",
        "def add_meta(row, player='W'):\n",
        "    if row['Result'] == '?':\n",
        "        row['game_result'] = 0\n",
        "    else:\n",
        "        row['game_result'] = int(row['Result'])\n",
        "        if player == 'B':\n",
        "            row['game_result'] = -row['game_result']\n",
        "    row['color'] = int_from_player(player)\n",
        "    row['rank'] = get_int_from_rank(row[player + '_rating'])\n",
        "    row['game_length'] = len(row['W_move'].split()) + len(row['B_move'].split())\n",
        "\n",
        "\n",
        "def convert_to_lists(df):\n",
        "    for i, row in tqdm(df.iterrows()):\n",
        "        try:\n",
        "            row['W_scoreLead'] = [float(x) for x in row['W_scoreLead'].split()]\n",
        "            row['B_scoreLead'] = [float(x) for x in row['B_scoreLead'].split()]\n",
        "            row['W_scoreSelfplay'] = [float(x) for x in row['W_scoreSelfplay'].split()]\n",
        "            row['B_scoreSelfplay'] = [float(x) for x in row['B_scoreSelfplay'].split()]\n",
        "            row['W_scoreStdev'] = [float(x) for x in row['W_scoreStdev'].split()]\n",
        "            row['B_scoreStdev'] = [float(x) for x in row['B_scoreStdev'].split()]\n",
        "            row['W_utility'] = [float(x) for x in row['W_utility'].split()]\n",
        "            row['B_utility'] = [float(x) for x in row['B_utility'].split()]\n",
        "            row['W_winrate'] = [float(x) for x in row['W_winrate'].split()]\n",
        "            row['B_winrate'] = [float(x) for x in row['B_winrate'].split()]\n",
        "            df.loc[i] = row\n",
        "        except Exception as e:\n",
        "            print(e)\n",
        "            df = df.drop(index=[i])          \n",
        "    return df\n",
        "    \n",
        "\n",
        "class MovesInfo:\n",
        "    def __init__(self, row, n_moves=None, player='W'):\n",
        "        enemy = 'B' if player == 'W' else 'W'\n",
        "        if player == 'B':\n",
        "            moves_len = min(len(row['B_winrate']), len(row['W_winrate']) + 1)\n",
        "        else:\n",
        "            moves_len = min(len(row['W_winrate']), len(row['B_winrate']))\n",
        "\n",
        "        if n_moves is None:\n",
        "            start_ind = 0\n",
        "        else:\n",
        "            start_ind = max(moves_len - n_moves - 1, 0)\n",
        "\n",
        "        end_ind = moves_len\n",
        "        w_0 = []\n",
        "        sc_0 = []\n",
        "        ut_0 = []\n",
        "        std_0 = []\n",
        "        sf_0 = []\n",
        "        if player == 'B':\n",
        "            if start_ind == 0:\n",
        "                w_0 = [0.475]\n",
        "                sc_0 = [0.]\n",
        "                ut_0 = [0.]\n",
        "                std_0 = [19. - 0.07666535852999867 * 2]\n",
        "                sf_0 = [0.]\n",
        "            else:\n",
        "                w_0 = [row[enemy + '_winrate'][start_ind - 1]]\n",
        "\n",
        "                sc_0 = [row[enemy + '_scoreLead'][start_ind - 1]]\n",
        "                ut_0 = [row[enemy + '_utility'][start_ind - 1]]\n",
        "                std_0 = [row[enemy + '_scoreStdev'][start_ind - 1]]\n",
        "                sf_0 = [row[enemy + '_scoreSelfplay'][start_ind - 1]]\n",
        "        self.winrate_delta = np.array(row[player + '_winrate'][start_ind:end_ind]) - np.array(\n",
        "            (w_0 + row[enemy + '_winrate'])[start_ind:end_ind])\n",
        "        self.score_delta = np.array(row[player + '_scoreLead'][start_ind:end_ind]) - np.array(\n",
        "            (sc_0 + row[enemy + '_scoreLead'])[start_ind:end_ind])\n",
        "        self.utility_delta = np.array(row[player + '_utility'][start_ind:end_ind]) - np.array(\n",
        "            (ut_0 + row[enemy + '_utility'])[start_ind:end_ind])\n",
        "        self.selfplay_delta = np.array(row[player + '_scoreSelfplay'][start_ind:end_ind]) - np.array(\n",
        "            (sf_0 + row[enemy + '_scoreSelfplay'])[start_ind:end_ind])\n",
        "        self.stddev_delta = np.array(row[player + '_scoreStdev'][start_ind:end_ind]) - np.array(\n",
        "            (std_0 + row[enemy + '_scoreStdev'])[start_ind:end_ind])\n",
        "\n",
        "        if player == 'B':\n",
        "            self.winrate_delta = -self.winrate_delta\n",
        "            self.score_delta = -self.score_delta\n",
        "            self.utility_delta = -self.utility_delta\n",
        "            self.selfplay_delta = -self.selfplay_delta\n",
        "\n",
        "        self.move = row[player + '_move'].split()\n",
        "        self.cnt_moves = end_ind - start_ind\n",
        "\n",
        "\n",
        "def add_all_game_stats(df, player = 'W'):\n",
        "    df['winrate_mean'] = None\n",
        "    df['score_midmean'] = None\n",
        "    df['score_mean'] = None\n",
        "    df['score_var'] = None\n",
        "    df['winrate_beauty_percent'] = None\n",
        "    df['score_beauty_percent'] = None\n",
        "    df['utility_mean'] = None\n",
        "    df['score25p'] = None\n",
        "    df['score75p'] = None\n",
        "    df['winrate25p'] = None\n",
        "    df['winrate75p'] = None\n",
        "    df['winrate_midmean'] = None\n",
        "    df['score50p'] = None\n",
        "    df['selfplay_mean'] = None\n",
        "    df['stddev_mean'] = None\n",
        "    df['stddev50p'] = None\n",
        "    df['stddev_last'] = None\n",
        "    df['score_max'] = None\n",
        "    df['score_min'] = None\n",
        "    df['score_five_best_mean'] = None\n",
        "    df['score_five_worst_mean'] = None\n",
        "    for i, row in tqdm(df.iterrows()):\n",
        "        add_basic_stats(row, MovesInfo(row, player=player))\n",
        "        add_advanced_stats(row, MovesInfo(row, player=player))\n",
        "        df.loc[i] = row\n",
        "    return df            \n",
        "\n",
        "\n",
        "def get_start_of_yose(margin_moves, no_change_count=5):\n",
        "    '''\n",
        "    Находим сколько последних ходов мы будем считать что это йосе\n",
        "\n",
        "    Будем идти с конца по массиву количества ходов на краю, если в массиве no_change_count одинаковых чисел,\n",
        "    то мы останавливаемся и говорим, что тут началось йосе\n",
        "    '''\n",
        "    no_change = 1\n",
        "    ans = len(margin_moves)\n",
        "    for i in range(len(margin_moves) - 2, -1, -1):\n",
        "        if margin_moves[i] == margin_moves[i + 1]:\n",
        "            no_change += 1\n",
        "        else:\n",
        "            no_change = 1\n",
        "        if no_change >= no_change_count:\n",
        "            ans = len(margin_moves) - i - 1\n",
        "            break\n",
        "    return ans\n",
        "\n",
        "\n",
        "def reset_basic_stats(df, pref):\n",
        "    df[pref + 'winrate_mean'] = None\n",
        "    df[pref + 'winrate_beauty_percent'] = None\n",
        "    df[pref + 'score_beauty_percent'] = None\n",
        "    df[pref + 'score_mean'] = None\n",
        "    df[pref + 'selfplay_mean'] = None\n",
        "    df[pref + 'score_var'] = None\n",
        "    df[pref + 'utility_mean'] = None\n",
        "\n",
        "\n",
        "def is_marginal_move(move):\n",
        "    return (move[0] == 'a' or move[0] == 'b') or (move[0] == 'r' or move[0] == 's') or \\\n",
        "           (move[1] == 'a' or move[1] == 'b') or (move[1] == 'r' or move[1] == 's')\n",
        "\n",
        "\n",
        "def count_of_marginal_moves(moves):\n",
        "    ans = np.zeros(len(moves))\n",
        "    for i in range(len(moves)):\n",
        "        ans[i] = is_marginal_move(moves[i])\n",
        "    ans = np.cumsum(ans)\n",
        "    return ans\n",
        "\n",
        "\n",
        "def add_yose_stats(df, player = 'W'):\n",
        "    pref = 'yose_'\n",
        "    reset_basic_stats(df, pref)\n",
        "    df['yose_length'] = None\n",
        "    df['yose_start'] = None\n",
        "    df['yose_has'] = None\n",
        "    for i, row in tqdm(df.iterrows()):\n",
        "        marginal_moves = count_of_marginal_moves(row['W_move'].split())\n",
        "        n_moves = get_start_of_yose(marginal_moves, 10)\n",
        "        add_basic_stats(row, MovesInfo(row, n_moves, player=player), pref)\n",
        "        row['yose_length'] = n_moves\n",
        "        row['yose_start'] = len(row['W_move'].split()) - n_moves\n",
        "        row['yose_has'] = row['yose_start'] != 0\n",
        "        df.loc[i] = row\n",
        "    return df    \n",
        "\n",
        "\n",
        "def delta_moves(a, b):\n",
        "    return abs(ord(a[0]) - ord(b[0])) + abs(ord(a[1]) - ord(b[1]))\n",
        "\n",
        "\n",
        "def get_distance_of_moves(moves):\n",
        "    ans = np.zeros(len(moves) - 1)\n",
        "    for i in range(1, len(moves)):\n",
        "        ans[i - 1] = delta_moves(moves[i], moves[i - 1])\n",
        "    return ans\n",
        "\n",
        "\n",
        "def get_distance_from_enemy(my_moves, enemy_moves):\n",
        "    ans = np.zeros(min(len(my_moves), len(enemy_moves)))\n",
        "    for i in range(min(len(my_moves), len(enemy_moves))):\n",
        "        ans[i] = delta_moves(my_moves[i], enemy_moves[i])\n",
        "    return ans\n",
        "\n",
        "\n",
        "def add_last_moves_stats(df, n_moves, pref=None, player='W'):\n",
        "    if pref is None:\n",
        "        pref = str(n_moves) + \"_\"\n",
        "    reset_basic_stats(df, pref)\n",
        "    for i, row in tqdm(df.iterrows()):\n",
        "        add_basic_stats(row, MovesInfo(row, n_moves, player=player), pref)\n",
        "        df.loc[i] = row\n",
        "        \n",
        "    return df    \n",
        "\n",
        "\n",
        "def add_dist_stats_to_row(row, player='W'):\n",
        "    dist = get_distance_of_moves(row[player+'_move'].split())\n",
        "    dist_enemy = get_distance_from_enemy(row['W_move'].split(), row['B_move'].split())\n",
        "    dist.sort()\n",
        "\n",
        "    row['dist_mean'] = np.mean(dist)\n",
        "    row['dist_var'] = np.var(dist)\n",
        "    row['dist_median'] = dist[len(dist) // 2]\n",
        "    row['dist_percent_more_than_10'] = np.mean([x > 10 for x in dist])\n",
        "    row['dist_percent_more_than_5'] = np.mean([x > 5 for x in dist])\n",
        "    row['dist_percent_more_than_20'] = np.mean([x > 20 for x in dist])\n",
        "\n",
        "    row['dist_from_enemy_mean'] = np.mean(dist_enemy)\n",
        "    row['dist_from_enemy_var'] = np.var(dist_enemy)\n",
        "\n",
        "\n",
        "def add_dist_stats(df, player='W'):\n",
        "    df['dist_mean'] = None\n",
        "    df['dist_var'] = None\n",
        "    df['dist_median'] = None\n",
        "    df['dist_percent_more_than_5'] = None\n",
        "    df['dist_percent_more_than_10'] = None\n",
        "    df['dist_percent_more_than_20'] = None\n",
        "\n",
        "    df['dist_from_enemy_mean'] = None\n",
        "    df['dist_from_enemy_var'] = None\n",
        "\n",
        "    for i, row in tqdm(df.iterrows()):\n",
        "       if len(row['W_move']) > 20:\n",
        "        add_dist_stats_to_row(row, player=player)\n",
        "        df.loc[i] = row\n",
        "    return df    \n",
        "\n",
        "\n",
        "def delete_non_scalar_parameters(df):\n",
        "    df.drop(['W_rating', 'B_rating', 'W_move', 'B_move', 'W_scoreLead', 'B_scoreLead', 'W_scoreSelfplay',\n",
        "             'B_scoreSelfplay', 'W_scoreStdev', 'B_scoreStdev', 'W_utility', 'B_utility',\n",
        "             'W_winrate', 'B_winrate', 'Result'], axis=1, inplace=True)\n",
        "    return df         \n",
        "\n",
        "\n",
        "def add_delta_lists_to_row(row, moves, player='W'):\n",
        "    row['winrate'] = moves.winrate_delta\n",
        "    row['score'] = moves.score_delta\n",
        "    row['winrate_sqr'] = np.array([x ** 2 for x  in moves.winrate_delta])\n",
        "    row['score_sqr'] = np.array([x ** 2 for x  in moves.score_delta])\n",
        "    row['utility'] = moves.utility_delta\n",
        "    row['selfplay'] = moves.selfplay_delta\n",
        "    row['stddev'] = moves.stddev_delta\n",
        "    row['dist_from_prev'] = get_distance_of_moves(moves.move)\n",
        "    row['dist_more_5'] = [int(x > 5) + 1 for x in row['dist_from_prev']]\n",
        "    enemy = 'B' if player == 'W' else 'W'\n",
        "    row['dist_enemy'] = get_distance_from_enemy(row[player + '_move'].split(), row[enemy + '_move'].split())\n",
        "\n",
        "\n",
        "def kWorst(moves, cnt=5):\n",
        "    moves.sort()\n",
        "    return moves[:cnt][-1]  \n",
        "\n",
        "\n",
        "def addWorstMoves(df, player='W'):\n",
        "  for cnt in [5, 10]:\n",
        "    for type_cls in ['score', 'winrate']:\n",
        "      df['Worst_' + type_cls + str(cnt)] = np.array(df.apply(lambda row: kWorst(row[type_cls], cnt), axis = 1))\n",
        "  return df    \n",
        "\n",
        "\n",
        "def add_lists_to_df(df, player='W'):\n",
        "    df['winrate'] = None\n",
        "    df['score'] = None\n",
        "    df['utility'] = None\n",
        "    df['selfplay'] = None\n",
        "    df['stddev'] = None\n",
        "    df['dist_from_prev'] = None\n",
        "    df['score_sqr'] = None\n",
        "    df['winrate_sqr'] = None\n",
        "    df['dist_more_5'] = None\n",
        "    df['dist_enemy'] = None\n",
        "    for i, row in tqdm(df.iterrows()):\n",
        "        add_delta_lists_to_row(row, MovesInfo(row, player=player), player)\n",
        "        df.loc[i] = row\n",
        "    return df    \n",
        "\n",
        "\n",
        "def add_meta_to_df(df, player='W'):\n",
        "    df['game_length'] = None\n",
        "    df['rank'] = None\n",
        "    df['color'] = None\n",
        "    df['game_result'] = None\n",
        "    for i, row in tqdm(df.iterrows()):\n",
        "        try:\n",
        "            add_meta(row, player)\n",
        "            df.loc[i] = row\n",
        "        except Exception as e:\n",
        "            print(e)\n",
        "            df = df.drop(index=[i])\n",
        "    return df        \n",
        "\n",
        "\n",
        "def get_feature_df(df, player='W'):\n",
        "    df = add_meta_to_df(df, player)\n",
        "    df = convert_to_lists(df)\n",
        "    df = add_all_game_stats(df, player)\n",
        "    df = add_yose_stats(df, player)\n",
        "    df = add_last_moves_stats(df, 10, player)\n",
        "    df = add_last_moves_stats(df, 20, player)\n",
        "    df = add_dist_stats(df, player)\n",
        "    df = delete_non_scalar_parameters(df)\n",
        "    return df\n",
        "\n",
        "\n",
        "def get_df_with_lists(df, player='W'):\n",
        "    df = add_meta_to_df(df, player)\n",
        "    df = convert_to_lists(df)\n",
        "    df = add_lists_to_df(df, player)\n",
        "    return df\n"
      ]
    },
    {
      "cell_type": "code",
      "source": [
        "from google.colab import drive\n",
        "drive.mount('/content/drive')\n",
        "katago_hum = pd.read_csv('/content/drive/MyDrive/data_big.csv')[:3000]\n",
        "katago = pd.read_csv('/content/drive/MyDrive/computer_data.csv')\n",
        "katago_hum['is_bot'] = 0\n",
        "katago['is_bot'] = 1\n",
        "#katago.dropna(how = 'any', inplace= True)"
      ],
      "metadata": {
        "id": "m0Q6AXTvJzug",
        "colab": {
          "base_uri": "https://localhost:8080/"
        },
        "outputId": "c3c0b222-0066-446b-ecc7-5e11d21c552c"
      },
      "execution_count": 23,
      "outputs": [
        {
          "output_type": "stream",
          "name": "stdout",
          "text": [
            "Drive already mounted at /content/drive; to attempt to forcibly remount, call drive.mount(\"/content/drive\", force_remount=True).\n"
          ]
        }
      ]
    },
    {
      "cell_type": "markdown",
      "source": [
        ""
      ],
      "metadata": {
        "id": "cU-s8PQBsp4Y"
      }
    },
    {
      "cell_type": "code",
      "source": [
        "katago_1 = katago.append(katago_hum, ignore_index=True)"
      ],
      "metadata": {
        "id": "ghgA27ADmQU_"
      },
      "execution_count": 24,
      "outputs": []
    },
    {
      "cell_type": "code",
      "source": [
        "bots = ['noob_bot_1', 'doge_bot_2', 'kata-bot', 'katago-micro', 'doge_bot_3', 'doge_bot_1', 'amybot-ddk', 'doge_bot_4', '15bTurboLeela', '12bTurboSai', 'kata_noob']\n",
        "katago_white = get_df_with_lists(katago_1.copy(), player = 'W')\n",
        "katago_black = get_df_with_lists(katago_1.copy(), player = 'B')\n",
        "katago_all = katago_white.append(katago_black, ignore_index=True)"
      ],
      "metadata": {
        "id": "gu42aI-RJ1b9",
        "colab": {
          "base_uri": "https://localhost:8080/"
        },
        "outputId": "34e07ec3-1bc5-44c4-bfd7-498cdbcfc82e"
      },
      "execution_count": 26,
      "outputs": [
        {
          "output_type": "stream",
          "name": "stderr",
          "text": [
            "12it [00:00, 57.64it/s]"
          ]
        },
        {
          "output_type": "stream",
          "name": "stdout",
          "text": [
            "'float' object has no attribute 'split'\n",
            "'float' object has no attribute 'split'\n",
            "'float' object has no attribute 'split'\n"
          ]
        },
        {
          "output_type": "stream",
          "name": "stderr",
          "text": [
            "36it [00:00, 57.49it/s]"
          ]
        },
        {
          "output_type": "stream",
          "name": "stdout",
          "text": [
            "'float' object has no attribute 'split'\n"
          ]
        },
        {
          "output_type": "stream",
          "name": "stderr",
          "text": [
            "72it [00:01, 55.49it/s]"
          ]
        },
        {
          "output_type": "stream",
          "name": "stdout",
          "text": [
            "'float' object has no attribute 'split'\n"
          ]
        },
        {
          "output_type": "stream",
          "name": "stderr",
          "text": [
            "109it [00:02, 61.47it/s]"
          ]
        },
        {
          "output_type": "stream",
          "name": "stdout",
          "text": [
            "'float' object has no attribute 'split'\n"
          ]
        },
        {
          "output_type": "stream",
          "name": "stderr",
          "text": [
            "151it [00:02, 72.37it/s]"
          ]
        },
        {
          "output_type": "stream",
          "name": "stdout",
          "text": [
            "'float' object has no attribute 'split'\n"
          ]
        },
        {
          "output_type": "stream",
          "name": "stderr",
          "text": [
            "192it [00:03, 75.05it/s]"
          ]
        },
        {
          "output_type": "stream",
          "name": "stdout",
          "text": [
            "'float' object has no attribute 'split'\n"
          ]
        },
        {
          "output_type": "stream",
          "name": "stderr",
          "text": [
            "237it [00:03, 86.28it/s]"
          ]
        },
        {
          "output_type": "stream",
          "name": "stdout",
          "text": [
            "'float' object has no attribute 'split'\n",
            "'float' object has no attribute 'split'\n"
          ]
        },
        {
          "output_type": "stream",
          "name": "stderr",
          "text": [
            "256it [00:03, 87.00it/s]"
          ]
        },
        {
          "output_type": "stream",
          "name": "stdout",
          "text": [
            "'float' object has no attribute 'split'\n",
            "'float' object has no attribute 'split'\n"
          ]
        },
        {
          "output_type": "stream",
          "name": "stderr",
          "text": [
            "320it [00:04, 83.24it/s]"
          ]
        },
        {
          "output_type": "stream",
          "name": "stdout",
          "text": [
            "'float' object has no attribute 'split'\n",
            "'float' object has no attribute 'split'\n"
          ]
        },
        {
          "output_type": "stream",
          "name": "stderr",
          "text": [
            "369it [00:05, 91.42it/s]"
          ]
        },
        {
          "output_type": "stream",
          "name": "stdout",
          "text": [
            "'float' object has no attribute 'split'\n",
            "'float' object has no attribute 'split'\n"
          ]
        },
        {
          "output_type": "stream",
          "name": "stderr",
          "text": [
            "400it [00:05, 89.19it/s]"
          ]
        },
        {
          "output_type": "stream",
          "name": "stdout",
          "text": [
            "'float' object has no attribute 'split'\n"
          ]
        },
        {
          "output_type": "stream",
          "name": "stderr",
          "text": [
            "440it [00:06, 88.63it/s]"
          ]
        },
        {
          "output_type": "stream",
          "name": "stdout",
          "text": [
            "'float' object has no attribute 'split'\n",
            "'float' object has no attribute 'split'\n",
            "'float' object has no attribute 'split'\n",
            "'float' object has no attribute 'split'\n"
          ]
        },
        {
          "output_type": "stream",
          "name": "stderr",
          "text": [
            "472it [00:06, 92.07it/s]"
          ]
        },
        {
          "output_type": "stream",
          "name": "stdout",
          "text": [
            "'float' object has no attribute 'split'\n",
            "'float' object has no attribute 'split'\n"
          ]
        },
        {
          "output_type": "stream",
          "name": "stderr",
          "text": [
            "558it [00:08, 44.03it/s]"
          ]
        },
        {
          "output_type": "stream",
          "name": "stdout",
          "text": [
            "'float' object has no attribute 'split'\n"
          ]
        },
        {
          "output_type": "stream",
          "name": "stderr",
          "text": [
            "594it [00:09, 21.64it/s]"
          ]
        },
        {
          "output_type": "stream",
          "name": "stdout",
          "text": [
            "'float' object has no attribute 'split'\n"
          ]
        },
        {
          "output_type": "stream",
          "name": "stderr",
          "text": [
            "650it [00:12, 27.49it/s]"
          ]
        },
        {
          "output_type": "stream",
          "name": "stdout",
          "text": [
            "'float' object has no attribute 'split'\n"
          ]
        },
        {
          "output_type": "stream",
          "name": "stderr",
          "text": [
            "784it [00:14, 92.41it/s]"
          ]
        },
        {
          "output_type": "stream",
          "name": "stdout",
          "text": [
            "'float' object has no attribute 'split'\n"
          ]
        },
        {
          "output_type": "stream",
          "name": "stderr",
          "text": [
            "803it [00:14, 66.10it/s]"
          ]
        },
        {
          "output_type": "stream",
          "name": "stdout",
          "text": [
            "'float' object has no attribute 'split'\n"
          ]
        },
        {
          "output_type": "stream",
          "name": "stderr",
          "text": [
            "861it [00:15, 59.80it/s]"
          ]
        },
        {
          "output_type": "stream",
          "name": "stdout",
          "text": [
            "'float' object has no attribute 'split'\n",
            "'float' object has no attribute 'split'\n"
          ]
        },
        {
          "output_type": "stream",
          "name": "stderr",
          "text": [
            "877it [00:15, 67.16it/s]"
          ]
        },
        {
          "output_type": "stream",
          "name": "stdout",
          "text": [
            "'float' object has no attribute 'split'\n"
          ]
        },
        {
          "output_type": "stream",
          "name": "stderr",
          "text": [
            "954it [00:16, 55.01it/s]"
          ]
        },
        {
          "output_type": "stream",
          "name": "stdout",
          "text": [
            "'float' object has no attribute 'split'\n",
            "'float' object has no attribute 'split'\n"
          ]
        },
        {
          "output_type": "stream",
          "name": "stderr",
          "text": [
            "998it [00:17, 55.49it/s]"
          ]
        },
        {
          "output_type": "stream",
          "name": "stdout",
          "text": [
            "'float' object has no attribute 'split'\n"
          ]
        },
        {
          "output_type": "stream",
          "name": "stderr",
          "text": [
            "1052it [00:18, 51.09it/s]"
          ]
        },
        {
          "output_type": "stream",
          "name": "stdout",
          "text": [
            "'float' object has no attribute 'split'\n"
          ]
        },
        {
          "output_type": "stream",
          "name": "stderr",
          "text": [
            "1111it [00:19, 86.34it/s]"
          ]
        },
        {
          "output_type": "stream",
          "name": "stdout",
          "text": [
            "'float' object has no attribute 'split'\n"
          ]
        },
        {
          "output_type": "stream",
          "name": "stderr",
          "text": [
            "1242it [00:21, 84.29it/s]"
          ]
        },
        {
          "output_type": "stream",
          "name": "stdout",
          "text": [
            "'float' object has no attribute 'split'\n"
          ]
        },
        {
          "output_type": "stream",
          "name": "stderr",
          "text": [
            "1279it [00:21, 80.74it/s]"
          ]
        },
        {
          "output_type": "stream",
          "name": "stdout",
          "text": [
            "'float' object has no attribute 'split'\n"
          ]
        },
        {
          "output_type": "stream",
          "name": "stderr",
          "text": [
            "1374it [00:22, 97.81it/s]"
          ]
        },
        {
          "output_type": "stream",
          "name": "stdout",
          "text": [
            "'float' object has no attribute 'split'\n"
          ]
        },
        {
          "output_type": "stream",
          "name": "stderr",
          "text": [
            "1437it [00:23, 96.93it/s]"
          ]
        },
        {
          "output_type": "stream",
          "name": "stdout",
          "text": [
            "'float' object has no attribute 'split'\n"
          ]
        },
        {
          "output_type": "stream",
          "name": "stderr",
          "text": [
            "1468it [00:23, 96.20it/s]"
          ]
        },
        {
          "output_type": "stream",
          "name": "stdout",
          "text": [
            "'float' object has no attribute 'split'\n"
          ]
        },
        {
          "output_type": "stream",
          "name": "stderr",
          "text": [
            "1551it [00:24, 93.64it/s]"
          ]
        },
        {
          "output_type": "stream",
          "name": "stdout",
          "text": [
            "'float' object has no attribute 'split'\n"
          ]
        },
        {
          "output_type": "stream",
          "name": "stderr",
          "text": [
            "1572it [00:24, 84.42it/s]"
          ]
        },
        {
          "output_type": "stream",
          "name": "stdout",
          "text": [
            "'float' object has no attribute 'split'\n"
          ]
        },
        {
          "output_type": "stream",
          "name": "stderr",
          "text": [
            "1621it [00:25, 68.89it/s]"
          ]
        },
        {
          "output_type": "stream",
          "name": "stdout",
          "text": [
            "'float' object has no attribute 'split'\n"
          ]
        },
        {
          "output_type": "stream",
          "name": "stderr",
          "text": [
            "1659it [00:26, 79.95it/s]"
          ]
        },
        {
          "output_type": "stream",
          "name": "stdout",
          "text": [
            "'float' object has no attribute 'split'\n",
            "'float' object has no attribute 'split'\n"
          ]
        },
        {
          "output_type": "stream",
          "name": "stderr",
          "text": [
            "1783it [00:27, 87.59it/s]"
          ]
        },
        {
          "output_type": "stream",
          "name": "stdout",
          "text": [
            "'float' object has no attribute 'split'\n"
          ]
        },
        {
          "output_type": "stream",
          "name": "stderr",
          "text": [
            "1821it [00:27, 90.72it/s]"
          ]
        },
        {
          "output_type": "stream",
          "name": "stdout",
          "text": [
            "'float' object has no attribute 'split'\n",
            "'float' object has no attribute 'split'\n"
          ]
        },
        {
          "output_type": "stream",
          "name": "stderr",
          "text": [
            "1851it [00:28, 87.59it/s]"
          ]
        },
        {
          "output_type": "stream",
          "name": "stdout",
          "text": [
            "'float' object has no attribute 'split'\n",
            "'float' object has no attribute 'split'\n"
          ]
        },
        {
          "output_type": "stream",
          "name": "stderr",
          "text": [
            "1932it [00:29, 83.27it/s]"
          ]
        },
        {
          "output_type": "stream",
          "name": "stdout",
          "text": [
            "'float' object has no attribute 'split'\n"
          ]
        },
        {
          "output_type": "stream",
          "name": "stderr",
          "text": [
            "1962it [00:29, 90.47it/s]"
          ]
        },
        {
          "output_type": "stream",
          "name": "stdout",
          "text": [
            "'float' object has no attribute 'split'\n"
          ]
        },
        {
          "output_type": "stream",
          "name": "stderr",
          "text": [
            "2003it [00:30, 84.99it/s]"
          ]
        },
        {
          "output_type": "stream",
          "name": "stdout",
          "text": [
            "'float' object has no attribute 'split'\n"
          ]
        },
        {
          "output_type": "stream",
          "name": "stderr",
          "text": [
            "2042it [00:30, 90.63it/s]"
          ]
        },
        {
          "output_type": "stream",
          "name": "stdout",
          "text": [
            "'float' object has no attribute 'split'\n"
          ]
        },
        {
          "output_type": "stream",
          "name": "stderr",
          "text": [
            "2072it [00:30, 86.60it/s]"
          ]
        },
        {
          "output_type": "stream",
          "name": "stdout",
          "text": [
            "'float' object has no attribute 'split'\n"
          ]
        },
        {
          "output_type": "stream",
          "name": "stderr",
          "text": [
            "2129it [00:31, 76.00it/s]"
          ]
        },
        {
          "output_type": "stream",
          "name": "stdout",
          "text": [
            "'float' object has no attribute 'split'\n"
          ]
        },
        {
          "output_type": "stream",
          "name": "stderr",
          "text": [
            "2159it [00:31, 89.48it/s]"
          ]
        },
        {
          "output_type": "stream",
          "name": "stdout",
          "text": [
            "'float' object has no attribute 'split'\n"
          ]
        },
        {
          "output_type": "stream",
          "name": "stderr",
          "text": [
            "2249it [00:33, 73.41it/s]"
          ]
        },
        {
          "output_type": "stream",
          "name": "stdout",
          "text": [
            "'float' object has no attribute 'split'\n"
          ]
        },
        {
          "output_type": "stream",
          "name": "stderr",
          "text": [
            "2310it [00:33, 81.45it/s]"
          ]
        },
        {
          "output_type": "stream",
          "name": "stdout",
          "text": [
            "'float' object has no attribute 'split'\n"
          ]
        },
        {
          "output_type": "stream",
          "name": "stderr",
          "text": [
            "2370it [00:34, 75.79it/s]"
          ]
        },
        {
          "output_type": "stream",
          "name": "stdout",
          "text": [
            "'float' object has no attribute 'split'\n"
          ]
        },
        {
          "output_type": "stream",
          "name": "stderr",
          "text": [
            "2406it [00:35, 83.20it/s]"
          ]
        },
        {
          "output_type": "stream",
          "name": "stdout",
          "text": [
            "'float' object has no attribute 'split'\n",
            "'float' object has no attribute 'split'\n"
          ]
        },
        {
          "output_type": "stream",
          "name": "stderr",
          "text": [
            "2495it [00:36, 74.84it/s]"
          ]
        },
        {
          "output_type": "stream",
          "name": "stdout",
          "text": [
            "'float' object has no attribute 'split'\n"
          ]
        },
        {
          "output_type": "stream",
          "name": "stderr",
          "text": [
            "2531it [00:36, 83.76it/s]"
          ]
        },
        {
          "output_type": "stream",
          "name": "stdout",
          "text": [
            "'float' object has no attribute 'split'\n"
          ]
        },
        {
          "output_type": "stream",
          "name": "stderr",
          "text": [
            "5537it [01:14, 74.82it/s]\n",
            "5472it [01:10, 78.06it/s]\n",
            "5472it [01:31, 59.72it/s]\n",
            "20it [00:00, 96.72it/s]"
          ]
        },
        {
          "output_type": "stream",
          "name": "stdout",
          "text": [
            "'float' object has no attribute 'split'\n",
            "'float' object has no attribute 'split'\n",
            "'float' object has no attribute 'split'\n"
          ]
        },
        {
          "output_type": "stream",
          "name": "stderr",
          "text": [
            "39it [00:00, 84.76it/s]"
          ]
        },
        {
          "output_type": "stream",
          "name": "stdout",
          "text": [
            "'float' object has no attribute 'split'\n"
          ]
        },
        {
          "output_type": "stream",
          "name": "stderr",
          "text": [
            "85it [00:01, 83.29it/s]"
          ]
        },
        {
          "output_type": "stream",
          "name": "stdout",
          "text": [
            "'float' object has no attribute 'split'\n"
          ]
        },
        {
          "output_type": "stream",
          "name": "stderr",
          "text": [
            "112it [00:01, 84.84it/s]"
          ]
        },
        {
          "output_type": "stream",
          "name": "stdout",
          "text": [
            "'float' object has no attribute 'split'\n"
          ]
        },
        {
          "output_type": "stream",
          "name": "stderr",
          "text": [
            "152it [00:01, 94.88it/s]"
          ]
        },
        {
          "output_type": "stream",
          "name": "stdout",
          "text": [
            "'float' object has no attribute 'split'\n"
          ]
        },
        {
          "output_type": "stream",
          "name": "stderr",
          "text": [
            "192it [00:02, 92.86it/s]"
          ]
        },
        {
          "output_type": "stream",
          "name": "stdout",
          "text": [
            "'float' object has no attribute 'split'\n"
          ]
        },
        {
          "output_type": "stream",
          "name": "stderr",
          "text": [
            "235it [00:02, 99.30it/s]"
          ]
        },
        {
          "output_type": "stream",
          "name": "stdout",
          "text": [
            "'float' object has no attribute 'split'\n",
            "'float' object has no attribute 'split'\n"
          ]
        },
        {
          "output_type": "stream",
          "name": "stderr",
          "text": [
            "256it [00:02, 98.22it/s]"
          ]
        },
        {
          "output_type": "stream",
          "name": "stdout",
          "text": [
            "'float' object has no attribute 'split'\n",
            "'float' object has no attribute 'split'\n"
          ]
        },
        {
          "output_type": "stream",
          "name": "stderr",
          "text": [
            "315it [00:03, 91.66it/s]"
          ]
        },
        {
          "output_type": "stream",
          "name": "stdout",
          "text": [
            "'float' object has no attribute 'split'\n",
            "'float' object has no attribute 'split'\n"
          ]
        },
        {
          "output_type": "stream",
          "name": "stderr",
          "text": [
            "365it [00:04, 82.78it/s]"
          ]
        },
        {
          "output_type": "stream",
          "name": "stdout",
          "text": [
            "'float' object has no attribute 'split'\n"
          ]
        },
        {
          "output_type": "stream",
          "name": "stderr",
          "text": [
            "395it [00:04, 90.02it/s]"
          ]
        },
        {
          "output_type": "stream",
          "name": "stdout",
          "text": [
            "'float' object has no attribute 'split'\n",
            "'float' object has no attribute 'split'\n"
          ]
        },
        {
          "output_type": "stream",
          "name": "stderr",
          "text": [
            "448it [00:05, 96.78it/s]"
          ]
        },
        {
          "output_type": "stream",
          "name": "stdout",
          "text": [
            "'float' object has no attribute 'split'\n",
            "'float' object has no attribute 'split'\n",
            "'float' object has no attribute 'split'\n",
            "'float' object has no attribute 'split'\n"
          ]
        },
        {
          "output_type": "stream",
          "name": "stderr",
          "text": [
            "481it [00:05, 102.08it/s]"
          ]
        },
        {
          "output_type": "stream",
          "name": "stdout",
          "text": [
            "'float' object has no attribute 'split'\n",
            "'float' object has no attribute 'split'\n"
          ]
        },
        {
          "output_type": "stream",
          "name": "stderr",
          "text": [
            "564it [00:06, 83.20it/s]"
          ]
        },
        {
          "output_type": "stream",
          "name": "stdout",
          "text": [
            "'float' object has no attribute 'split'\n"
          ]
        },
        {
          "output_type": "stream",
          "name": "stderr",
          "text": [
            "606it [00:06, 96.72it/s]"
          ]
        },
        {
          "output_type": "stream",
          "name": "stdout",
          "text": [
            "'float' object has no attribute 'split'\n"
          ]
        },
        {
          "output_type": "stream",
          "name": "stderr",
          "text": [
            "657it [00:07, 90.24it/s]"
          ]
        },
        {
          "output_type": "stream",
          "name": "stdout",
          "text": [
            "'float' object has no attribute 'split'\n"
          ]
        },
        {
          "output_type": "stream",
          "name": "stderr",
          "text": [
            "784it [00:08, 93.51it/s]"
          ]
        },
        {
          "output_type": "stream",
          "name": "stdout",
          "text": [
            "'float' object has no attribute 'split'\n"
          ]
        },
        {
          "output_type": "stream",
          "name": "stderr",
          "text": [
            "805it [00:09, 89.78it/s]"
          ]
        },
        {
          "output_type": "stream",
          "name": "stdout",
          "text": [
            "'float' object has no attribute 'split'\n"
          ]
        },
        {
          "output_type": "stream",
          "name": "stderr",
          "text": [
            "871it [00:09, 80.14it/s]"
          ]
        },
        {
          "output_type": "stream",
          "name": "stdout",
          "text": [
            "'float' object has no attribute 'split'\n",
            "'float' object has no attribute 'split'\n",
            "'float' object has no attribute 'split'\n"
          ]
        },
        {
          "output_type": "stream",
          "name": "stderr",
          "text": [
            "963it [00:10, 92.44it/s]"
          ]
        },
        {
          "output_type": "stream",
          "name": "stdout",
          "text": [
            "'float' object has no attribute 'split'\n",
            "'float' object has no attribute 'split'\n"
          ]
        },
        {
          "output_type": "stream",
          "name": "stderr",
          "text": [
            "1005it [00:11, 89.35it/s]"
          ]
        },
        {
          "output_type": "stream",
          "name": "stdout",
          "text": [
            "'float' object has no attribute 'split'\n"
          ]
        },
        {
          "output_type": "stream",
          "name": "stderr",
          "text": [
            "1056it [00:11, 93.48it/s]"
          ]
        },
        {
          "output_type": "stream",
          "name": "stdout",
          "text": [
            "'float' object has no attribute 'split'\n"
          ]
        },
        {
          "output_type": "stream",
          "name": "stderr",
          "text": [
            "1110it [00:12, 103.57it/s]"
          ]
        },
        {
          "output_type": "stream",
          "name": "stdout",
          "text": [
            "'float' object has no attribute 'split'\n"
          ]
        },
        {
          "output_type": "stream",
          "name": "stderr",
          "text": [
            "1237it [00:13, 92.01it/s]"
          ]
        },
        {
          "output_type": "stream",
          "name": "stdout",
          "text": [
            "'float' object has no attribute 'split'\n"
          ]
        },
        {
          "output_type": "stream",
          "name": "stderr",
          "text": [
            "1278it [00:14, 89.78it/s]"
          ]
        },
        {
          "output_type": "stream",
          "name": "stdout",
          "text": [
            "'float' object has no attribute 'split'\n"
          ]
        },
        {
          "output_type": "stream",
          "name": "stderr",
          "text": [
            "1374it [00:15, 90.99it/s]"
          ]
        },
        {
          "output_type": "stream",
          "name": "stdout",
          "text": [
            "'float' object has no attribute 'split'\n"
          ]
        },
        {
          "output_type": "stream",
          "name": "stderr",
          "text": [
            "1437it [00:16, 91.51it/s]"
          ]
        },
        {
          "output_type": "stream",
          "name": "stdout",
          "text": [
            "'float' object has no attribute 'split'\n"
          ]
        },
        {
          "output_type": "stream",
          "name": "stderr",
          "text": [
            "1457it [00:16, 86.87it/s]"
          ]
        },
        {
          "output_type": "stream",
          "name": "stdout",
          "text": [
            "'float' object has no attribute 'split'\n"
          ]
        },
        {
          "output_type": "stream",
          "name": "stderr",
          "text": [
            "1555it [00:17, 83.04it/s]"
          ]
        },
        {
          "output_type": "stream",
          "name": "stdout",
          "text": [
            "'float' object has no attribute 'split'\n"
          ]
        },
        {
          "output_type": "stream",
          "name": "stderr",
          "text": [
            "1588it [00:18, 86.62it/s]"
          ]
        },
        {
          "output_type": "stream",
          "name": "stdout",
          "text": [
            "'float' object has no attribute 'split'\n"
          ]
        },
        {
          "output_type": "stream",
          "name": "stderr",
          "text": [
            "1617it [00:18, 84.38it/s]"
          ]
        },
        {
          "output_type": "stream",
          "name": "stdout",
          "text": [
            "'float' object has no attribute 'split'\n"
          ]
        },
        {
          "output_type": "stream",
          "name": "stderr",
          "text": [
            "1648it [00:18, 94.73it/s]"
          ]
        },
        {
          "output_type": "stream",
          "name": "stdout",
          "text": [
            "'float' object has no attribute 'split'\n",
            "'float' object has no attribute 'split'\n"
          ]
        },
        {
          "output_type": "stream",
          "name": "stderr",
          "text": [
            "1782it [00:20, 102.00it/s]"
          ]
        },
        {
          "output_type": "stream",
          "name": "stdout",
          "text": [
            "'float' object has no attribute 'split'\n"
          ]
        },
        {
          "output_type": "stream",
          "name": "stderr",
          "text": [
            "1815it [00:20, 98.71it/s]"
          ]
        },
        {
          "output_type": "stream",
          "name": "stdout",
          "text": [
            "'float' object has no attribute 'split'\n",
            "'float' object has no attribute 'split'\n"
          ]
        },
        {
          "output_type": "stream",
          "name": "stderr",
          "text": [
            "1846it [00:20, 88.87it/s]"
          ]
        },
        {
          "output_type": "stream",
          "name": "stdout",
          "text": [
            "'float' object has no attribute 'split'\n"
          ]
        },
        {
          "output_type": "stream",
          "name": "stderr",
          "text": [
            "1865it [00:21, 86.20it/s]"
          ]
        },
        {
          "output_type": "stream",
          "name": "stdout",
          "text": [
            "'float' object has no attribute 'split'\n"
          ]
        },
        {
          "output_type": "stream",
          "name": "stderr",
          "text": [
            "1931it [00:21, 92.05it/s]"
          ]
        },
        {
          "output_type": "stream",
          "name": "stdout",
          "text": [
            "'float' object has no attribute 'split'\n"
          ]
        },
        {
          "output_type": "stream",
          "name": "stderr",
          "text": [
            "1973it [00:22, 85.22it/s]"
          ]
        },
        {
          "output_type": "stream",
          "name": "stdout",
          "text": [
            "'float' object has no attribute 'split'\n"
          ]
        },
        {
          "output_type": "stream",
          "name": "stderr",
          "text": [
            "2000it [00:22, 78.83it/s]"
          ]
        },
        {
          "output_type": "stream",
          "name": "stdout",
          "text": [
            "'float' object has no attribute 'split'\n"
          ]
        },
        {
          "output_type": "stream",
          "name": "stderr",
          "text": [
            "2050it [00:23, 89.93it/s]"
          ]
        },
        {
          "output_type": "stream",
          "name": "stdout",
          "text": [
            "'float' object has no attribute 'split'\n"
          ]
        },
        {
          "output_type": "stream",
          "name": "stderr",
          "text": [
            "2079it [00:23, 87.38it/s]"
          ]
        },
        {
          "output_type": "stream",
          "name": "stdout",
          "text": [
            "'float' object has no attribute 'split'\n"
          ]
        },
        {
          "output_type": "stream",
          "name": "stderr",
          "text": [
            "2137it [00:24, 84.24it/s]"
          ]
        },
        {
          "output_type": "stream",
          "name": "stdout",
          "text": [
            "'float' object has no attribute 'split'\n"
          ]
        },
        {
          "output_type": "stream",
          "name": "stderr",
          "text": [
            "\r2147it [00:24, 85.81it/s]"
          ]
        },
        {
          "output_type": "stream",
          "name": "stdout",
          "text": [
            "'float' object has no attribute 'split'\n"
          ]
        },
        {
          "output_type": "stream",
          "name": "stderr",
          "text": [
            "2242it [00:25, 82.57it/s]"
          ]
        },
        {
          "output_type": "stream",
          "name": "stdout",
          "text": [
            "'float' object has no attribute 'split'\n"
          ]
        },
        {
          "output_type": "stream",
          "name": "stderr",
          "text": [
            "2311it [00:26, 92.89it/s]"
          ]
        },
        {
          "output_type": "stream",
          "name": "stdout",
          "text": [
            "'float' object has no attribute 'split'\n"
          ]
        },
        {
          "output_type": "stream",
          "name": "stderr",
          "text": [
            "2373it [00:26, 92.56it/s]"
          ]
        },
        {
          "output_type": "stream",
          "name": "stdout",
          "text": [
            "'float' object has no attribute 'split'\n"
          ]
        },
        {
          "output_type": "stream",
          "name": "stderr",
          "text": [
            "2403it [00:27, 89.52it/s]"
          ]
        },
        {
          "output_type": "stream",
          "name": "stdout",
          "text": [
            "'float' object has no attribute 'split'\n",
            "'float' object has no attribute 'split'\n"
          ]
        },
        {
          "output_type": "stream",
          "name": "stderr",
          "text": [
            "2495it [00:28, 93.30it/s]"
          ]
        },
        {
          "output_type": "stream",
          "name": "stdout",
          "text": [
            "'float' object has no attribute 'split'\n"
          ]
        },
        {
          "output_type": "stream",
          "name": "stderr",
          "text": [
            "2536it [00:28, 97.71it/s]"
          ]
        },
        {
          "output_type": "stream",
          "name": "stdout",
          "text": [
            "'float' object has no attribute 'split'\n"
          ]
        },
        {
          "output_type": "stream",
          "name": "stderr",
          "text": [
            "5537it [01:03, 86.87it/s]\n",
            "5472it [01:06, 82.60it/s]\n",
            "5472it [01:31, 60.05it/s]\n"
          ]
        }
      ]
    },
    {
      "cell_type": "code",
      "source": [
        "#katago_all = katago_all[features + ['is_bot']].dropna()\n",
        "from sklearn.model_selection import train_test_split\n",
        "X_train, X_test, y_train, y_test = train_test_split(katago_all, katago_all['is_bot'], test_size=0.2)\n"
      ],
      "metadata": {
        "id": "0_VQNxFSVzWW"
      },
      "execution_count": 27,
      "outputs": []
    },
    {
      "cell_type": "code",
      "source": [
        "katago_white.columns"
      ],
      "metadata": {
        "colab": {
          "base_uri": "https://localhost:8080/"
        },
        "id": "-0s0AiPEaCwc",
        "outputId": "ed2aadaa-c8d8-4495-8794-318785f2647d"
      },
      "execution_count": 28,
      "outputs": [
        {
          "output_type": "execute_result",
          "data": {
            "text/plain": [
              "Index(['W_rating', 'B_rating', 'W_nickname', 'B_nickname', 'Result', 'W_move',\n",
              "       'B_move', 'W_scoreLead', 'B_scoreLead', 'W_scoreSelfplay',\n",
              "       'B_scoreSelfplay', 'W_scoreStdev', 'B_scoreStdev', 'W_utility',\n",
              "       'B_utility', 'W_winrate', 'B_winrate', 'game_id', 'error', 'is_bot',\n",
              "       'W_visits', 'B_visits', 'game_length', 'rank', 'color', 'game_result',\n",
              "       'winrate', 'score', 'utility', 'selfplay', 'stddev', 'dist_from_prev',\n",
              "       'score_sqr', 'winrate_sqr', 'dist_more_5', 'dist_enemy'],\n",
              "      dtype='object')"
            ]
          },
          "metadata": {},
          "execution_count": 28
        }
      ]
    },
    {
      "cell_type": "code",
      "source": [
        "import numpy as np\n",
        "import tensorflow as tf\n",
        "from tensorflow import keras\n",
        "from keras import layers\n",
        "import pandas as pd\n",
        "\n",
        "\n",
        "def get_tensor(df, features, sequence_len):\n",
        "    def resize_to_length(m, length):\n",
        "        if len(m) > length:\n",
        "            return m[:length]\n",
        "        n_nules = length - len(m)\n",
        "        return list([0] * n_nules) + list(m)\n",
        "\n",
        "    arr = []\n",
        "    for feature in features:\n",
        "        arr.append([np.array(y) for y in df[feature].apply(lambda x: resize_to_length(x, sequence_len))])\n",
        "    arr = np.array(arr)\n",
        "    arr = arr.swapaxes(0, 1)\n",
        "    arr = arr.swapaxes(1, 2)\n",
        "    return tf.convert_to_tensor(arr, np.float32)\n",
        "\n",
        "\n",
        "class BotClassificatorRunner:\n",
        "    __DEFAULT_FEATURES = ['score', 'winrate', 'utility', 'stddev', 'selfplay', 'dist_from_prev', 'winrate_sqr', 'score_sqr', 'dist_more_5', 'dist_enemy']\n",
        "\n",
        "    def __create_rnn(self, hidden_units, input_shape):\n",
        "        model = keras.Sequential()\n",
        "        model.add(tf.keras.layers.Masking(mask_value=0.,\n",
        "                                          input_shape=input_shape))\n",
        "        model.add(layers.BatchNormalization())\n",
        "        model.add(layers.Bidirectional(layers.LSTM(hidden_units)))  # , dropout = 0.15, reccurent_dropout = 0.15)))\n",
        "        model.add(layers.Dense(units=2, activation=\"linear\"))\n",
        "        model.add(layers.Activation('softmax'))\n",
        "        model.compile(loss='binary_crossentropy', optimizer='adam', metrics='accuracy')\n",
        "        return model\n",
        "\n",
        "    def __init__(self, model=None, sequence_len=150, features=__DEFAULT_FEATURES):\n",
        "        self.features = features\n",
        "        self.sequence_len = sequence_len\n",
        "        if model is None:\n",
        "            self.model = self.__create_rnn(64, (sequence_len, len(features)))\n",
        "        else:\n",
        "            self.model = model\n",
        "\n",
        "    def fit(self, df, target, val_X, val_y, epochs=10, batch_size=256):\n",
        "        val_data = None\n",
        "        if val_X is not None:\n",
        "            val_y = keras.utils.to_categorical(tf.convert_to_tensor(np.array(val_y, dtype=\"int32\"),\n",
        "                                                                    np.int32), num_classes=2)\n",
        "            val_X = get_tensor(val_X, self.features, self.sequence_len)\n",
        "            val_data = (val_X, val_y)\n",
        "        X = get_tensor(df, self.features, self.sequence_len)\n",
        "        y = keras.utils.to_categorical(tf.convert_to_tensor(np.array(target, dtype=\"int32\"), np.int32),\n",
        "                                       num_classes=2)\n",
        "        self.model.fit(X, y, validation_data=val_data, epochs=epochs, batch_size=batch_size, class_weight = {0:1, 1: 1.1})\n",
        "\n",
        "    def get_probs(self, df):\n",
        "        X = get_tensor(df, self.features, self.sequence_len)\n",
        "        return self.model.predict(X)\n",
        "\n",
        "    def predict(self, df):\n",
        "        y = self.get_probs(df)\n",
        "        return y.argmax(axis=1)\n"
      ],
      "metadata": {
        "id": "cGEGmnAAVIC_"
      },
      "execution_count": 37,
      "outputs": []
    },
    {
      "cell_type": "code",
      "source": [
        "np.mean(y_test)"
      ],
      "metadata": {
        "colab": {
          "base_uri": "https://localhost:8080/"
        },
        "id": "LiEDhWi3m-ht",
        "outputId": "69c4fbf0-8254-408b-d614-196693a14a2c"
      },
      "execution_count": 30,
      "outputs": [
        {
          "output_type": "execute_result",
          "data": {
            "text/plain": [
              "0.45043398812243035"
            ]
          },
          "metadata": {},
          "execution_count": 30
        }
      ]
    },
    {
      "cell_type": "code",
      "source": [
        "rnn_features = ['score', 'winrate', 'utility', 'stddev', 'selfplay', 'dist_from_prev', 'winrate_sqr', 'score_sqr', 'dist_more_5', 'dist_enemy', 'W_scoreLead', \n",
        "                'B_scoreLead', 'W_scoreSelfplay',\n",
        "       'B_scoreSelfplay', 'W_scoreStdev', 'B_scoreStdev', 'W_utility',\n",
        "       'B_utility', 'W_winrate', 'B_winrate']\n",
        "model = BotClassificatorRunner(sequence_len=150)"
      ],
      "metadata": {
        "id": "81f8cEJhV99-"
      },
      "execution_count": 38,
      "outputs": []
    },
    {
      "cell_type": "code",
      "source": [
        "model.fit(X_train, y_train, X_test, y_test, epochs=25, batch_size=32)"
      ],
      "metadata": {
        "colab": {
          "base_uri": "https://localhost:8080/"
        },
        "id": "ORB1nzj9WPSl",
        "outputId": "895230aa-ea1c-4fbc-b75e-fe49ac68a40a"
      },
      "execution_count": 39,
      "outputs": [
        {
          "output_type": "stream",
          "name": "stdout",
          "text": [
            "Epoch 1/25\n",
            "274/274 [==============================] - 63s 196ms/step - loss: 0.6011 - accuracy: 0.7142 - val_loss: 0.5409 - val_accuracy: 0.7474\n",
            "Epoch 2/25\n",
            "274/274 [==============================] - 52s 191ms/step - loss: 0.4914 - accuracy: 0.8016 - val_loss: 0.4058 - val_accuracy: 0.8360\n",
            "Epoch 3/25\n",
            "274/274 [==============================] - 51s 185ms/step - loss: 0.3789 - accuracy: 0.8623 - val_loss: 0.3047 - val_accuracy: 0.8803\n",
            "Epoch 4/25\n",
            "274/274 [==============================] - 51s 186ms/step - loss: 0.2923 - accuracy: 0.8910 - val_loss: 0.2342 - val_accuracy: 0.9114\n",
            "Epoch 5/25\n",
            "274/274 [==============================] - 50s 184ms/step - loss: 0.2534 - accuracy: 0.9004 - val_loss: 0.2227 - val_accuracy: 0.9068\n",
            "Epoch 6/25\n",
            "274/274 [==============================] - 51s 185ms/step - loss: 0.2283 - accuracy: 0.9102 - val_loss: 0.2041 - val_accuracy: 0.9146\n",
            "Epoch 7/25\n",
            "274/274 [==============================] - 51s 186ms/step - loss: 0.2136 - accuracy: 0.9146 - val_loss: 0.1998 - val_accuracy: 0.9118\n",
            "Epoch 8/25\n",
            "274/274 [==============================] - 51s 185ms/step - loss: 0.1995 - accuracy: 0.9223 - val_loss: 0.1836 - val_accuracy: 0.9237\n",
            "Epoch 9/25\n",
            "274/274 [==============================] - 51s 185ms/step - loss: 0.1923 - accuracy: 0.9255 - val_loss: 0.1812 - val_accuracy: 0.9196\n",
            "Epoch 10/25\n",
            "274/274 [==============================] - 51s 185ms/step - loss: 0.1843 - accuracy: 0.9250 - val_loss: 0.1810 - val_accuracy: 0.9187\n",
            "Epoch 11/25\n",
            "274/274 [==============================] - 50s 184ms/step - loss: 0.1787 - accuracy: 0.9268 - val_loss: 0.1986 - val_accuracy: 0.9223\n",
            "Epoch 12/25\n",
            "274/274 [==============================] - 51s 186ms/step - loss: 0.1791 - accuracy: 0.9239 - val_loss: 0.1833 - val_accuracy: 0.9237\n",
            "Epoch 13/25\n",
            "274/274 [==============================] - 51s 185ms/step - loss: 0.1710 - accuracy: 0.9306 - val_loss: 0.1798 - val_accuracy: 0.9223\n",
            "Epoch 14/25\n",
            "274/274 [==============================] - 51s 185ms/step - loss: 0.1590 - accuracy: 0.9358 - val_loss: 0.1807 - val_accuracy: 0.9260\n",
            "Epoch 15/25\n",
            "274/274 [==============================] - 51s 185ms/step - loss: 0.1560 - accuracy: 0.9384 - val_loss: 0.2072 - val_accuracy: 0.9054\n",
            "Epoch 16/25\n",
            "274/274 [==============================] - 51s 185ms/step - loss: 0.1471 - accuracy: 0.9401 - val_loss: 0.1710 - val_accuracy: 0.9246\n",
            "Epoch 17/25\n",
            "274/274 [==============================] - 51s 186ms/step - loss: 0.1426 - accuracy: 0.9435 - val_loss: 0.1948 - val_accuracy: 0.9169\n",
            "Epoch 18/25\n",
            "274/274 [==============================] - 51s 186ms/step - loss: 0.1363 - accuracy: 0.9494 - val_loss: 0.1820 - val_accuracy: 0.9228\n",
            "Epoch 19/25\n",
            "274/274 [==============================] - 51s 187ms/step - loss: 0.1333 - accuracy: 0.9486 - val_loss: 0.1810 - val_accuracy: 0.9242\n",
            "Epoch 20/25\n",
            "274/274 [==============================] - 54s 197ms/step - loss: 0.1150 - accuracy: 0.9550 - val_loss: 0.1819 - val_accuracy: 0.9237\n",
            "Epoch 21/25\n",
            "274/274 [==============================] - 51s 185ms/step - loss: 0.1208 - accuracy: 0.9563 - val_loss: 0.1806 - val_accuracy: 0.9278\n",
            "Epoch 22/25\n",
            "274/274 [==============================] - 51s 186ms/step - loss: 0.1121 - accuracy: 0.9572 - val_loss: 0.1747 - val_accuracy: 0.9274\n",
            "Epoch 23/25\n",
            "274/274 [==============================] - 51s 186ms/step - loss: 0.1074 - accuracy: 0.9606 - val_loss: 0.1857 - val_accuracy: 0.9246\n",
            "Epoch 24/25\n",
            "274/274 [==============================] - 51s 188ms/step - loss: 0.0973 - accuracy: 0.9640 - val_loss: 0.1802 - val_accuracy: 0.9233\n",
            "Epoch 25/25\n",
            "274/274 [==============================] - 51s 186ms/step - loss: 0.0953 - accuracy: 0.9648 - val_loss: 0.1680 - val_accuracy: 0.9319\n"
          ]
        }
      ]
    },
    {
      "cell_type": "code",
      "source": [
        "model.model.save('/content/drive/MyDrive/has_botv1.h5')"
      ],
      "metadata": {
        "id": "d8eGYN7hz3tO"
      },
      "execution_count": 36,
      "outputs": []
    },
    {
      "cell_type": "code",
      "source": [
        "ans = model.predict(katago_all)"
      ],
      "metadata": {
        "id": "XQiQVJUflEvr"
      },
      "execution_count": null,
      "outputs": []
    },
    {
      "cell_type": "code",
      "source": [
        "np.mean(ans)"
      ],
      "metadata": {
        "id": "RpNcEJ2UlRh_"
      },
      "execution_count": null,
      "outputs": []
    },
    {
      "cell_type": "code",
      "source": [
        ""
      ],
      "metadata": {
        "id": "auAfoIfQxmIX"
      },
      "execution_count": null,
      "outputs": []
    },
    {
      "cell_type": "code",
      "source": [
        ""
      ],
      "metadata": {
        "id": "Xdh_tLcstQOR"
      },
      "execution_count": null,
      "outputs": []
    }
  ]
}