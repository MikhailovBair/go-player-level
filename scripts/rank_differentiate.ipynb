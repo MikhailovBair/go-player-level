{
 "cells": [
  {
   "cell_type": "code",
   "execution_count": 1,
   "id": "greater-angola",
   "metadata": {
    "ExecuteTime": {
     "end_time": "2022-04-14T21:38:57.627725Z",
     "start_time": "2022-04-14T21:38:57.213729Z"
    }
   },
   "outputs": [],
   "source": [
    "from sgfmill import sgf\n",
    "import os\n",
    "import pandas as pd\n",
    "from tqdm.notebook import tqdm"
   ]
  },
  {
   "cell_type": "code",
   "execution_count": 39,
   "id": "israeli-occasion",
   "metadata": {
    "ExecuteTime": {
     "end_time": "2022-04-15T00:55:24.427215Z",
     "start_time": "2022-04-15T00:54:47.672447Z"
    }
   },
   "outputs": [
    {
     "data": {
      "application/vnd.jupyter.widget-view+json": {
       "model_id": "f2ecfe519645499495c28363a7db40f4",
       "version_major": 2,
       "version_minor": 0
      },
      "text/plain": [
       "0it [00:00, ?it/s]"
      ]
     },
     "metadata": {},
     "output_type": "display_data"
    },
    {
     "data": {
      "application/vnd.jupyter.widget-view+json": {
       "model_id": "8bf16b11cc174b1bb3bfb95f0332e017",
       "version_major": 2,
       "version_minor": 0
      },
      "text/plain": [
       "0it [00:00, ?it/s]"
      ]
     },
     "metadata": {},
     "output_type": "display_data"
    }
   ],
   "source": [
    "debut_count = {}\n",
    "debut_sum = {}\n",
    "debut_ranks = {}\n",
    "\n",
    "def get_index_dan(rank):\n",
    "    for i in range(len(rank)):\n",
    "        if rank[i] in ['k', 'd']:\n",
    "            return i\n",
    "    return -1\n",
    "\n",
    "def get_int_from_rank(rank):\n",
    "    ind = get_index_dan(rank)\n",
    "    if ind < 0 or rank[0] == 'P' or not rank[:ind].isdigit():\n",
    "        raise ValueError('Bad rank')\n",
    "    if rank[ind] == 'k':\n",
    "        return -int(rank[:ind]) + 1\n",
    "    else:\n",
    "        return int(rank[:ind])\n",
    "\n",
    "for root, dirs, files in  tqdm(os.walk(\"../sgf_parser/games_with_diff_big\")):\n",
    "    diff_games_names = dict((\n",
    "                            (-3, []),\n",
    "                            (-2, []),\n",
    "                            (-1, []),\n",
    "                            (1, []),\n",
    "                            (2, []),\n",
    "                            (3, [])))\n",
    "    for i, file in tqdm(enumerate(files)):\n",
    "        name = os.path.join(root, file)\n",
    "        with open(name, \"rb\") as f:\n",
    "            try:\n",
    "                game = sgf.Sgf_game.from_bytes(f.read())\n",
    "                root_node = game.get_root()\n",
    "                w_rank = get_int_from_rank(root_node.get(\"WR\"))\n",
    "                b_rank = get_int_from_rank(root_node.get(\"BR\"))\n",
    "            except Exception:\n",
    "                continue\n",
    "\n",
    "            diff = w_rank - b_rank\n",
    "\n",
    "            if diff > - 4 and diff < 4 and diff != 0:\n",
    "                if len(diff_games_names[diff]) < 100:\n",
    "                    diff_games_names[diff].append(name)\n",
    "    \n",
    "    \n",
    "    for key in diff_games_names.keys():\n",
    "        with open('diff_games_small.txt', \"a\") as gamelist:\n",
    "            gamelist.write(\"\\n\".join(diff_games_names[key]) + \"\\n\")\n",
    "        \n",
    "\n",
    "#     print(root, diff_games_names)"
   ]
  },
  {
   "cell_type": "code",
   "execution_count": null,
   "id": "expected-conviction",
   "metadata": {},
   "outputs": [],
   "source": []
  }
 ],
 "metadata": {
  "kernelspec": {
   "display_name": "Python 3",
   "language": "python",
   "name": "python3"
  },
  "language_info": {
   "codemirror_mode": {
    "name": "ipython",
    "version": 3
   },
   "file_extension": ".py",
   "mimetype": "text/x-python",
   "name": "python",
   "nbconvert_exporter": "python",
   "pygments_lexer": "ipython3",
   "version": "3.7.10"
  }
 },
 "nbformat": 4,
 "nbformat_minor": 5
}
